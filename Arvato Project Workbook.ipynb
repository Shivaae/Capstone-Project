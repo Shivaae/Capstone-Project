{
 "cells": [
  {
   "cell_type": "markdown",
   "metadata": {},
   "source": [
    "# Capstone Project: Create a Customer Segmentation Report for Arvato Financial Services\n",
    "\n",
    "In this project, you will analyze demographics data for customers of a mail-order sales company in Germany, comparing it against demographics information for the general population. You'll use unsupervised learning techniques to perform customer segmentation, identifying the parts of the population that best describe the core customer base of the company. Then, you'll apply what you've learned on a third dataset with demographics information for targets of a marketing campaign for the company, and use a model to predict which individuals are most likely to convert into becoming customers for the company. The data that you will use has been provided by our partners at Bertelsmann Arvato Analytics, and represents a real-life data science task.\n",
    "\n",
    "If you completed the first term of this program, you will be familiar with the first part of this project, from the unsupervised learning project. The versions of those two datasets used in this project will include many more features and has not been pre-cleaned. You are also free to choose whatever approach you'd like to analyzing the data rather than follow pre-determined steps. In your work on this project, make sure that you carefully document your steps and decisions, since your main deliverable for this project will be a blog post reporting your findings."
   ]
  },
  {
   "cell_type": "code",
   "execution_count": 1,
   "metadata": {},
   "outputs": [],
   "source": [
    "import numpy as np\n",
    "import pandas as pd\n",
    "import matplotlib.pyplot as plt\n",
    "import seaborn as sns\n",
    "\n",
    "from sklearn.preprocessing import Imputer, StandardScaler\n",
    "from sklearn.decomposition import PCA\n",
    "from sklearn.cluster import KMeans\n",
    "from sklearn.model_selection import StratifiedKFold\n",
    "\n",
    "from sklearn.linear_model import LogisticRegression\n",
    "from sklearn.ensemble import RandomForestClassifier\n",
    "from sklearn.ensemble import AdaBoostClassifier\n",
    "from sklearn.ensemble import GradientBoostingClassifier\n",
    "\n",
    "from sklearn.pipeline import Pipeline\n",
    "from sklearn.model_selection import GridSearchCV\n",
    "from sklearn.metrics import roc_auc_score\n",
    "import pickle\n",
    "import time\n",
    "import pprint\n",
    "import random\n",
    "\n",
    "# magic word for producing visualizations in notebook\n",
    "%matplotlib inline"
   ]
  },
  {
   "cell_type": "markdown",
   "metadata": {},
   "source": [
    "## Part 0: Get to Know the Data\n",
    "\n",
    "There are four data files associated with this project:\n",
    "\n",
    "- `Udacity_AZDIAS_052018.csv`: Demographics data for the general population of Germany; 891 211 persons (rows) x 366 features (columns).\n",
    "- `Udacity_CUSTOMERS_052018.csv`: Demographics data for customers of a mail-order company; 191 652 persons (rows) x 369 features (columns).\n",
    "- `Udacity_MAILOUT_052018_TRAIN.csv`: Demographics data for individuals who were targets of a marketing campaign; 42 982 persons (rows) x 367 (columns).\n",
    "- `Udacity_MAILOUT_052018_TEST.csv`: Demographics data for individuals who were targets of a marketing campaign; 42 833 persons (rows) x 366 (columns).\n",
    "\n",
    "Each row of the demographics files represents a single person, but also includes information outside of individuals, including information about their household, building, and neighborhood. Use the information from the first two files to figure out how customers (\"CUSTOMERS\") are similar to or differ from the general population at large (\"AZDIAS\"), then use your analysis to make predictions on the other two files (\"MAILOUT\"), predicting which recipients are most likely to become a customer for the mail-order company.\n",
    "\n",
    "The \"CUSTOMERS\" file contains three extra columns ('CUSTOMER_GROUP', 'ONLINE_PURCHASE', and 'PRODUCT_GROUP'), which provide broad information about the customers depicted in the file. The original \"MAILOUT\" file included one additional column, \"RESPONSE\", which indicated whether or not each recipient became a customer of the company. For the \"TRAIN\" subset, this column has been retained, but in the \"TEST\" subset it has been removed; it is against that withheld column that your final predictions will be assessed in the Kaggle competition.\n",
    "\n",
    "Otherwise, all of the remaining columns are the same between the three data files. For more information about the columns depicted in the files, you can refer to two Excel spreadsheets provided in the workspace. [One of them](./DIAS Information Levels - Attributes 2017.xlsx) is a top-level list of attributes and descriptions, organized by informational category. [The other](./DIAS Attributes - Values 2017.xlsx) is a detailed mapping of data values for each feature in alphabetical order.\n",
    "\n",
    "In the below cell, we've provided some initial code to load in the first two datasets. Note for all of the `.csv` data files in this project that they're semicolon (`;`) delimited, so an additional argument in the [`read_csv()`](https://pandas.pydata.org/pandas-docs/stable/generated/pandas.read_csv.html) call has been included to read in the data properly. Also, considering the size of the datasets, it may take some time for them to load completely.\n",
    "\n",
    "You'll notice when the data is loaded in that a warning message will immediately pop up. Before you really start digging into the modeling and analysis, you're going to need to perform some cleaning. Take some time to browse the structure of the data and look over the informational spreadsheets to understand the data values. Make some decisions on which features to keep, which features to drop, and if any revisions need to be made on data formats. It'll be a good idea to create a function with pre-processing steps, since you'll need to clean all of the datasets before you work with them."
   ]
  },
  {
   "cell_type": "code",
   "execution_count": 2,
   "metadata": {},
   "outputs": [],
   "source": [
    "# load in the data\n",
    "azdias = pd.read_csv('../../data/Term2/capstone/arvato_data/Udacity_AZDIAS_052018.csv', sep=';' , dtype={18:'str',19:'str'})\n",
    "customers = pd.read_csv('../../data/Term2/capstone/arvato_data/Udacity_CUSTOMERS_052018.csv', sep=';' , dtype={18:'str',19:'str'})"
   ]
  },
  {
   "cell_type": "code",
   "execution_count": 3,
   "metadata": {},
   "outputs": [
    {
     "name": "stdout",
     "output_type": "stream",
     "text": [
      "(891221, 366)\n",
      "(191652, 369)\n"
     ]
    }
   ],
   "source": [
    "# Be sure to add in a lot more cells (both markdown and code) to document your\n",
    "# approach and findings!\n",
    "print(azdias.shape)\n",
    "print(customers.shape)"
   ]
  },
  {
   "cell_type": "markdown",
   "metadata": {},
   "source": [
    "The feature summary file from the previous project contains a summary of properties for each demographics data column. The additional columns found in this project will be assessed manually to complete the rest of the properties. The file DIAS Attributes - Values 2017.xlsx will be studied for this assessment. This will help make cleaning decisions during this stage of the project."
   ]
  },
  {
   "cell_type": "code",
   "execution_count": 4,
   "metadata": {},
   "outputs": [
    {
     "data": {
      "text/html": [
       "<div>\n",
       "<style scoped>\n",
       "    .dataframe tbody tr th:only-of-type {\n",
       "        vertical-align: middle;\n",
       "    }\n",
       "\n",
       "    .dataframe tbody tr th {\n",
       "        vertical-align: top;\n",
       "    }\n",
       "\n",
       "    .dataframe thead th {\n",
       "        text-align: right;\n",
       "    }\n",
       "</style>\n",
       "<table border=\"1\" class=\"dataframe\">\n",
       "  <thead>\n",
       "    <tr style=\"text-align: right;\">\n",
       "      <th></th>\n",
       "      <th>information_level</th>\n",
       "      <th>type</th>\n",
       "      <th>missing_or_unknown</th>\n",
       "    </tr>\n",
       "    <tr>\n",
       "      <th>attribute</th>\n",
       "      <th></th>\n",
       "      <th></th>\n",
       "      <th></th>\n",
       "    </tr>\n",
       "  </thead>\n",
       "  <tbody>\n",
       "    <tr>\n",
       "      <th>AGER_TYP</th>\n",
       "      <td>person</td>\n",
       "      <td>categorical</td>\n",
       "      <td>[-1,0]</td>\n",
       "    </tr>\n",
       "    <tr>\n",
       "      <th>ALTERSKATEGORIE_GROB</th>\n",
       "      <td>person</td>\n",
       "      <td>ordinal</td>\n",
       "      <td>[-1,0,9]</td>\n",
       "    </tr>\n",
       "    <tr>\n",
       "      <th>ANREDE_KZ</th>\n",
       "      <td>person</td>\n",
       "      <td>categorical</td>\n",
       "      <td>[-1,0]</td>\n",
       "    </tr>\n",
       "    <tr>\n",
       "      <th>CJT_GESAMTTYP</th>\n",
       "      <td>person</td>\n",
       "      <td>categorical</td>\n",
       "      <td>[0]</td>\n",
       "    </tr>\n",
       "    <tr>\n",
       "      <th>FINANZ_MINIMALIST</th>\n",
       "      <td>person</td>\n",
       "      <td>ordinal</td>\n",
       "      <td>[-1]</td>\n",
       "    </tr>\n",
       "  </tbody>\n",
       "</table>\n",
       "</div>"
      ],
      "text/plain": [
       "                     information_level         type missing_or_unknown\n",
       "attribute                                                             \n",
       "AGER_TYP                        person  categorical             [-1,0]\n",
       "ALTERSKATEGORIE_GROB            person      ordinal           [-1,0,9]\n",
       "ANREDE_KZ                       person  categorical             [-1,0]\n",
       "CJT_GESAMTTYP                   person  categorical                [0]\n",
       "FINANZ_MINIMALIST               person      ordinal               [-1]"
      ]
     },
     "execution_count": 4,
     "metadata": {},
     "output_type": "execute_result"
    }
   ],
   "source": [
    "# Load feature summary csv file\n",
    "feat_info = pd.read_csv('feature_complete.csv')\n",
    "feat_info.set_index('attribute', inplace=True)\n",
    "feat_info.head()\n",
    "\n"
   ]
  },
  {
   "cell_type": "code",
   "execution_count": 5,
   "metadata": {},
   "outputs": [
    {
     "data": {
      "text/plain": [
       "(891221, 366)"
      ]
     },
     "execution_count": 5,
     "metadata": {},
     "output_type": "execute_result"
    }
   ],
   "source": [
    "# Data shape\n",
    "azdias.shape\n"
   ]
  },
  {
   "cell_type": "code",
   "execution_count": 6,
   "metadata": {},
   "outputs": [
    {
     "name": "stdout",
     "output_type": "stream",
     "text": [
      "<class 'pandas.core.frame.DataFrame'>\n",
      "RangeIndex: 891221 entries, 0 to 891220\n",
      "Columns: 366 entries, LNR to ALTERSKATEGORIE_GROB\n",
      "dtypes: float64(267), int64(93), object(6)\n",
      "memory usage: 2.4+ GB\n"
     ]
    }
   ],
   "source": [
    "# Data info\n",
    "azdias.info()"
   ]
  },
  {
   "cell_type": "code",
   "execution_count": 7,
   "metadata": {},
   "outputs": [
    {
     "data": {
      "text/plain": [
       "(324, 3)"
      ]
     },
     "execution_count": 7,
     "metadata": {},
     "output_type": "execute_result"
    }
   ],
   "source": [
    "# Shape of feat_info\n",
    "feat_info.shape"
   ]
  },
  {
   "cell_type": "code",
   "execution_count": 8,
   "metadata": {},
   "outputs": [
    {
     "name": "stdout",
     "output_type": "stream",
     "text": [
      "53\n"
     ]
    }
   ],
   "source": [
    "\n",
    "#Lets check the no. of attributes that are present in azdias but not in feat_info\n",
    "attr_not_in_feat_info = np.setdiff1d(np.array(azdias.columns), np.array(feat_info.index), assume_unique=True)\n",
    "print(len(attr_not_in_feat_info))"
   ]
  },
  {
   "cell_type": "markdown",
   "metadata": {},
   "source": [
    "So, there are 53 attributes in azdias dataframe that not in feat_info dataframe "
   ]
  },
  {
   "cell_type": "code",
   "execution_count": 9,
   "metadata": {},
   "outputs": [
    {
     "name": "stdout",
     "output_type": "stream",
     "text": [
      "313\n"
     ]
    }
   ],
   "source": [
    "\n",
    "#Check the no of common attribute in azdias and feat_info\n",
    "common_attr = set(azdias.columns.tolist()).intersection(set(feat_info.index.tolist()))\n",
    "print(len(common_attr))"
   ]
  },
  {
   "cell_type": "markdown",
   "metadata": {},
   "source": [
    "\n",
    "So, there are 313 attributes common to both azdias & feat_info dataframe ."
   ]
  },
  {
   "cell_type": "code",
   "execution_count": 10,
   "metadata": {},
   "outputs": [
    {
     "name": "stdout",
     "output_type": "stream",
     "text": [
      "11\n"
     ]
    }
   ],
   "source": [
    "\n",
    "# No. of attributes present in feat_info but not in azdias\n",
    "attr_not_in_azdias = set(feat_info.index.tolist()) - common_attr\n",
    "print(len(attr_not_in_azdias))"
   ]
  },
  {
   "cell_type": "code",
   "execution_count": 11,
   "metadata": {},
   "outputs": [
    {
     "name": "stdout",
     "output_type": "stream",
     "text": [
      "{'CUSTOMER_GROUP', 'PRODUCT_GROUP', 'ONLINE_PURCHASE'}\n"
     ]
    },
    {
     "data": {
      "text/html": [
       "<div>\n",
       "<style scoped>\n",
       "    .dataframe tbody tr th:only-of-type {\n",
       "        vertical-align: middle;\n",
       "    }\n",
       "\n",
       "    .dataframe tbody tr th {\n",
       "        vertical-align: top;\n",
       "    }\n",
       "\n",
       "    .dataframe thead th {\n",
       "        text-align: right;\n",
       "    }\n",
       "</style>\n",
       "<table border=\"1\" class=\"dataframe\">\n",
       "  <thead>\n",
       "    <tr style=\"text-align: right;\">\n",
       "      <th></th>\n",
       "      <th>CUSTOMER_GROUP</th>\n",
       "      <th>PRODUCT_GROUP</th>\n",
       "      <th>ONLINE_PURCHASE</th>\n",
       "    </tr>\n",
       "  </thead>\n",
       "  <tbody>\n",
       "    <tr>\n",
       "      <th>0</th>\n",
       "      <td>MULTI_BUYER</td>\n",
       "      <td>COSMETIC_AND_FOOD</td>\n",
       "      <td>0</td>\n",
       "    </tr>\n",
       "    <tr>\n",
       "      <th>1</th>\n",
       "      <td>SINGLE_BUYER</td>\n",
       "      <td>FOOD</td>\n",
       "      <td>0</td>\n",
       "    </tr>\n",
       "    <tr>\n",
       "      <th>2</th>\n",
       "      <td>MULTI_BUYER</td>\n",
       "      <td>COSMETIC_AND_FOOD</td>\n",
       "      <td>0</td>\n",
       "    </tr>\n",
       "    <tr>\n",
       "      <th>3</th>\n",
       "      <td>MULTI_BUYER</td>\n",
       "      <td>COSMETIC</td>\n",
       "      <td>0</td>\n",
       "    </tr>\n",
       "    <tr>\n",
       "      <th>4</th>\n",
       "      <td>MULTI_BUYER</td>\n",
       "      <td>FOOD</td>\n",
       "      <td>0</td>\n",
       "    </tr>\n",
       "  </tbody>\n",
       "</table>\n",
       "</div>"
      ],
      "text/plain": [
       "  CUSTOMER_GROUP      PRODUCT_GROUP  ONLINE_PURCHASE\n",
       "0    MULTI_BUYER  COSMETIC_AND_FOOD                0\n",
       "1   SINGLE_BUYER               FOOD                0\n",
       "2    MULTI_BUYER  COSMETIC_AND_FOOD                0\n",
       "3    MULTI_BUYER           COSMETIC                0\n",
       "4    MULTI_BUYER               FOOD                0"
      ]
     },
     "execution_count": 11,
     "metadata": {},
     "output_type": "execute_result"
    }
   ],
   "source": [
    "# Extra columns in customers df\n",
    "extra_col_cust = set(customers.columns.tolist()) - set(azdias.columns.tolist())\n",
    "print(extra_col_cust)\n",
    "customers[list(extra_col_cust)].head()"
   ]
  },
  {
   "cell_type": "markdown",
   "metadata": {},
   "source": [
    "We can remove those extra columns from our analysis"
   ]
  },
  {
   "cell_type": "code",
   "execution_count": 12,
   "metadata": {},
   "outputs": [
    {
     "data": {
      "text/plain": [
       "(191652, 366)"
      ]
     },
     "execution_count": 12,
     "metadata": {},
     "output_type": "execute_result"
    }
   ],
   "source": [
    "# Remove extra 3 columns in customers df\n",
    "customers.drop(list(extra_col_cust), axis=1, inplace=True)\n",
    "\n",
    "# Shape of customers df after removal \n",
    "customers.shape"
   ]
  },
  {
   "cell_type": "markdown",
   "metadata": {},
   "source": [
    "Now, from above, both azdias df & customer df have same and equal number of columns."
   ]
  },
  {
   "cell_type": "code",
   "execution_count": 13,
   "metadata": {},
   "outputs": [],
   "source": [
    "null_list = azdias.isnull().sum()\n",
    "null_per = null_list / len(azdias) * 100"
   ]
  },
  {
   "cell_type": "code",
   "execution_count": 14,
   "metadata": {},
   "outputs": [
    {
     "data": {
      "image/png": "[encoded data removed]",
      "text/plain": [
       "<matplotlib.figure.Figure at 0x7f878dbfb5c0>"
      ]
     },
     "metadata": {
      "needs_background": "light"
     },
     "output_type": "display_data"
    }
   ],
   "source": [
    "# Investigate patterns in the amount of missing data in each column.\n",
    "plt.figure(figsize=(10,5))\n",
    "plt.title('Distribution of the Ratio of Missing Data in Each Column')\n",
    "plt.hist(null_per, bins = np.linspace(10,100,19))\n",
    "plt.xlabel('Percentage of Missing Data')\n",
    "plt.ylabel('Count')\n",
    "plt.show()"
   ]
  },
  {
   "cell_type": "markdown",
   "metadata": {},
   "source": [
    "Here i can consider that columns with 20% missing value can be dropped. Thats why we dropped {'CUSTOMER_GROUP', 'PRODUCT_GROUP', 'ONLINE_PURCHASE'} columns."
   ]
  },
  {
   "cell_type": "markdown",
   "metadata": {},
   "source": [
    "## Part 1: Customer Segmentation Report\n",
    "\n",
    "The main bulk of your analysis will come in this part of the project. Here, you should use unsupervised learning techniques to describe the relationship between the demographics of the company's existing customers and the general population of Germany. By the end of this part, you should be able to describe parts of the general population that are more likely to be part of the mail-order company's main customer base, and which parts of the general population are less so."
   ]
  },
  {
   "cell_type": "markdown",
   "metadata": {},
   "source": [
    "# Step 1: Preprocessing"
   ]
  },
  {
   "cell_type": "markdown",
   "metadata": {},
   "source": [
    "Assess Missing Data\n",
    "The feature summary file contains a summary of properties for each demographics data column. You will use this file to help you make cleaning decisions during this stage of the project. First of all, you should assess the demographics data in terms of missing data. Pay attention to the following points as you perform your analysis, and take notes on what you observe. Make sure that you fill in the Discussion cell with your findings and decisions at the end of each step that has one!"
   ]
  },
  {
   "cell_type": "markdown",
   "metadata": {},
   "source": [
    "\n",
    "Step 1.1.1: Convert Missing Value Codes to NaNs\n",
    "The third column of the feature attributes summary (loaded in above as feat_info) documents the codes from the data dictionary that indicate missing or unknown data. While the file encodes this as a list (e.g. [-1,0]), this will get read in as a string object. You'll need to do a little bit of parsing to make use of it to identify and clean the data. Convert data that matches a 'missing' or 'unknown' value code into a numpy NaN value. You might want to see how much data takes on a 'missing' or 'unknown' code, and how much data is naturally missing, as a point of interest."
   ]
  },
  {
   "cell_type": "code",
   "execution_count": 15,
   "metadata": {},
   "outputs": [
    {
     "data": {
      "text/plain": [
       "LNR                                0\n",
       "AGER_TYP                           0\n",
       "AKT_DAT_KL                     73499\n",
       "ALTER_HH                       73499\n",
       "ALTER_KIND1                   810163\n",
       "ALTER_KIND2                   861722\n",
       "ALTER_KIND3                   885051\n",
       "ALTER_KIND4                   890016\n",
       "ALTERSKATEGORIE_FEIN          262947\n",
       "ANZ_HAUSHALTE_AKTIV            93148\n",
       "ANZ_HH_TITEL                   97008\n",
       "ANZ_KINDER                     73499\n",
       "ANZ_PERSONEN                   73499\n",
       "ANZ_STATISTISCHE_HAUSHALTE     93148\n",
       "ANZ_TITEL                      73499\n",
       "ARBEIT                         97216\n",
       "BALLRAUM                       93740\n",
       "CAMEO_DEU_2015                 98979\n",
       "CAMEO_DEUG_2015                98979\n",
       "CAMEO_INTL_2015                98979\n",
       "CJT_GESAMTTYP                   4854\n",
       "CJT_KATALOGNUTZER               4854\n",
       "CJT_TYP_1                       4854\n",
       "CJT_TYP_2                       4854\n",
       "CJT_TYP_3                       4854\n",
       "CJT_TYP_4                       4854\n",
       "CJT_TYP_5                       4854\n",
       "CJT_TYP_6                       4854\n",
       "D19_BANKEN_ANZ_12                  0\n",
       "D19_BANKEN_ANZ_24                  0\n",
       "                               ...  \n",
       "SEMIO_KRIT                         0\n",
       "SEMIO_KULT                         0\n",
       "SEMIO_LUST                         0\n",
       "SEMIO_MAT                          0\n",
       "SEMIO_PFLICHT                      0\n",
       "SEMIO_RAT                          0\n",
       "SEMIO_REL                          0\n",
       "SEMIO_SOZ                          0\n",
       "SEMIO_TRADV                        0\n",
       "SEMIO_VERT                         0\n",
       "SHOPPER_TYP                        0\n",
       "SOHO_KZ                        73499\n",
       "STRUKTURTYP                    97274\n",
       "TITEL_KZ                       73499\n",
       "UMFELD_ALT                     97786\n",
       "UMFELD_JUNG                    97786\n",
       "UNGLEICHENN_FLAG               73499\n",
       "VERDICHTUNGSRAUM               97274\n",
       "VERS_TYP                           0\n",
       "VHA                            73499\n",
       "VHN                           121196\n",
       "VK_DHT4A                       75917\n",
       "VK_DISTANZ                     75917\n",
       "VK_ZG11                        75917\n",
       "W_KEIT_KIND_HH                107602\n",
       "WOHNDAUER_2008                 73499\n",
       "WOHNLAGE                       93148\n",
       "ZABEOTYP                           0\n",
       "ANREDE_KZ                          0\n",
       "ALTERSKATEGORIE_GROB               0\n",
       "Length: 366, dtype: int64"
      ]
     },
     "execution_count": 15,
     "metadata": {},
     "output_type": "execute_result"
    }
   ],
   "source": [
    "#Identify missing or unknown data values and convert them to NaNs\n",
    "\n",
    "# Check natural NaNs\n",
    "azdias.isnull().sum()"
   ]
  },
  {
   "cell_type": "code",
   "execution_count": 16,
   "metadata": {},
   "outputs": [],
   "source": [
    "# Define function to find missing values in the features\n",
    "def find_missing_data(df):\n",
    "    '''\n",
    "    INPUT:\n",
    "        df - (dataframe), dataframe to check for missing values in its columns\n",
    "    OUTPUT:\n",
    "        df_null: (dataframe), with count & percentage of missing values in input dataframe columns\n",
    "    '''\n",
    "    null_data = df.isnull().sum()[df.isnull().sum() > 0]\n",
    "    \n",
    "    data_dict = {'count': null_data.values, 'pct': np.round(null_data.values *100/df.shape[0],2)}\n",
    "    \n",
    "    df_null = pd.DataFrame(data=data_dict, index=null_data.index)\n",
    "    df_null.sort_values(by='count', ascending=False, inplace=True)\n",
    "    return df_null"
   ]
  },
  {
   "cell_type": "code",
   "execution_count": 17,
   "metadata": {},
   "outputs": [
    {
     "name": "stdout",
     "output_type": "stream",
     "text": [
      "CPU times: user 13.5 s, sys: 3.36 s, total: 16.8 s\n",
      "Wall time: 2min 14s\n"
     ]
    }
   ],
   "source": [
    "%%time\n",
    "# Naturally missing data in descenindg order\n",
    "azdias_null = find_missing_data(azdias)\n",
    "azdias_null"
   ]
  },
  {
   "cell_type": "code",
   "execution_count": 18,
   "metadata": {},
   "outputs": [
    {
     "data": {
      "text/html": [
       "<div>\n",
       "<style scoped>\n",
       "    .dataframe tbody tr th:only-of-type {\n",
       "        vertical-align: middle;\n",
       "    }\n",
       "\n",
       "    .dataframe tbody tr th {\n",
       "        vertical-align: top;\n",
       "    }\n",
       "\n",
       "    .dataframe thead th {\n",
       "        text-align: right;\n",
       "    }\n",
       "</style>\n",
       "<table border=\"1\" class=\"dataframe\">\n",
       "  <thead>\n",
       "    <tr style=\"text-align: right;\">\n",
       "      <th></th>\n",
       "      <th>count</th>\n",
       "      <th>pct</th>\n",
       "    </tr>\n",
       "  </thead>\n",
       "  <tbody>\n",
       "    <tr>\n",
       "      <th>ALTER_KIND4</th>\n",
       "      <td>890016</td>\n",
       "      <td>99.86</td>\n",
       "    </tr>\n",
       "    <tr>\n",
       "      <th>ALTER_KIND3</th>\n",
       "      <td>885051</td>\n",
       "      <td>99.31</td>\n",
       "    </tr>\n",
       "    <tr>\n",
       "      <th>ALTER_KIND2</th>\n",
       "      <td>861722</td>\n",
       "      <td>96.69</td>\n",
       "    </tr>\n",
       "    <tr>\n",
       "      <th>ALTER_KIND1</th>\n",
       "      <td>810163</td>\n",
       "      <td>90.90</td>\n",
       "    </tr>\n",
       "    <tr>\n",
       "      <th>EXTSEL992</th>\n",
       "      <td>654153</td>\n",
       "      <td>73.40</td>\n",
       "    </tr>\n",
       "    <tr>\n",
       "      <th>KK_KUNDENTYP</th>\n",
       "      <td>584612</td>\n",
       "      <td>65.60</td>\n",
       "    </tr>\n",
       "    <tr>\n",
       "      <th>ALTERSKATEGORIE_FEIN</th>\n",
       "      <td>262947</td>\n",
       "      <td>29.50</td>\n",
       "    </tr>\n",
       "    <tr>\n",
       "      <th>D19_SOZIALES</th>\n",
       "      <td>257113</td>\n",
       "      <td>28.85</td>\n",
       "    </tr>\n",
       "    <tr>\n",
       "      <th>D19_LOTTO</th>\n",
       "      <td>257113</td>\n",
       "      <td>28.85</td>\n",
       "    </tr>\n",
       "    <tr>\n",
       "      <th>D19_BANKEN_ONLINE_QUOTE_12</th>\n",
       "      <td>257113</td>\n",
       "      <td>28.85</td>\n",
       "    </tr>\n",
       "    <tr>\n",
       "      <th>D19_GESAMT_ONLINE_QUOTE_12</th>\n",
       "      <td>257113</td>\n",
       "      <td>28.85</td>\n",
       "    </tr>\n",
       "    <tr>\n",
       "      <th>D19_KONSUMTYP</th>\n",
       "      <td>257113</td>\n",
       "      <td>28.85</td>\n",
       "    </tr>\n",
       "    <tr>\n",
       "      <th>D19_LETZTER_KAUF_BRANCHE</th>\n",
       "      <td>257113</td>\n",
       "      <td>28.85</td>\n",
       "    </tr>\n",
       "    <tr>\n",
       "      <th>D19_VERSAND_ONLINE_QUOTE_12</th>\n",
       "      <td>257113</td>\n",
       "      <td>28.85</td>\n",
       "    </tr>\n",
       "    <tr>\n",
       "      <th>D19_TELKO_ONLINE_QUOTE_12</th>\n",
       "      <td>257113</td>\n",
       "      <td>28.85</td>\n",
       "    </tr>\n",
       "    <tr>\n",
       "      <th>D19_VERSI_ONLINE_QUOTE_12</th>\n",
       "      <td>257113</td>\n",
       "      <td>28.85</td>\n",
       "    </tr>\n",
       "    <tr>\n",
       "      <th>KBA05_MAXSEG</th>\n",
       "      <td>133324</td>\n",
       "      <td>14.96</td>\n",
       "    </tr>\n",
       "    <tr>\n",
       "      <th>KBA05_MAXAH</th>\n",
       "      <td>133324</td>\n",
       "      <td>14.96</td>\n",
       "    </tr>\n",
       "    <tr>\n",
       "      <th>KBA05_MAXVORB</th>\n",
       "      <td>133324</td>\n",
       "      <td>14.96</td>\n",
       "    </tr>\n",
       "    <tr>\n",
       "      <th>KBA05_MOD1</th>\n",
       "      <td>133324</td>\n",
       "      <td>14.96</td>\n",
       "    </tr>\n",
       "    <tr>\n",
       "      <th>KBA05_MAXHERST</th>\n",
       "      <td>133324</td>\n",
       "      <td>14.96</td>\n",
       "    </tr>\n",
       "    <tr>\n",
       "      <th>KBA05_MAXBJ</th>\n",
       "      <td>133324</td>\n",
       "      <td>14.96</td>\n",
       "    </tr>\n",
       "    <tr>\n",
       "      <th>KBA05_KRSVAN</th>\n",
       "      <td>133324</td>\n",
       "      <td>14.96</td>\n",
       "    </tr>\n",
       "    <tr>\n",
       "      <th>KBA05_KW3</th>\n",
       "      <td>133324</td>\n",
       "      <td>14.96</td>\n",
       "    </tr>\n",
       "    <tr>\n",
       "      <th>KBA05_KW2</th>\n",
       "      <td>133324</td>\n",
       "      <td>14.96</td>\n",
       "    </tr>\n",
       "    <tr>\n",
       "      <th>KBA05_KRSZUL</th>\n",
       "      <td>133324</td>\n",
       "      <td>14.96</td>\n",
       "    </tr>\n",
       "    <tr>\n",
       "      <th>KBA05_KRSOBER</th>\n",
       "      <td>133324</td>\n",
       "      <td>14.96</td>\n",
       "    </tr>\n",
       "    <tr>\n",
       "      <th>KBA05_KRSKLEIN</th>\n",
       "      <td>133324</td>\n",
       "      <td>14.96</td>\n",
       "    </tr>\n",
       "    <tr>\n",
       "      <th>KBA05_KRSHERST3</th>\n",
       "      <td>133324</td>\n",
       "      <td>14.96</td>\n",
       "    </tr>\n",
       "    <tr>\n",
       "      <th>KBA05_KRSHERST2</th>\n",
       "      <td>133324</td>\n",
       "      <td>14.96</td>\n",
       "    </tr>\n",
       "    <tr>\n",
       "      <th>...</th>\n",
       "      <td>...</td>\n",
       "      <td>...</td>\n",
       "    </tr>\n",
       "    <tr>\n",
       "      <th>ANZ_TITEL</th>\n",
       "      <td>73499</td>\n",
       "      <td>8.25</td>\n",
       "    </tr>\n",
       "    <tr>\n",
       "      <th>VHA</th>\n",
       "      <td>73499</td>\n",
       "      <td>8.25</td>\n",
       "    </tr>\n",
       "    <tr>\n",
       "      <th>UNGLEICHENN_FLAG</th>\n",
       "      <td>73499</td>\n",
       "      <td>8.25</td>\n",
       "    </tr>\n",
       "    <tr>\n",
       "      <th>ANZ_PERSONEN</th>\n",
       "      <td>73499</td>\n",
       "      <td>8.25</td>\n",
       "    </tr>\n",
       "    <tr>\n",
       "      <th>ANZ_KINDER</th>\n",
       "      <td>73499</td>\n",
       "      <td>8.25</td>\n",
       "    </tr>\n",
       "    <tr>\n",
       "      <th>WOHNDAUER_2008</th>\n",
       "      <td>73499</td>\n",
       "      <td>8.25</td>\n",
       "    </tr>\n",
       "    <tr>\n",
       "      <th>SOHO_KZ</th>\n",
       "      <td>73499</td>\n",
       "      <td>8.25</td>\n",
       "    </tr>\n",
       "    <tr>\n",
       "      <th>AKT_DAT_KL</th>\n",
       "      <td>73499</td>\n",
       "      <td>8.25</td>\n",
       "    </tr>\n",
       "    <tr>\n",
       "      <th>EINGEZOGENAM_HH_JAHR</th>\n",
       "      <td>73499</td>\n",
       "      <td>8.25</td>\n",
       "    </tr>\n",
       "    <tr>\n",
       "      <th>RT_UEBERGROESSE</th>\n",
       "      <td>51226</td>\n",
       "      <td>5.75</td>\n",
       "    </tr>\n",
       "    <tr>\n",
       "      <th>HH_EINKOMMEN_SCORE</th>\n",
       "      <td>18348</td>\n",
       "      <td>2.06</td>\n",
       "    </tr>\n",
       "    <tr>\n",
       "      <th>ONLINE_AFFINITAET</th>\n",
       "      <td>4854</td>\n",
       "      <td>0.54</td>\n",
       "    </tr>\n",
       "    <tr>\n",
       "      <th>LP_FAMILIE_FEIN</th>\n",
       "      <td>4854</td>\n",
       "      <td>0.54</td>\n",
       "    </tr>\n",
       "    <tr>\n",
       "      <th>LP_FAMILIE_GROB</th>\n",
       "      <td>4854</td>\n",
       "      <td>0.54</td>\n",
       "    </tr>\n",
       "    <tr>\n",
       "      <th>LP_LEBENSPHASE_FEIN</th>\n",
       "      <td>4854</td>\n",
       "      <td>0.54</td>\n",
       "    </tr>\n",
       "    <tr>\n",
       "      <th>LP_LEBENSPHASE_GROB</th>\n",
       "      <td>4854</td>\n",
       "      <td>0.54</td>\n",
       "    </tr>\n",
       "    <tr>\n",
       "      <th>LP_STATUS_FEIN</th>\n",
       "      <td>4854</td>\n",
       "      <td>0.54</td>\n",
       "    </tr>\n",
       "    <tr>\n",
       "      <th>LP_STATUS_GROB</th>\n",
       "      <td>4854</td>\n",
       "      <td>0.54</td>\n",
       "    </tr>\n",
       "    <tr>\n",
       "      <th>GFK_URLAUBERTYP</th>\n",
       "      <td>4854</td>\n",
       "      <td>0.54</td>\n",
       "    </tr>\n",
       "    <tr>\n",
       "      <th>CJT_TYP_3</th>\n",
       "      <td>4854</td>\n",
       "      <td>0.54</td>\n",
       "    </tr>\n",
       "    <tr>\n",
       "      <th>CJT_TYP_1</th>\n",
       "      <td>4854</td>\n",
       "      <td>0.54</td>\n",
       "    </tr>\n",
       "    <tr>\n",
       "      <th>CJT_TYP_6</th>\n",
       "      <td>4854</td>\n",
       "      <td>0.54</td>\n",
       "    </tr>\n",
       "    <tr>\n",
       "      <th>CJT_TYP_5</th>\n",
       "      <td>4854</td>\n",
       "      <td>0.54</td>\n",
       "    </tr>\n",
       "    <tr>\n",
       "      <th>CJT_GESAMTTYP</th>\n",
       "      <td>4854</td>\n",
       "      <td>0.54</td>\n",
       "    </tr>\n",
       "    <tr>\n",
       "      <th>CJT_TYP_4</th>\n",
       "      <td>4854</td>\n",
       "      <td>0.54</td>\n",
       "    </tr>\n",
       "    <tr>\n",
       "      <th>RT_SCHNAEPPCHEN</th>\n",
       "      <td>4854</td>\n",
       "      <td>0.54</td>\n",
       "    </tr>\n",
       "    <tr>\n",
       "      <th>RT_KEIN_ANREIZ</th>\n",
       "      <td>4854</td>\n",
       "      <td>0.54</td>\n",
       "    </tr>\n",
       "    <tr>\n",
       "      <th>RETOURTYP_BK_S</th>\n",
       "      <td>4854</td>\n",
       "      <td>0.54</td>\n",
       "    </tr>\n",
       "    <tr>\n",
       "      <th>CJT_KATALOGNUTZER</th>\n",
       "      <td>4854</td>\n",
       "      <td>0.54</td>\n",
       "    </tr>\n",
       "    <tr>\n",
       "      <th>CJT_TYP_2</th>\n",
       "      <td>4854</td>\n",
       "      <td>0.54</td>\n",
       "    </tr>\n",
       "  </tbody>\n",
       "</table>\n",
       "<p>273 rows × 2 columns</p>\n",
       "</div>"
      ],
      "text/plain": [
       "                              count    pct\n",
       "ALTER_KIND4                  890016  99.86\n",
       "ALTER_KIND3                  885051  99.31\n",
       "ALTER_KIND2                  861722  96.69\n",
       "ALTER_KIND1                  810163  90.90\n",
       "EXTSEL992                    654153  73.40\n",
       "KK_KUNDENTYP                 584612  65.60\n",
       "ALTERSKATEGORIE_FEIN         262947  29.50\n",
       "D19_SOZIALES                 257113  28.85\n",
       "D19_LOTTO                    257113  28.85\n",
       "D19_BANKEN_ONLINE_QUOTE_12   257113  28.85\n",
       "D19_GESAMT_ONLINE_QUOTE_12   257113  28.85\n",
       "D19_KONSUMTYP                257113  28.85\n",
       "D19_LETZTER_KAUF_BRANCHE     257113  28.85\n",
       "D19_VERSAND_ONLINE_QUOTE_12  257113  28.85\n",
       "D19_TELKO_ONLINE_QUOTE_12    257113  28.85\n",
       "D19_VERSI_ONLINE_QUOTE_12    257113  28.85\n",
       "KBA05_MAXSEG                 133324  14.96\n",
       "KBA05_MAXAH                  133324  14.96\n",
       "KBA05_MAXVORB                133324  14.96\n",
       "KBA05_MOD1                   133324  14.96\n",
       "KBA05_MAXHERST               133324  14.96\n",
       "KBA05_MAXBJ                  133324  14.96\n",
       "KBA05_KRSVAN                 133324  14.96\n",
       "KBA05_KW3                    133324  14.96\n",
       "KBA05_KW2                    133324  14.96\n",
       "KBA05_KRSZUL                 133324  14.96\n",
       "KBA05_KRSOBER                133324  14.96\n",
       "KBA05_KRSKLEIN               133324  14.96\n",
       "KBA05_KRSHERST3              133324  14.96\n",
       "KBA05_KRSHERST2              133324  14.96\n",
       "...                             ...    ...\n",
       "ANZ_TITEL                     73499   8.25\n",
       "VHA                           73499   8.25\n",
       "UNGLEICHENN_FLAG              73499   8.25\n",
       "ANZ_PERSONEN                  73499   8.25\n",
       "ANZ_KINDER                    73499   8.25\n",
       "WOHNDAUER_2008                73499   8.25\n",
       "SOHO_KZ                       73499   8.25\n",
       "AKT_DAT_KL                    73499   8.25\n",
       "EINGEZOGENAM_HH_JAHR          73499   8.25\n",
       "RT_UEBERGROESSE               51226   5.75\n",
       "HH_EINKOMMEN_SCORE            18348   2.06\n",
       "ONLINE_AFFINITAET              4854   0.54\n",
       "LP_FAMILIE_FEIN                4854   0.54\n",
       "LP_FAMILIE_GROB                4854   0.54\n",
       "LP_LEBENSPHASE_FEIN            4854   0.54\n",
       "LP_LEBENSPHASE_GROB            4854   0.54\n",
       "LP_STATUS_FEIN                 4854   0.54\n",
       "LP_STATUS_GROB                 4854   0.54\n",
       "GFK_URLAUBERTYP                4854   0.54\n",
       "CJT_TYP_3                      4854   0.54\n",
       "CJT_TYP_1                      4854   0.54\n",
       "CJT_TYP_6                      4854   0.54\n",
       "CJT_TYP_5                      4854   0.54\n",
       "CJT_GESAMTTYP                  4854   0.54\n",
       "CJT_TYP_4                      4854   0.54\n",
       "RT_SCHNAEPPCHEN                4854   0.54\n",
       "RT_KEIN_ANREIZ                 4854   0.54\n",
       "RETOURTYP_BK_S                 4854   0.54\n",
       "CJT_KATALOGNUTZER              4854   0.54\n",
       "CJT_TYP_2                      4854   0.54\n",
       "\n",
       "[273 rows x 2 columns]"
      ]
     },
     "execution_count": 18,
     "metadata": {},
     "output_type": "execute_result"
    }
   ],
   "source": [
    "azdias_null"
   ]
  },
  {
   "cell_type": "code",
   "execution_count": 19,
   "metadata": {},
   "outputs": [
    {
     "data": {
      "text/plain": [
       "(273, 2)"
      ]
     },
     "execution_count": 19,
     "metadata": {},
     "output_type": "execute_result"
    }
   ],
   "source": [
    "# Shape of azdias_init_null dataframe\n",
    "azdias_null.shape"
   ]
  },
  {
   "cell_type": "code",
   "execution_count": 20,
   "metadata": {},
   "outputs": [
    {
     "data": {
      "text/plain": [
       "33492923"
      ]
     },
     "execution_count": 20,
     "metadata": {},
     "output_type": "execute_result"
    }
   ],
   "source": [
    "# Total number of naturally missing values\n",
    "np.sum(azdias_null['count'])"
   ]
  },
  {
   "cell_type": "markdown",
   "metadata": {},
   "source": [
    "So, 273 columns have naturally missing data which is not encoded by the codes as mentioned in feature_summary_complete.csv file. We can see that even before mapping missing_or_unknown values to NaN, columns KK_KUNDENTYP, EXTSEL992, ALTER_KIND1, ALTER_KIND2, ALTER_KIND3 & ALTER_KIND4 has more than 65% of missing values."
   ]
  },
  {
   "cell_type": "code",
   "execution_count": 21,
   "metadata": {},
   "outputs": [
    {
     "data": {
      "image/png": "[encoded data removed]",
      "text/plain": [
       "<matplotlib.figure.Figure at 0x7f878c31d358>"
      ]
     },
     "metadata": {
      "needs_background": "light"
     },
     "output_type": "display_data"
    }
   ],
   "source": [
    "# Perform an assessment of how much missing data there is in each column of the\n",
    "# dataset.\n",
    "missing_col = azdias.isnull().sum()/azdias.shape[0]\n",
    "\n",
    "missing_col.hist()\n",
    "plt.xlabel('Proportion')\n",
    "plt.ylabel('Count')\n",
    "plt.title('Distribution of All Missing Values per Column');"
   ]
  },
  {
   "cell_type": "code",
   "execution_count": 22,
   "metadata": {},
   "outputs": [
    {
     "data": {
      "image/png": "[encoded data removed]",
      "text/plain": [
       "<matplotlib.figure.Figure at 0x7f87c00a4fd0>"
      ]
     },
     "metadata": {
      "needs_background": "light"
     },
     "output_type": "display_data"
    }
   ],
   "source": [
    "# Investigate patterns in the amount of missing data in each column.\n",
    "missing_col_sub = missing_col[missing_col <= 0.3]\n",
    "\n",
    "missing_col_sub.hist()\n",
    "plt.xlabel('Proportion')\n",
    "plt.ylabel('Count')\n",
    "plt.title('Distribution of Missing Values per Column Less than or Equal to 30%');"
   ]
  },
  {
   "cell_type": "code",
   "execution_count": 23,
   "metadata": {},
   "outputs": [
    {
     "name": "stdout",
     "output_type": "stream",
     "text": [
      "[-1,0]\n",
      "Type of missing_or_unknown column value : <class 'str'>\n",
      "['-1', '0']\n",
      "Type of nan_vals column value : <class 'list'>\n"
     ]
    }
   ],
   "source": [
    "# Printing out a column missing_or_unknown value and its type for a particular attribute.\n",
    "print(feat_info.loc[['AGER_TYP'], ['missing_or_unknown']].missing_or_unknown.item())\n",
    "print('Type of missing_or_unknown column value : {}'.format(type(feat_info.\\\n",
    "                                                                 loc[['AGER_TYP'], ['missing_or_unknown']].\\\n",
    "                                                                 missing_or_unknown.item())))\n",
    "\n",
    "\n",
    "# Parsing missing_or_unknown column having string values to array of lists and storing it in new columnn nan_vals.\n",
    "nan_vals = feat_info['missing_or_unknown'].str.replace('[','').str.replace(']','').str.split(',').values\n",
    "\n",
    "# Adding nan_vals column to the dataframe.\n",
    "feat_info['nan_vals'] = nan_vals\n",
    "#print(type(feat_info))\n",
    "\n",
    "# Printing out the value and type of value in nan_vals column for a particular attribute after parsing.\n",
    "print(feat_info.loc[['AGER_TYP'], ['nan_vals']].nan_vals.item())\n",
    "print('Type of nan_vals column value : {}'.format(type(feat_info.loc[['AGER_TYP'], ['nan_vals']].nan_vals.item())))"
   ]
  },
  {
   "cell_type": "code",
   "execution_count": 24,
   "metadata": {},
   "outputs": [
    {
     "data": {
      "text/html": [
       "<div>\n",
       "<style scoped>\n",
       "    .dataframe tbody tr th:only-of-type {\n",
       "        vertical-align: middle;\n",
       "    }\n",
       "\n",
       "    .dataframe tbody tr th {\n",
       "        vertical-align: top;\n",
       "    }\n",
       "\n",
       "    .dataframe thead th {\n",
       "        text-align: right;\n",
       "    }\n",
       "</style>\n",
       "<table border=\"1\" class=\"dataframe\">\n",
       "  <thead>\n",
       "    <tr style=\"text-align: right;\">\n",
       "      <th></th>\n",
       "      <th>information_level</th>\n",
       "      <th>type</th>\n",
       "      <th>missing_or_unknown</th>\n",
       "      <th>nan_vals</th>\n",
       "    </tr>\n",
       "    <tr>\n",
       "      <th>attribute</th>\n",
       "      <th></th>\n",
       "      <th></th>\n",
       "      <th></th>\n",
       "      <th></th>\n",
       "    </tr>\n",
       "  </thead>\n",
       "  <tbody>\n",
       "    <tr>\n",
       "      <th>AGER_TYP</th>\n",
       "      <td>person</td>\n",
       "      <td>categorical</td>\n",
       "      <td>[-1,0]</td>\n",
       "      <td>[-1, 0]</td>\n",
       "    </tr>\n",
       "    <tr>\n",
       "      <th>ALTERSKATEGORIE_GROB</th>\n",
       "      <td>person</td>\n",
       "      <td>ordinal</td>\n",
       "      <td>[-1,0,9]</td>\n",
       "      <td>[-1, 0, 9]</td>\n",
       "    </tr>\n",
       "    <tr>\n",
       "      <th>ANREDE_KZ</th>\n",
       "      <td>person</td>\n",
       "      <td>categorical</td>\n",
       "      <td>[-1,0]</td>\n",
       "      <td>[-1, 0]</td>\n",
       "    </tr>\n",
       "    <tr>\n",
       "      <th>CJT_GESAMTTYP</th>\n",
       "      <td>person</td>\n",
       "      <td>categorical</td>\n",
       "      <td>[0]</td>\n",
       "      <td>[0]</td>\n",
       "    </tr>\n",
       "    <tr>\n",
       "      <th>FINANZ_MINIMALIST</th>\n",
       "      <td>person</td>\n",
       "      <td>ordinal</td>\n",
       "      <td>[-1]</td>\n",
       "      <td>[-1]</td>\n",
       "    </tr>\n",
       "  </tbody>\n",
       "</table>\n",
       "</div>"
      ],
      "text/plain": [
       "                     information_level         type missing_or_unknown  \\\n",
       "attribute                                                                \n",
       "AGER_TYP                        person  categorical             [-1,0]   \n",
       "ALTERSKATEGORIE_GROB            person      ordinal           [-1,0,9]   \n",
       "ANREDE_KZ                       person  categorical             [-1,0]   \n",
       "CJT_GESAMTTYP                   person  categorical                [0]   \n",
       "FINANZ_MINIMALIST               person      ordinal               [-1]   \n",
       "\n",
       "                        nan_vals  \n",
       "attribute                         \n",
       "AGER_TYP                 [-1, 0]  \n",
       "ALTERSKATEGORIE_GROB  [-1, 0, 9]  \n",
       "ANREDE_KZ                [-1, 0]  \n",
       "CJT_GESAMTTYP                [0]  \n",
       "FINANZ_MINIMALIST           [-1]  "
      ]
     },
     "execution_count": 24,
     "metadata": {},
     "output_type": "execute_result"
    }
   ],
   "source": [
    "\n",
    "feat_info.head()"
   ]
  },
  {
   "cell_type": "code",
   "execution_count": 25,
   "metadata": {},
   "outputs": [],
   "source": [
    "# Converting (list of string) values to (list of integers and string) in nan_vals column.\n",
    "\n",
    "def is_int(value):\n",
    "    try:\n",
    "        int(value)\n",
    "\n",
    "        return True\n",
    "    except ValueError:\n",
    "       \n",
    "        return False\n",
    "\n",
    "feat_info['nan_vals'] = feat_info.apply(lambda x: [int(i) if is_int(i) else i for i in x['nan_vals']], axis=1)"
   ]
  },
  {
   "cell_type": "code",
   "execution_count": 26,
   "metadata": {},
   "outputs": [
    {
     "name": "stdout",
     "output_type": "stream",
     "text": [
      "[-1, 0]\n",
      "Type of nan_vals column value : <class 'list'>\n"
     ]
    }
   ],
   "source": [
    "# Printing out the value and type of value in nan_vals column for a particular attribute after converting\n",
    "# to list of integers and string\n",
    "\n",
    "print(feat_info.loc[['AGER_TYP'], ['nan_vals']].nan_vals.item())\n",
    "print('Type of nan_vals column value : {}'.format(type(feat_info.loc[['AGER_TYP'], ['nan_vals']].nan_vals.item())))"
   ]
  },
  {
   "cell_type": "code",
   "execution_count": 27,
   "metadata": {},
   "outputs": [],
   "source": [
    "# Identify missing or unknown data values in azdias dataframe columns and convert them to NaNs as per nan_vals in feat_info\n",
    "for inx in feat_info.index:\n",
    "    column = inx\n",
    "    if column in azdias.columns:\n",
    "        azdias[column] = azdias[column].replace(feat_info.loc[column]['nan_vals'], np.nan)"
   ]
  },
  {
   "cell_type": "code",
   "execution_count": 28,
   "metadata": {},
   "outputs": [
    {
     "data": {
      "text/plain": [
       "nan"
      ]
     },
     "execution_count": 28,
     "metadata": {},
     "output_type": "execute_result"
    }
   ],
   "source": [
    "# Check after mapping missing_or_unknown values.\n",
    "azdias['CAMEO_DEUG_2015'][2511]"
   ]
  },
  {
   "cell_type": "markdown",
   "metadata": {},
   "source": [
    "\n",
    "Step 1.1.2: Assess Missing Data in Each Column\n",
    "How much missing data is present in each column? There are a few columns that are outliers in terms of the proportion of values that are missing. You will want to use matplotlib's hist() function to visualize the distribution of missing value counts to find these columns. Identify and document these columns. While some of these columns might have justifications for keeping or re-encoding the data, for this project you should just remove them from the dataframe. (Feel free to make remarks about these outlier columns in the discussion, however!)\n",
    "\n",
    "For the remaining features, are there any patterns in which columns have, or share, missing data?"
   ]
  },
  {
   "cell_type": "code",
   "execution_count": 29,
   "metadata": {},
   "outputs": [
    {
     "data": {
      "text/html": [
       "<div>\n",
       "<style scoped>\n",
       "    .dataframe tbody tr th:only-of-type {\n",
       "        vertical-align: middle;\n",
       "    }\n",
       "\n",
       "    .dataframe tbody tr th {\n",
       "        vertical-align: top;\n",
       "    }\n",
       "\n",
       "    .dataframe thead th {\n",
       "        text-align: right;\n",
       "    }\n",
       "</style>\n",
       "<table border=\"1\" class=\"dataframe\">\n",
       "  <thead>\n",
       "    <tr style=\"text-align: right;\">\n",
       "      <th></th>\n",
       "      <th>count</th>\n",
       "      <th>pct</th>\n",
       "    </tr>\n",
       "  </thead>\n",
       "  <tbody>\n",
       "    <tr>\n",
       "      <th>ALTER_KIND4</th>\n",
       "      <td>890016</td>\n",
       "      <td>99.86</td>\n",
       "    </tr>\n",
       "    <tr>\n",
       "      <th>TITEL_KZ</th>\n",
       "      <td>889061</td>\n",
       "      <td>99.76</td>\n",
       "    </tr>\n",
       "    <tr>\n",
       "      <th>ALTER_KIND3</th>\n",
       "      <td>885051</td>\n",
       "      <td>99.31</td>\n",
       "    </tr>\n",
       "    <tr>\n",
       "      <th>ALTER_KIND2</th>\n",
       "      <td>861722</td>\n",
       "      <td>96.69</td>\n",
       "    </tr>\n",
       "    <tr>\n",
       "      <th>ALTER_KIND1</th>\n",
       "      <td>810163</td>\n",
       "      <td>90.90</td>\n",
       "    </tr>\n",
       "    <tr>\n",
       "      <th>AGER_TYP</th>\n",
       "      <td>685843</td>\n",
       "      <td>76.96</td>\n",
       "    </tr>\n",
       "    <tr>\n",
       "      <th>EXTSEL992</th>\n",
       "      <td>654153</td>\n",
       "      <td>73.40</td>\n",
       "    </tr>\n",
       "    <tr>\n",
       "      <th>KK_KUNDENTYP</th>\n",
       "      <td>584612</td>\n",
       "      <td>65.60</td>\n",
       "    </tr>\n",
       "    <tr>\n",
       "      <th>KBA05_BAUMAX</th>\n",
       "      <td>476524</td>\n",
       "      <td>53.47</td>\n",
       "    </tr>\n",
       "    <tr>\n",
       "      <th>GEBURTSJAHR</th>\n",
       "      <td>392318</td>\n",
       "      <td>44.02</td>\n",
       "    </tr>\n",
       "    <tr>\n",
       "      <th>ALTER_HH</th>\n",
       "      <td>310267</td>\n",
       "      <td>34.81</td>\n",
       "    </tr>\n",
       "    <tr>\n",
       "      <th>ALTERSKATEGORIE_FEIN</th>\n",
       "      <td>262947</td>\n",
       "      <td>29.50</td>\n",
       "    </tr>\n",
       "    <tr>\n",
       "      <th>D19_VERSI_ONLINE_QUOTE_12</th>\n",
       "      <td>257113</td>\n",
       "      <td>28.85</td>\n",
       "    </tr>\n",
       "    <tr>\n",
       "      <th>D19_VERSAND_ONLINE_QUOTE_12</th>\n",
       "      <td>257113</td>\n",
       "      <td>28.85</td>\n",
       "    </tr>\n",
       "    <tr>\n",
       "      <th>D19_SOZIALES</th>\n",
       "      <td>257113</td>\n",
       "      <td>28.85</td>\n",
       "    </tr>\n",
       "    <tr>\n",
       "      <th>D19_LOTTO</th>\n",
       "      <td>257113</td>\n",
       "      <td>28.85</td>\n",
       "    </tr>\n",
       "    <tr>\n",
       "      <th>D19_LETZTER_KAUF_BRANCHE</th>\n",
       "      <td>257113</td>\n",
       "      <td>28.85</td>\n",
       "    </tr>\n",
       "    <tr>\n",
       "      <th>D19_KONSUMTYP</th>\n",
       "      <td>257113</td>\n",
       "      <td>28.85</td>\n",
       "    </tr>\n",
       "    <tr>\n",
       "      <th>D19_GESAMT_ONLINE_QUOTE_12</th>\n",
       "      <td>257113</td>\n",
       "      <td>28.85</td>\n",
       "    </tr>\n",
       "    <tr>\n",
       "      <th>D19_BANKEN_ONLINE_QUOTE_12</th>\n",
       "      <td>257113</td>\n",
       "      <td>28.85</td>\n",
       "    </tr>\n",
       "    <tr>\n",
       "      <th>D19_TELKO_ONLINE_QUOTE_12</th>\n",
       "      <td>257113</td>\n",
       "      <td>28.85</td>\n",
       "    </tr>\n",
       "    <tr>\n",
       "      <th>REGIOTYP</th>\n",
       "      <td>158064</td>\n",
       "      <td>17.74</td>\n",
       "    </tr>\n",
       "    <tr>\n",
       "      <th>KKK</th>\n",
       "      <td>158064</td>\n",
       "      <td>17.74</td>\n",
       "    </tr>\n",
       "    <tr>\n",
       "      <th>KBA05_AUTOQUOT</th>\n",
       "      <td>148115</td>\n",
       "      <td>16.62</td>\n",
       "    </tr>\n",
       "    <tr>\n",
       "      <th>KBA05_SEG5</th>\n",
       "      <td>148110</td>\n",
       "      <td>16.62</td>\n",
       "    </tr>\n",
       "    <tr>\n",
       "      <th>KBA05_MAXSEG</th>\n",
       "      <td>148110</td>\n",
       "      <td>16.62</td>\n",
       "    </tr>\n",
       "    <tr>\n",
       "      <th>KBA05_MAXHERST</th>\n",
       "      <td>148110</td>\n",
       "      <td>16.62</td>\n",
       "    </tr>\n",
       "    <tr>\n",
       "      <th>KBA05_MAXBJ</th>\n",
       "      <td>148110</td>\n",
       "      <td>16.62</td>\n",
       "    </tr>\n",
       "    <tr>\n",
       "      <th>KBA05_MAXAH</th>\n",
       "      <td>148110</td>\n",
       "      <td>16.62</td>\n",
       "    </tr>\n",
       "    <tr>\n",
       "      <th>KBA05_KW3</th>\n",
       "      <td>148110</td>\n",
       "      <td>16.62</td>\n",
       "    </tr>\n",
       "    <tr>\n",
       "      <th>...</th>\n",
       "      <td>...</td>\n",
       "      <td>...</td>\n",
       "    </tr>\n",
       "    <tr>\n",
       "      <th>VK_DISTANZ</th>\n",
       "      <td>75917</td>\n",
       "      <td>8.52</td>\n",
       "    </tr>\n",
       "    <tr>\n",
       "      <th>VK_ZG11</th>\n",
       "      <td>75917</td>\n",
       "      <td>8.52</td>\n",
       "    </tr>\n",
       "    <tr>\n",
       "      <th>KONSUMNAEHE</th>\n",
       "      <td>73969</td>\n",
       "      <td>8.30</td>\n",
       "    </tr>\n",
       "    <tr>\n",
       "      <th>ANZ_PERSONEN</th>\n",
       "      <td>73499</td>\n",
       "      <td>8.25</td>\n",
       "    </tr>\n",
       "    <tr>\n",
       "      <th>ANZ_KINDER</th>\n",
       "      <td>73499</td>\n",
       "      <td>8.25</td>\n",
       "    </tr>\n",
       "    <tr>\n",
       "      <th>UNGLEICHENN_FLAG</th>\n",
       "      <td>73499</td>\n",
       "      <td>8.25</td>\n",
       "    </tr>\n",
       "    <tr>\n",
       "      <th>ANZ_TITEL</th>\n",
       "      <td>73499</td>\n",
       "      <td>8.25</td>\n",
       "    </tr>\n",
       "    <tr>\n",
       "      <th>EINGEZOGENAM_HH_JAHR</th>\n",
       "      <td>73499</td>\n",
       "      <td>8.25</td>\n",
       "    </tr>\n",
       "    <tr>\n",
       "      <th>AKT_DAT_KL</th>\n",
       "      <td>73499</td>\n",
       "      <td>8.25</td>\n",
       "    </tr>\n",
       "    <tr>\n",
       "      <th>WOHNDAUER_2008</th>\n",
       "      <td>73499</td>\n",
       "      <td>8.25</td>\n",
       "    </tr>\n",
       "    <tr>\n",
       "      <th>SOHO_KZ</th>\n",
       "      <td>73499</td>\n",
       "      <td>8.25</td>\n",
       "    </tr>\n",
       "    <tr>\n",
       "      <th>VHA</th>\n",
       "      <td>73499</td>\n",
       "      <td>8.25</td>\n",
       "    </tr>\n",
       "    <tr>\n",
       "      <th>RT_UEBERGROESSE</th>\n",
       "      <td>51226</td>\n",
       "      <td>5.75</td>\n",
       "    </tr>\n",
       "    <tr>\n",
       "      <th>HH_EINKOMMEN_SCORE</th>\n",
       "      <td>18348</td>\n",
       "      <td>2.06</td>\n",
       "    </tr>\n",
       "    <tr>\n",
       "      <th>GFK_URLAUBERTYP</th>\n",
       "      <td>4854</td>\n",
       "      <td>0.54</td>\n",
       "    </tr>\n",
       "    <tr>\n",
       "      <th>RETOURTYP_BK_S</th>\n",
       "      <td>4854</td>\n",
       "      <td>0.54</td>\n",
       "    </tr>\n",
       "    <tr>\n",
       "      <th>RT_SCHNAEPPCHEN</th>\n",
       "      <td>4854</td>\n",
       "      <td>0.54</td>\n",
       "    </tr>\n",
       "    <tr>\n",
       "      <th>RT_KEIN_ANREIZ</th>\n",
       "      <td>4854</td>\n",
       "      <td>0.54</td>\n",
       "    </tr>\n",
       "    <tr>\n",
       "      <th>CJT_TYP_6</th>\n",
       "      <td>4854</td>\n",
       "      <td>0.54</td>\n",
       "    </tr>\n",
       "    <tr>\n",
       "      <th>CJT_TYP_5</th>\n",
       "      <td>4854</td>\n",
       "      <td>0.54</td>\n",
       "    </tr>\n",
       "    <tr>\n",
       "      <th>CJT_TYP_4</th>\n",
       "      <td>4854</td>\n",
       "      <td>0.54</td>\n",
       "    </tr>\n",
       "    <tr>\n",
       "      <th>CJT_GESAMTTYP</th>\n",
       "      <td>4854</td>\n",
       "      <td>0.54</td>\n",
       "    </tr>\n",
       "    <tr>\n",
       "      <th>CJT_KATALOGNUTZER</th>\n",
       "      <td>4854</td>\n",
       "      <td>0.54</td>\n",
       "    </tr>\n",
       "    <tr>\n",
       "      <th>CJT_TYP_1</th>\n",
       "      <td>4854</td>\n",
       "      <td>0.54</td>\n",
       "    </tr>\n",
       "    <tr>\n",
       "      <th>ONLINE_AFFINITAET</th>\n",
       "      <td>4854</td>\n",
       "      <td>0.54</td>\n",
       "    </tr>\n",
       "    <tr>\n",
       "      <th>CJT_TYP_2</th>\n",
       "      <td>4854</td>\n",
       "      <td>0.54</td>\n",
       "    </tr>\n",
       "    <tr>\n",
       "      <th>CJT_TYP_3</th>\n",
       "      <td>4854</td>\n",
       "      <td>0.54</td>\n",
       "    </tr>\n",
       "    <tr>\n",
       "      <th>LP_STATUS_GROB</th>\n",
       "      <td>4854</td>\n",
       "      <td>0.54</td>\n",
       "    </tr>\n",
       "    <tr>\n",
       "      <th>LP_STATUS_FEIN</th>\n",
       "      <td>4854</td>\n",
       "      <td>0.54</td>\n",
       "    </tr>\n",
       "    <tr>\n",
       "      <th>ALTERSKATEGORIE_GROB</th>\n",
       "      <td>2881</td>\n",
       "      <td>0.32</td>\n",
       "    </tr>\n",
       "  </tbody>\n",
       "</table>\n",
       "<p>281 rows × 2 columns</p>\n",
       "</div>"
      ],
      "text/plain": [
       "                              count    pct\n",
       "ALTER_KIND4                  890016  99.86\n",
       "TITEL_KZ                     889061  99.76\n",
       "ALTER_KIND3                  885051  99.31\n",
       "ALTER_KIND2                  861722  96.69\n",
       "ALTER_KIND1                  810163  90.90\n",
       "AGER_TYP                     685843  76.96\n",
       "EXTSEL992                    654153  73.40\n",
       "KK_KUNDENTYP                 584612  65.60\n",
       "KBA05_BAUMAX                 476524  53.47\n",
       "GEBURTSJAHR                  392318  44.02\n",
       "ALTER_HH                     310267  34.81\n",
       "ALTERSKATEGORIE_FEIN         262947  29.50\n",
       "D19_VERSI_ONLINE_QUOTE_12    257113  28.85\n",
       "D19_VERSAND_ONLINE_QUOTE_12  257113  28.85\n",
       "D19_SOZIALES                 257113  28.85\n",
       "D19_LOTTO                    257113  28.85\n",
       "D19_LETZTER_KAUF_BRANCHE     257113  28.85\n",
       "D19_KONSUMTYP                257113  28.85\n",
       "D19_GESAMT_ONLINE_QUOTE_12   257113  28.85\n",
       "D19_BANKEN_ONLINE_QUOTE_12   257113  28.85\n",
       "D19_TELKO_ONLINE_QUOTE_12    257113  28.85\n",
       "REGIOTYP                     158064  17.74\n",
       "KKK                          158064  17.74\n",
       "KBA05_AUTOQUOT               148115  16.62\n",
       "KBA05_SEG5                   148110  16.62\n",
       "KBA05_MAXSEG                 148110  16.62\n",
       "KBA05_MAXHERST               148110  16.62\n",
       "KBA05_MAXBJ                  148110  16.62\n",
       "KBA05_MAXAH                  148110  16.62\n",
       "KBA05_KW3                    148110  16.62\n",
       "...                             ...    ...\n",
       "VK_DISTANZ                    75917   8.52\n",
       "VK_ZG11                       75917   8.52\n",
       "KONSUMNAEHE                   73969   8.30\n",
       "ANZ_PERSONEN                  73499   8.25\n",
       "ANZ_KINDER                    73499   8.25\n",
       "UNGLEICHENN_FLAG              73499   8.25\n",
       "ANZ_TITEL                     73499   8.25\n",
       "EINGEZOGENAM_HH_JAHR          73499   8.25\n",
       "AKT_DAT_KL                    73499   8.25\n",
       "WOHNDAUER_2008                73499   8.25\n",
       "SOHO_KZ                       73499   8.25\n",
       "VHA                           73499   8.25\n",
       "RT_UEBERGROESSE               51226   5.75\n",
       "HH_EINKOMMEN_SCORE            18348   2.06\n",
       "GFK_URLAUBERTYP                4854   0.54\n",
       "RETOURTYP_BK_S                 4854   0.54\n",
       "RT_SCHNAEPPCHEN                4854   0.54\n",
       "RT_KEIN_ANREIZ                 4854   0.54\n",
       "CJT_TYP_6                      4854   0.54\n",
       "CJT_TYP_5                      4854   0.54\n",
       "CJT_TYP_4                      4854   0.54\n",
       "CJT_GESAMTTYP                  4854   0.54\n",
       "CJT_KATALOGNUTZER              4854   0.54\n",
       "CJT_TYP_1                      4854   0.54\n",
       "ONLINE_AFFINITAET              4854   0.54\n",
       "CJT_TYP_2                      4854   0.54\n",
       "CJT_TYP_3                      4854   0.54\n",
       "LP_STATUS_GROB                 4854   0.54\n",
       "LP_STATUS_FEIN                 4854   0.54\n",
       "ALTERSKATEGORIE_GROB           2881   0.32\n",
       "\n",
       "[281 rows x 2 columns]"
      ]
     },
     "execution_count": 29,
     "metadata": {},
     "output_type": "execute_result"
    }
   ],
   "source": [
    "# Perform an assessment of how much missing data there is in each column of the azdias dataset \n",
    "# Count value of NaN values in each column in descending order.\n",
    "azdias_after_nan = find_missing_data(azdias)\n",
    "azdias_after_nan"
   ]
  },
  {
   "cell_type": "markdown",
   "metadata": {},
   "source": [
    "So, 281 columns have NaN data and we can see that after mapping missing_or_unknown values to NaN, columns TITEL_KZ, ALTER_KIND1, ALTER_KIND2, ALTER_KIND3 & ALTER_KIND4 has more than 65% of missing values."
   ]
  },
  {
   "cell_type": "code",
   "execution_count": 30,
   "metadata": {},
   "outputs": [
    {
     "data": {
      "text/plain": [
       "37827227"
      ]
     },
     "execution_count": 30,
     "metadata": {},
     "output_type": "execute_result"
    }
   ],
   "source": [
    "# Total number of missing obersvations after mapping missing_or_unknown values to NaN\n",
    "# by using codes mentioned in feature summary file.\n",
    "np.sum(azdias_after_nan['count'])"
   ]
  },
  {
   "cell_type": "code",
   "execution_count": 31,
   "metadata": {},
   "outputs": [
    {
     "data": {
      "text/plain": [
       "{'person': array(['AGER_TYP', 'ALTERSKATEGORIE_GROB', 'ANREDE_KZ', 'CJT_GESAMTTYP',\n",
       "        'FINANZ_MINIMALIST', 'FINANZ_SPARER', 'FINANZ_VORSORGER',\n",
       "        'FINANZ_ANLEGER', 'FINANZ_UNAUFFAELLIGER', 'FINANZ_HAUSBAUER',\n",
       "        'FINANZTYP', 'GEBURTSJAHR', 'GFK_URLAUBERTYP', 'GREEN_AVANTGARDE',\n",
       "        'HEALTH_TYP', 'LP_LEBENSPHASE_FEIN', 'LP_LEBENSPHASE_GROB',\n",
       "        'LP_FAMILIE_FEIN', 'LP_FAMILIE_GROB', 'LP_STATUS_FEIN',\n",
       "        'LP_STATUS_GROB', 'NATIONALITAET_KZ', 'PRAEGENDE_JUGENDJAHRE',\n",
       "        'RETOURTYP_BK_S', 'SEMIO_SOZ', 'SEMIO_FAM', 'SEMIO_REL',\n",
       "        'SEMIO_MAT', 'SEMIO_VERT', 'SEMIO_LUST', 'SEMIO_ERL', 'SEMIO_KULT',\n",
       "        'SEMIO_RAT', 'SEMIO_KRIT', 'SEMIO_DOM', 'SEMIO_KAEM',\n",
       "        'SEMIO_PFLICHT', 'SEMIO_TRADV', 'SHOPPER_TYP', 'SOHO_KZ',\n",
       "        'TITEL_KZ', 'VERS_TYP', 'ZABEOTYP'], dtype=object),\n",
       " 'household': array(['ALTER_HH', 'ANZ_PERSONEN', 'ANZ_TITEL', 'HAUSHALTSSTRUKTUR',\n",
       "        'HH_EINKOMMEN_SCORE', 'KK_KUNDENTYP', 'D19_KONSUMTYP',\n",
       "        'D19_GESAMT_ANZ_12', 'D19_GESAMT_ANZ_24', 'D19_BANKEN_ANZ_12',\n",
       "        'D19_BANKEN_ANZ_24', 'D19_TELKO_ ANZ_12', 'D19_TELKO_ ANZ_24',\n",
       "        'D19_VERSI_ ANZ_12 ', 'D19_VERSI_ ANZ_24', 'D19_VERSAND_ ANZ_12 ',\n",
       "        'D19_VERSAND_ ANZ_24', 'D19_GESAMT_OFFLINE_DATUM',\n",
       "        'D19_GESAMT_ONLINE_DATUM', 'D19_GESAMT_DATUM',\n",
       "        'D19_BANKEN_OFFLINE_DATUM', 'D19_BANKEN_ONLINE_DATUM',\n",
       "        'D19_BANKEN_DATUM', 'D19_TELKO_OFFLINE_DATUM',\n",
       "        'D19_TELKO_ONLINE_DATUM', 'D19_TELKO_DATUM',\n",
       "        'D19_VERSAND_OFFLINE_DATUM', 'D19_VERSAND_ONLINE_DATUM',\n",
       "        'D19_VERSAND_DATUM', 'D19_VERSI_OFFLINE_DATUM',\n",
       "        'D19_VERSI_ONLINE_DATUM', 'D19_VERSI_DATUM',\n",
       "        'D19_GESAMT_ONLINE_QUOTE_12', 'D19_BANKEN_ONLINE_QUOTE_12',\n",
       "        'D19_VERSAND_ONLINE_QUOTE_12', 'W_KEIT_KIND_HH', 'WOHNDAUER_2008'], dtype=object),\n",
       " 'building': array(['ANZ_HAUSHALTE_AKTIV', 'ANZ_HH_TITEL', 'GEBAEUDETYP',\n",
       "        'GEOSCORE_KLS7', 'KBA05_HERSTTEMP', 'KBA05_MODTEMP', 'KONSUMNAEHE',\n",
       "        'MIN_GEBAEUDEJAHR', 'OST_WEST_KZ', 'WOHNLAGE'], dtype=object),\n",
       " 'microcell_rr4': array(['CAMEO_DEUG_2015', 'CAMEO_DEU_2015', 'CAMEO_INTL_2015'], dtype=object),\n",
       " 'microcell_rr3': array(['KBA05_ALTER1', 'KBA05_ALTER2', 'KBA05_ALTER3', 'KBA05_ALTER4',\n",
       "        'KBA05_ANHANG', 'KBA05_ANTG1', 'KBA05_ANTG2', 'KBA05_ANTG3',\n",
       "        'KBA05_ANTG4', 'KBA05_AUTOQUOT', 'KBA05_BAUMAX', 'KBA05_CCM1',\n",
       "        'KBA05_CCM2', 'KBA05_CCM3', 'KBA05_CCM4', 'KBA05_DIESEL',\n",
       "        'KBA05_FRAU', 'KBA05_GBZ', 'KBA05_HERST1', 'KBA05_HERST2',\n",
       "        'KBA05_HERST3', 'KBA05_HERST4', 'KBA05_HERST5', 'KBA05_KRSAQUOT',\n",
       "        'KBA05_KRSHERST1', 'KBA05_KRSHERST2', 'KBA05_KRSHERST3',\n",
       "        'KBA05_KRSKLEIN', 'KBA05_KRSOBER', 'KBA05_KRSVAN', 'KBA05_KRSZUL',\n",
       "        'KBA05_KW1', 'KBA05_KW2', 'KBA05_KW3', 'KBA05_MAXAH', 'KBA05_MAXBJ',\n",
       "        'KBA05_MAXHERST', 'KBA05_MAXSEG', 'KBA05_MAXVORB', 'KBA05_MOD1',\n",
       "        'KBA05_MOD2', 'KBA05_MOD3', 'KBA05_MOD4', 'KBA05_MOD8',\n",
       "        'KBA05_MOTOR', 'KBA05_MOTRAD', 'KBA05_SEG1', 'KBA05_SEG2',\n",
       "        'KBA05_SEG3', 'KBA05_SEG4', 'KBA05_SEG5', 'KBA05_SEG6',\n",
       "        'KBA05_SEG7', 'KBA05_SEG8', 'KBA05_SEG9', 'KBA05_SEG10',\n",
       "        'KBA05_VORB0', 'KBA05_VORB1', 'KBA05_VORB2', 'KBA05_ZUL1',\n",
       "        'KBA05_ZUL2', 'KBA05_ZUL3', 'KBA05_ZUL4', 'WACHSTUMSGEBIET_NB'], dtype=object),\n",
       " '125m_125m_grid': array(['D19_BANKEN_DIREKT', 'D19_BANKEN_GROSS', 'D19_BANKEN_LOKAL',\n",
       "        'D19_BANKEN_REST', 'D19_BEKLEIDUNG_GEH', 'D19_BEKLEIDUNG_REST',\n",
       "        'D19_BIO_OEKO', 'D19_BILDUNG', 'D19_BUCH_CD', 'D19_DIGIT_SERV',\n",
       "        'D19_DROGERIEARTIKEL', 'D19_ENERGIE', 'D19_FREIZEIT', 'D19_GARTEN',\n",
       "        'D19_HANDWERK', 'D19_HAUS_DEKO', 'D19_KINDERARTIKEL',\n",
       "        'D19_KOSMETIK', 'D19_LEBENSMITTEL', 'D19_LOTTO',\n",
       "        'D19_NAHRUNGSERGAENZUNG', 'D19_RATGEBER', 'D19_REISEN',\n",
       "        'D19_SAMMELARTIKEL', 'D19_SCHUHE', 'D19_SONSTIGE', 'D19_TECHNIK',\n",
       "        'D19_TELKO_ANZ_12', 'D19_TELKO_ANZ_24', 'D19_TELKO_MOBILE',\n",
       "        'D19_TELKO_REST', 'D19_TIERARTIKEL', 'D19_VERSAND_ANZ_12',\n",
       "        'D19_VERSAND_ANZ_24', 'D19_VERSICHERUNGEN', 'D19_VERSAND_REST',\n",
       "        'D19_VERSI_ANZ_12', 'D19_VERSI_ANZ_24', 'D19_VOLLSORTIMENT',\n",
       "        'D19_WEIN_FEINKOST'], dtype=object),\n",
       " 'postcode': array(['BALLRAUM', 'EWDICHTE', 'INNENSTADT', 'PLZ'], dtype=object),\n",
       " 'region_rr1': array(['GEBAEUDETYP_RASTER', 'KKK', 'MOBI_REGIO', 'ONLINE_AFFINITAET',\n",
       "        'REGIOTYP'], dtype=object),\n",
       " 'plz8': array(['KBA13_ALTERHALTER_30', 'KBA13_ALTERHALTER_45',\n",
       "        'KBA13_ALTERHALTER_60', 'KBA13_ALTERHALTER_61', 'KBA13_ANZAHL_PKW',\n",
       "        'KBA13_AUDI', 'KBA13_AUTOQUOTE', 'KBA13_BJ_1999', 'KBA13_BJ_2000',\n",
       "        'KBA13_BJ_2004', 'KBA13_BJ_2006', 'KBA13_BJ_2008', 'KBA13_BJ_2009',\n",
       "        'KBA13_BMW', 'KBA13_CCM_1000', 'KBA13_CCM_1200', 'KBA13_CCM_1400',\n",
       "        'KBA13_CCM_0_1400', 'KBA13_CCM_1500', 'KBA13_CCM_1400_2500',\n",
       "        'KBA13_CCM_1600', 'KBA13_CCM_1800', 'KBA13_CCM_2000',\n",
       "        'KBA13_CCM_2500', 'KBA13_CCM_2501', 'KBA13_CCM_3000',\n",
       "        'KBA13_CCM_3001', 'KBA13_FAB_ASIEN', 'KBA13_FAB_SONSTIGE',\n",
       "        'KBA13_FIAT', 'KBA13_FORD', 'KBA13_HALTER_20', 'KBA13_HALTER_25',\n",
       "        'KBA13_HALTER_30', 'KBA13_HALTER_35', 'KBA13_HALTER_40',\n",
       "        'KBA13_HALTER_45', 'KBA13_HALTER_50', 'KBA13_HALTER_55',\n",
       "        'KBA13_HALTER_60', 'KBA13_HALTER_65', 'KBA13_HALTER_66',\n",
       "        'KBA13_HERST_ASIEN', 'KBA13_HERST_AUDI_VW', 'KBA13_HERST_BMW_BENZ',\n",
       "        'KBA13_HERST_EUROPA', 'KBA13_HERST_FORD_OPEL', 'KBA13_HERST_SONST',\n",
       "        'KBA13_KMH_110', 'KBA13_KMH_140', 'KBA13_KMH_180',\n",
       "        'KBA13_KMH_0_140', 'KBA13_KMH_140_210', 'KBA13_KMH_211',\n",
       "        'KBA13_KMH_250', 'KBA13_KMH_251', 'KBA13_KRSAQUOT',\n",
       "        'KBA13_KRSHERST_AUDI_VW', 'KBA13_KRSHERST_BMW_BENZ',\n",
       "        'KBA13_KRSHERST_FORD_OPEL', 'KBA13_KRSSEG_KLEIN',\n",
       "        'KBA13_KRSSEG_OBER', 'KBA13_KRSSEG_VAN', 'KBA13_KRSZUL_NEU',\n",
       "        'KBA13_KW_30', 'KBA13_KW_40', 'KBA13_KW_50', 'KBA13_KW_60',\n",
       "        'KBA13_KW_0_60', 'KBA13_KW_70', 'KBA13_KW_61_120', 'KBA13_KW_80',\n",
       "        'KBA13_KW_90', 'KBA13_KW_110', 'KBA13_KW_120', 'KBA13_KW_121',\n",
       "        'KBA13_MAZDA', 'KBA13_MERCEDES', 'KBA13_MOTOR', 'KBA13_NISSAN',\n",
       "        'KBA13_OPEL', 'KBA13_PEUGEOT', 'KBA13_RENAULT',\n",
       "        'KBA13_SEG_GELAENDEWAGEN', 'KBA13_SEG_GROSSRAUMVANS',\n",
       "        'KBA13_SEG_KLEINST', 'KBA13_SEG_KLEINWAGEN',\n",
       "        'KBA13_SEG_KOMPAKTKLASSE', 'KBA13_SEG_MINIVANS',\n",
       "        'KBA13_SEG_MINIWAGEN', 'KBA13_SEG_MITTELKLASSE',\n",
       "        'KBA13_SEG_OBEREMITTELKLASSE', 'KBA13_SEG_OBERKLASSE',\n",
       "        'KBA13_SEG_SONSTIGE', 'KBA13_SEG_SPORTWAGEN', 'KBA13_SEG_UTILITIES',\n",
       "        'KBA13_SEG_VAN', 'KBA13_SEG_WOHNMOBILE', 'KBA13_SITZE_4',\n",
       "        'KBA13_SITZE_5', 'KBA13_SITZE_6', 'KBA13_TOYOTA', 'KBA13_VORB_0',\n",
       "        'KBA13_VORB_1', 'KBA13_VORB_1_2', 'KBA13_VORB_2', 'KBA13_VORB_3',\n",
       "        'KBA13_VW', 'PLZ8_ANTG1', 'PLZ8_ANTG2', 'PLZ8_ANTG3', 'PLZ8_ANTG4',\n",
       "        'PLZ8_BAUMAX', 'PLZ8_HHZ', 'PLZ8_GBZ'], dtype=object),\n",
       " 'community': array(['ARBEIT', 'ORTSGR_KLS9', 'RELAT_AB'], dtype=object)}"
      ]
     },
     "execution_count": 31,
     "metadata": {},
     "output_type": "execute_result"
    }
   ],
   "source": [
    "# Investigating patterns in the amount of missing data of each column.\n",
    "index_column_info = {}\n",
    "for info in feat_info['information_level'].unique():\n",
    "    index_column_info[info] = feat_info[feat_info['information_level'] == info].index.values\n",
    "    \n",
    "index_column_info"
   ]
  },
  {
   "cell_type": "code",
   "execution_count": 32,
   "metadata": {},
   "outputs": [
    {
     "data": {
      "text/plain": [
       "dict_keys(['person', 'household', 'building', 'microcell_rr4', 'microcell_rr3', '125m_125m_grid', 'postcode', 'region_rr1', 'plz8', 'community'])"
      ]
     },
     "execution_count": 32,
     "metadata": {},
     "output_type": "execute_result"
    }
   ],
   "source": [
    "\n",
    "index_column_info.keys()"
   ]
  },
  {
   "cell_type": "code",
   "execution_count": 33,
   "metadata": {},
   "outputs": [
    {
     "data": {
      "text/plain": [
       "array(['AGER_TYP', 'ALTERSKATEGORIE_GROB', 'ANREDE_KZ', 'CJT_GESAMTTYP',\n",
       "       'FINANZ_MINIMALIST', 'FINANZ_SPARER', 'FINANZ_VORSORGER',\n",
       "       'FINANZ_ANLEGER', 'FINANZ_UNAUFFAELLIGER', 'FINANZ_HAUSBAUER',\n",
       "       'FINANZTYP', 'GEBURTSJAHR', 'GFK_URLAUBERTYP', 'GREEN_AVANTGARDE',\n",
       "       'HEALTH_TYP', 'LP_LEBENSPHASE_FEIN', 'LP_LEBENSPHASE_GROB',\n",
       "       'LP_FAMILIE_FEIN', 'LP_FAMILIE_GROB', 'LP_STATUS_FEIN',\n",
       "       'LP_STATUS_GROB', 'NATIONALITAET_KZ', 'PRAEGENDE_JUGENDJAHRE',\n",
       "       'RETOURTYP_BK_S', 'SEMIO_SOZ', 'SEMIO_FAM', 'SEMIO_REL',\n",
       "       'SEMIO_MAT', 'SEMIO_VERT', 'SEMIO_LUST', 'SEMIO_ERL', 'SEMIO_KULT',\n",
       "       'SEMIO_RAT', 'SEMIO_KRIT', 'SEMIO_DOM', 'SEMIO_KAEM',\n",
       "       'SEMIO_PFLICHT', 'SEMIO_TRADV', 'SHOPPER_TYP', 'SOHO_KZ',\n",
       "       'TITEL_KZ', 'VERS_TYP', 'ZABEOTYP'], dtype=object)"
      ]
     },
     "execution_count": 33,
     "metadata": {},
     "output_type": "execute_result"
    }
   ],
   "source": [
    "index_column_info['person']"
   ]
  },
  {
   "cell_type": "code",
   "execution_count": 36,
   "metadata": {},
   "outputs": [],
   "source": [
    "# Define function to find columns with 20% missing values\n",
    "def cols_missing_values(df, p):\n",
    "    '''\n",
    "    INPUT:\n",
    "        df - (dataframe), dataframe to check for missing values in its columns\n",
    "    OUTPUT:\n",
    "        missing_cols: (list), list of columns \n",
    "    '''\n",
    "    missing_cols = [col for col in df.columns if (df[col].isnull().sum()/df.shape[0]) * 100 > p]\n",
    "    return missing_cols"
   ]
  },
  {
   "cell_type": "code",
   "execution_count": 37,
   "metadata": {},
   "outputs": [
    {
     "name": "stdout",
     "output_type": "stream",
     "text": [
      "['AGER_TYP', 'ALTER_HH', 'ALTER_KIND1', 'ALTER_KIND2', 'ALTER_KIND3', 'ALTER_KIND4', 'ALTERSKATEGORIE_FEIN', 'D19_BANKEN_ONLINE_QUOTE_12', 'D19_GESAMT_ONLINE_QUOTE_12', 'D19_KONSUMTYP', 'D19_LETZTER_KAUF_BRANCHE', 'D19_LOTTO', 'D19_SOZIALES', 'D19_TELKO_ONLINE_QUOTE_12', 'D19_VERSAND_ONLINE_QUOTE_12', 'D19_VERSI_ONLINE_QUOTE_12', 'EXTSEL992', 'GEBURTSJAHR', 'KBA05_BAUMAX', 'KK_KUNDENTYP', 'TITEL_KZ']\n"
     ]
    }
   ],
   "source": [
    "# Find the name of columns with more than 20% missing values\n",
    "missing_20_prcnt_cols = cols_missing_values(azdias, p=20)\n",
    "print(missing_20_prcnt_cols)"
   ]
  },
  {
   "cell_type": "code",
   "execution_count": 38,
   "metadata": {},
   "outputs": [],
   "source": [
    "# Remove the outlier columns from the dataset.\n",
    "azdias.drop(missing_20_prcnt_cols, axis=1, inplace=True)"
   ]
  },
  {
   "cell_type": "code",
   "execution_count": 39,
   "metadata": {},
   "outputs": [],
   "source": [
    "azdias.drop('LNR', axis=1, inplace=True)"
   ]
  },
  {
   "cell_type": "code",
   "execution_count": 40,
   "metadata": {},
   "outputs": [
    {
     "data": {
      "text/plain": [
       "(891221, 344)"
      ]
     },
     "execution_count": 40,
     "metadata": {},
     "output_type": "execute_result"
    }
   ],
   "source": [
    "\n",
    "# Shape of azdias dataframe after removing outliers columns\n",
    "azdias.shape"
   ]
  },
  {
   "cell_type": "markdown",
   "metadata": {},
   "source": [
    "Assess Missing Data in Each Row\n",
    "Now, you'll perform a similar assessment for the rows of the dataset. How much data is missing in each row? As with the columns, you should see some groups of points that have a very different numbers of missing values. Divide the data into two subsets: one for data points that are above some threshold for missing values, and a second subset for points below that threshold.\n",
    "\n",
    "In order to know what to do with the outlier rows, we should see if the distribution of data values on columns that are not missing data (or are missing very little data) are similar or different between the two groups. Select at least five of these columns and compare the distribution of values.\n",
    "\n",
    "You can use seaborn's countplot() function to create a bar chart of code frequencies and matplotlib's subplot() function to put bar charts for the two subplots side by side.\n",
    "To reduce repeated code, you might want to write a function that can perform this comparison, taking as one of its arguments a column to be compared.\n",
    "Depending on what you observe in your comparison, this will have implications on how you approach your conclusions later in the analysis. If the distributions of non-missing features look similar between the data with many missing values and the data with few or no missing values, then we could argue that simply dropping those points from the analysis won't present a major issue. On the other hand, if the data with many missing values looks very different from the data with few or no missing values, then we should make a note on those data as special. We'll revisit these data later on. Either way, you should continue your analysis for now using just the subset of the data with few or no missing values."
   ]
  },
  {
   "cell_type": "code",
   "execution_count": 41,
   "metadata": {},
   "outputs": [
    {
     "name": "stdout",
     "output_type": "stream",
     "text": [
      "Below are the number of missing values in a row along with their frequencies\n"
     ]
    },
    {
     "data": {
      "text/plain": [
       "0      611722\n",
       "1       10335\n",
       "2       26076\n",
       "3       17884\n",
       "4       12937\n",
       "5        4252\n",
       "6       24953\n",
       "7        9923\n",
       "8       11004\n",
       "9         872\n",
       "10       1254\n",
       "11        667\n",
       "12        479\n",
       "13        262\n",
       "14        151\n",
       "15         74\n",
       "16         26\n",
       "17         17\n",
       "18          7\n",
       "19          4\n",
       "20       1916\n",
       "21         23\n",
       "22         84\n",
       "23       1901\n",
       "24         97\n",
       "25        106\n",
       "26         87\n",
       "27         73\n",
       "28         46\n",
       "29         45\n",
       "        ...  \n",
       "210         2\n",
       "211         1\n",
       "212         6\n",
       "213         4\n",
       "214         3\n",
       "215         6\n",
       "216         2\n",
       "217         2\n",
       "218       206\n",
       "219      2870\n",
       "220     10880\n",
       "221      3960\n",
       "222        82\n",
       "223        84\n",
       "224       730\n",
       "225       223\n",
       "226       138\n",
       "227       344\n",
       "228        12\n",
       "229        13\n",
       "230        10\n",
       "238     27348\n",
       "239       111\n",
       "240       508\n",
       "241         8\n",
       "242         6\n",
       "243     45606\n",
       "244         9\n",
       "245         2\n",
       "247         1\n",
       "Length: 174, dtype: int64"
      ]
     },
     "execution_count": 41,
     "metadata": {},
     "output_type": "execute_result"
    }
   ],
   "source": [
    "# How much data is missing in each row of the dataset?\n",
    "azdias_missing_data_row = azdias.isnull().sum(axis=1)\n",
    "\n",
    "# Aggregate missing row data by number of missing values per row\n",
    "print('Below are the number of missing values in a row along with their frequencies')\n",
    "azdias_missing_data_row.value_counts().sort_index()"
   ]
  },
  {
   "cell_type": "code",
   "execution_count": 42,
   "metadata": {},
   "outputs": [
    {
     "data": {
      "text/plain": [
       "0.000000     611722\n",
       "0.290698      10335\n",
       "0.581395      26076\n",
       "0.872093      17884\n",
       "1.162791      12937\n",
       "1.453488       4252\n",
       "1.744186      24953\n",
       "2.034884       9923\n",
       "2.325581      11004\n",
       "2.616279        872\n",
       "2.906977       1254\n",
       "3.197674        667\n",
       "3.488372        479\n",
       "3.779070        262\n",
       "4.069767        151\n",
       "4.360465         74\n",
       "4.651163         26\n",
       "4.941860         17\n",
       "5.232558          7\n",
       "5.523256          4\n",
       "5.813953       1916\n",
       "6.104651         23\n",
       "6.395349         84\n",
       "6.686047       1901\n",
       "6.976744         97\n",
       "7.267442        106\n",
       "7.558140         87\n",
       "7.848837         73\n",
       "8.139535         46\n",
       "8.430233         45\n",
       "              ...  \n",
       "61.046512         2\n",
       "61.337209         1\n",
       "61.627907         6\n",
       "61.918605         4\n",
       "62.209302         3\n",
       "62.500000         6\n",
       "62.790698         2\n",
       "63.081395         2\n",
       "63.372093       206\n",
       "63.662791      2870\n",
       "63.953488     10880\n",
       "64.244186      3960\n",
       "64.534884        82\n",
       "64.825581        84\n",
       "65.116279       730\n",
       "65.406977       223\n",
       "65.697674       138\n",
       "65.988372       344\n",
       "66.279070        12\n",
       "66.569767        13\n",
       "66.860465        10\n",
       "69.186047     27348\n",
       "69.476744       111\n",
       "69.767442       508\n",
       "70.058140         8\n",
       "70.348837         6\n",
       "70.639535     45606\n",
       "70.930233         9\n",
       "71.220930         2\n",
       "71.802326         1\n",
       "Length: 174, dtype: int64"
      ]
     },
     "execution_count": 42,
     "metadata": {},
     "output_type": "execute_result"
    }
   ],
   "source": [
    "# Aggregate missing row data by percentage of missing values per row\n",
    "tt = azdias_missing_data_row/(len(azdias.columns)) * 100\n",
    "tt.sort_values(inplace=True)\n",
    "tt.value_counts().sort_index()"
   ]
  },
  {
   "cell_type": "code",
   "execution_count": 44,
   "metadata": {},
   "outputs": [
    {
     "name": "stdout",
     "output_type": "stream",
     "text": [
      "No. of rows with no missing data: 611722\n",
      "Total no.of rows in dataset: 891221\n",
      "Percentage of rows with no missing data : 68.63864294041545%\n"
     ]
    }
   ],
   "source": [
    "# Calculate count and percentage of rows with no missing data points\n",
    "\n",
    "print('No. of rows with no missing data: {}'\\\n",
    "      .format(np.round(azdias_missing_data_row.value_counts().sort_index().cumsum()[0])))\n",
    "print('Total no.of rows in dataset: {}'.format(azdias.shape[0]))\n",
    "print('Percentage of rows with no missing data : {}%'\\\n",
    "      .format(azdias_missing_data_row.value_counts().sort_index().cumsum()[0]/azdias.shape[0] *100,2))"
   ]
  },
  {
   "cell_type": "code",
   "execution_count": 48,
   "metadata": {},
   "outputs": [
    {
     "name": "stdout",
     "output_type": "stream",
     "text": [
      "Cumulative sums of rows with 28 or less missing data points are : \n",
      "0     611722\n",
      "1     622057\n",
      "2     648133\n",
      "3     666017\n",
      "4     678954\n",
      "5     683206\n",
      "6     708159\n",
      "7     718082\n",
      "8     729086\n",
      "9     729958\n",
      "10    731212\n",
      "11    731879\n",
      "12    732358\n",
      "13    732620\n",
      "14    732771\n",
      "15    732845\n",
      "16    732871\n",
      "17    732888\n",
      "18    732895\n",
      "19    732899\n",
      "20    734815\n",
      "21    734838\n",
      "22    734922\n",
      "23    736823\n",
      "24    736920\n",
      "25    737026\n",
      "26    737113\n",
      "27    737186\n",
      "dtype: int64\n",
      "\n",
      "Cumulative percentage of rows with 28 or less missing data points are : \n",
      "0     68.64\n",
      "1     69.80\n",
      "2     72.72\n",
      "3     74.73\n",
      "4     76.18\n",
      "5     76.66\n",
      "6     79.46\n",
      "7     80.57\n",
      "8     81.81\n",
      "9     81.91\n",
      "10    82.05\n",
      "11    82.12\n",
      "12    82.17\n",
      "13    82.20\n",
      "14    82.22\n",
      "15    82.23\n",
      "16    82.23\n",
      "17    82.23\n",
      "18    82.23\n",
      "19    82.24\n",
      "20    82.45\n",
      "21    82.45\n",
      "22    82.46\n",
      "23    82.68\n",
      "24    82.69\n",
      "25    82.70\n",
      "26    82.71\n",
      "27    82.72\n",
      "dtype: float64\n"
     ]
    }
   ],
   "source": [
    "# Calculate cumulative sum of rows with 28 or less missing data points\n",
    "cumsum= azdias_missing_data_row.value_counts().sort_index().cumsum()[:28]\n",
    "print('Cumulative sums of rows with 28 or less missing data points are : \\n{}'.format(cumsum))\n",
    "\n",
    "cumsum_percentage = np.round(azdias_missing_data_row.value_counts().sort_index().cumsum()[:28]/azdias_missing_data_row.shape[0]*100,2)\n",
    "print('\\nCumulative percentage of rows with 28 or less missing data points are : \\n{}'.format(cumsum_percentage))"
   ]
  },
  {
   "cell_type": "code",
   "execution_count": 49,
   "metadata": {},
   "outputs": [
    {
     "name": "stdout",
     "output_type": "stream",
     "text": [
      "Count of rows with 8 or less missing data points: 729086\n",
      "Total number of rows in the dataset : 891221\n",
      "Percentage of rows with 8 or less missing data points: 81.81 %\n"
     ]
    }
   ],
   "source": [
    "\n",
    "# Calculate percentage of rows with 8 or less missing data points\n",
    "\n",
    "print('Count of rows with 8 or less missing data points: {}'.format(cumsum[8]))\n",
    "print('Total number of rows in the dataset : {}'.format(azdias.shape[0]))\n",
    "print(\"Percentage of rows with 8 or less missing data points:\",cumsum_percentage[8],\"%\")"
   ]
  },
  {
   "cell_type": "code",
   "execution_count": 59,
   "metadata": {},
   "outputs": [],
   "source": [
    "\n",
    "\n",
    "# Write code to divide the data into two subsets based on the number of missing\n",
    "# values to be 8 or less in each row.\n",
    "\n",
    "#azdias_null_data_row_few = azdias[azdias.isnull().sum(axis=1) < 9].reset_index(drop=True)\n",
    "azdias_null_data_row_few = azdias[azdias.isnull().sum(axis=1) < 9]\n",
    "\n",
    "#azdias_null_data_row_high = azdias[azdias.isnull().sum(axis=1) >= 9].reset_index(drop=True)\n",
    "azdias_null_data_row_high = azdias[azdias.isnull().sum(axis=1) >= 9]"
   ]
  },
  {
   "cell_type": "code",
   "execution_count": 60,
   "metadata": {},
   "outputs": [
    {
     "name": "stdout",
     "output_type": "stream",
     "text": [
      "Number of rows with few missing data : 729086\n",
      "Number of rows with high missing data : 0\n",
      "Number of rows with few missing data and high missing data adds upto total number of rows in azdias dataset, which is : 729086\n"
     ]
    }
   ],
   "source": [
    "# Printing the number of rows with few missing data and high missing data.\n",
    "print('Number of rows with few missing data : {}'.format(azdias_null_data_row_few.shape[0]))\n",
    "print('Number of rows with high missing data : {}'.format(azdias_null_data_row_high.shape[0]))\n",
    "\n",
    "# Checking if the number of rows with few missing data and high missing data adds upto total number of rows in azdias dataset.\n",
    "if azdias.shape[0] == azdias_null_data_row_few.shape[0] + azdias_null_data_row_high.shape[0]:\n",
    "    print('Number of rows with few missing data and high missing data adds upto total number of rows in azdias dataset,\\\n",
    " which is : {}'.format(azdias_null_data_row_few.shape[0] + azdias_null_data_row_high.shape[0]))\n",
    "else:\n",
    "    print('Number of total rows in few missing dataset and high missing dataset is not equal\\\n",
    "    to the total number of rows in the dataset')\n",
    "    "
   ]
  },
  {
   "cell_type": "code",
   "execution_count": 73,
   "metadata": {},
   "outputs": [
    {
     "name": "stdout",
     "output_type": "stream",
     "text": [
      "Below are the columns of azdias dataset with no nulls or less than 2 missing values\n",
      "\n",
      "Index(['AKT_DAT_KL', 'ANZ_KINDER', 'ANZ_PERSONEN',\n",
      "       'ANZ_STATISTISCHE_HAUSHALTE', 'ANZ_TITEL', 'CJT_GESAMTTYP',\n",
      "       'CJT_KATALOGNUTZER', 'CJT_TYP_1', 'CJT_TYP_2', 'CJT_TYP_3',\n",
      "       ...\n",
      "       'SOHO_KZ', 'UNGLEICHENN_FLAG', 'VHA', 'VK_DHT4A', 'VK_DISTANZ',\n",
      "       'VK_ZG11', 'WOHNDAUER_2008', 'WOHNLAGE', 'ZABEOTYP', 'ANREDE_KZ'],\n",
      "      dtype='object', length=299)\n"
     ]
    }
   ],
   "source": [
    "# Printing columns with no or less than 2 missing values in columns of azdias dataset with outliers columns removed.\n",
    "\n",
    "azdias_no_null_columns = azdias.isnull().sum() < 2 \n",
    "print('Below are the columns of azdias dataset with no nulls or less than 2 missing values\\n')\n",
    "print(azdias_no_null_columns[azdias_no_null_columns.values == True].index)"
   ]
  },
  {
   "cell_type": "code",
   "execution_count": 76,
   "metadata": {},
   "outputs": [
    {
     "name": "stdout",
     "output_type": "stream",
     "text": [
      "Total number of rows : 729086\n",
      "Number of rows after dropping rows with more than 8 missing values : 729086\n"
     ]
    }
   ],
   "source": [
    "\n",
    "print('Total number of rows : {}'.format(azdias.shape[0]))\n",
    "\n",
    "azdias = azdias[azdias.index.isin(azdias_missing_data_row_less.index)]\n",
    "\n",
    "print('Number of rows after dropping rows with more than 8 missing values : {}'.format(azdias.shape[0]))"
   ]
  },
  {
   "cell_type": "markdown",
   "metadata": {},
   "source": [
    " Assess Missing Data in Each Row<br>\n",
    " Checking for columns which didn't had description in feature summary file"
   ]
  },
  {
   "cell_type": "code",
   "execution_count": 77,
   "metadata": {},
   "outputs": [
    {
     "data": {
      "text/plain": [
       "344"
      ]
     },
     "execution_count": 77,
     "metadata": {},
     "output_type": "execute_result"
    }
   ],
   "source": [
    "\n",
    "# Number of columns in azdias\n",
    "len(azdias.columns)"
   ]
  },
  {
   "cell_type": "code",
   "execution_count": 78,
   "metadata": {},
   "outputs": [
    {
     "name": "stdout",
     "output_type": "stream",
     "text": [
      "42\n"
     ]
    },
    {
     "data": {
      "text/plain": [
       "array(['AKT_DAT_KL', 'ANZ_KINDER', 'ANZ_STATISTISCHE_HAUSHALTE',\n",
       "       'CJT_KATALOGNUTZER', 'CJT_TYP_1', 'CJT_TYP_2', 'CJT_TYP_3',\n",
       "       'CJT_TYP_4', 'CJT_TYP_5', 'CJT_TYP_6', 'D19_KONSUMTYP_MAX',\n",
       "       'DSL_FLAG', 'EINGEFUEGT_AM', 'EINGEZOGENAM_HH_JAHR', 'FIRMENDICHTE',\n",
       "       'GEMEINDETYP', 'HH_DELTA_FLAG', 'KBA13_ANTG1', 'KBA13_ANTG2',\n",
       "       'KBA13_ANTG3', 'KBA13_ANTG4', 'KBA13_BAUMAX', 'KBA13_CCM_1401_2500',\n",
       "       'KBA13_GBZ', 'KBA13_HHZ', 'KBA13_KMH_210', 'KOMBIALTER',\n",
       "       'KONSUMZELLE', 'MOBI_RASTER', 'RT_KEIN_ANREIZ', 'RT_SCHNAEPPCHEN',\n",
       "       'RT_UEBERGROESSE', 'STRUKTURTYP', 'UMFELD_ALT', 'UMFELD_JUNG',\n",
       "       'UNGLEICHENN_FLAG', 'VERDICHTUNGSRAUM', 'VHA', 'VHN', 'VK_DHT4A',\n",
       "       'VK_DISTANZ', 'VK_ZG11'], dtype=object)"
      ]
     },
     "execution_count": 78,
     "metadata": {},
     "output_type": "execute_result"
    }
   ],
   "source": [
    "# Find columns whcich are not in feat_info but in azdias\n",
    "# Find number of attributes which are in azdias but not in feat_info\n",
    "attr_not_in_feat_info = np.setdiff1d(np.array(azdias.columns), np.array(feat_info.index), assume_unique=True)\n",
    "print(len(attr_not_in_feat_info))\n",
    "attr_not_in_feat_info"
   ]
  },
  {
   "cell_type": "markdown",
   "metadata": {},
   "source": [
    "Let us analyse each of the above 42 features and decide if we can drop them or we need to keep them in azdias for further anaylsis."
   ]
  },
  {
   "cell_type": "code",
   "execution_count": 79,
   "metadata": {},
   "outputs": [
    {
     "data": {
      "text/plain": [
       "HH_DELTA_FLAG                 0.04\n",
       "VHN                           0.01\n",
       "GEMEINDETYP                   0.00\n",
       "VERDICHTUNGSRAUM              0.00\n",
       "STRUKTURTYP                   0.00\n",
       "UMFELD_JUNG                   0.00\n",
       "UMFELD_ALT                    0.00\n",
       "RT_UEBERGROESSE               0.00\n",
       "FIRMENDICHTE                  0.00\n",
       "KONSUMZELLE                   0.00\n",
       "CJT_TYP_5                     0.00\n",
       "EINGEZOGENAM_HH_JAHR          0.00\n",
       "EINGEFUEGT_AM                 0.00\n",
       "DSL_FLAG                      0.00\n",
       "D19_KONSUMTYP_MAX             0.00\n",
       "CJT_TYP_6                     0.00\n",
       "VK_ZG11                       0.00\n",
       "CJT_TYP_4                     0.00\n",
       "CJT_TYP_3                     0.00\n",
       "CJT_TYP_1                     0.00\n",
       "CJT_KATALOGNUTZER             0.00\n",
       "ANZ_STATISTISCHE_HAUSHALTE    0.00\n",
       "ANZ_KINDER                    0.00\n",
       "CJT_TYP_2                     0.00\n",
       "KBA13_ANTG4                   0.00\n",
       "KBA13_ANTG1                   0.00\n",
       "KOMBIALTER                    0.00\n",
       "VK_DHT4A                      0.00\n",
       "VHA                           0.00\n",
       "UNGLEICHENN_FLAG              0.00\n",
       "RT_SCHNAEPPCHEN               0.00\n",
       "RT_KEIN_ANREIZ                0.00\n",
       "MOBI_RASTER                   0.00\n",
       "KBA13_KMH_210                 0.00\n",
       "KBA13_ANTG2                   0.00\n",
       "KBA13_HHZ                     0.00\n",
       "KBA13_GBZ                     0.00\n",
       "KBA13_CCM_1401_2500           0.00\n",
       "KBA13_BAUMAX                  0.00\n",
       "VK_DISTANZ                    0.00\n",
       "KBA13_ANTG3                   0.00\n",
       "AKT_DAT_KL                    0.00\n",
       "dtype: float64"
      ]
     },
     "execution_count": 79,
     "metadata": {},
     "output_type": "execute_result"
    }
   ],
   "source": [
    "# Find percentage of missing values in 42 features not in feat_info\n",
    "np.round(azdias[attr_not_in_feat_info.tolist()].isnull().sum().sort_values(ascending=False)/\\\n",
    "         azdias[attr_not_in_feat_info.tolist()].shape[0],2)"
   ]
  },
  {
   "cell_type": "code",
   "execution_count": 80,
   "metadata": {},
   "outputs": [
    {
     "name": "stdout",
     "output_type": "stream",
     "text": [
      "Nunber of features of each data type are : {dtype('float64'): 39, dtype('int64'): 2, dtype('O'): 1}\n"
     ]
    }
   ],
   "source": [
    "\n",
    "# Print dtype of each of the 42 features not in feat_info\n",
    "data_type_42 = {}\n",
    "for col in attr_not_in_feat_info:\n",
    "        data_type = azdias[col].dtype\n",
    "        if data_type not in data_type_42:\n",
    "            data_type_42[data_type] = 1\n",
    "        else:\n",
    "            data_type_42[data_type] += 1\n",
    "    \n",
    "print('Nunber of features of each data type are : {}'.format(data_type_42))"
   ]
  },
  {
   "cell_type": "code",
   "execution_count": 81,
   "metadata": {},
   "outputs": [
    {
     "name": "stdout",
     "output_type": "stream",
     "text": [
      "Columns with float dtype: ['AKT_DAT_KL', 'ANZ_KINDER', 'ANZ_STATISTISCHE_HAUSHALTE', 'CJT_KATALOGNUTZER', 'CJT_TYP_1', 'CJT_TYP_2', 'CJT_TYP_3', 'CJT_TYP_4', 'CJT_TYP_5', 'CJT_TYP_6', 'DSL_FLAG', 'EINGEZOGENAM_HH_JAHR', 'FIRMENDICHTE', 'GEMEINDETYP', 'HH_DELTA_FLAG', 'KBA13_ANTG1', 'KBA13_ANTG2', 'KBA13_ANTG3', 'KBA13_ANTG4', 'KBA13_BAUMAX', 'KBA13_CCM_1401_2500', 'KBA13_GBZ', 'KBA13_HHZ', 'KBA13_KMH_210', 'KONSUMZELLE', 'MOBI_RASTER', 'RT_KEIN_ANREIZ', 'RT_SCHNAEPPCHEN', 'RT_UEBERGROESSE', 'STRUKTURTYP', 'UMFELD_ALT', 'UMFELD_JUNG', 'UNGLEICHENN_FLAG', 'VERDICHTUNGSRAUM', 'VHA', 'VHN', 'VK_DHT4A', 'VK_DISTANZ', 'VK_ZG11']\n",
      "\n",
      "Columns with int dtype: ['D19_KONSUMTYP_MAX', 'KOMBIALTER']\n",
      "\n",
      "Columns with object dtype: ['EINGEFUEGT_AM']\n"
     ]
    }
   ],
   "source": [
    "# Find col_names for each dtype in 42 features not in feat_info\n",
    "int_col_name_42 = []\n",
    "float_col_name_42 = []\n",
    "object_col_name_42 = []\n",
    "\n",
    "for col in attr_not_in_feat_info:\n",
    "        data_type = azdias[col].dtype\n",
    "        if data_type.name == 'float64':\n",
    "            float_col_name_42.append(col) \n",
    "        elif data_type.name == 'int64':\n",
    "            int_col_name_42.append(col)\n",
    "        elif data_type == 'O':\n",
    "            object_col_name_42.append(col)\n",
    "            \n",
    "print(\"Columns with float dtype: {}\\n\".format(float_col_name_42))\n",
    "print(\"Columns with int dtype: {}\\n\".format(int_col_name_42))\n",
    "print(\"Columns with object dtype: {}\".format(object_col_name_42))"
   ]
  },
  {
   "cell_type": "code",
   "execution_count": 82,
   "metadata": {},
   "outputs": [
    {
     "data": {
      "text/plain": [
       "42"
      ]
     },
     "execution_count": 82,
     "metadata": {},
     "output_type": "execute_result"
    }
   ],
   "source": [
    "len(attr_not_in_feat_info.tolist())"
   ]
  },
  {
   "cell_type": "code",
   "execution_count": 83,
   "metadata": {},
   "outputs": [],
   "source": [
    "\n",
    "# Dropping 42 features which didn't had any description in feat_info\n",
    "azdias.drop(attr_not_in_feat_info.tolist(), axis=1, inplace=True)"
   ]
  },
  {
   "cell_type": "code",
   "execution_count": 84,
   "metadata": {},
   "outputs": [
    {
     "data": {
      "text/plain": [
       "(729086, 302)"
      ]
     },
     "execution_count": 84,
     "metadata": {},
     "output_type": "execute_result"
    }
   ],
   "source": [
    "azdias.shape"
   ]
  },
  {
   "cell_type": "code",
   "execution_count": 85,
   "metadata": {},
   "outputs": [
    {
     "name": "stdout",
     "output_type": "stream",
     "text": [
      "0\n"
     ]
    }
   ],
   "source": [
    "\n",
    "# Find number of attributes which are in azdias but not in feat_info\n",
    "attr_not_in_feat_info = np.setdiff1d(np.array(azdias.columns), np.array(feat_info.index), assume_unique=True)\n",
    "print(len(attr_not_in_feat_info))"
   ]
  },
  {
   "cell_type": "markdown",
   "metadata": {},
   "source": [
    "Checking for columns which didn't had description in feature summary file<br>\n",
    "In real world scenario, we would have kept these columns for the analysis. This is a large dataset which would really require huge computing time and memory. Also, these features might have Nan values encoded as other values just like other features for which we have exact decription in feature summary file. We don't have what values are encoded as Nan value, so keeping those features could lead to incorrect analysis. Its better to keep features which are correctly coded for Nan values to provide better result rather than going with features which might have Nan values encoded as some other values which we are unaware about and this could lead to incorrect analysis. Since, few of the information is already present in other features and to avoid unreliability of our analysis, we had dropped them to save computing time, memory and make our analysis to be more realiable. Therefore, moving forward by dropping these 42 features. <br>\n",
    "\n",
    "After dropping these 42 columns, we have now 302 columns in azdias dataframe and for each column we have description and details in feature summary file. Therefore, moving forward with 302 columns and each observation in the dataframe have missing values ranging from 0 to 8. <br>"
   ]
  },
  {
   "cell_type": "markdown",
   "metadata": {},
   "source": [
    "Take a sample representative of a large dataset"
   ]
  },
  {
   "cell_type": "code",
   "execution_count": 86,
   "metadata": {},
   "outputs": [
    {
     "data": {
      "text/plain": [
       "(729086, 302)"
      ]
     },
     "execution_count": 86,
     "metadata": {},
     "output_type": "execute_result"
    }
   ],
   "source": [
    "# Shape of azdias\n",
    "azdias.shape"
   ]
  },
  {
   "cell_type": "code",
   "execution_count": 87,
   "metadata": {},
   "outputs": [],
   "source": [
    "# How much data is missing in each row of the dataset(with row having 8 or less than 8 missing values)\n",
    "azdias_null_data_row_8 = azdias.isnull().sum(axis=1)"
   ]
  },
  {
   "cell_type": "code",
   "execution_count": 88,
   "metadata": {},
   "outputs": [
    {
     "data": {
      "text/plain": [
       "(729086,)"
      ]
     },
     "execution_count": 88,
     "metadata": {},
     "output_type": "execute_result"
    }
   ],
   "source": [
    "azdias_null_data_row_8.shape"
   ]
  },
  {
   "cell_type": "code",
   "execution_count": 89,
   "metadata": {},
   "outputs": [
    {
     "name": "stdout",
     "output_type": "stream",
     "text": [
      "0    612220\n",
      "1     15104\n",
      "2     27459\n",
      "3     17035\n",
      "4     12393\n",
      "5     21754\n",
      "6      3237\n",
      "7     12056\n",
      "8      7828\n",
      "dtype: int64 \n",
      "\n",
      "0    83.970890\n",
      "1     2.071635\n",
      "2     3.766222\n",
      "3     2.336487\n",
      "4     1.699799\n",
      "5     2.983736\n",
      "6     0.443981\n",
      "7     1.653577\n",
      "8     1.073673\n",
      "dtype: float64\n"
     ]
    }
   ],
   "source": [
    "# Count & Percentage of rows with specific missing values i.e. from zero missing value to 8 missing values\n",
    "# in azdias(with 8 or less than 8 missing values) \n",
    "print(azdias_null_data_row_8.value_counts().sort_index(),'\\n')\n",
    "print((azdias_null_data_row_8.value_counts().sort_index()/azdias_null_data_row_8.shape[0])*100)"
   ]
  },
  {
   "cell_type": "code",
   "execution_count": 90,
   "metadata": {},
   "outputs": [],
   "source": [
    "# Random Sampling function\n",
    "def rand_sampling(df, frac):\n",
    "    '''\n",
    "    INPUT:\n",
    "        df - dataframe, from which sample has to be dervied\\\n",
    "        frac - float, proportion of number of observations in df to be dervied in sample\n",
    "    OUTPUT:\n",
    "        sample_df: dataframe, dataframe sampled from df\n",
    "        \n",
    "    '''\n",
    "    sample_df = df.sample(frac=frac, random_state=42)\n",
    "        \n",
    "    return sample_df"
   ]
  },
  {
   "cell_type": "code",
   "execution_count": 91,
   "metadata": {},
   "outputs": [],
   "source": [
    "# Use function rand_sampling to create list of sample dataframe's for each specific missing values rows\n",
    "# Taking 20% stratified random sample from azdias\n",
    "sample_df_list = [rand_sampling(df=azdias[azdias_null_data_row_8 == missing_val],frac=0.20) for missing_val in range(0,9)]\n"
   ]
  },
  {
   "cell_type": "code",
   "execution_count": 92,
   "metadata": {},
   "outputs": [],
   "source": [
    "# Create azdias_sample(sample dataset) from azdias\n",
    "azdias_sample = pd.concat(sample_df_list)"
   ]
  },
  {
   "cell_type": "code",
   "execution_count": 93,
   "metadata": {},
   "outputs": [
    {
     "data": {
      "text/plain": [
       "(145818, 302)"
      ]
     },
     "execution_count": 93,
     "metadata": {},
     "output_type": "execute_result"
    }
   ],
   "source": [
    "# Shape of azdias_sample\n",
    "azdias_sample.shape"
   ]
  },
  {
   "cell_type": "code",
   "execution_count": 94,
   "metadata": {},
   "outputs": [],
   "source": [
    "# How much data is missing in each row of the (azdias_sample)sample dataset\n",
    "azdias_sample_null_data_row = azdias_sample.isnull().sum(axis=1)"
   ]
  },
  {
   "cell_type": "code",
   "execution_count": 95,
   "metadata": {},
   "outputs": [
    {
     "data": {
      "text/plain": [
       "(145818,)"
      ]
     },
     "execution_count": 95,
     "metadata": {},
     "output_type": "execute_result"
    }
   ],
   "source": [
    "azdias_sample_null_data_row.shape"
   ]
  },
  {
   "cell_type": "code",
   "execution_count": 96,
   "metadata": {},
   "outputs": [
    {
     "name": "stdout",
     "output_type": "stream",
     "text": [
      "0    122444\n",
      "1      3021\n",
      "2      5492\n",
      "3      3407\n",
      "4      2479\n",
      "5      4351\n",
      "6       647\n",
      "7      2411\n",
      "8      1566\n",
      "dtype: int64 \n",
      "\n",
      "0    83.970429\n",
      "1     2.071761\n",
      "2     3.766339\n",
      "3     2.336474\n",
      "4     1.700064\n",
      "5     2.983857\n",
      "6     0.443704\n",
      "7     1.653431\n",
      "8     1.073941\n",
      "dtype: float64\n"
     ]
    }
   ],
   "source": [
    "# Count & Percentage of rows with specific missing values i.e. from zero missing value to 8 missing values\n",
    "# in azdias_sample \n",
    "print(azdias_sample_null_data_row.value_counts().sort_index(),'\\n')\n",
    "print((azdias_sample_null_data_row.value_counts().sort_index()/azdias_sample_null_data_row.shape[0])*100)"
   ]
  },
  {
   "cell_type": "markdown",
   "metadata": {},
   "source": [
    "\n",
    "From above we can observe that azdias_sample and azdias(having only 8 or less than 8 missing values) have the same proportion of rows with specific missing values i.e from zero missing values to 8 missing values. we had taken 20% of the azdias(having only 8 or less than 8 missing values) observations in the sample azdias_sample."
   ]
  },
  {
   "cell_type": "code",
   "execution_count": 97,
   "metadata": {},
   "outputs": [
    {
     "name": "stdout",
     "output_type": "stream",
     "text": [
      "Number of columns in azdias: 302\n",
      "Number of columns in azdias_sample: 302\n"
     ]
    }
   ],
   "source": [
    "# Checking number of columns in azdias and azdias_sample\n",
    "print(\"Number of columns in azdias: {}\".format(azdias.shape[1]))\n",
    "print(\"Number of columns in azdias_sample: {}\".format(azdias_sample.shape[1]))"
   ]
  },
  {
   "cell_type": "code",
   "execution_count": 98,
   "metadata": {},
   "outputs": [
    {
     "data": {
      "text/plain": [
       "302"
      ]
     },
     "execution_count": 98,
     "metadata": {},
     "output_type": "execute_result"
    }
   ],
   "source": [
    "# Checking if all the columns in azdias and azdias_sample are same\n",
    "len(set(azdias.columns).intersection(set(azdias_sample.columns)))"
   ]
  },
  {
   "cell_type": "markdown",
   "metadata": {},
   "source": [
    " Take a sample representative of a large dataset <br>\n",
    "Since azdias(having only 8 or less than 8 missing values) is a large dataset and it would take a lot of computing time and memory while computing Principal Components using PCA and then using Clustering algorithms. Therefore, in order to reduce computing time and avoid memory error further down in our analysis, we could make use of random sample which is representative of the large dataset. So, in order to take a sample which is representative of the large dataset, we have used the stratified random sampling process to have the same proportion of observations with specific missing values as was in the larger dataset. From above we can observe that azdias_sample and azdias(having only 8 or less than 8 missing values) have the same proportion of rows with specific missing values i.e from zero missing values to 8 missing values. we had taken 20% of the azdias(having only 8 or less than 8 missing values) observations in the sample datset i.e. azdias_sample. With  random sampling, we were able to have 20% of observations in each of the sub-groups i.e. sub-group with zero missing value to 8 missing values. Therefore, azdias_sample is the sample representative of the azdias(having only 8 or less than 8 missing values) with the same columns as in azdias and we can proceed further with our analysis by using azdias_sample which is smaller in size which would reduce computing time and avoid memory error. Therefore, moving forward with azdias_sample having 145818 rows and 302 columns."
   ]
  },
  {
   "cell_type": "markdown",
   "metadata": {},
   "source": [
    "# Step 1.2: Select and Re-Encode Features"
   ]
  },
  {
   "cell_type": "markdown",
   "metadata": {},
   "source": [
    "Checking for missing data isn't the only way in which you can prepare a dataset for analysis. Since the unsupervised learning techniques to be used will only work on data that is encoded numerically, you need to make a few encoding changes or additional assumptions to be able to make progress. In addition, while almost all of the values in the dataset are encoded using numbers, not all of them represent numeric values. Check the third column of the feature summary (feat_info) for a summary of types of measurement.\n",
    "\n",
    "For numeric and interval data, these features can be kept without changes.\n",
    "Most of the variables in the dataset are ordinal in nature. While ordinal values may technically be non-linear in spacing, make the simplifying assumption that the ordinal variables can be treated as being interval in nature (that is, kept without any changes).\n",
    "Special handling may be necessary for the remaining two variable types: categorical, and 'mixed'.\n",
    "In the first two parts of this sub-step, you will perform an investigation of the categorical and mixed-type features and make a decision on each of them, whether you will keep, drop, or re-encode each. Then, in the last part, you will create a new data frame with only the selected and engineered columns.\n",
    "\n",
    "Data wrangling is often the trickiest part of the data analysis process, and there's a lot of it to be done here. But stick with it: once you're done with this step, you'll be ready to get to the machine learning parts of the project!"
   ]
  },
  {
   "cell_type": "code",
   "execution_count": 99,
   "metadata": {},
   "outputs": [
    {
     "name": "stdout",
     "output_type": "stream",
     "text": [
      "Nunber of features of each data type are : {'numeric': 6, 'ordinal': 253, 'categorical': 37, 'mixed': 6}\n"
     ]
    }
   ],
   "source": [
    "# How many features are there of each data type in azdias_sample?\n",
    "d={}\n",
    "for col in azdias_sample.columns:\n",
    "    if col in feat_info.index:\n",
    "        data_type = feat_info.loc[col].type\n",
    "        if data_type not in d:\n",
    "            d[data_type] = 1\n",
    "        else:\n",
    "            d[data_type] += 1\n",
    "    \n",
    "print('Nunber of features of each data type are : {}'.format(d))"
   ]
  },
  {
   "cell_type": "markdown",
   "metadata": {},
   "source": [
    " Re-Encode Categorical Features <br>\n",
    " For categorical data, you would ordinarily need to encode the levels as dummy variables. Depending on the number of categories, perform one of the following: •For binary (two-level) categoricals that take numeric values, you can keep them without needing to do anything. •There is one binary variable that takes on non-numeric values. For this one, you need to re-encode the values as numbers or create a dummy variable. •For multi-level categoricals (three or more values), you can choose to encode the values using multiple dummy variables (e.g. via OneHotEncoder), or (to keep things straightforward) just drop them from the analysis. As always, document your choices in the Discussion section."
   ]
  },
  {
   "cell_type": "code",
   "execution_count": 100,
   "metadata": {},
   "outputs": [
    {
     "name": "stdout",
     "output_type": "stream",
     "text": [
      "CAMEO_DEU_2015 44 object\n",
      "CAMEO_DEUG_2015 9 object\n",
      "CJT_GESAMTTYP 6 float64\n",
      "D19_BANKEN_ANZ_12 7 int64\n",
      "D19_BANKEN_ANZ_24 7 int64\n",
      "D19_BANKEN_DATUM 10 int64\n",
      "D19_BANKEN_OFFLINE_DATUM 10 int64\n",
      "D19_BANKEN_ONLINE_DATUM 10 int64\n",
      "D19_GESAMT_ANZ_12 7 int64\n",
      "D19_GESAMT_ANZ_24 7 int64\n",
      "D19_GESAMT_DATUM 10 int64\n",
      "D19_GESAMT_OFFLINE_DATUM 10 int64\n",
      "D19_GESAMT_ONLINE_DATUM 10 int64\n",
      "D19_TELKO_DATUM 10 int64\n",
      "D19_TELKO_OFFLINE_DATUM 10 int64\n",
      "D19_TELKO_ONLINE_DATUM 10 int64\n",
      "D19_VERSAND_DATUM 10 int64\n",
      "D19_VERSAND_OFFLINE_DATUM 10 int64\n",
      "D19_VERSAND_ONLINE_DATUM 10 int64\n",
      "D19_VERSI_DATUM 10 int64\n",
      "D19_VERSI_OFFLINE_DATUM 10 int64\n",
      "D19_VERSI_ONLINE_DATUM 10 int64\n",
      "FINANZTYP 6 int64\n",
      "GEBAEUDETYP 6 float64\n",
      "GFK_URLAUBERTYP 12 float64\n",
      "GREEN_AVANTGARDE 2 int64\n",
      "LP_FAMILIE_FEIN 11 float64\n",
      "LP_FAMILIE_GROB 5 float64\n",
      "LP_STATUS_FEIN 10 float64\n",
      "LP_STATUS_GROB 5 float64\n",
      "NATIONALITAET_KZ 3 float64\n",
      "OST_WEST_KZ 2 object\n",
      "SHOPPER_TYP 4 float64\n",
      "SOHO_KZ 2 float64\n",
      "VERS_TYP 2 float64\n",
      "ZABEOTYP 6 int64\n",
      "ANREDE_KZ 2 int64\n",
      "\n",
      "Binary categorical variables are : ['GREEN_AVANTGARDE', 'OST_WEST_KZ', 'SOHO_KZ', 'VERS_TYP', 'ANREDE_KZ']\n",
      "\n",
      "Multi-level categorical variables are : ['CAMEO_DEU_2015', 'CAMEO_DEUG_2015', 'CJT_GESAMTTYP', 'D19_BANKEN_ANZ_12', 'D19_BANKEN_ANZ_24', 'D19_BANKEN_DATUM', 'D19_BANKEN_OFFLINE_DATUM', 'D19_BANKEN_ONLINE_DATUM', 'D19_GESAMT_ANZ_12', 'D19_GESAMT_ANZ_24', 'D19_GESAMT_DATUM', 'D19_GESAMT_OFFLINE_DATUM', 'D19_GESAMT_ONLINE_DATUM', 'D19_TELKO_DATUM', 'D19_TELKO_OFFLINE_DATUM', 'D19_TELKO_ONLINE_DATUM', 'D19_VERSAND_DATUM', 'D19_VERSAND_OFFLINE_DATUM', 'D19_VERSAND_ONLINE_DATUM', 'D19_VERSI_DATUM', 'D19_VERSI_OFFLINE_DATUM', 'D19_VERSI_ONLINE_DATUM', 'FINANZTYP', 'GEBAEUDETYP', 'GFK_URLAUBERTYP', 'LP_FAMILIE_FEIN', 'LP_FAMILIE_GROB', 'LP_STATUS_FEIN', 'LP_STATUS_GROB', 'NATIONALITAET_KZ', 'SHOPPER_TYP', 'ZABEOTYP']\n"
     ]
    }
   ],
   "source": [
    "\n",
    "bin_cat = []\n",
    "multi_cat = []\n",
    "for col in azdias_sample.columns:\n",
    "    if col in feat_info.index:\n",
    "        if feat_info.loc[col].type == 'categorical':\n",
    "            if len(azdias_sample[col].value_counts()) == 2:\n",
    "                bin_cat.append(col)\n",
    "            else:\n",
    "                multi_cat.append(col)\n",
    "            print(col, len(azdias_sample[col].value_counts()), azdias[col].dtype)\n",
    "print('\\nBinary categorical variables are : {}'.format(bin_cat))\n",
    "print('\\nMulti-level categorical variables are : {}'.format(multi_cat))"
   ]
  },
  {
   "cell_type": "code",
   "execution_count": 101,
   "metadata": {},
   "outputs": [
    {
     "name": "stdout",
     "output_type": "stream",
     "text": [
      "\n",
      "Mixed type variables are : ['CAMEO_INTL_2015', 'LP_LEBENSPHASE_FEIN', 'LP_LEBENSPHASE_GROB', 'PLZ8_BAUMAX', 'PRAEGENDE_JUGENDJAHRE', 'WOHNLAGE']\n"
     ]
    }
   ],
   "source": [
    "# Find the column names for mixed type columns\n",
    "mixed_features = []\n",
    "for col in azdias_sample.columns:\n",
    "    if col in feat_info.index:\n",
    "        if feat_info.loc[col].type == 'mixed':\n",
    "            mixed_features.append(col)\n",
    "        \n",
    "print('\\nMixed type variables are : {}'.format(mixed_features))"
   ]
  },
  {
   "cell_type": "code",
   "execution_count": 102,
   "metadata": {},
   "outputs": [
    {
     "name": "stdout",
     "output_type": "stream",
     "text": [
      "0    113254\n",
      "1     32564\n",
      "Name: GREEN_AVANTGARDE, dtype: int64\n",
      "W    115086\n",
      "O     30732\n",
      "Name: OST_WEST_KZ, dtype: int64\n",
      "0.0    144585\n",
      "1.0      1233\n",
      "Name: SOHO_KZ, dtype: int64\n",
      "2.0    73358\n",
      "1.0    66200\n",
      "Name: VERS_TYP, dtype: int64\n",
      "2    75988\n",
      "1    69830\n",
      "Name: ANREDE_KZ, dtype: int64\n"
     ]
    }
   ],
   "source": [
    "# Printing out binary categorical values\n",
    "for col in bin_cat:\n",
    "    print(azdias_sample[col].value_counts())"
   ]
  },
  {
   "cell_type": "code",
   "execution_count": 103,
   "metadata": {},
   "outputs": [],
   "source": [
    "# Re-encode categorical variable(s) to be kept in the analysis.\n",
    "\n",
    "# Change 'OST_WEST_KZ' into numerical values\n",
    "azdias_sample['OST_WEST_KZ'].replace(['W','O'], [1, 0], inplace=True)"
   ]
  },
  {
   "cell_type": "code",
   "execution_count": 104,
   "metadata": {},
   "outputs": [
    {
     "data": {
      "text/plain": [
       "1    115086\n",
       "0     30732\n",
       "Name: OST_WEST_KZ, dtype: int64"
      ]
     },
     "execution_count": 104,
     "metadata": {},
     "output_type": "execute_result"
    }
   ],
   "source": [
    "azdias_sample['OST_WEST_KZ'].value_counts()"
   ]
  },
  {
   "cell_type": "code",
   "execution_count": 105,
   "metadata": {},
   "outputs": [
    {
     "name": "stdout",
     "output_type": "stream",
     "text": [
      "0    113254\n",
      "1     32564\n",
      "Name: GREEN_AVANTGARDE, dtype: int64\n",
      "1    115086\n",
      "0     30732\n",
      "Name: OST_WEST_KZ, dtype: int64\n",
      "0.0    144585\n",
      "1.0      1233\n",
      "Name: SOHO_KZ, dtype: int64\n",
      "2.0    73358\n",
      "1.0    66200\n",
      "Name: VERS_TYP, dtype: int64\n",
      "2    75988\n",
      "1    69830\n",
      "Name: ANREDE_KZ, dtype: int64\n"
     ]
    }
   ],
   "source": [
    "# Printing out binary categorical values after feature 'OST_WEST_KZ' has been re-encoded to numerical values\n",
    "for col in bin_cat:\n",
    "    print(azdias_sample[col].value_counts())"
   ]
  },
  {
   "cell_type": "code",
   "execution_count": 106,
   "metadata": {},
   "outputs": [],
   "source": [
    "# OneHotEncoding multi-level categoricals (three or more values), using multiple dummy variables via OneHotEncoder.\n",
    "azdias_sample = pd.get_dummies(azdias_sample, columns=multi_cat, prefix=multi_cat)"
   ]
  },
  {
   "cell_type": "code",
   "execution_count": 107,
   "metadata": {},
   "outputs": [
    {
     "data": {
      "text/plain": [
       "(145818, 575)"
      ]
     },
     "execution_count": 107,
     "metadata": {},
     "output_type": "execute_result"
    }
   ],
   "source": [
    "# Shape of azdias_sample dataset after oneHotEncoding multi-level categorical variables.\n",
    "azdias_sample.shape"
   ]
  },
  {
   "cell_type": "markdown",
   "metadata": {},
   "source": [
    "Re-Encode Categorical Features <br>\n",
    "37 Categorical features or columns were categorized between binary variables having 2 values and multiple variables having 3 or more values. There were 5 binary features, out of which 'ANREDE_KZ', 'GREEN_AVANTGARDE', 'SOHO_KZ', 'VERS_TYP' took numeric values, so we didn't did anything with them. One feature 'OST_WEST_KZ' took non-numeric values, therefore, we re-encoded the values as numbers. \n",
    " <br>\n",
    "Rest of the 32 multi-level categorial features were OneHotEncoded to have multiple dummy variables. After OneHotEncoding, the total number of features of azdias_sample dataset were 575.  <br>"
   ]
  },
  {
   "cell_type": "markdown",
   "metadata": {},
   "source": [
    "Engineer Mixed-Type Features <br>\n",
    "There are a handful of features that are marked as \"mixed\" in the feature summary that require special treatment in order to be included in the analysis. There are two in particular that deserve attention; the handling of the rest are up to your own choices: <br>\n",
    "\n",
    "\"PRAEGENDE_JUGENDJAHRE\" combines information on three dimensions: generation by decade, movement (mainstream vs. avantgarde), and nation (east vs. west). While there aren't enough levels to disentangle east from west, you should create two new variables to capture the other two dimensions: an interval-type variable for decade, and a binary variable for movement.\n",
    "\"CAMEO_INTL_2015\" combines information on two axes: wealth and life stage. Break up the two-digit codes by their 'tens'-place and 'ones'-place digits into two new ordinal variables (which, for the purposes of this project, is equivalent to just treating them as their raw numeric values). <br>\n",
    "If you decide to keep or engineer new features around the other mixed-type features, make sure you note your steps in the Discussion section. <br>"
   ]
  },
  {
   "cell_type": "code",
   "execution_count": 108,
   "metadata": {},
   "outputs": [],
   "source": [
    "# Creating decade_dict and decade_list to be used in make_decade function.\n",
    "decade_dict = {1: [1, 2], 2: [3, 4], 3: [5, 6, 7], 4: [8, 9], 5: [10, 11, 12, 13], 6:[14, 15]}\n",
    "#decade_dict.items()\n",
    "decade_dict.values()\n",
    "decade_list = []\n",
    "for dd in decade_dict.values():\n",
    "    for i in dd:\n",
    "        decade_list.append(i)"
   ]
  },
  {
   "cell_type": "code",
   "execution_count": 109,
   "metadata": {},
   "outputs": [],
   "source": [
    "# Investigate \"PRAEGENDE_JUGENDJAHRE\" and engineer two new variables.\n",
    "def make_decade(x):\n",
    "    \n",
    "    if pd.isnull(x):\n",
    "        return np.nan\n",
    "    else:\n",
    "        for key, array in decade_dict.items():\n",
    "            if x in array:\n",
    "                return key\n",
    "            elif x not in decade_list:\n",
    "                print('There is some error while mapping decade. Please check.')\n",
    "\n",
    "    \n",
    "def make_movement(x):\n",
    "    if pd.isnull(x):\n",
    "        return np.nan\n",
    "    elif x in (2,4,6,7,9,11,13,15):\n",
    "        return 0        \n",
    "    elif x in (1,3,5,8,10,12,14):\n",
    "        return 1\n",
    "    else:\n",
    "        print('There is some error while mapping movement. Please check.')"
   ]
  },
  {
   "cell_type": "code",
   "execution_count": 110,
   "metadata": {},
   "outputs": [
    {
     "data": {
      "text/plain": [
       "(145818, 575)"
      ]
     },
     "execution_count": 110,
     "metadata": {},
     "output_type": "execute_result"
    }
   ],
   "source": [
    "# Shape of azdias_sample\n",
    "azdias_sample.shape"
   ]
  },
  {
   "cell_type": "code",
   "execution_count": 111,
   "metadata": {},
   "outputs": [],
   "source": [
    "# Engineering two new variables from 'PRAEGENDE_JUGENDJAHRE'\n",
    "azdias_sample['PRAEGENDE_JUGENDJAHRE_decade'] = azdias_sample['PRAEGENDE_JUGENDJAHRE'].apply(make_decade)\n",
    "azdias_sample['PRAEGENDE_JUGENDJAHRE_movement'] = azdias_sample['PRAEGENDE_JUGENDJAHRE'].apply(make_movement)\n"
   ]
  },
  {
   "cell_type": "code",
   "execution_count": 112,
   "metadata": {},
   "outputs": [],
   "source": [
    "# Dropping column 'PRAEGENDE_JUGENDJAHRE' from azdias_sample\n",
    "azdias_sample.drop('PRAEGENDE_JUGENDJAHRE', axis=1, inplace=True)"
   ]
  },
  {
   "cell_type": "code",
   "execution_count": 113,
   "metadata": {},
   "outputs": [
    {
     "data": {
      "text/plain": [
       "(145818, 576)"
      ]
     },
     "execution_count": 113,
     "metadata": {},
     "output_type": "execute_result"
    }
   ],
   "source": [
    "# Shape of azdias_sample\n",
    "azdias_sample.shape"
   ]
  },
  {
   "cell_type": "code",
   "execution_count": 114,
   "metadata": {},
   "outputs": [],
   "source": [
    "# Investigate \"CAMEO_INTL_2015\" and engineer two new variables.\n",
    "\n",
    "def make_wealth(x):\n",
    "\n",
    "    if pd.isnull(x):\n",
    "        return np.nan \n",
    "    elif int(x) // 10 == 1:\n",
    "        return 1\n",
    "    elif int(x) // 10 == 2:\n",
    "        return 2\n",
    "    elif int(x) // 10 == 3:\n",
    "        return 3\n",
    "    elif int(x) // 10 == 4:\n",
    "        return 4\n",
    "    elif int(x) // 10 == 5:\n",
    "        return 5\n",
    "    \n",
    "def make_life_stage(x):\n",
    "    if pd.isnull(x):\n",
    "        return np.nan \n",
    "    elif int(x) % 10 == 1:\n",
    "        return 1\n",
    "    elif int(x) % 10 == 2:\n",
    "        return 2\n",
    "    elif int(x) % 10 == 3:\n",
    "        return 3\n",
    "    elif int(x) % 10 == 4:\n",
    "        return 4\n",
    "    elif int(x) % 10 == 5:\n",
    "        return 5"
   ]
  },
  {
   "cell_type": "code",
   "execution_count": 115,
   "metadata": {},
   "outputs": [],
   "source": [
    "# Engineering two new variables from 'CAMEO_INTL_2015'\n",
    "azdias_sample['CAMEO_INTL_2015_wealth'] = azdias_sample['CAMEO_INTL_2015'].apply(make_wealth)\n",
    "azdias_sample['CAMEO_INTL_2015_life_stage'] = azdias_sample['CAMEO_INTL_2015'].apply(make_life_stage)"
   ]
  },
  {
   "cell_type": "code",
   "execution_count": 116,
   "metadata": {},
   "outputs": [],
   "source": [
    "# Dropping column 'CAMEO_INTL_2015' from azdias_sample\n",
    "azdias_sample.drop('CAMEO_INTL_2015', axis=1, inplace=True)"
   ]
  },
  {
   "cell_type": "code",
   "execution_count": 117,
   "metadata": {},
   "outputs": [
    {
     "data": {
      "text/plain": [
       "(145818, 577)"
      ]
     },
     "execution_count": 117,
     "metadata": {},
     "output_type": "execute_result"
    }
   ],
   "source": [
    "\n",
    "# Shape of azdias_sample\n",
    "azdias_sample.shape"
   ]
  },
  {
   "cell_type": "code",
   "execution_count": 118,
   "metadata": {},
   "outputs": [
    {
     "data": {
      "text/plain": [
       "0.0        9\n",
       "1.0     8271\n",
       "2.0    18634\n",
       "3.0    46654\n",
       "4.0    25240\n",
       "5.0    13344\n",
       "7.0    31892\n",
       "8.0     1774\n",
       "Name: WOHNLAGE, dtype: int64"
      ]
     },
     "execution_count": 118,
     "metadata": {},
     "output_type": "execute_result"
    }
   ],
   "source": [
    "# Investigate 'WOHNLAGE' and engineer two new variables.\n",
    "azdias_sample['WOHNLAGE'].value_counts().sort_index()"
   ]
  },
  {
   "cell_type": "code",
   "execution_count": 119,
   "metadata": {},
   "outputs": [],
   "source": [
    "# Engineer a feature based on rural or not.\n",
    "azdias_sample['WOHNLAGE_rural'] = azdias_sample['WOHNLAGE'].map({0:0,1:0,2:0,3:0,4:0,5:0,7:1,8:1})"
   ]
  },
  {
   "cell_type": "code",
   "execution_count": 120,
   "metadata": {},
   "outputs": [],
   "source": [
    "# Engineer a feature based on quality of neighborhood.\n",
    "azdias_sample['WOHNLAGE_rating_class'] = azdias_sample['WOHNLAGE'].map({0:0,1:1,2:2,3:3,4:4,5:5,7:0,8:0})"
   ]
  },
  {
   "cell_type": "code",
   "execution_count": 121,
   "metadata": {},
   "outputs": [],
   "source": [
    "# Drop mixed features not required\n",
    "azdias_sample = azdias_sample.drop(['LP_LEBENSPHASE_FEIN','LP_LEBENSPHASE_GROB','WOHNLAGE','PLZ8_BAUMAX'], axis=1)"
   ]
  },
  {
   "cell_type": "code",
   "execution_count": 122,
   "metadata": {},
   "outputs": [
    {
     "data": {
      "text/plain": [
       "(145818, 575)"
      ]
     },
     "execution_count": 122,
     "metadata": {},
     "output_type": "execute_result"
    }
   ],
   "source": [
    "# Shape of azdias_sample\n",
    "azdias_sample.shape"
   ]
  },
  {
   "cell_type": "markdown",
   "metadata": {},
   "source": [
    " Engineer Mixed-Type Features <br>\n",
    "The 2 mixed variables 'PRAEGENDE_JUGENDJAHRE' and 'CAMEO_INTL_2015' were re-engineered into 4 new features as required at the start of this section namely into 'PRAEGENDE_JUGENDJAHRE_decade', 'PRAEGENDE_JUGENDJAHRE_movement', 'CAMEO_INTL_2015_wealth' and 'CAMEO_INTL_2015_life_stage'. The two original columns were then dropped. <br>\n",
    "\n",
    "For feature 'WOHNLAGE', which represents the quality of the neighborhood, could impact customer segments and this information wasn't available in other features. Feature \"WOHNLAGE\" was re-engineered into 2 features, the first 'WOHNLAGE_rural', a binary categorical feature, whether the neighbourhood was rural or not, and the second into feature 'WOHNLAGE_rating_class' for the neighborhood. For rural neighborhoods I classed them as no score calculated.<br>\n",
    "\n",
    "For other mixed-type features ('LP_LEBENSPHASE_FEIN','LP_LEBENSPHASE_GROB') were dropped on the basis that the information in these features were already included in other features in the dataset, 1.2 \"ALTERSKATEGORIE_GROB\", 1.13 \"LP_FAMILIE_FEIN\" and 1.15 \"LP_STATUS_FEIN\" and it wasn't necessary to re-engineer and keep them in the dataset.<br>\n",
    "\n",
    "For \"PLZ8_BAUMAX\", again this feature was a summary of other features in the RR3 micro-cell category and was deemed unnecessary to re-engineer and keep it in the dataset.<br>"
   ]
  },
  {
   "cell_type": "markdown",
   "metadata": {},
   "source": [
    " Complete Feature Selection<br>\n",
    "In order to finish this step up, you need to make sure that your data frame now only has the columns that you want to keep. To summarize, the dataframe should consist of the following:\n",
    "\n",
    "All numeric, interval, and ordinal type columns from the original dataset.\n",
    "Binary categorical features (all numerically-encoded).\n",
    "Engineered features from other multi-level categorical features and mixed features.\n",
    "Make sure that for any new columns that you have engineered, that you've excluded the original columns from the final dataset. Otherwise, their values will interfere with the analysis later on the project. For example, you should not keep \"PRAEGENDE_JUGENDJAHRE\", since its values won't be useful for the algorithm: only the values derived from it in the engineered features you created should be retained. As a reminder, your data should only be from the subset with few or no missing values."
   ]
  },
  {
   "cell_type": "code",
   "execution_count": 123,
   "metadata": {},
   "outputs": [
    {
     "name": "stdout",
     "output_type": "stream",
     "text": [
      "azdias_sample dataset contain values with type : [dtype('uint8') dtype('int64') dtype('float64')]\n"
     ]
    }
   ],
   "source": [
    "print('azdias_sample dataset contain values with type : {}'.format(np.unique(azdias_sample.dtypes.values)))"
   ]
  },
  {
   "cell_type": "code",
   "execution_count": 124,
   "metadata": {},
   "outputs": [],
   "source": [
    "# Define function to find dtype of features in a dataset along with number of coulmns assigned to each dtype\n",
    "def find_feat_dtype(df):\n",
    "    \"\"\"\n",
    "    Find dtype of each feature in a dataframe along with number of coulmns assigned to each dtype\n",
    "    \n",
    "    INPUT:\n",
    "        df - (dataframe), check for dtype pf features in this datafram            \n",
    "    OUTPUT:\n",
    "        d - (dict), dict containing dtypes along with number of features assigned to that dtype\n",
    "    \"\"\"\n",
    "    \n",
    "    d={}\n",
    "    for val in df.dtypes.values:\n",
    "        if val not in d:\n",
    "            d[val] = 1\n",
    "        else:\n",
    "            d[val] += 1\n",
    "            \n",
    "    return d"
   ]
  },
  {
   "cell_type": "code",
   "execution_count": 125,
   "metadata": {},
   "outputs": [
    {
     "name": "stdout",
     "output_type": "stream",
     "text": [
      "Nunber of features of each data type are : {dtype('float64'): 206, dtype('int64'): 64, dtype('uint8'): 305}\n"
     ]
    }
   ],
   "source": [
    "# Find dtype of each feature in a dataframe along with number of coulmns assigned to each dtype\n",
    "print('Nunber of features of each data type are : {}'.format(find_feat_dtype(azdias_sample)))"
   ]
  },
  {
   "cell_type": "markdown",
   "metadata": {},
   "source": [
    " Create a Cleaning Function <br>\n",
    "Even though you've finished cleaning up the general population demographics data, it's important to look ahead to the future and realize that you'll need to perform the same cleaning steps on the customer demographics data. In this substep, complete the function below to execute the main feature selection, encoding, and re-engineering steps you performed above. Then, when it comes to looking at the customer data in Step 3, you can just run this function on that DataFrame to get the trimmed dataset in a single step"
   ]
  },
  {
   "cell_type": "code",
   "execution_count": 126,
   "metadata": {},
   "outputs": [],
   "source": [
    "def clean_data(df):\n",
    "    \"\"\"\n",
    "    Perform feature trimming, re-encoding, and engineering for demographics\n",
    "    data\n",
    "    \n",
    "    INPUT: Demographics DataFrame\n",
    "    OUTPUT: Trimmed and cleaned demographics DataFrame\n",
    "    \"\"\"\n",
    "    for idx in feat_info.index:\n",
    "        column = idx\n",
    "        if column in df.columns:\n",
    "            df[column] = df[column].replace(feat_info.loc[column]['nan_vals'], np.nan)\n",
    "\n",
    "      \n",
    "    # remove selected columns\n",
    "    df.drop(['AGER_TYP', 'ALTER_HH', 'ALTER_KIND1', 'ALTER_KIND2', 'ALTER_KIND3', 'ALTER_KIND4', 'ALTERSKATEGORIE_FEIN',\\\n",
    "             'D19_BANKEN_ONLINE_QUOTE_12', 'D19_GESAMT_ONLINE_QUOTE_12', 'D19_KONSUMTYP', 'D19_LETZTER_KAUF_BRANCHE',\\\n",
    "             'D19_LOTTO', 'D19_SOZIALES', 'D19_TELKO_ONLINE_QUOTE_12', 'D19_VERSAND_ONLINE_QUOTE_12',\\\n",
    "             'D19_VERSI_ONLINE_QUOTE_12', 'EXTSEL992','GEBURTSJAHR', 'KBA05_BAUMAX', 'KK_KUNDENTYP', 'TITEL_KZ', 'LNR'],\n",
    "            axis=1, inplace=True)\n",
    "    \n",
    "    \n",
    "    # remove selected rows\n",
    "    df = df[df.isnull().sum(axis=1) < 9].reset_index(drop=True)\n",
    "    \n",
    "    # remove selected columns again\n",
    "    features_not_in_feat_info_42 = ['AKT_DAT_KL', 'ANZ_KINDER', 'ANZ_STATISTISCHE_HAUSHALTE', 'CJT_KATALOGNUTZER','CJT_TYP_1',\\\n",
    "                                    'CJT_TYP_2', 'CJT_TYP_3', 'CJT_TYP_4', 'CJT_TYP_5', 'CJT_TYP_6', 'DSL_FLAG',\\\n",
    "                                    'EINGEZOGENAM_HH_JAHR','FIRMENDICHTE', 'GEMEINDETYP', 'HH_DELTA_FLAG', 'KBA13_ANTG1',\\\n",
    "                                    'KBA13_ANTG2', 'KBA13_ANTG3','KBA13_ANTG4', 'KBA13_BAUMAX', 'KBA13_CCM_1401_2500',\\\n",
    "                                    'KBA13_GBZ', 'KBA13_HHZ', 'KBA13_KMH_210','KONSUMZELLE', 'MOBI_RASTER', 'RT_KEIN_ANREIZ',\\\n",
    "                                    'RT_SCHNAEPPCHEN', 'RT_UEBERGROESSE', 'STRUKTURTYP','UMFELD_ALT', 'UMFELD_JUNG',\\\n",
    "                                    'UNGLEICHENN_FLAG', 'VERDICHTUNGSRAUM', 'VHA', 'VHN', 'VK_DHT4A','VK_DISTANZ',\\\n",
    "                                    'VK_ZG11','D19_KONSUMTYP_MAX', 'KOMBIALTER','EINGEFUEGT_AM']\n",
    "    \n",
    "    df.drop(features_not_in_feat_info_42,axis=1, inplace=True)\n",
    "\n",
    "    \n",
    "    # select, re-encode, and engineer column values.\n",
    "    # # feature engineering of categorical features\n",
    "\n",
    "    df['OST_WEST_KZ'].replace(['W','O'], [1, 0], inplace=True)\n",
    "    \n",
    "    multi = ['CAMEO_DEU_2015', 'CAMEO_DEUG_2015', 'CJT_GESAMTTYP', 'D19_BANKEN_ANZ_12', 'D19_BANKEN_ANZ_24',\\\n",
    "             'D19_BANKEN_DATUM','D19_BANKEN_OFFLINE_DATUM', 'D19_BANKEN_ONLINE_DATUM', 'D19_GESAMT_ANZ_12',\\\n",
    "             'D19_GESAMT_ANZ_24', 'D19_GESAMT_DATUM','D19_GESAMT_OFFLINE_DATUM', 'D19_GESAMT_ONLINE_DATUM',\\\n",
    "             'D19_TELKO_DATUM', 'D19_TELKO_OFFLINE_DATUM', 'D19_TELKO_ONLINE_DATUM','D19_VERSAND_DATUM',\\\n",
    "             'D19_VERSAND_OFFLINE_DATUM', 'D19_VERSAND_ONLINE_DATUM', 'D19_VERSI_DATUM', 'D19_VERSI_OFFLINE_DATUM',\\\n",
    "             'D19_VERSI_ONLINE_DATUM', 'FINANZTYP', 'GEBAEUDETYP', 'GFK_URLAUBERTYP','LP_FAMILIE_FEIN','LP_FAMILIE_GROB',\\\n",
    "             'LP_STATUS_FEIN', 'LP_STATUS_GROB', 'NATIONALITAET_KZ', 'SHOPPER_TYP', 'ZABEOTYP']\n",
    "        \n",
    "    df = pd.get_dummies(df, columns=multi, prefix=multi)\n",
    "    \n",
    "    \n",
    "     # feature engineering of mixed features\n",
    "    df['PRAEGENDE_JUGENDJAHRE_decade'] = df['PRAEGENDE_JUGENDJAHRE'].apply(make_decade)\n",
    "    df['PRAEGENDE_JUGENDJAHRE_movement'] = df['PRAEGENDE_JUGENDJAHRE'].apply(make_movement)\n",
    "    df.drop('PRAEGENDE_JUGENDJAHRE', axis=1, inplace=True)\n",
    "    \n",
    "    \n",
    "    df['CAMEO_INTL_2015_wealth'] = df['CAMEO_INTL_2015'].apply(make_wealth) \n",
    "    df['CAMEO_INTL_2015_life_stage'] = df['CAMEO_INTL_2015'].apply(make_life_stage)\n",
    "    df.drop('CAMEO_INTL_2015', axis=1, inplace=True)\n",
    "    \n",
    "    df['WOHNLAGE_rural'] = df['WOHNLAGE'].map({0:0,1:0,2:0,3:0,4:0,5:0,7:1,8:1})\n",
    "    df['WOHNLAGE_rating_class'] = df['WOHNLAGE'].map({0:0,1:1,2:2,3:3,4:4,5:5,7:0,8:0})\n",
    "    \n",
    "    df = df.drop(['LP_LEBENSPHASE_FEIN','LP_LEBENSPHASE_GROB','WOHNLAGE','PLZ8_BAUMAX'], axis=1)\n",
    "    \n",
    "    \n",
    "    # Return the cleaned dataframe.\n",
    "    return df"
   ]
  },
  {
   "cell_type": "markdown",
   "metadata": {},
   "source": [
    "\n",
    " Feature Transformation<br>\n",
    ": Apply Feature Scaling<br>\n",
    "Before we apply dimensionality reduction techniques to the data, we need to perform feature scaling so that the principal component vectors are not influenced by the natural differences in scale for features. Starting from this part of the project, you'll want to keep an eye on the API reference page for sklearn to help you navigate to all of the classes and functions that you'll need. In this substep, you'll need to check the following:\n",
    "\n",
    "sklearn requires that data not have missing values in order for its estimators to work properly. So, before applying the scaler to your data, make sure that you've cleaned the DataFrame of the remaining missing values. This can be as simple as just removing all data points with missing data, or applying an Imputer to replace all missing values. You might also try a more complicated procedure where you temporarily remove missing values in order to compute the scaling parameters before re-introducing those missing values and applying imputation. Think about how much missing data you have and what possible effects each approach might have on your analysis, and justify your decision in the discussion section below.\n",
    "For the actual scaling function, a StandardScaler instance is suggested, scaling each feature to mean 0 and standard deviation 1.\n",
    "For these classes, you can make use of the .fit_transform() method to both fit a procedure to the data as well as apply the transformation to the data at the same time. Don't forget to keep the fit sklearn objects handy, since you'll be applying them to the customer demographics data towards the end of the project."
   ]
  },
  {
   "cell_type": "code",
   "execution_count": 127,
   "metadata": {},
   "outputs": [
    {
     "name": "stdout",
     "output_type": "stream",
     "text": [
      "Type of azdias_sample_imputed is : <class 'numpy.ndarray'>\n",
      "Type of azdias_sample_imputed now is : <class 'pandas.core.frame.DataFrame'>\n"
     ]
    },
    {
     "data": {
      "text/html": [
       "<div>\n",
       "<style scoped>\n",
       "    .dataframe tbody tr th:only-of-type {\n",
       "        vertical-align: middle;\n",
       "    }\n",
       "\n",
       "    .dataframe tbody tr th {\n",
       "        vertical-align: top;\n",
       "    }\n",
       "\n",
       "    .dataframe thead th {\n",
       "        text-align: right;\n",
       "    }\n",
       "</style>\n",
       "<table border=\"1\" class=\"dataframe\">\n",
       "  <thead>\n",
       "    <tr style=\"text-align: right;\">\n",
       "      <th></th>\n",
       "      <th>0</th>\n",
       "      <th>1</th>\n",
       "      <th>2</th>\n",
       "      <th>3</th>\n",
       "      <th>4</th>\n",
       "      <th>5</th>\n",
       "      <th>6</th>\n",
       "      <th>7</th>\n",
       "      <th>8</th>\n",
       "      <th>9</th>\n",
       "      <th>...</th>\n",
       "      <th>565</th>\n",
       "      <th>566</th>\n",
       "      <th>567</th>\n",
       "      <th>568</th>\n",
       "      <th>569</th>\n",
       "      <th>570</th>\n",
       "      <th>571</th>\n",
       "      <th>572</th>\n",
       "      <th>573</th>\n",
       "      <th>574</th>\n",
       "    </tr>\n",
       "  </thead>\n",
       "  <tbody>\n",
       "    <tr>\n",
       "      <th>0</th>\n",
       "      <td>2.0</td>\n",
       "      <td>0.0</td>\n",
       "      <td>1.0</td>\n",
       "      <td>0.0</td>\n",
       "      <td>2.0</td>\n",
       "      <td>2.0</td>\n",
       "      <td>0.0</td>\n",
       "      <td>0.0</td>\n",
       "      <td>0.0</td>\n",
       "      <td>0.0</td>\n",
       "      <td>...</td>\n",
       "      <td>1.0</td>\n",
       "      <td>0.0</td>\n",
       "      <td>0.0</td>\n",
       "      <td>0.0</td>\n",
       "      <td>1.0</td>\n",
       "      <td>0.0</td>\n",
       "      <td>1.0</td>\n",
       "      <td>4.0</td>\n",
       "      <td>0.0</td>\n",
       "      <td>4.0</td>\n",
       "    </tr>\n",
       "    <tr>\n",
       "      <th>1</th>\n",
       "      <td>2.0</td>\n",
       "      <td>0.0</td>\n",
       "      <td>2.0</td>\n",
       "      <td>0.0</td>\n",
       "      <td>3.0</td>\n",
       "      <td>4.0</td>\n",
       "      <td>3.0</td>\n",
       "      <td>5.0</td>\n",
       "      <td>0.0</td>\n",
       "      <td>0.0</td>\n",
       "      <td>...</td>\n",
       "      <td>0.0</td>\n",
       "      <td>1.0</td>\n",
       "      <td>0.0</td>\n",
       "      <td>0.0</td>\n",
       "      <td>5.0</td>\n",
       "      <td>1.0</td>\n",
       "      <td>5.0</td>\n",
       "      <td>1.0</td>\n",
       "      <td>0.0</td>\n",
       "      <td>5.0</td>\n",
       "    </tr>\n",
       "    <tr>\n",
       "      <th>2</th>\n",
       "      <td>22.0</td>\n",
       "      <td>0.0</td>\n",
       "      <td>4.0</td>\n",
       "      <td>0.0</td>\n",
       "      <td>4.0</td>\n",
       "      <td>3.0</td>\n",
       "      <td>6.0</td>\n",
       "      <td>6.0</td>\n",
       "      <td>0.0</td>\n",
       "      <td>0.0</td>\n",
       "      <td>...</td>\n",
       "      <td>0.0</td>\n",
       "      <td>1.0</td>\n",
       "      <td>0.0</td>\n",
       "      <td>0.0</td>\n",
       "      <td>4.0</td>\n",
       "      <td>1.0</td>\n",
       "      <td>5.0</td>\n",
       "      <td>2.0</td>\n",
       "      <td>0.0</td>\n",
       "      <td>3.0</td>\n",
       "    </tr>\n",
       "    <tr>\n",
       "      <th>3</th>\n",
       "      <td>2.0</td>\n",
       "      <td>0.0</td>\n",
       "      <td>3.0</td>\n",
       "      <td>0.0</td>\n",
       "      <td>3.0</td>\n",
       "      <td>3.0</td>\n",
       "      <td>7.0</td>\n",
       "      <td>0.0</td>\n",
       "      <td>0.0</td>\n",
       "      <td>0.0</td>\n",
       "      <td>...</td>\n",
       "      <td>1.0</td>\n",
       "      <td>0.0</td>\n",
       "      <td>0.0</td>\n",
       "      <td>0.0</td>\n",
       "      <td>4.0</td>\n",
       "      <td>1.0</td>\n",
       "      <td>4.0</td>\n",
       "      <td>5.0</td>\n",
       "      <td>1.0</td>\n",
       "      <td>0.0</td>\n",
       "    </tr>\n",
       "    <tr>\n",
       "      <th>4</th>\n",
       "      <td>10.0</td>\n",
       "      <td>0.0</td>\n",
       "      <td>1.0</td>\n",
       "      <td>0.0</td>\n",
       "      <td>4.0</td>\n",
       "      <td>1.0</td>\n",
       "      <td>0.0</td>\n",
       "      <td>0.0</td>\n",
       "      <td>0.0</td>\n",
       "      <td>0.0</td>\n",
       "      <td>...</td>\n",
       "      <td>1.0</td>\n",
       "      <td>0.0</td>\n",
       "      <td>0.0</td>\n",
       "      <td>0.0</td>\n",
       "      <td>4.0</td>\n",
       "      <td>1.0</td>\n",
       "      <td>4.0</td>\n",
       "      <td>1.0</td>\n",
       "      <td>0.0</td>\n",
       "      <td>5.0</td>\n",
       "    </tr>\n",
       "  </tbody>\n",
       "</table>\n",
       "<p>5 rows × 575 columns</p>\n",
       "</div>"
      ],
      "text/plain": [
       "    0    1    2    3    4    5    6    7    8    9   ...   565  566  567  568  \\\n",
       "0   2.0  0.0  1.0  0.0  2.0  2.0  0.0  0.0  0.0  0.0 ...   1.0  0.0  0.0  0.0   \n",
       "1   2.0  0.0  2.0  0.0  3.0  4.0  3.0  5.0  0.0  0.0 ...   0.0  1.0  0.0  0.0   \n",
       "2  22.0  0.0  4.0  0.0  4.0  3.0  6.0  6.0  0.0  0.0 ...   0.0  1.0  0.0  0.0   \n",
       "3   2.0  0.0  3.0  0.0  3.0  3.0  7.0  0.0  0.0  0.0 ...   1.0  0.0  0.0  0.0   \n",
       "4  10.0  0.0  1.0  0.0  4.0  1.0  0.0  0.0  0.0  0.0 ...   1.0  0.0  0.0  0.0   \n",
       "\n",
       "   569  570  571  572  573  574  \n",
       "0  1.0  0.0  1.0  4.0  0.0  4.0  \n",
       "1  5.0  1.0  5.0  1.0  0.0  5.0  \n",
       "2  4.0  1.0  5.0  2.0  0.0  3.0  \n",
       "3  4.0  1.0  4.0  5.0  1.0  0.0  \n",
       "4  4.0  1.0  4.0  1.0  0.0  5.0  \n",
       "\n",
       "[5 rows x 575 columns]"
      ]
     },
     "execution_count": 127,
     "metadata": {},
     "output_type": "execute_result"
    }
   ],
   "source": [
    "# Impute nans with mode value\n",
    "imputer = Imputer(missing_values='NaN',strategy='most_frequent',axis=0)\n",
    "azdias_sample_imputed = imputer.fit_transform(azdias_sample)\n",
    "print('Type of azdias_sample_imputed is : {}'.format(type(azdias_sample_imputed)))\n",
    "\n",
    "# Making azdias_imputed into a dataframe\n",
    "azdias_sample_imputed = pd.DataFrame(azdias_sample_imputed)\n",
    "print('Type of azdias_sample_imputed now is : {}'.format(type(azdias_sample_imputed)))\n",
    "azdias_sample_imputed.head()"
   ]
  },
  {
   "cell_type": "code",
   "execution_count": 128,
   "metadata": {},
   "outputs": [
    {
     "data": {
      "text/plain": [
       "0"
      ]
     },
     "execution_count": 128,
     "metadata": {},
     "output_type": "execute_result"
    }
   ],
   "source": [
    "sum(azdias_sample_imputed.isnull().sum())"
   ]
  },
  {
   "cell_type": "code",
   "execution_count": 129,
   "metadata": {},
   "outputs": [
    {
     "data": {
      "text/plain": [
       "575"
      ]
     },
     "execution_count": 129,
     "metadata": {},
     "output_type": "execute_result"
    }
   ],
   "source": [
    "len(list(azdias_sample_imputed.columns.values))"
   ]
  },
  {
   "cell_type": "code",
   "execution_count": 130,
   "metadata": {},
   "outputs": [
    {
     "name": "stdout",
     "output_type": "stream",
     "text": [
      "Type of azdias_sample_scaled is : <class 'numpy.ndarray'>\n",
      "Type of azdias_sample_scaled now is : <class 'pandas.core.frame.DataFrame'>\n"
     ]
    },
    {
     "data": {
      "text/html": [
       "<div>\n",
       "<style scoped>\n",
       "    .dataframe tbody tr th:only-of-type {\n",
       "        vertical-align: middle;\n",
       "    }\n",
       "\n",
       "    .dataframe tbody tr th {\n",
       "        vertical-align: top;\n",
       "    }\n",
       "\n",
       "    .dataframe thead th {\n",
       "        text-align: right;\n",
       "    }\n",
       "</style>\n",
       "<table border=\"1\" class=\"dataframe\">\n",
       "  <thead>\n",
       "    <tr style=\"text-align: right;\">\n",
       "      <th></th>\n",
       "      <th>ANZ_HAUSHALTE_AKTIV</th>\n",
       "      <th>ANZ_HH_TITEL</th>\n",
       "      <th>ANZ_PERSONEN</th>\n",
       "      <th>ANZ_TITEL</th>\n",
       "      <th>ARBEIT</th>\n",
       "      <th>BALLRAUM</th>\n",
       "      <th>D19_BANKEN_DIREKT</th>\n",
       "      <th>D19_BANKEN_GROSS</th>\n",
       "      <th>D19_BANKEN_LOKAL</th>\n",
       "      <th>D19_BANKEN_REST</th>\n",
       "      <th>...</th>\n",
       "      <th>ZABEOTYP_3</th>\n",
       "      <th>ZABEOTYP_4</th>\n",
       "      <th>ZABEOTYP_5</th>\n",
       "      <th>ZABEOTYP_6</th>\n",
       "      <th>PRAEGENDE_JUGENDJAHRE_decade</th>\n",
       "      <th>PRAEGENDE_JUGENDJAHRE_movement</th>\n",
       "      <th>CAMEO_INTL_2015_wealth</th>\n",
       "      <th>CAMEO_INTL_2015_life_stage</th>\n",
       "      <th>WOHNLAGE_rural</th>\n",
       "      <th>WOHNLAGE_rating_class</th>\n",
       "    </tr>\n",
       "  </thead>\n",
       "  <tbody>\n",
       "    <tr>\n",
       "      <th>0</th>\n",
       "      <td>-0.408963</td>\n",
       "      <td>-0.123417</td>\n",
       "      <td>-0.637724</td>\n",
       "      <td>-0.062039</td>\n",
       "      <td>-1.189251</td>\n",
       "      <td>-0.978354</td>\n",
       "      <td>-0.467054</td>\n",
       "      <td>-0.361868</td>\n",
       "      <td>-0.135111</td>\n",
       "      <td>-0.293792</td>\n",
       "      <td>...</td>\n",
       "      <td>1.352162</td>\n",
       "      <td>-0.599071</td>\n",
       "      <td>-0.337095</td>\n",
       "      <td>-0.314214</td>\n",
       "      <td>-2.292812</td>\n",
       "      <td>-1.864910</td>\n",
       "      <td>-1.558050</td>\n",
       "      <td>0.758950</td>\n",
       "      <td>-0.547889</td>\n",
       "      <td>0.971472</td>\n",
       "    </tr>\n",
       "    <tr>\n",
       "      <th>1</th>\n",
       "      <td>-0.408963</td>\n",
       "      <td>-0.123417</td>\n",
       "      <td>0.220156</td>\n",
       "      <td>-0.062039</td>\n",
       "      <td>-0.182866</td>\n",
       "      <td>-0.064003</td>\n",
       "      <td>0.971964</td>\n",
       "      <td>2.578838</td>\n",
       "      <td>-0.135111</td>\n",
       "      <td>-0.293792</td>\n",
       "      <td>...</td>\n",
       "      <td>-0.739556</td>\n",
       "      <td>1.669251</td>\n",
       "      <td>-0.337095</td>\n",
       "      <td>-0.314214</td>\n",
       "      <td>0.439394</td>\n",
       "      <td>0.536219</td>\n",
       "      <td>1.168974</td>\n",
       "      <td>-1.252036</td>\n",
       "      <td>-0.547889</td>\n",
       "      <td>1.587133</td>\n",
       "    </tr>\n",
       "    <tr>\n",
       "      <th>2</th>\n",
       "      <td>0.908815</td>\n",
       "      <td>-0.123417</td>\n",
       "      <td>1.935915</td>\n",
       "      <td>-0.062039</td>\n",
       "      <td>0.823519</td>\n",
       "      <td>-0.521179</td>\n",
       "      <td>2.410981</td>\n",
       "      <td>3.166979</td>\n",
       "      <td>-0.135111</td>\n",
       "      <td>-0.293792</td>\n",
       "      <td>...</td>\n",
       "      <td>-0.739556</td>\n",
       "      <td>1.669251</td>\n",
       "      <td>-0.337095</td>\n",
       "      <td>-0.314214</td>\n",
       "      <td>-0.243657</td>\n",
       "      <td>0.536219</td>\n",
       "      <td>1.168974</td>\n",
       "      <td>-0.581707</td>\n",
       "      <td>-0.547889</td>\n",
       "      <td>0.355811</td>\n",
       "    </tr>\n",
       "    <tr>\n",
       "      <th>3</th>\n",
       "      <td>-0.408963</td>\n",
       "      <td>-0.123417</td>\n",
       "      <td>1.078036</td>\n",
       "      <td>-0.062039</td>\n",
       "      <td>-0.182866</td>\n",
       "      <td>-0.521179</td>\n",
       "      <td>2.890654</td>\n",
       "      <td>-0.361868</td>\n",
       "      <td>-0.135111</td>\n",
       "      <td>-0.293792</td>\n",
       "      <td>...</td>\n",
       "      <td>1.352162</td>\n",
       "      <td>-0.599071</td>\n",
       "      <td>-0.337095</td>\n",
       "      <td>-0.314214</td>\n",
       "      <td>-0.243657</td>\n",
       "      <td>0.536219</td>\n",
       "      <td>0.487218</td>\n",
       "      <td>1.429279</td>\n",
       "      <td>1.825189</td>\n",
       "      <td>-1.491173</td>\n",
       "    </tr>\n",
       "    <tr>\n",
       "      <th>4</th>\n",
       "      <td>0.118148</td>\n",
       "      <td>-0.123417</td>\n",
       "      <td>-0.637724</td>\n",
       "      <td>-0.062039</td>\n",
       "      <td>0.823519</td>\n",
       "      <td>-1.435530</td>\n",
       "      <td>-0.467054</td>\n",
       "      <td>-0.361868</td>\n",
       "      <td>-0.135111</td>\n",
       "      <td>-0.293792</td>\n",
       "      <td>...</td>\n",
       "      <td>1.352162</td>\n",
       "      <td>-0.599071</td>\n",
       "      <td>-0.337095</td>\n",
       "      <td>-0.314214</td>\n",
       "      <td>-0.243657</td>\n",
       "      <td>0.536219</td>\n",
       "      <td>0.487218</td>\n",
       "      <td>-1.252036</td>\n",
       "      <td>-0.547889</td>\n",
       "      <td>1.587133</td>\n",
       "    </tr>\n",
       "  </tbody>\n",
       "</table>\n",
       "<p>5 rows × 575 columns</p>\n",
       "</div>"
      ],
      "text/plain": [
       "   ANZ_HAUSHALTE_AKTIV  ANZ_HH_TITEL  ANZ_PERSONEN  ANZ_TITEL    ARBEIT  \\\n",
       "0            -0.408963     -0.123417     -0.637724  -0.062039 -1.189251   \n",
       "1            -0.408963     -0.123417      0.220156  -0.062039 -0.182866   \n",
       "2             0.908815     -0.123417      1.935915  -0.062039  0.823519   \n",
       "3            -0.408963     -0.123417      1.078036  -0.062039 -0.182866   \n",
       "4             0.118148     -0.123417     -0.637724  -0.062039  0.823519   \n",
       "\n",
       "   BALLRAUM  D19_BANKEN_DIREKT  D19_BANKEN_GROSS  D19_BANKEN_LOKAL  \\\n",
       "0 -0.978354          -0.467054         -0.361868         -0.135111   \n",
       "1 -0.064003           0.971964          2.578838         -0.135111   \n",
       "2 -0.521179           2.410981          3.166979         -0.135111   \n",
       "3 -0.521179           2.890654         -0.361868         -0.135111   \n",
       "4 -1.435530          -0.467054         -0.361868         -0.135111   \n",
       "\n",
       "   D19_BANKEN_REST          ...            ZABEOTYP_3  ZABEOTYP_4  ZABEOTYP_5  \\\n",
       "0        -0.293792          ...              1.352162   -0.599071   -0.337095   \n",
       "1        -0.293792          ...             -0.739556    1.669251   -0.337095   \n",
       "2        -0.293792          ...             -0.739556    1.669251   -0.337095   \n",
       "3        -0.293792          ...              1.352162   -0.599071   -0.337095   \n",
       "4        -0.293792          ...              1.352162   -0.599071   -0.337095   \n",
       "\n",
       "   ZABEOTYP_6  PRAEGENDE_JUGENDJAHRE_decade  PRAEGENDE_JUGENDJAHRE_movement  \\\n",
       "0   -0.314214                     -2.292812                       -1.864910   \n",
       "1   -0.314214                      0.439394                        0.536219   \n",
       "2   -0.314214                     -0.243657                        0.536219   \n",
       "3   -0.314214                     -0.243657                        0.536219   \n",
       "4   -0.314214                     -0.243657                        0.536219   \n",
       "\n",
       "   CAMEO_INTL_2015_wealth  CAMEO_INTL_2015_life_stage  WOHNLAGE_rural  \\\n",
       "0               -1.558050                    0.758950       -0.547889   \n",
       "1                1.168974                   -1.252036       -0.547889   \n",
       "2                1.168974                   -0.581707       -0.547889   \n",
       "3                0.487218                    1.429279        1.825189   \n",
       "4                0.487218                   -1.252036       -0.547889   \n",
       "\n",
       "   WOHNLAGE_rating_class  \n",
       "0               0.971472  \n",
       "1               1.587133  \n",
       "2               0.355811  \n",
       "3              -1.491173  \n",
       "4               1.587133  \n",
       "\n",
       "[5 rows x 575 columns]"
      ]
     },
     "execution_count": 130,
     "metadata": {},
     "output_type": "execute_result"
    }
   ],
   "source": [
    "# Apply feature scaling to the general population demographics data.\n",
    "\n",
    "scaler = StandardScaler()\n",
    "azdias_sample_scaled = scaler.fit_transform(azdias_sample_imputed)\n",
    "print('Type of azdias_sample_scaled is : {}'.format(type(azdias_sample_scaled)))\n",
    "\n",
    "# Making azdias_sample_scaled into a dataframe\n",
    "azdias_sample_scaled = pd.DataFrame(azdias_sample_scaled, columns= list(azdias_sample.columns.values))\n",
    "print('Type of azdias_sample_scaled now is : {}'.format(type(azdias_sample_scaled)))\n",
    "azdias_sample_scaled.head()"
   ]
  },
  {
   "cell_type": "markdown",
   "metadata": {},
   "source": [
    "Discussion : Apply Feature Scaling <br>\n",
    "For imputation, we had chosen to use the mode or 'most frequent' value rather than the mean or median to fill in the missing values. Since most of the columns are categorical or ordinal in nature, mean and median could have given us values other than permissible values of which the columns comprises. The mean and median would have squashed the dataset distibutions towards a center which has no relevance with categorical and ordinal distributions. The mode seemed the logical choice as it would reinforce the highest value for each feature making them stand out more in the later analysis for customer segments.\n",
    "\n",
    "The features were standardized using StandardScaler to achieve a mean of 0 and standard deviation of 1."
   ]
  },
  {
   "cell_type": "markdown",
   "metadata": {},
   "source": [
    "Perform PCA <br>\n",
    "On your scaled data, you are now ready to apply dimensionality reduction techniques. <br>\n",
    "\n",
    "Use sklearn's PCA class to apply principal component analysis on the data, thus finding the vectors of maximal variance in the data. To start, you should not set any parameters (so all components are computed) or set a number of components that is at least half the number of features (so there's enough features to see the general trend in variability). <br>\n",
    "Check out the ratio of variance explained by each principal component as well as the cumulative variance explained. Try plotting the cumulative or sequential values using matplotlib's plot() function. Based on what you find, select a value for the number of transformed features you'll retain for the clustering part of the project. <br>\n",
    "Once you've made a choice for the number of components to keep, make sure you re-fit a PCA instance to perform the decided-on transformation. <br>"
   ]
  },
  {
   "cell_type": "code",
   "execution_count": 131,
   "metadata": {},
   "outputs": [],
   "source": [
    "# Defining do_pca function to apply PCA to the data.\n",
    "\n",
    "def do_pca(n_components, data):\n",
    "    '''\n",
    "    Transforms data using PCA to create n_components, and provides back the results of the\n",
    "    transformation.\n",
    "\n",
    "    INPUT: n_components - int - the number of principal components to create\n",
    "           data - the data you would like to transform\n",
    "\n",
    "    OUTPUT: pca - the pca object created after fitting the data\n",
    "            X_pca - the transformed X matrix with new number of components\n",
    "    '''\n",
    "    #X = StandardScaler().fit_transform(data) # data is already scaled.\n",
    "    X = data\n",
    "    pca = PCA(n_components, random_state=42)\n",
    "    X_pca = pca.fit_transform(X)\n",
    "    return pca, X_pca"
   ]
  },
  {
   "cell_type": "code",
   "execution_count": 132,
   "metadata": {},
   "outputs": [
    {
     "data": {
      "text/plain": [
       "(145818, 575)"
      ]
     },
     "execution_count": 132,
     "metadata": {},
     "output_type": "execute_result"
    }
   ],
   "source": [
    "# Shape of azdias_sample_scaled\n",
    "azdias_sample_scaled.shape"
   ]
  },
  {
   "cell_type": "code",
   "execution_count": 133,
   "metadata": {},
   "outputs": [],
   "source": [
    "# Apply PCA to the data and creating 292 components which are half the number of features which are 584\n",
    "\n",
    "pca, azdias_sample_pca = do_pca(292,azdias_sample_scaled)"
   ]
  },
  {
   "cell_type": "code",
   "execution_count": 134,
   "metadata": {},
   "outputs": [
    {
     "data": {
      "text/plain": [
       "292"
      ]
     },
     "execution_count": 134,
     "metadata": {},
     "output_type": "execute_result"
    }
   ],
   "source": [
    "# Number of principal components\n",
    "pca.n_components_"
   ]
  },
  {
   "cell_type": "code",
   "execution_count": 135,
   "metadata": {},
   "outputs": [
    {
     "data": {
      "text/plain": [
       "array([[-0.07009912, -0.0133988 ,  0.09179771, ...,  0.06594091,\n",
       "         0.06536799, -0.08334963],\n",
       "       [ 0.00785371, -0.01635946,  0.05409962, ..., -0.03061091,\n",
       "         0.02053139,  0.01234729],\n",
       "       [ 0.05744075,  0.02431451,  0.03133387, ..., -0.05478851,\n",
       "        -0.1063058 ,  0.08976986],\n",
       "       ..., \n",
       "       [-0.00638538,  0.06230314, -0.01066886, ..., -0.00064643,\n",
       "        -0.03502252,  0.05986468],\n",
       "       [ 0.05479854, -0.02423779,  0.01336422, ...,  0.00718393,\n",
       "        -0.01865819,  0.04189651],\n",
       "       [ 0.00123445, -0.02792177, -0.01495267, ..., -0.00059024,\n",
       "        -0.05004479,  0.05692131]])"
      ]
     },
     "execution_count": 135,
     "metadata": {},
     "output_type": "execute_result"
    }
   ],
   "source": [
    "# Principal components in feature space, representing the directions of maximum variance in the data.\n",
    "# The components are sorted by explained_variance_.\n",
    "pca.components_"
   ]
  },
  {
   "cell_type": "code",
   "execution_count": 136,
   "metadata": {},
   "outputs": [
    {
     "data": {
      "text/plain": [
       "array([ 27.77438675,  18.53404025,  16.10740128,  11.56165289,\n",
       "         8.0655089 ,   7.04981131,   6.71223874,   6.07563736,\n",
       "         5.87438384,   5.40854336,   4.83468759,   4.68015813,\n",
       "         4.49623523,   4.34615802,   3.9984425 ,   3.91411121,\n",
       "         3.81170648,   3.69732086,   3.6787776 ,   3.61442348,\n",
       "         3.58613581,   3.554359  ,   3.26675334,   3.26313335,\n",
       "         3.22940384,   3.17715701,   3.05745456,   3.01152351,\n",
       "         2.95249413,   2.86551191,   2.80693432,   2.76894917,\n",
       "         2.68816461,   2.66815558,   2.64417647,   2.58926243,\n",
       "         2.5029366 ,   2.44650581,   2.40245923,   2.39188875,\n",
       "         2.36391267,   2.3147212 ,   2.30680787,   2.2682634 ,\n",
       "         2.24625369,   2.2396534 ,   2.21657113,   2.17685733,\n",
       "         2.16249358,   2.14632   ,   2.10581114,   2.09758261,\n",
       "         2.09070528,   2.07348387,   2.06086655,   2.04564878,\n",
       "         2.02810497,   2.00905947,   2.00241244,   1.99054573,\n",
       "         1.97363684,   1.95543539,   1.95183307,   1.94257121,\n",
       "         1.93413048,   1.91175683,   1.89437048,   1.88289248,\n",
       "         1.8764488 ,   1.86232811,   1.85903847,   1.84919805,\n",
       "         1.8341754 ,   1.78593183,   1.78256427,   1.77723319,\n",
       "         1.76078428,   1.74645166,   1.72045705,   1.69840704,\n",
       "         1.67675806,   1.65013596,   1.64248193,   1.63360715,\n",
       "         1.59732295,   1.5677424 ,   1.54821663,   1.54390687,\n",
       "         1.52815633,   1.51560722,   1.51007491,   1.488604  ,\n",
       "         1.4855893 ,   1.46804133,   1.45004705,   1.43811733,\n",
       "         1.4327964 ,   1.42751727,   1.41890178,   1.4156606 ,\n",
       "         1.40781615,   1.40438286,   1.39774581,   1.38325551,\n",
       "         1.37795693,   1.37162608,   1.3605855 ,   1.35901625,\n",
       "         1.35431874,   1.33788145,   1.33290991,   1.32776632,\n",
       "         1.31179041,   1.30338524,   1.28571264,   1.28159967,\n",
       "         1.27607399,   1.27456134,   1.26444715,   1.26244609,\n",
       "         1.25245967,   1.24339684,   1.2401033 ,   1.23818489,\n",
       "         1.22586355,   1.22327919,   1.22126363,   1.21416622,\n",
       "         1.20967702,   1.2000665 ,   1.19600627,   1.18849729,\n",
       "         1.1712279 ,   1.1633424 ,   1.15825178,   1.14444879,\n",
       "         1.13595683,   1.13100177,   1.12230137,   1.11812633,\n",
       "         1.1102927 ,   1.10833097,   1.10281315,   1.09819707,\n",
       "         1.0887138 ,   1.08441073,   1.08378491,   1.07851818,\n",
       "         1.07459894,   1.07272931,   1.06677532,   1.06375666,\n",
       "         1.05773166,   1.05579077,   1.05099663,   1.04729299,\n",
       "         1.04568923,   1.04306801,   1.0414662 ,   1.04030689,\n",
       "         1.03768364,   1.03595949,   1.03379044,   1.0314209 ,\n",
       "         1.02968534,   1.02872512,   1.02771093,   1.0266455 ,\n",
       "         1.02446243,   1.02301573,   1.02253722,   1.01980421,\n",
       "         1.01901534,   1.01787088,   1.01640085,   1.01478388,\n",
       "         1.0126996 ,   1.01182972,   1.01094195,   1.00988112,\n",
       "         1.00905855,   1.00726504,   1.00720629,   1.00542198,\n",
       "         1.00416813,   1.00378327,   1.00111644,   1.00047828,\n",
       "         1.00008631,   0.99834932,   0.99757686,   0.99640346,\n",
       "         0.99494194,   0.99375505,   0.99163082,   0.98988863,\n",
       "         0.98890807,   0.98676511,   0.98614417,   0.98431428,\n",
       "         0.98367447,   0.98192409,   0.9800741 ,   0.97960015,\n",
       "         0.97805815,   0.97572247,   0.97414073,   0.97171373,\n",
       "         0.96872615,   0.96598457,   0.96366273,   0.96182854,\n",
       "         0.95976479,   0.9596874 ,   0.95594369,   0.95166771,\n",
       "         0.95128967,   0.9486775 ,   0.94459546,   0.940027  ,\n",
       "         0.93842318,   0.93615224,   0.92987353,   0.92621511,\n",
       "         0.92124758,   0.91579289,   0.91058155,   0.90981571,\n",
       "         0.90617667,   0.90328781,   0.8995187 ,   0.8954708 ,\n",
       "         0.88886645,   0.88688339,   0.88364811,   0.87528294,\n",
       "         0.87418718,   0.86929237,   0.86727867,   0.86561568,\n",
       "         0.85463239,   0.85170044,   0.84871674,   0.84222908,\n",
       "         0.8373905 ,   0.83288104,   0.83177504,   0.82805701,\n",
       "         0.82595171,   0.82049404,   0.81333867,   0.80762315,\n",
       "         0.80586709,   0.80258937,   0.79658445,   0.79245976,\n",
       "         0.78988178,   0.78676383,   0.78293698,   0.77905452,\n",
       "         0.77751372,   0.77323426,   0.76628365,   0.76020737,\n",
       "         0.75476737,   0.74939411,   0.74261213,   0.73945925,\n",
       "         0.73658989,   0.73257077,   0.72235987,   0.72002928,\n",
       "         0.71086422,   0.70901743,   0.7055103 ,   0.69875581,\n",
       "         0.69523435,   0.68715791,   0.67657948,   0.67496761,\n",
       "         0.67310544,   0.66857343,   0.66665674,   0.65918427,\n",
       "         0.65646536,   0.65149012,   0.64983404,   0.64660936,\n",
       "         0.63825763,   0.63195655,   0.62432354,   0.62360488])"
      ]
     },
     "execution_count": 136,
     "metadata": {},
     "output_type": "execute_result"
    }
   ],
   "source": [
    "# The amount of variance explained by each of the selected components.\n",
    "pca.explained_variance_"
   ]
  },
  {
   "cell_type": "code",
   "execution_count": 137,
   "metadata": {},
   "outputs": [
    {
     "data": {
      "text/plain": [
       "array([ 0.04830295,  0.03223289,  0.02801268,  0.02010708,  0.01402688,\n",
       "        0.01226046,  0.01167338,  0.01056625,  0.01021625,  0.0094061 ,\n",
       "        0.00840809,  0.00813935,  0.00781949,  0.00755848,  0.00695377,\n",
       "        0.0068071 ,  0.00662901,  0.00643008,  0.00639783,  0.00628591,\n",
       "        0.00623672,  0.00618145,  0.00568127,  0.00567498,  0.00561632,\n",
       "        0.00552545,  0.00531728,  0.0052374 ,  0.00513474,  0.00498346,\n",
       "        0.00488159,  0.00481553,  0.00467504,  0.00464024,  0.00459854,\n",
       "        0.00450303,  0.0043529 ,  0.00425476,  0.00417816,  0.00415978,\n",
       "        0.00411112,  0.00402557,  0.00401181,  0.00394478,  0.0039065 ,\n",
       "        0.00389502,  0.00385488,  0.00378581,  0.00376083,  0.0037327 ,\n",
       "        0.00366226,  0.00364794,  0.00363598,  0.00360603,  0.00358409,\n",
       "        0.00355763,  0.00352711,  0.00349399,  0.00348243,  0.00346179,\n",
       "        0.00343239,  0.00340073,  0.00339447,  0.00337836,  0.00336368,\n",
       "        0.00332477,  0.00329453,  0.00327457,  0.00326337,  0.00323881,\n",
       "        0.00323309,  0.00321597,  0.00318985,  0.00310595,  0.00310009,\n",
       "        0.00309082,  0.00306221,  0.00303729,  0.00299208,  0.00295373,\n",
       "        0.00291608,  0.00286978,  0.00285647,  0.00284104,  0.00277793,\n",
       "        0.00272649,  0.00269253,  0.00268504,  0.00265764,  0.00263582,\n",
       "        0.0026262 ,  0.00258886,  0.00258362,  0.0025531 ,  0.0025218 ,\n",
       "        0.00250106,  0.0024918 ,  0.00248262,  0.00246764,  0.002462  ,\n",
       "        0.00244836,  0.00244239,  0.00243085,  0.00240565,  0.00239643,\n",
       "        0.00238542,  0.00236622,  0.00236349,  0.00235532,  0.00232673,\n",
       "        0.00231809,  0.00230914,  0.00228136,  0.00226674,  0.00223601,\n",
       "        0.00222885,  0.00221924,  0.00221661,  0.00219902,  0.00219554,\n",
       "        0.00217818,  0.00216241,  0.00215669,  0.00215335,  0.00213192,\n",
       "        0.00212743,  0.00212392,  0.00211158,  0.00210377,  0.00208706,\n",
       "        0.00208   ,  0.00206694,  0.0020369 ,  0.00202319,  0.00201434,\n",
       "        0.00199033,  0.00197556,  0.00196695,  0.00195182,  0.00194455,\n",
       "        0.00193093,  0.00192752,  0.00191792,  0.00190989,  0.0018934 ,\n",
       "        0.00188592,  0.00188483,  0.00187567,  0.00186885,  0.0018656 ,\n",
       "        0.00185525,  0.00185   ,  0.00183952,  0.00183615,  0.00182781,\n",
       "        0.00182137,  0.00181858,  0.00181402,  0.00181123,  0.00180922,\n",
       "        0.00180465,  0.00180166,  0.00179788,  0.00179376,  0.00179074,\n",
       "        0.00178907,  0.00178731,  0.00178546,  0.00178166,  0.00177915,\n",
       "        0.00177831,  0.00177356,  0.00177219,  0.0017702 ,  0.00176764,\n",
       "        0.00176483,  0.0017612 ,  0.00175969,  0.00175815,  0.0017563 ,\n",
       "        0.00175487,  0.00175175,  0.00175165,  0.00174855,  0.00174637,\n",
       "        0.0017457 ,  0.00174106,  0.00173995,  0.00173927,  0.00173625,\n",
       "        0.0017349 ,  0.00173286,  0.00173032,  0.00172826,  0.00172456,\n",
       "        0.00172153,  0.00171983,  0.0017161 ,  0.00171502,  0.00171184,\n",
       "        0.00171073,  0.00170768,  0.00170447,  0.00170364,  0.00170096,\n",
       "        0.0016969 ,  0.00169415,  0.00168993,  0.00168473,  0.00167996,\n",
       "        0.00167592,  0.00167273,  0.00166914,  0.00166901,  0.0016625 ,\n",
       "        0.00165506,  0.00165441,  0.00164986,  0.00164276,  0.00163482,\n",
       "        0.00163203,  0.00162808,  0.00161716,  0.0016108 ,  0.00160216,\n",
       "        0.00159267,  0.00158361,  0.00158228,  0.00157595,  0.00157092,\n",
       "        0.00156437,  0.00155733,  0.00154584,  0.0015424 ,  0.00153677,\n",
       "        0.00152222,  0.00152032,  0.0015118 ,  0.0015083 ,  0.00150541,\n",
       "        0.00148631,  0.00148121,  0.00147602,  0.00146474,  0.00145632,\n",
       "        0.00144848,  0.00144656,  0.00144009,  0.00143643,  0.00142694,\n",
       "        0.00141449,  0.00140455,  0.0014015 ,  0.0013958 ,  0.00138535,\n",
       "        0.00137818,  0.0013737 ,  0.00136828,  0.00136162,  0.00135487,\n",
       "        0.00135219,  0.00134475,  0.00133266,  0.00132209,  0.00131263,\n",
       "        0.00130329,  0.00129149,  0.00128601,  0.00128102,  0.00127403,\n",
       "        0.00125627,  0.00125222,  0.00123628,  0.00123307,  0.00122697,\n",
       "        0.00121522,  0.00120909,  0.00119505,  0.00117665,  0.00117385,\n",
       "        0.00117061,  0.00116273,  0.0011594 ,  0.0011464 ,  0.00114167,\n",
       "        0.00113302,  0.00113014,  0.00112453,  0.00111001,  0.00109905,\n",
       "        0.00108577,  0.00108452])"
      ]
     },
     "execution_count": 137,
     "metadata": {},
     "output_type": "execute_result"
    }
   ],
   "source": [
    "# Percentage of variance explained by each of the selected components.\n",
    "pca.explained_variance_ratio_"
   ]
  },
  {
   "cell_type": "code",
   "execution_count": 138,
   "metadata": {},
   "outputs": [],
   "source": [
    "# Define scree_plot function to check out the ratio of variance explained by each principal component\n",
    "# as well as the cumulative variance explained.\n",
    "\n",
    "def scree_plot(pca):\n",
    "    '''\n",
    "    Creates a scree plot associated with the principal components \n",
    "    \n",
    "    INPUT: pca - the result of instantian of PCA in scikit learn\n",
    "            \n",
    "    OUTPUT:\n",
    "            None\n",
    "    '''\n",
    "    num_components=len(pca.explained_variance_ratio_)\n",
    "    ind = np.arange(num_components)\n",
    "    vals = pca.explained_variance_ratio_\n",
    " \n",
    "    plt.figure(figsize=(16, 10))\n",
    "    ax = plt.subplot(111)\n",
    "    cumvals = np.cumsum(vals)\n",
    "    ax.bar(ind, vals)\n",
    "    ax.plot(ind, cumvals)\n",
    "    \n",
    "    ax.grid()\n",
    "    ax.set_axisbelow(True)\n",
    "    ax.grid(linewidth='0.5', alpha=0.5)\n",
    "   \n",
    "    #for i in range(num_components):\n",
    "    #    ax.annotate(r\"%s%%\" % ((str(vals[i]*100)[:4])), (ind[i]+0.2, vals[i]), va=\"bottom\", ha=\"center\", fontsize=12)\n",
    " \n",
    "    ax.xaxis.set_tick_params(width=0)\n",
    "    ax.yaxis.set_tick_params(width=2, length=12)\n",
    " \n",
    "    ax.set_xlabel(\"Principal Component\")\n",
    "    ax.set_ylabel(\"Variance Explained (%)\")\n",
    "    plt.title('Explained Variance Per Principal Component')"
   ]
  },
  {
   "cell_type": "code",
   "execution_count": 139,
   "metadata": {},
   "outputs": [
    {
     "data": {
      "image/png": "[encoded data removed]",
      "text/plain": [
       "<matplotlib.figure.Figure at 0x7f878b33d8d0>"
      ]
     },
     "metadata": {
      "needs_background": "light"
     },
     "output_type": "display_data"
    }
   ],
   "source": [
    "# Investigate the variance accounted for by each principal component.\n",
    "scree_plot(pca)"
   ]
  },
  {
   "cell_type": "code",
   "execution_count": 140,
   "metadata": {},
   "outputs": [],
   "source": [
    "# Define plot function to check out the ratio of variance explained by each principal component\n",
    "\n",
    "def plot_variance_ratio(pca):\n",
    "    '''\n",
    "    Creates a plot associated with the principal components \n",
    "    \n",
    "    INPUT: pca - the result of instantian of PCA in scikit learn\n",
    "            \n",
    "    OUTPUT:\n",
    "            None\n",
    "    '''\n",
    "    num_components=len(pca.explained_variance_ratio_)\n",
    "    ind = np.arange(num_components)\n",
    "    vals = pca.explained_variance_ratio_\n",
    " \n",
    "    plt.figure(figsize=(16, 10))\n",
    "    ax = plt.subplot(111)\n",
    "    #cumvals = np.cumsum(vals)\n",
    "    ax.bar(ind, vals)\n",
    "    #ax.plot(ind, cumvals)\n",
    "    \n",
    "    ax.grid()\n",
    "    ax.set_axisbelow(True)\n",
    "    ax.grid(linewidth='0.5', alpha=0.5)\n",
    "   \n",
    "    # Printing percentage of variance explained by first 5 components.\n",
    "    for i in range(ind[5]):\n",
    "        ax.annotate(r\"%s%%\" % ((str(vals[i]*100)[:4])), (ind[i]+0.2, vals[i]), va=\"bottom\", ha=\"center\", fontsize=12)\n",
    " \n",
    "    ax.xaxis.set_tick_params(width=0)\n",
    "    ax.yaxis.set_tick_params(width=2, length=12)\n",
    " \n",
    "    ax.set_xlabel(\"Principal Component\")\n",
    "    ax.set_ylabel(\"Variance Explained (%)\")\n",
    "    plt.title('Explained Variance Per Principal Component')"
   ]
  },
  {
   "cell_type": "code",
   "execution_count": 141,
   "metadata": {},
   "outputs": [
    {
     "data": {
      "image/png": "[encoded data removed]",
      "text/plain": [
       "<matplotlib.figure.Figure at 0x7f878c194b00>"
      ]
     },
     "metadata": {
      "needs_background": "light"
     },
     "output_type": "display_data"
    }
   ],
   "source": [
    "plot_variance_ratio(pca)"
   ]
  },
  {
   "cell_type": "code",
   "execution_count": 142,
   "metadata": {},
   "outputs": [
    {
     "name": "stdout",
     "output_type": "stream",
     "text": [
      "(0, 0.048302950053326431)\n",
      "(1, 0.080535842483693026)\n",
      "(2, 0.10854852217235389)\n",
      "(3, 0.12865560669118442)\n",
      "(4, 0.14268248249737273)\n",
      "(5, 0.1549429398170182)\n",
      "(6, 0.16661631844196076)\n",
      "(7, 0.17718257181700131)\n",
      "(8, 0.1873988214822106)\n",
      "(9, 0.1968049193384579)\n",
      "(10, 0.20521301400602732)\n",
      "(11, 0.21335236363458276)\n",
      "(12, 0.22117184953182611)\n",
      "(13, 0.22873033338203766)\n",
      "(14, 0.23568409873476925)\n",
      "(15, 0.24249120198361651)\n",
      "(16, 0.24912021127733699)\n",
      "(17, 0.25555029041934824)\n",
      "(18, 0.26194812063472139)\n",
      "(19, 0.26823403140080543)\n",
      "(20, 0.27447074656773912)\n",
      "(21, 0.28065219808895847)\n",
      "(22, 0.28633346929171605)\n",
      "(23, 0.29200844488696964)\n",
      "(24, 0.29762476086953221)\n",
      "(25, 0.30315021342921483)\n",
      "(26, 0.3084674892464418)\n",
      "(27, 0.31370488552310566)\n",
      "(28, 0.31883962270349037)\n",
      "(29, 0.32382308750002103)\n",
      "(30, 0.32870467893371319)\n",
      "(31, 0.33352020967448187)\n",
      "(32, 0.33819524650229177)\n",
      "(33, 0.34283548526072999)\n",
      "(34, 0.34743402150016955)\n",
      "(35, 0.35193705572200296)\n",
      "(36, 0.35628995909579225)\n",
      "(37, 0.36054472263420267)\n",
      "(38, 0.36472288395070346)\n",
      "(39, 0.36888266194976971)\n",
      "(40, 0.37299378622241852)\n",
      "(41, 0.37701936069858477)\n",
      "(42, 0.38103117296194422)\n",
      "(43, 0.38497595182912098)\n",
      "(44, 0.38888245319795961)\n",
      "(45, 0.39277747587354472)\n",
      "(46, 0.39663235575086597)\n",
      "(47, 0.40041816862454765)\n",
      "(48, 0.40417900122973915)\n",
      "(49, 0.40791170606865457)\n",
      "(50, 0.41157396119674733)\n",
      "(51, 0.41522190593969138)\n",
      "(52, 0.41885789018405206)\n",
      "(53, 0.42246392436421965)\n",
      "(54, 0.42604801553041183)\n",
      "(55, 0.4296056411924748)\n",
      "(56, 0.43313275607340485)\n",
      "(57, 0.4366267485836115)\n",
      "(58, 0.44010918112518999)\n",
      "(59, 0.44357097604375051)\n",
      "(60, 0.44700336439698618)\n",
      "(61, 0.45040409828004396)\n",
      "(62, 0.45379856729345353)\n",
      "(63, 0.45717692883628408)\n",
      "(64, 0.46054061095633447)\n",
      "(65, 0.46386538263714716)\n",
      "(66, 0.46715991739447887)\n",
      "(67, 0.47043449055082287)\n",
      "(68, 0.47369785738649278)\n",
      "(69, 0.47693666667769335)\n",
      "(70, 0.48016975488882513)\n",
      "(71, 0.48338572944565789)\n",
      "(72, 0.48657557783424371)\n",
      "(73, 0.48968152492694778)\n",
      "(74, 0.49278161543953408)\n",
      "(75, 0.49587243456839142)\n",
      "(76, 0.49893464710379254)\n",
      "(77, 0.50197193351114611)\n",
      "(78, 0.50496401220097409)\n",
      "(79, 0.50791774332597206)\n",
      "(80, 0.51083382431035673)\n",
      "(81, 0.51370360629674516)\n",
      "(82, 0.51656007702326245)\n",
      "(83, 0.51940111345129447)\n",
      "(84, 0.52217904735299681)\n",
      "(85, 0.52490553717720889)\n",
      "(86, 0.52759806936578413)\n",
      "(87, 0.53028310637428944)\n",
      "(88, 0.53294075133182495)\n",
      "(89, 0.53557657190684915)\n",
      "(90, 0.5382027711329368)\n",
      "(91, 0.54079162990272289)\n",
      "(92, 0.54337524575798712)\n",
      "(93, 0.54592834361002862)\n",
      "(94, 0.54845014727854746)\n",
      "(95, 0.55095120373981177)\n",
      "(96, 0.55344300648493672)\n",
      "(97, 0.55592562819800739)\n",
      "(98, 0.55839326654733434)\n",
      "(99, 0.56085526809242658)\n",
      "(100, 0.5633036272211992)\n",
      "(101, 0.56574601543743175)\n",
      "(102, 0.56817686103901244)\n",
      "(103, 0.57058250630631058)\n",
      "(104, 0.57297893671199396)\n",
      "(105, 0.5753643570164253)\n",
      "(106, 0.57773057644655357)\n",
      "(107, 0.58009406676467978)\n",
      "(108, 0.58244938755740427)\n",
      "(109, 0.5847761219566171)\n",
      "(110, 0.58709421025345387)\n",
      "(111, 0.58940335322630399)\n",
      "(112, 0.59168471220363661)\n",
      "(113, 0.59395145359460155)\n",
      "(114, 0.59618746024947911)\n",
      "(115, 0.59841631396338613)\n",
      "(116, 0.60063555786291922)\n",
      "(117, 0.60285217108049538)\n",
      "(118, 0.60505119452348122)\n",
      "(119, 0.60724673788212769)\n",
      "(120, 0.60942491367660356)\n",
      "(121, 0.61158732813305661)\n",
      "(122, 0.61374401472624407)\n",
      "(123, 0.61589736497632963)\n",
      "(124, 0.61802928697091741)\n",
      "(125, 0.620156714452341)\n",
      "(126, 0.62228063663484179)\n",
      "(127, 0.62439221558586278)\n",
      "(128, 0.62649598728199052)\n",
      "(129, 0.62858304514625651)\n",
      "(130, 0.6306630417805591)\n",
      "(131, 0.63272997942002129)\n",
      "(132, 0.63476688354361788)\n",
      "(133, 0.63679007384377651)\n",
      "(134, 0.63880441095134377)\n",
      "(135, 0.64079474302261286)\n",
      "(136, 0.64277030657234391)\n",
      "(137, 0.644737252674771)\n",
      "(138, 0.64668906775080082)\n",
      "(139, 0.6486336219471619)\n",
      "(140, 0.65056455252806289)\n",
      "(141, 0.65249207142698218)\n",
      "(142, 0.65440999418745527)\n",
      "(143, 0.65631988904299154)\n",
      "(144, 0.65821329136239559)\n",
      "(145, 0.66009921013529538)\n",
      "(146, 0.66198404052592841)\n",
      "(147, 0.66385971145772049)\n",
      "(148, 0.66572856637008671)\n",
      "(149, 0.66759416975962949)\n",
      "(150, 0.66944941845453043)\n",
      "(151, 0.67129941734666299)\n",
      "(152, 0.67313893805958247)\n",
      "(153, 0.6749750833246867)\n",
      "(154, 0.67680289100811553)\n",
      "(155, 0.6786242576368835)\n",
      "(156, 0.68044283513166282)\n",
      "(157, 0.68225685401129699)\n",
      "(158, 0.68406808715842216)\n",
      "(159, 0.68587730413053027)\n",
      "(160, 0.68768195894907047)\n",
      "(161, 0.6894836152674092)\n",
      "(162, 0.69128149935121574)\n",
      "(163, 0.69307526253314722)\n",
      "(164, 0.69486600736590032)\n",
      "(165, 0.69665508225567574)\n",
      "(166, 0.6984423933579238)\n",
      "(167, 0.70022785155296363)\n",
      "(168, 0.70200951313214166)\n",
      "(169, 0.70378865871661)\n",
      "(170, 0.70556697212052477)\n",
      "(171, 0.70734053250334716)\n",
      "(172, 0.70911272094799804)\n",
      "(173, 0.71088291903561929)\n",
      "(174, 0.7126505605632153)\n",
      "(175, 0.71441538999246901)\n",
      "(176, 0.716176594610062)\n",
      "(177, 0.71793628640042162)\n",
      "(178, 0.71969443425765622)\n",
      "(179, 0.72145073721296205)\n",
      "(180, 0.72320560961303437)\n",
      "(181, 0.72495736288045221)\n",
      "(182, 0.72670901397889598)\n",
      "(183, 0.72845756196064859)\n",
      "(184, 0.73020392933969025)\n",
      "(185, 0.73194962740890268)\n",
      "(186, 0.73369068753816735)\n",
      "(187, 0.73543063783721063)\n",
      "(188, 0.73716990644415592)\n",
      "(189, 0.7389061542176375)\n",
      "(190, 0.74064105859569529)\n",
      "(191, 0.74237392229790145)\n",
      "(192, 0.744104244240548)\n",
      "(193, 0.74583250204703222)\n",
      "(194, 0.74755706556081247)\n",
      "(195, 0.74927859919315798)\n",
      "(196, 0.75099842751265733)\n",
      "(197, 0.75271452897176361)\n",
      "(198, 0.75442955055018623)\n",
      "(199, 0.7561413897356678)\n",
      "(200, 0.75785211621192794)\n",
      "(201, 0.75955979856879874)\n",
      "(202, 0.76126426357865906)\n",
      "(203, 0.76296790433487671)\n",
      "(204, 0.76466886335761952)\n",
      "(205, 0.76636576036092519)\n",
      "(206, 0.76805990653540523)\n",
      "(207, 0.76974983186851031)\n",
      "(208, 0.77143456144302824)\n",
      "(209, 0.77311452308256823)\n",
      "(210, 0.77479044677747)\n",
      "(211, 0.77646318060062713)\n",
      "(212, 0.77813232530626275)\n",
      "(213, 0.77980133541920227)\n",
      "(214, 0.78146383478871895)\n",
      "(215, 0.78311889770826426)\n",
      "(216, 0.78477330318852045)\n",
      "(217, 0.78642316578819527)\n",
      "(218, 0.78806592923068097)\n",
      "(219, 0.7897007475767861)\n",
      "(220, 0.79133277670111568)\n",
      "(221, 0.79296085638297809)\n",
      "(222, 0.79457801665330041)\n",
      "(223, 0.79618881449392598)\n",
      "(224, 0.79779097321646986)\n",
      "(225, 0.79938364557352981)\n",
      "(226, 0.80096725479700315)\n",
      "(227, 0.802549532141693)\n",
      "(228, 0.80412548075431634)\n",
      "(229, 0.80569640529501851)\n",
      "(230, 0.80726077491282833)\n",
      "(231, 0.80881810475963645)\n",
      "(232, 0.81036394886146434)\n",
      "(233, 0.81190634418183627)\n",
      "(234, 0.81344311296227956)\n",
      "(235, 0.81496533373138702)\n",
      "(236, 0.81648564884341635)\n",
      "(237, 0.81799745129776968)\n",
      "(238, 0.81950575168645756)\n",
      "(239, 0.82101115994496721)\n",
      "(240, 0.82249746694494708)\n",
      "(241, 0.82397867494203203)\n",
      "(242, 0.82545469392740545)\n",
      "(243, 0.82691943010952174)\n",
      "(244, 0.82837575141871056)\n",
      "(245, 0.82982423024533691)\n",
      "(246, 0.83127078560531342)\n",
      "(247, 0.83271087488476103)\n",
      "(248, 0.83414730278244564)\n",
      "(249, 0.83557423915674645)\n",
      "(250, 0.83698873149418895)\n",
      "(251, 0.83839328385398959)\n",
      "(252, 0.83979478221687776)\n",
      "(253, 0.84119058024343818)\n",
      "(254, 0.84257593501074612)\n",
      "(255, 0.84395411644410134)\n",
      "(256, 0.84532781446354766)\n",
      "(257, 0.84669609000883539)\n",
      "(258, 0.84805771019537024)\n",
      "(259, 0.84941257832292416)\n",
      "(260, 0.85076476681842039)\n",
      "(261, 0.85210951282780745)\n",
      "(262, 0.8534421709145269)\n",
      "(263, 0.85476426162549934)\n",
      "(264, 0.85607689152157229)\n",
      "(265, 0.85738017668530109)\n",
      "(266, 0.85867166718814059)\n",
      "(267, 0.85995767445013582)\n",
      "(268, 0.86123869156833177)\n",
      "(269, 0.86251271895774617)\n",
      "(270, 0.863768988370471)\n",
      "(271, 0.86502120461297882)\n",
      "(272, 0.8662574817409312)\n",
      "(273, 0.86749054707074136)\n",
      "(274, 0.86871751309523426)\n",
      "(275, 0.86993273225535439)\n",
      "(276, 0.87114182718340383)\n",
      "(277, 0.87233687621600386)\n",
      "(278, 0.87351352811594263)\n",
      "(279, 0.8746873767811566)\n",
      "(280, 0.8758579869017461)\n",
      "(281, 0.87702071532705572)\n",
      "(282, 0.87818011039473798)\n",
      "(283, 0.87932650996123995)\n",
      "(284, 0.88046818101004465)\n",
      "(285, 0.88160119953637928)\n",
      "(286, 0.88273133793973424)\n",
      "(287, 0.8838558682375397)\n",
      "(288, 0.88496587389847026)\n",
      "(289, 0.88606492122931646)\n",
      "(290, 0.88715069385833289)\n",
      "(291, 0.88823521664351368)\n"
     ]
    }
   ],
   "source": [
    "\n",
    "# Getting cumulative sum of explained variance ratio.\n",
    "vals = pca.explained_variance_ratio_\n",
    "cumvals = list(np.cumsum(vals))\n",
    "for cmv in enumerate(cumvals):\n",
    "    print(cmv)"
   ]
  },
  {
   "cell_type": "code",
   "execution_count": 143,
   "metadata": {},
   "outputs": [],
   "source": [
    "# Define plot function to check out cumulative variance explained by principal components.\n",
    "\n",
    "def plot_cumulative_variance(pca):\n",
    "    '''\n",
    "    Creates a plot associated with the principal components \n",
    "    \n",
    "    INPUT: pca - the result of instantian of PCA in scikit learn\n",
    "            \n",
    "    OUTPUT:\n",
    "            None\n",
    "    '''\n",
    "    num_components=len(pca.explained_variance_ratio_)\n",
    "    ind = np.arange(num_components)\n",
    "    vals = pca.explained_variance_ratio_\n",
    " \n",
    "    plt.figure(figsize=(10, 6))\n",
    "    ax = plt.subplot(111)\n",
    "    cumvals = np.cumsum(vals)\n",
    "    #ax.bar(ind, vals)\n",
    "    ax.plot(ind, cumvals)\n",
    "    \n",
    "    ax.grid()\n",
    "    ax.set_axisbelow(True)\n",
    "    ax.grid(linewidth='0.5', alpha=0.5)\n",
    "    \n",
    "    cumval_ind_hv1 = []\n",
    "    cumval_ind_hv2 = []\n",
    "    cumval_ind_hv3 = []\n",
    "    cumval_ind_hv4 = []\n",
    "    cumval_ind_hv5 = []\n",
    "    cumval_ind_hv6 = []\n",
    "#    cumval_ind_hv7 = []\n",
    "    for i in enumerate(cumvals):\n",
    "        if i[1] > 0.3 and i[1] < 0.4:\n",
    "            cumval_ind_hv1.append(i)\n",
    "        elif i[1] > 0.4 and i[1] < 0.5:\n",
    "            cumval_ind_hv2.append(i)\n",
    "        elif i[1] > 0.5 and i[1] < 0.6:\n",
    "            cumval_ind_hv3.append(i)\n",
    "        elif i[1] > 0.6 and i[1] < 0.7:\n",
    "            cumval_ind_hv4.append(i)\n",
    "        elif i[1] > 0.7 and i[1] < 0.8:\n",
    "            cumval_ind_hv5.append(i)\n",
    "        elif i[1] > 0.8 and i[1] < 0.9:\n",
    "            cumval_ind_hv6.append(i)    \n",
    "#        elif i[1] > 0.9:\n",
    "#            cumval_ind_hv7.append(i)\n",
    "            \n",
    "    #print(cumval_ind_hv1[0][0])\n",
    "    #print(cumval_ind_hv2[0][0])\n",
    "    #print(cumval_ind_hv3[0][0])\n",
    "    #print(cumval_ind_hv4[0][0])\n",
    "    \n",
    "    # Plotting horizontal and vertical at points with cumulative variance of 30%, 50%, 60% and 80%.\n",
    "\n",
    "    plt.hlines(y=0.3, xmin=0, xmax=cumval_ind_hv1[0][0], color='red', linestyles='dashed',zorder=1)\n",
    "    plt.vlines(x=cumval_ind_hv1[0][0], ymin=0, ymax=0.3, color='red', linestyles='dashed',zorder=2)\n",
    "    plt.hlines(y=0.4, xmin=0, xmax=cumval_ind_hv2[0][0], color='red', linestyles='dashed',zorder=3)\n",
    "    plt.vlines(x=cumval_ind_hv2[0][0], ymin=0, ymax=0.4, color='red', linestyles='dashed',zorder=4)\n",
    "    plt.hlines(y=0.5, xmin=0, xmax=cumval_ind_hv3[0][0], color='red', linestyles='-',zorder=5)\n",
    "    plt.vlines(x=cumval_ind_hv3[0][0], ymin=0, ymax=0.5, color='red', linestyles='-',zorder=6)\n",
    "    plt.hlines(y=0.6, xmin=0, xmax=cumval_ind_hv4[0][0], color='red', linestyles='dashed',zorder=7)\n",
    "    plt.vlines(x=cumval_ind_hv4[0][0], ymin=0, ymax=0.6, color='red', linestyles='dashed',zorder=8)\n",
    "    plt.hlines(y=0.7, xmin=0, xmax=cumval_ind_hv5[0][0], color='red', linestyles='dashed',zorder=9)\n",
    "    plt.vlines(x=cumval_ind_hv5[0][0], ymin=0, ymax=0.7, color='red', linestyles='dashed',zorder=10)\n",
    "    plt.hlines(y=0.8, xmin=0, xmax=cumval_ind_hv6[0][0], color='red', linestyles='dashed',zorder=11)\n",
    "    plt.vlines(x=cumval_ind_hv6[0][0], ymin=0, ymax=0.8, color='red', linestyles='dashed',zorder=12) \n",
    "#    plt.hlines(y=0.9, xmin=0, xmax=cumval_ind_hv7[0][0], color='red', linestyles='dashed',zorder=13)\n",
    "#    plt.vlines(x=cumval_ind_hv7[0][0], ymin=0, ymax=0.9, color='red', linestyles='dashed',zorder=14)\n",
    "    \n",
    "    # Plotting number of components for cumulative variance of 30%, 50%, 60% and 80%.\n",
    "    for i,v in [cumval_ind_hv1[0], cumval_ind_hv2[0], cumval_ind_hv3[0],\\\n",
    "                cumval_ind_hv4[0], cumval_ind_hv5[0], cumval_ind_hv6[0]]:\n",
    "        ax.annotate(r\"%s\" % ((str(i+1))), (i+0.2, np.round(v, 2)), va=\"bottom\", ha=\"center\", fontsize=12)\n",
    "\n",
    "\n",
    " \n",
    "    ax.xaxis.set_tick_params(width=0)\n",
    "    ax.yaxis.set_tick_params(width=2, length=12)\n",
    " \n",
    "    ax.set_xlabel(\"Principal Component\")\n",
    "    ax.set_ylabel(\"Variance Explained (%)\")\n",
    "    plt.title('Cumulative Variance of Principal Components')"
   ]
  },
  {
   "cell_type": "code",
   "execution_count": 144,
   "metadata": {},
   "outputs": [
    {
     "data": {
      "image/png": "[encoded data removed]",
      "text/plain": [
       "<matplotlib.figure.Figure at 0x7f878e8bb550>"
      ]
     },
     "metadata": {
      "needs_background": "light"
     },
     "output_type": "display_data"
    }
   ],
   "source": [
    "plot_cumulative_variance(pca)"
   ]
  },
  {
   "cell_type": "code",
   "execution_count": 145,
   "metadata": {},
   "outputs": [],
   "source": [
    "# Re-apply PCA to the data while selecting for number of components to retain.\n",
    "pca_81, azdias_sample_pca = do_pca(81,azdias_sample_scaled)"
   ]
  },
  {
   "cell_type": "code",
   "execution_count": 146,
   "metadata": {},
   "outputs": [
    {
     "data": {
      "image/png": "[encoded data removed]",
      "text/plain": [
       "<matplotlib.figure.Figure at 0x7f878eaa5e10>"
      ]
     },
     "metadata": {
      "needs_background": "light"
     },
     "output_type": "display_data"
    }
   ],
   "source": [
    "scree_plot(pca_81)"
   ]
  },
  {
   "cell_type": "markdown",
   "metadata": {},
   "source": [
    "Discussion :  Perform Dimensionality Reduction <br>\n",
    "Before performing dimensionality reduction we had 584 features in the dataset which were cleaned, imputed, scaled and ready to use. We passed the features through PCA process to obtain principal components in the directions of maximum variance. We then visualized the explained variance ratio per principal components and cumulative variance ratio of principal components.\n",
    "\n",
    "From the plot of cumulative variance of principal components, we can observe that with every 10% increase of variance, the number of components required for the same increase kept on increasing i.e. to get 10 % increase from 30% to 40% to 50% to 60% to 70% to 80% of the total variance, it required to increase components from 26 to 48 to 78 to 117 to 168 to 227 .\n",
    "\n",
    "At 78, 117, 168 and 227 principal components, we had 50%, 60%, 70% and 80% of the total variance of the dataset.\n",
    "\n",
    "Also, from the plot above for explained variance ratio per principal components, we find that first 5 components made for 14% of the total variance in the dataset and first 10 components made for 20% of the total varaince of the dataset. we can observe that difference in explained variance ratio of consective features in 1-80 component interval is much more considerable which tapers off till 80 components after which we can observe that after around 80 features the variance explained levels off and is consistent till around 292 components and between this interval of 80-292 features, the variance explained ratio remain unchanged and is in the range of about 0.002 to 0.003 i.e. between 80-292 interval, difference between explained varaince ratio of consective features differ by 0.002 to 0.003 only which is very low and is not considerable.\n",
    "\n",
    "Looking at the \"Cumulative Explained Variance of Principal Components\", there seemed to be a good trade-off at 227 components at which 575 features are reduced to 227(principal components) and still maintained 80% of the dataset variance.\n",
    "\n",
    "So, proceeding with 81 principal components which explains 50% of the total variance in the dataset and should be helpful to much extent in generalizing the customer segments during cluster analysis process."
   ]
  },
  {
   "cell_type": "markdown",
   "metadata": {},
   "source": [
    " Interpret Principal Components <br>\n",
    "Now that we have our transformed principal components, it's a nice idea to check out the weight of each variable on the first few components to see if they can be interpreted in some fashion.\n",
    "\n",
    "As a reminder, each principal component is a unit vector that points in the direction of highest variance (after accounting for the variance captured by earlier principal components). The further a weight is from zero, the more the principal component is in the direction of the corresponding feature. If two features have large weights of the same sign (both positive or both negative), then increases in one tend expect to be associated with increases in the other. To contrast, features with different signs can be expected to show a negative correlation: increases in one variable should result in a decrease in the other.\n",
    "\n",
    "To investigate the features, you should map each weight to their corresponding feature name, then sort the features according to weight. The most interesting features for each principal component, then, will be those at the beginning and end of the sorted list. Use the data dictionary document to help you understand these most prominent features, their relationships, and what a positive or negative value on the principal component might indicate.\n",
    "You should investigate and interpret feature associations from the first three principal components in this substep. To help facilitate this, you should write a function that you can call at any time to print the sorted list of feature weights, for the i-th principal component. This might come in handy in the next step of the project, when you interpret the tendencies of the discovered clusters."
   ]
  },
  {
   "cell_type": "code",
   "execution_count": 147,
   "metadata": {},
   "outputs": [
    {
     "data": {
      "text/plain": [
       "array([[-0.07009912, -0.01339881,  0.09179772, ...,  0.06594093,\n",
       "         0.06536801, -0.08334965],\n",
       "       [ 0.00785385, -0.01635946,  0.05409956, ..., -0.03061121,\n",
       "         0.02053135,  0.01234735],\n",
       "       [ 0.0574403 ,  0.02431382,  0.03133388, ..., -0.05478821,\n",
       "        -0.10630592,  0.08976998],\n",
       "       ..., \n",
       "       [ 0.02034907, -0.05185911,  0.02021271, ...,  0.01993727,\n",
       "        -0.02131816,  0.00900313],\n",
       "       [ 0.01519637, -0.02459717,  0.01669033, ..., -0.00230843,\n",
       "        -0.05597418,  0.05761765],\n",
       "       [ 0.06539431,  0.08417019,  0.01642249, ...,  0.02400567,\n",
       "        -0.03967456,  0.04011128]])"
      ]
     },
     "execution_count": 147,
     "metadata": {},
     "output_type": "execute_result"
    }
   ],
   "source": [
    "# Principal components of pca_81 in feature space, representing the directions of maximum variance in the data.\n",
    "pca_81.components_"
   ]
  },
  {
   "cell_type": "code",
   "execution_count": 148,
   "metadata": {},
   "outputs": [
    {
     "data": {
      "text/plain": [
       "array([ 27.77438675,  18.53404025,  16.10740127,  11.5616527 ,\n",
       "         8.06550709,   7.049803  ,   6.71222757,   6.07562055,\n",
       "         5.87434614,   5.40851022,   4.83456359,   4.67987177,\n",
       "         4.49611526,   4.34599122,   3.99791707,   3.91350308,\n",
       "         3.81123111,   3.69675669,   3.677811  ,   3.61349483,\n",
       "         3.58524449,   3.55376388,   3.26522317,   3.26017452,\n",
       "         3.22567289,   3.17546999,   3.0528409 ,   3.00727376,\n",
       "         2.94701852,   2.86193586,   2.79959528,   2.76151328,\n",
       "         2.67817599,   2.65699213,   2.63443757,   2.57713722,\n",
       "         2.4910659 ,   2.43470563,   2.3899704 ,   2.36210515,\n",
       "         2.34918183,   2.30314515,   2.27678359,   2.25575569,\n",
       "         2.22798443,   2.20901028,   2.18853388,   2.15319433,\n",
       "         2.13132983,   2.10539314,   2.08358793,   2.06646094,\n",
       "         2.0444995 ,   2.03386427,   2.01755825,   2.00447399,\n",
       "         1.99734212,   1.96940413,   1.94311929,   1.93306012,\n",
       "         1.9161876 ,   1.90526539,   1.88125691,   1.87305997,\n",
       "         1.86524791,   1.84292617,   1.82084081,   1.81686868,\n",
       "         1.8063013 ,   1.79612931,   1.77275812,   1.74983825,\n",
       "         1.73228485,   1.72816646,   1.65811868,   1.64911405,\n",
       "         1.58405778,   1.56547866,   1.55174191,   1.53996861,   1.49281589])"
      ]
     },
     "execution_count": 148,
     "metadata": {},
     "output_type": "execute_result"
    }
   ],
   "source": [
    "# The amount of variance explained by each of the selected component in pca_81.\n",
    "pca_81.explained_variance_"
   ]
  },
  {
   "cell_type": "code",
   "execution_count": 149,
   "metadata": {},
   "outputs": [
    {
     "data": {
      "text/plain": [
       "array([ 0.04830295,  0.03223289,  0.02801268,  0.02010708,  0.01402687,\n",
       "        0.01226044,  0.01167336,  0.01056622,  0.01021618,  0.00940604,\n",
       "        0.00840788,  0.00813885,  0.00781928,  0.00755819,  0.00695285,\n",
       "        0.00680605,  0.00662818,  0.0064291 ,  0.00639615,  0.0062843 ,\n",
       "        0.00623517,  0.00618042,  0.00567861,  0.00566983,  0.00560983,\n",
       "        0.00552252,  0.00530925,  0.00523001,  0.00512521,  0.00497725,\n",
       "        0.00486883,  0.0048026 ,  0.00465767,  0.00462082,  0.0045816 ,\n",
       "        0.00448195,  0.00433226,  0.00423424,  0.00415644,  0.00410798,\n",
       "        0.00408551,  0.00400544,  0.0039596 ,  0.00392303,  0.00387473,\n",
       "        0.00384173,  0.00380612,  0.00374466,  0.00370664,  0.00366153,\n",
       "        0.00362361,  0.00359382,  0.00355563,  0.00353713,  0.00350877,\n",
       "        0.00348602,  0.00347361,  0.00342503,  0.00337931,  0.00336182,\n",
       "        0.00333248,  0.00331348,  0.00327173,  0.00325747,  0.00324389,\n",
       "        0.00320507,  0.00316666,  0.00315975,  0.00314137,  0.00312368,\n",
       "        0.00308304,  0.00304318,  0.00301265,  0.00300549,  0.00288366,\n",
       "        0.002868  ,  0.00275486,  0.00272255,  0.00269866,  0.00267819,\n",
       "        0.00259618])"
      ]
     },
     "execution_count": 149,
     "metadata": {},
     "output_type": "execute_result"
    }
   ],
   "source": [
    "# Percentage of variance explained by each of the selected components in pca_81.\n",
    "pca_81.explained_variance_ratio_"
   ]
  },
  {
   "cell_type": "code",
   "execution_count": 151,
   "metadata": {},
   "outputs": [],
   "source": [
    "# Create a dataframe of Explained Variance ratio in pca_81.\n",
    "dimensions = ['PC {}'.format(i) for i in range(1,len(pca_81.components_)+1)]\n",
    "ratios = pca_81.explained_variance_ratio_\n",
    "variance_ratios = pd.DataFrame(np.round(ratios, 4), columns = ['EXPLAINED_VARIANCE RATIO'])\n",
    "variance_ratios.index = dimensions"
   ]
  },
  {
   "cell_type": "code",
   "execution_count": 152,
   "metadata": {},
   "outputs": [
    {
     "data": {
      "text/html": [
       "<div>\n",
       "<style scoped>\n",
       "    .dataframe tbody tr th:only-of-type {\n",
       "        vertical-align: middle;\n",
       "    }\n",
       "\n",
       "    .dataframe tbody tr th {\n",
       "        vertical-align: top;\n",
       "    }\n",
       "\n",
       "    .dataframe thead th {\n",
       "        text-align: right;\n",
       "    }\n",
       "</style>\n",
       "<table border=\"1\" class=\"dataframe\">\n",
       "  <thead>\n",
       "    <tr style=\"text-align: right;\">\n",
       "      <th></th>\n",
       "      <th>EXPLAINED_VARIANCE RATIO</th>\n",
       "    </tr>\n",
       "  </thead>\n",
       "  <tbody>\n",
       "    <tr>\n",
       "      <th>PC 1</th>\n",
       "      <td>0.0483</td>\n",
       "    </tr>\n",
       "    <tr>\n",
       "      <th>PC 2</th>\n",
       "      <td>0.0322</td>\n",
       "    </tr>\n",
       "    <tr>\n",
       "      <th>PC 3</th>\n",
       "      <td>0.0280</td>\n",
       "    </tr>\n",
       "    <tr>\n",
       "      <th>PC 4</th>\n",
       "      <td>0.0201</td>\n",
       "    </tr>\n",
       "    <tr>\n",
       "      <th>PC 5</th>\n",
       "      <td>0.0140</td>\n",
       "    </tr>\n",
       "    <tr>\n",
       "      <th>PC 6</th>\n",
       "      <td>0.0123</td>\n",
       "    </tr>\n",
       "    <tr>\n",
       "      <th>PC 7</th>\n",
       "      <td>0.0117</td>\n",
       "    </tr>\n",
       "    <tr>\n",
       "      <th>PC 8</th>\n",
       "      <td>0.0106</td>\n",
       "    </tr>\n",
       "    <tr>\n",
       "      <th>PC 9</th>\n",
       "      <td>0.0102</td>\n",
       "    </tr>\n",
       "    <tr>\n",
       "      <th>PC 10</th>\n",
       "      <td>0.0094</td>\n",
       "    </tr>\n",
       "    <tr>\n",
       "      <th>PC 11</th>\n",
       "      <td>0.0084</td>\n",
       "    </tr>\n",
       "    <tr>\n",
       "      <th>PC 12</th>\n",
       "      <td>0.0081</td>\n",
       "    </tr>\n",
       "    <tr>\n",
       "      <th>PC 13</th>\n",
       "      <td>0.0078</td>\n",
       "    </tr>\n",
       "    <tr>\n",
       "      <th>PC 14</th>\n",
       "      <td>0.0076</td>\n",
       "    </tr>\n",
       "    <tr>\n",
       "      <th>PC 15</th>\n",
       "      <td>0.0070</td>\n",
       "    </tr>\n",
       "    <tr>\n",
       "      <th>PC 16</th>\n",
       "      <td>0.0068</td>\n",
       "    </tr>\n",
       "    <tr>\n",
       "      <th>PC 17</th>\n",
       "      <td>0.0066</td>\n",
       "    </tr>\n",
       "    <tr>\n",
       "      <th>PC 18</th>\n",
       "      <td>0.0064</td>\n",
       "    </tr>\n",
       "    <tr>\n",
       "      <th>PC 19</th>\n",
       "      <td>0.0064</td>\n",
       "    </tr>\n",
       "    <tr>\n",
       "      <th>PC 20</th>\n",
       "      <td>0.0063</td>\n",
       "    </tr>\n",
       "    <tr>\n",
       "      <th>PC 21</th>\n",
       "      <td>0.0062</td>\n",
       "    </tr>\n",
       "    <tr>\n",
       "      <th>PC 22</th>\n",
       "      <td>0.0062</td>\n",
       "    </tr>\n",
       "    <tr>\n",
       "      <th>PC 23</th>\n",
       "      <td>0.0057</td>\n",
       "    </tr>\n",
       "    <tr>\n",
       "      <th>PC 24</th>\n",
       "      <td>0.0057</td>\n",
       "    </tr>\n",
       "    <tr>\n",
       "      <th>PC 25</th>\n",
       "      <td>0.0056</td>\n",
       "    </tr>\n",
       "    <tr>\n",
       "      <th>PC 26</th>\n",
       "      <td>0.0055</td>\n",
       "    </tr>\n",
       "    <tr>\n",
       "      <th>PC 27</th>\n",
       "      <td>0.0053</td>\n",
       "    </tr>\n",
       "    <tr>\n",
       "      <th>PC 28</th>\n",
       "      <td>0.0052</td>\n",
       "    </tr>\n",
       "    <tr>\n",
       "      <th>PC 29</th>\n",
       "      <td>0.0051</td>\n",
       "    </tr>\n",
       "    <tr>\n",
       "      <th>PC 30</th>\n",
       "      <td>0.0050</td>\n",
       "    </tr>\n",
       "    <tr>\n",
       "      <th>...</th>\n",
       "      <td>...</td>\n",
       "    </tr>\n",
       "    <tr>\n",
       "      <th>PC 52</th>\n",
       "      <td>0.0036</td>\n",
       "    </tr>\n",
       "    <tr>\n",
       "      <th>PC 53</th>\n",
       "      <td>0.0036</td>\n",
       "    </tr>\n",
       "    <tr>\n",
       "      <th>PC 54</th>\n",
       "      <td>0.0035</td>\n",
       "    </tr>\n",
       "    <tr>\n",
       "      <th>PC 55</th>\n",
       "      <td>0.0035</td>\n",
       "    </tr>\n",
       "    <tr>\n",
       "      <th>PC 56</th>\n",
       "      <td>0.0035</td>\n",
       "    </tr>\n",
       "    <tr>\n",
       "      <th>PC 57</th>\n",
       "      <td>0.0035</td>\n",
       "    </tr>\n",
       "    <tr>\n",
       "      <th>PC 58</th>\n",
       "      <td>0.0034</td>\n",
       "    </tr>\n",
       "    <tr>\n",
       "      <th>PC 59</th>\n",
       "      <td>0.0034</td>\n",
       "    </tr>\n",
       "    <tr>\n",
       "      <th>PC 60</th>\n",
       "      <td>0.0034</td>\n",
       "    </tr>\n",
       "    <tr>\n",
       "      <th>PC 61</th>\n",
       "      <td>0.0033</td>\n",
       "    </tr>\n",
       "    <tr>\n",
       "      <th>PC 62</th>\n",
       "      <td>0.0033</td>\n",
       "    </tr>\n",
       "    <tr>\n",
       "      <th>PC 63</th>\n",
       "      <td>0.0033</td>\n",
       "    </tr>\n",
       "    <tr>\n",
       "      <th>PC 64</th>\n",
       "      <td>0.0033</td>\n",
       "    </tr>\n",
       "    <tr>\n",
       "      <th>PC 65</th>\n",
       "      <td>0.0032</td>\n",
       "    </tr>\n",
       "    <tr>\n",
       "      <th>PC 66</th>\n",
       "      <td>0.0032</td>\n",
       "    </tr>\n",
       "    <tr>\n",
       "      <th>PC 67</th>\n",
       "      <td>0.0032</td>\n",
       "    </tr>\n",
       "    <tr>\n",
       "      <th>PC 68</th>\n",
       "      <td>0.0032</td>\n",
       "    </tr>\n",
       "    <tr>\n",
       "      <th>PC 69</th>\n",
       "      <td>0.0031</td>\n",
       "    </tr>\n",
       "    <tr>\n",
       "      <th>PC 70</th>\n",
       "      <td>0.0031</td>\n",
       "    </tr>\n",
       "    <tr>\n",
       "      <th>PC 71</th>\n",
       "      <td>0.0031</td>\n",
       "    </tr>\n",
       "    <tr>\n",
       "      <th>PC 72</th>\n",
       "      <td>0.0030</td>\n",
       "    </tr>\n",
       "    <tr>\n",
       "      <th>PC 73</th>\n",
       "      <td>0.0030</td>\n",
       "    </tr>\n",
       "    <tr>\n",
       "      <th>PC 74</th>\n",
       "      <td>0.0030</td>\n",
       "    </tr>\n",
       "    <tr>\n",
       "      <th>PC 75</th>\n",
       "      <td>0.0029</td>\n",
       "    </tr>\n",
       "    <tr>\n",
       "      <th>PC 76</th>\n",
       "      <td>0.0029</td>\n",
       "    </tr>\n",
       "    <tr>\n",
       "      <th>PC 77</th>\n",
       "      <td>0.0028</td>\n",
       "    </tr>\n",
       "    <tr>\n",
       "      <th>PC 78</th>\n",
       "      <td>0.0027</td>\n",
       "    </tr>\n",
       "    <tr>\n",
       "      <th>PC 79</th>\n",
       "      <td>0.0027</td>\n",
       "    </tr>\n",
       "    <tr>\n",
       "      <th>PC 80</th>\n",
       "      <td>0.0027</td>\n",
       "    </tr>\n",
       "    <tr>\n",
       "      <th>PC 81</th>\n",
       "      <td>0.0026</td>\n",
       "    </tr>\n",
       "  </tbody>\n",
       "</table>\n",
       "<p>81 rows × 1 columns</p>\n",
       "</div>"
      ],
      "text/plain": [
       "       EXPLAINED_VARIANCE RATIO\n",
       "PC 1                     0.0483\n",
       "PC 2                     0.0322\n",
       "PC 3                     0.0280\n",
       "PC 4                     0.0201\n",
       "PC 5                     0.0140\n",
       "PC 6                     0.0123\n",
       "PC 7                     0.0117\n",
       "PC 8                     0.0106\n",
       "PC 9                     0.0102\n",
       "PC 10                    0.0094\n",
       "PC 11                    0.0084\n",
       "PC 12                    0.0081\n",
       "PC 13                    0.0078\n",
       "PC 14                    0.0076\n",
       "PC 15                    0.0070\n",
       "PC 16                    0.0068\n",
       "PC 17                    0.0066\n",
       "PC 18                    0.0064\n",
       "PC 19                    0.0064\n",
       "PC 20                    0.0063\n",
       "PC 21                    0.0062\n",
       "PC 22                    0.0062\n",
       "PC 23                    0.0057\n",
       "PC 24                    0.0057\n",
       "PC 25                    0.0056\n",
       "PC 26                    0.0055\n",
       "PC 27                    0.0053\n",
       "PC 28                    0.0052\n",
       "PC 29                    0.0051\n",
       "PC 30                    0.0050\n",
       "...                         ...\n",
       "PC 52                    0.0036\n",
       "PC 53                    0.0036\n",
       "PC 54                    0.0035\n",
       "PC 55                    0.0035\n",
       "PC 56                    0.0035\n",
       "PC 57                    0.0035\n",
       "PC 58                    0.0034\n",
       "PC 59                    0.0034\n",
       "PC 60                    0.0034\n",
       "PC 61                    0.0033\n",
       "PC 62                    0.0033\n",
       "PC 63                    0.0033\n",
       "PC 64                    0.0033\n",
       "PC 65                    0.0032\n",
       "PC 66                    0.0032\n",
       "PC 67                    0.0032\n",
       "PC 68                    0.0032\n",
       "PC 69                    0.0031\n",
       "PC 70                    0.0031\n",
       "PC 71                    0.0031\n",
       "PC 72                    0.0030\n",
       "PC 73                    0.0030\n",
       "PC 74                    0.0030\n",
       "PC 75                    0.0029\n",
       "PC 76                    0.0029\n",
       "PC 77                    0.0028\n",
       "PC 78                    0.0027\n",
       "PC 79                    0.0027\n",
       "PC 80                    0.0027\n",
       "PC 81                    0.0026\n",
       "\n",
       "[81 rows x 1 columns]"
      ]
     },
     "execution_count": 152,
     "metadata": {},
     "output_type": "execute_result"
    }
   ],
   "source": [
    "variance_ratios"
   ]
  },
  {
   "cell_type": "code",
   "execution_count": 153,
   "metadata": {},
   "outputs": [],
   "source": [
    "# Create a dataframe with the weights for each principal component in pca_81.\n",
    "# Map weights for the principal components to corresponding feature names.\n",
    "components_weights = pd.DataFrame(np.round(pca_81.components_, 4), columns = azdias_sample_scaled.keys())\n",
    "components_weights.index = dimensions"
   ]
  },
  {
   "cell_type": "code",
   "execution_count": 154,
   "metadata": {},
   "outputs": [
    {
     "data": {
      "text/html": [
       "<div>\n",
       "<style scoped>\n",
       "    .dataframe tbody tr th:only-of-type {\n",
       "        vertical-align: middle;\n",
       "    }\n",
       "\n",
       "    .dataframe tbody tr th {\n",
       "        vertical-align: top;\n",
       "    }\n",
       "\n",
       "    .dataframe thead th {\n",
       "        text-align: right;\n",
       "    }\n",
       "</style>\n",
       "<table border=\"1\" class=\"dataframe\">\n",
       "  <thead>\n",
       "    <tr style=\"text-align: right;\">\n",
       "      <th></th>\n",
       "      <th>ANZ_HAUSHALTE_AKTIV</th>\n",
       "      <th>ANZ_HH_TITEL</th>\n",
       "      <th>ANZ_PERSONEN</th>\n",
       "      <th>ANZ_TITEL</th>\n",
       "      <th>ARBEIT</th>\n",
       "      <th>BALLRAUM</th>\n",
       "      <th>D19_BANKEN_DIREKT</th>\n",
       "      <th>D19_BANKEN_GROSS</th>\n",
       "      <th>D19_BANKEN_LOKAL</th>\n",
       "      <th>D19_BANKEN_REST</th>\n",
       "      <th>...</th>\n",
       "      <th>ZABEOTYP_3</th>\n",
       "      <th>ZABEOTYP_4</th>\n",
       "      <th>ZABEOTYP_5</th>\n",
       "      <th>ZABEOTYP_6</th>\n",
       "      <th>PRAEGENDE_JUGENDJAHRE_decade</th>\n",
       "      <th>PRAEGENDE_JUGENDJAHRE_movement</th>\n",
       "      <th>CAMEO_INTL_2015_wealth</th>\n",
       "      <th>CAMEO_INTL_2015_life_stage</th>\n",
       "      <th>WOHNLAGE_rural</th>\n",
       "      <th>WOHNLAGE_rating_class</th>\n",
       "    </tr>\n",
       "  </thead>\n",
       "  <tbody>\n",
       "    <tr>\n",
       "      <th>PC 1</th>\n",
       "      <td>-0.0701</td>\n",
       "      <td>-0.0134</td>\n",
       "      <td>0.0918</td>\n",
       "      <td>0.0051</td>\n",
       "      <td>-0.0837</td>\n",
       "      <td>0.0470</td>\n",
       "      <td>0.0607</td>\n",
       "      <td>0.0442</td>\n",
       "      <td>0.0279</td>\n",
       "      <td>0.0511</td>\n",
       "      <td>...</td>\n",
       "      <td>-0.0367</td>\n",
       "      <td>0.0113</td>\n",
       "      <td>-0.0409</td>\n",
       "      <td>-0.0371</td>\n",
       "      <td>-0.0059</td>\n",
       "      <td>-0.0799</td>\n",
       "      <td>-0.1219</td>\n",
       "      <td>0.0659</td>\n",
       "      <td>0.0654</td>\n",
       "      <td>-0.0833</td>\n",
       "    </tr>\n",
       "    <tr>\n",
       "      <th>PC 2</th>\n",
       "      <td>0.0079</td>\n",
       "      <td>-0.0164</td>\n",
       "      <td>0.0541</td>\n",
       "      <td>-0.0094</td>\n",
       "      <td>0.0591</td>\n",
       "      <td>0.0354</td>\n",
       "      <td>0.0711</td>\n",
       "      <td>0.0562</td>\n",
       "      <td>0.0187</td>\n",
       "      <td>0.0437</td>\n",
       "      <td>...</td>\n",
       "      <td>-0.0518</td>\n",
       "      <td>0.0553</td>\n",
       "      <td>0.0229</td>\n",
       "      <td>-0.0118</td>\n",
       "      <td>0.0629</td>\n",
       "      <td>0.0660</td>\n",
       "      <td>0.0579</td>\n",
       "      <td>-0.0306</td>\n",
       "      <td>0.0205</td>\n",
       "      <td>0.0123</td>\n",
       "    </tr>\n",
       "    <tr>\n",
       "      <th>PC 3</th>\n",
       "      <td>0.0574</td>\n",
       "      <td>0.0243</td>\n",
       "      <td>0.0313</td>\n",
       "      <td>0.0058</td>\n",
       "      <td>0.0333</td>\n",
       "      <td>-0.1088</td>\n",
       "      <td>0.0687</td>\n",
       "      <td>0.0585</td>\n",
       "      <td>0.0047</td>\n",
       "      <td>0.0452</td>\n",
       "      <td>...</td>\n",
       "      <td>-0.0789</td>\n",
       "      <td>0.0602</td>\n",
       "      <td>0.0354</td>\n",
       "      <td>0.0004</td>\n",
       "      <td>0.0975</td>\n",
       "      <td>-0.0264</td>\n",
       "      <td>0.0560</td>\n",
       "      <td>-0.0548</td>\n",
       "      <td>-0.1063</td>\n",
       "      <td>0.0898</td>\n",
       "    </tr>\n",
       "    <tr>\n",
       "      <th>PC 4</th>\n",
       "      <td>0.0293</td>\n",
       "      <td>0.0226</td>\n",
       "      <td>0.0230</td>\n",
       "      <td>0.0122</td>\n",
       "      <td>0.0928</td>\n",
       "      <td>-0.0538</td>\n",
       "      <td>0.0083</td>\n",
       "      <td>0.0046</td>\n",
       "      <td>0.0058</td>\n",
       "      <td>0.0129</td>\n",
       "      <td>...</td>\n",
       "      <td>0.1328</td>\n",
       "      <td>-0.0738</td>\n",
       "      <td>-0.0872</td>\n",
       "      <td>-0.0025</td>\n",
       "      <td>-0.1892</td>\n",
       "      <td>-0.0562</td>\n",
       "      <td>0.0341</td>\n",
       "      <td>0.0366</td>\n",
       "      <td>-0.0765</td>\n",
       "      <td>0.0521</td>\n",
       "    </tr>\n",
       "    <tr>\n",
       "      <th>PC 5</th>\n",
       "      <td>-0.0066</td>\n",
       "      <td>0.0099</td>\n",
       "      <td>-0.0172</td>\n",
       "      <td>0.0051</td>\n",
       "      <td>0.0894</td>\n",
       "      <td>0.0361</td>\n",
       "      <td>-0.0075</td>\n",
       "      <td>-0.0064</td>\n",
       "      <td>-0.0067</td>\n",
       "      <td>-0.0104</td>\n",
       "      <td>...</td>\n",
       "      <td>-0.0696</td>\n",
       "      <td>0.0204</td>\n",
       "      <td>0.0507</td>\n",
       "      <td>-0.0054</td>\n",
       "      <td>0.0791</td>\n",
       "      <td>-0.0419</td>\n",
       "      <td>-0.0353</td>\n",
       "      <td>0.0750</td>\n",
       "      <td>-0.0120</td>\n",
       "      <td>-0.0204</td>\n",
       "    </tr>\n",
       "  </tbody>\n",
       "</table>\n",
       "<p>5 rows × 575 columns</p>\n",
       "</div>"
      ],
      "text/plain": [
       "      ANZ_HAUSHALTE_AKTIV  ANZ_HH_TITEL  ANZ_PERSONEN  ANZ_TITEL  ARBEIT  \\\n",
       "PC 1              -0.0701       -0.0134        0.0918     0.0051 -0.0837   \n",
       "PC 2               0.0079       -0.0164        0.0541    -0.0094  0.0591   \n",
       "PC 3               0.0574        0.0243        0.0313     0.0058  0.0333   \n",
       "PC 4               0.0293        0.0226        0.0230     0.0122  0.0928   \n",
       "PC 5              -0.0066        0.0099       -0.0172     0.0051  0.0894   \n",
       "\n",
       "      BALLRAUM  D19_BANKEN_DIREKT  D19_BANKEN_GROSS  D19_BANKEN_LOKAL  \\\n",
       "PC 1    0.0470             0.0607            0.0442            0.0279   \n",
       "PC 2    0.0354             0.0711            0.0562            0.0187   \n",
       "PC 3   -0.1088             0.0687            0.0585            0.0047   \n",
       "PC 4   -0.0538             0.0083            0.0046            0.0058   \n",
       "PC 5    0.0361            -0.0075           -0.0064           -0.0067   \n",
       "\n",
       "      D19_BANKEN_REST          ...            ZABEOTYP_3  ZABEOTYP_4  \\\n",
       "PC 1           0.0511          ...               -0.0367      0.0113   \n",
       "PC 2           0.0437          ...               -0.0518      0.0553   \n",
       "PC 3           0.0452          ...               -0.0789      0.0602   \n",
       "PC 4           0.0129          ...                0.1328     -0.0738   \n",
       "PC 5          -0.0104          ...               -0.0696      0.0204   \n",
       "\n",
       "      ZABEOTYP_5  ZABEOTYP_6  PRAEGENDE_JUGENDJAHRE_decade  \\\n",
       "PC 1     -0.0409     -0.0371                       -0.0059   \n",
       "PC 2      0.0229     -0.0118                        0.0629   \n",
       "PC 3      0.0354      0.0004                        0.0975   \n",
       "PC 4     -0.0872     -0.0025                       -0.1892   \n",
       "PC 5      0.0507     -0.0054                        0.0791   \n",
       "\n",
       "      PRAEGENDE_JUGENDJAHRE_movement  CAMEO_INTL_2015_wealth  \\\n",
       "PC 1                         -0.0799                 -0.1219   \n",
       "PC 2                          0.0660                  0.0579   \n",
       "PC 3                         -0.0264                  0.0560   \n",
       "PC 4                         -0.0562                  0.0341   \n",
       "PC 5                         -0.0419                 -0.0353   \n",
       "\n",
       "      CAMEO_INTL_2015_life_stage  WOHNLAGE_rural  WOHNLAGE_rating_class  \n",
       "PC 1                      0.0659          0.0654                -0.0833  \n",
       "PC 2                     -0.0306          0.0205                 0.0123  \n",
       "PC 3                     -0.0548         -0.1063                 0.0898  \n",
       "PC 4                      0.0366         -0.0765                 0.0521  \n",
       "PC 5                      0.0750         -0.0120                -0.0204  \n",
       "\n",
       "[5 rows x 575 columns]"
      ]
     },
     "execution_count": 154,
     "metadata": {},
     "output_type": "execute_result"
    }
   ],
   "source": [
    "components_weights.head()"
   ]
  },
  {
   "cell_type": "code",
   "execution_count": 155,
   "metadata": {},
   "outputs": [],
   "source": [
    "# Map weights for the first principal component to corresponding feature names\n",
    "# and then print the linked values, sorted by weight.\n",
    "# HINT: Try defining a function here or in a new cell that you can reuse in the\n",
    "# other cells.\n",
    "\n",
    "# Highest positive and negative weights for the first Principal Componnent\n",
    "\n",
    "def weights_sorted_p_comp(n_p_comp, n_weights):\n",
    "    p_comp = 'PC' + ' ' + str(n_p_comp)\n",
    "    print(\"Principal Component\", (n_p_comp))\n",
    "    print('-' * 30)\n",
    "    print(\"\\nTop positive weights are below\\n\")\n",
    "    print(components_weights.loc[p_comp].sort_values(ascending=False)[:n_weights])\n",
    "    print('-' * 30)\n",
    "    print(\"\\nTop negative weights are below\\n\")\n",
    "    print(components_weights.loc[p_comp].sort_values()[:n_weights])"
   ]
  },
  {
   "cell_type": "code",
   "execution_count": 156,
   "metadata": {},
   "outputs": [],
   "source": [
    "def plot_component_weights(n_p_comp, n_weights):\n",
    "    '''\n",
    "    n_p_comp: prinicipal component number\n",
    "    n_weights: number of top positive and top negative weights\n",
    "    '''\n",
    "    p_comp = 'PC' + ' ' + str(n_p_comp)\n",
    "    comp_weight_first_last = components_weights.loc[p_comp].sort_values(ascending=False)[:n_weights].append(\n",
    "                                    components_weights.loc[p_comp].sort_values()[:n_weights])\n",
    "    \n",
    "    # Create a bar plot visualization\n",
    "    fig, ax = plt.subplots(figsize = (10,6))\n",
    "    comp_weight_first_last.plot(ax = ax, kind = 'bar')\n",
    "\n",
    "    # Turn on the grid\n",
    "    ax.grid()\n",
    "    \n",
    "    # Don't allow the axis to be on top of your data\n",
    "    ax.set_axisbelow(True)\n",
    "    \n",
    "    # Customize the grid\n",
    "    ax.grid(linewidth='0.5', alpha=0.5)\n",
    "\n",
    "    #comp_weight_first_last.plot(ax = ax, kind = 'bar')\n",
    "    ax.set_ylabel(\"Feature Weights\")\n",
    "    #ax.set_xticklabels(list(comp_weight_first_last.index), rotation='vertical')\n",
    "    plt.show()"
   ]
  },
  {
   "cell_type": "code",
   "execution_count": 157,
   "metadata": {},
   "outputs": [
    {
     "name": "stdout",
     "output_type": "stream",
     "text": [
      "Principal Component 1\n",
      "------------------------------\n",
      "\n",
      "Top positive weights are below\n",
      "\n",
      "MOBI_REGIO        0.1306\n",
      "KBA05_ANTG1       0.1228\n",
      "KBA05_AUTOQUOT    0.1189\n",
      "PLZ8_ANTG1        0.1170\n",
      "KBA05_GBZ         0.1151\n",
      "Name: PC 1, dtype: float64\n",
      "------------------------------\n",
      "\n",
      "Top negative weights are below\n",
      "\n",
      "HH_EINKOMMEN_SCORE       -0.1281\n",
      "CAMEO_INTL_2015_wealth   -0.1219\n",
      "LP_STATUS_GROB_1.0       -0.1182\n",
      "PLZ8_ANTG3               -0.1145\n",
      "D19_GESAMT_ANZ_24_0      -0.1103\n",
      "Name: PC 1, dtype: float64\n"
     ]
    }
   ],
   "source": [
    "# Getting top 5 positive and negative weights of a principal component 1.\n",
    "weights_sorted_p_comp(1, 5)"
   ]
  },
  {
   "cell_type": "code",
   "execution_count": 158,
   "metadata": {},
   "outputs": [
    {
     "data": {
      "image/png": "[encoded data removed]",
      "text/plain": [
       "<matplotlib.figure.Figure at 0x7f878dbc33c8>"
      ]
     },
     "metadata": {
      "needs_background": "light"
     },
     "output_type": "display_data"
    }
   ],
   "source": [
    "# Plotting the top 5 positive and negative weights of a principal component 1.\n",
    "plot_component_weights(1, 5)"
   ]
  },
  {
   "cell_type": "code",
   "execution_count": 159,
   "metadata": {},
   "outputs": [
    {
     "name": "stdout",
     "output_type": "stream",
     "text": [
      "Principal Component 2\n",
      "------------------------------\n",
      "\n",
      "Top positive weights are below\n",
      "\n",
      "KBA13_SITZE_5           0.1179\n",
      "KBA13_SEG_KLEINWAGEN    0.1079\n",
      "KBA13_KMH_140_210       0.1035\n",
      "KBA13_KMH_180           0.1024\n",
      "KBA13_HALTER_25         0.1004\n",
      "Name: PC 2, dtype: float64\n",
      "------------------------------\n",
      "\n",
      "Top negative weights are below\n",
      "\n",
      "KBA13_HERST_BMW_BENZ          -0.1413\n",
      "KBA13_MERCEDES                -0.1233\n",
      "KBA13_SEG_OBEREMITTELKLASSE   -0.1178\n",
      "KBA13_BMW                     -0.1146\n",
      "KBA13_SEG_SPORTWAGEN          -0.1094\n",
      "Name: PC 2, dtype: float64\n"
     ]
    }
   ],
   "source": [
    "# Map weights for the second principal component to corresponding feature names\n",
    "# and then print the linked values, sorted by weight.\n",
    "\n",
    "# Getting top 5 positive and negative weights of a principal component 2.\n",
    "weights_sorted_p_comp(2, 5)"
   ]
  },
  {
   "cell_type": "code",
   "execution_count": 160,
   "metadata": {},
   "outputs": [
    {
     "data": {
      "image/png": "[encoded data removed]",
      "text/plain": [
       "<matplotlib.figure.Figure at 0x7f878b256588>"
      ]
     },
     "metadata": {
      "needs_background": "light"
     },
     "output_type": "display_data"
    }
   ],
   "source": [
    "# Plotting the top 5 positive and negative weights of a principal component 2.\n",
    "plot_component_weights(2, 5)\n"
   ]
  },
  {
   "cell_type": "code",
   "execution_count": 161,
   "metadata": {},
   "outputs": [
    {
     "name": "stdout",
     "output_type": "stream",
     "text": [
      "Principal Component 3\n",
      "------------------------------\n",
      "\n",
      "Top positive weights are below\n",
      "\n",
      "EWDICHTE                       0.1445\n",
      "ORTSGR_KLS9                    0.1386\n",
      "KBA13_HERST_BMW_BENZ           0.1193\n",
      "KBA13_SEG_OBEREMITTELKLASSE    0.1085\n",
      "PLZ8_ANTG3                     0.1083\n",
      "Name: PC 3, dtype: float64\n",
      "------------------------------\n",
      "\n",
      "Top negative weights are below\n",
      "\n",
      "KBA13_ALTERHALTER_60   -0.1315\n",
      "KBA13_HALTER_55        -0.1195\n",
      "KBA13_AUTOQUOTE        -0.1162\n",
      "KBA13_HALTER_50        -0.1139\n",
      "INNENSTADT             -0.1120\n",
      "Name: PC 3, dtype: float64\n"
     ]
    }
   ],
   "source": [
    "# Map weights for the third principal component to corresponding feature names\n",
    "# and then print the linked values, sorted by weight.\n",
    "\n",
    "# Getting top 5 positive and negative weights of a principal component 3.\n",
    "weights_sorted_p_comp(3, 5)"
   ]
  },
  {
   "cell_type": "code",
   "execution_count": 162,
   "metadata": {},
   "outputs": [
    {
     "data": {
      "image/png": "[encoded data removed]",
      "text/plain": [
       "<matplotlib.figure.Figure at 0x7f878e1ca278>"
      ]
     },
     "metadata": {
      "needs_background": "light"
     },
     "output_type": "display_data"
    }
   ],
   "source": [
    "# Plotting the top 5 positive and negative weights of a principal component 3.\n",
    "plot_component_weights(3, 5)"
   ]
  },
  {
   "cell_type": "markdown",
   "metadata": {},
   "source": [
    "Interpret Principal Components <br>\n",
    "The first 5 principal components make up 14.02% of the total variance of the dataset. The first component makes up 4.75% of the total variance.\n",
    "\n",
    "Each component is a combination of the 584 features left after cleaning, with each feature given a weight relative to its importance for a particular principal component. The higher the weight either positive or negative, the more impact the feature has on the calculation of the principal component. What value of weight is important is subjective and depends on the context.\n",
    "\n",
    "We have taken the top 5 highest postive weights and negative weights to interpret the first 3 principal components.\n",
    "\n",
    "The first principal component has positive weights with features mentioned below:\n",
    "\n",
    "MOBI_REGIO - Movement patterns(higher is lower movement)\n",
    "KBA05_ANTG1 - Number of 1-2 family houses in the microcell(higher is higher share)\n",
    "KBA05_AUTOQUOT - Share of cars per household(higher is higher quote)\n",
    "PLZ8_ANTG1 - Number of 1-2 family houses in the PLZ8 region(higher is higher share)\n",
    "KBA05_GBZ - Number of buildings in the microcell(higher is more buildings)\n",
    "The first principal component has negative weights with features mentioned below:\n",
    "\n",
    "HH_EINKOMMEN_SCORE - Estimated household net income(higher is lower income)\n",
    "CAMEO_INTL_2015_wealth - Household Wealth Typology(Household wealth (higher is lower household or income)\n",
    "LP_STATUS_GROB_1.0 - Social status rough(higher is higher earner)\n",
    "PLZ8_ANTG3 - Number of 6-10 family houses in the PLZ8 region(higher is higher number)\n",
    "D19_GESAMT_ANZ_24_0 - Transaction activity TOTAL POOL in the last 24 months(higher is higher activity)\n",
    "First principal component seems to be representing a combination of features that relate to population density in an area and the associated wealth of that area. Positive correlations with increasing population density, movemnet patterns & share of cars per household and negative correlations with Household wealth, financial status & transaction activity in last 24 months. It appears that the first principal component is related to the indiviudal financial status, movement, share of family homes, share of cars per household & transaction activity in last 24 months.\n",
    "\n",
    "The second principal component have positive weights with features mentioned below:\n",
    "\n",
    "KBA13_SITZE_5 - number of cars with 5 seats(higher is higher)\n",
    "KBA13_SEG_KLEINWAGEN - share of small and very small cars(higher is higher)\n",
    "KBA13_KMH_140_210 - share of cars with max speed between 140 and 210 km/h(higher is higher)\n",
    "KBA13_KMH_180 - share of cars with max speed between 110 km/h and 180km/h(higher is higher)\n",
    "KBA13_HALTER_25 - share of car owners between 21 and 25(higher is higher)\n",
    "The second principal component have negative weights with features mentioned below:\n",
    "\n",
    "KBA13_HERST_BMW_BENZ - share of BMW & Mercedes Benz(higher is higher)\n",
    "KBA13_MERCEDES - share of MERCEDES(higher is higher)\n",
    "KBA13_SEG_OBEREMITTELKLASSE - share of upper middle class cars and upper class cars(higher is higher)\n",
    "KBA13_BMW - share of BMW(higher is higher)\n",
    "KBA13_SEG_SPORTWAGEN - share of sportscars(higher is higher)\n",
    "The second principal component seems to be representing a combination of features related to share of different types of cars in an area & share of car owners. Positive correlations with number of cars having 5 seats which are small in size with maximum speed between 110 to 210 Km/h and share of car owners between 21 and 25 and neagtive correlations with share of upper middle class and upper class cars like BMW, Mercedes Benz & sports cars. It appers that second principal component is related to share of different types of cars in an area and share of number of car owners in an area.\n",
    "\n",
    "The third principal component have positive weights with features mentioned below:\n",
    "\n",
    "EWDICHTE - Density of households per square kilometer(higher is higher density)\n",
    "ORTSGR_KLS9 - Size of community(higher is higher size)\n",
    "KBA13_HERST_BMW_BENZ - share of BMW & Mercedes Benz(higher is higher)\n",
    "PLZ8_ANTG3 - Number of 6-10 family houses in the PLZ8 region(higher is higher number)\n",
    "KBA13_SEG_OBEREMITTELKLASSE - share of upper middle class cars and upper class cars(higher is higher)\n",
    "The third principal component have negative weights with features mentioned below:\n",
    "\n",
    "KBA13_ALTERHALTER_60 - share of car owners between 46 and 60(higher is higher)\n",
    "KBA13_HALTER_55 - share of car owners between 51 and 55(higher is higher)\n",
    "KBA13_AUTOQUOTE - share of cars per household(higher is higher)\n",
    "KBA13_HALTER_50 - share of car owners between 46 and 50(higher is higher)\n",
    "INNENSTADT - distance to the city centre(higher is higher distance)\n",
    "The third principal component is related to population density in an area, share of cars and car owners in an area & distance to the . Positive correlations with density of households and share of upper middle class cars and upper class cars like BMW & Mercedes Benz and negative correlations with share of cars & car owners along with distance to the city centre. It appears that second principal component is related to share of car owners with respect to share of cars and with respect to population density in an area."
   ]
  },
  {
   "cell_type": "markdown",
   "metadata": {},
   "source": [
    " Clustering<br>\n",
    " Apply Clustering to General Population<br>\n",
    "You've assessed and cleaned the demographics data, then scaled and transformed them. Now, it's time to see how the data clusters in the principal components space. In this substep, you will apply k-means clustering to the dataset and use the average within-cluster distances from each point to their assigned cluster's centroid to decide on a number of clusters to keep.<br>\n",
    "\n",
    "Use sklearn's KMeans class to perform k-means clustering on the PCA-transformed data.<br>\n",
    "Then, compute the average difference from each point to its assigned cluster's center. Hint: The KMeans object's .score() method might be useful here, but note that in sklearn, scores tend to be defined so that larger is better. Try applying it to a small, toy dataset, or use an internet search to help your understanding.<br>\n",
    "Perform the above two steps for a number of different cluster counts. You can then see how the average distance decreases with an increasing number of clusters. However, each additional cluster provides a smaller net benefit. Use this fact to select a final number of clusters in which to group the data. Warning: because of the large size of the dataset, it can take a long time for the algorithm to resolve. The more clusters to fit, the longer the algorithm will take. You should test for cluster counts through at least 10 clusters to get the full picture, but you shouldn't need to test for a number of clusters above about 30.<br>\n",
    "Once you've selected a final number of clusters to use, re-fit a KMeans instance to perform the clustering operation. Make sure that you also obtain the cluster assignments for the general demographics data, since you'll be using them in the final Step <br>"
   ]
  },
  {
   "cell_type": "code",
   "execution_count": 163,
   "metadata": {},
   "outputs": [
    {
     "data": {
      "text/plain": [
       "numpy.ndarray"
      ]
     },
     "execution_count": 163,
     "metadata": {},
     "output_type": "execute_result"
    }
   ],
   "source": [
    "# Printing type of azdias_sample_pca\n",
    "type(azdias_sample_pca)"
   ]
  },
  {
   "cell_type": "code",
   "execution_count": 164,
   "metadata": {},
   "outputs": [
    {
     "data": {
      "text/plain": [
       "(145818, 81)"
      ]
     },
     "execution_count": 164,
     "metadata": {},
     "output_type": "execute_result"
    }
   ],
   "source": [
    "# Printing shape of azdias_sample_pca\n",
    "azdias_sample_pca.shape"
   ]
  },
  {
   "cell_type": "code",
   "execution_count": 165,
   "metadata": {},
   "outputs": [],
   "source": [
    "def get_kmeans_score(data, center):\n",
    "    '''\n",
    "    returns the kmeans score regarding SSE for points to centers\n",
    "    INPUT:\n",
    "        data - the dataset you want to fit kmeans to\n",
    "        center - the number of centers you want (the k value)\n",
    "    OUTPUT:\n",
    "        score - the SSE score for the kmeans model fit to the data\n",
    "    '''\n",
    "    #instantiate kmeans\n",
    "    kmeans = KMeans(n_clusters=center)\n",
    "\n",
    "    # Then fit the model to your data using the fit method\n",
    "    model = kmeans.fit(data)\n",
    "    \n",
    "    # Obtain a score related to the model fit\n",
    "    score = np.abs(model.score(data))\n",
    "    \n",
    "    return score"
   ]
  },
  {
   "cell_type": "code",
   "execution_count": 166,
   "metadata": {},
   "outputs": [
    {
     "name": "stdout",
     "output_type": "stream",
     "text": [
      "center : 2     score : 39584391.28\n",
      "center : 3     score : 38063370.71\n",
      "center : 4     score : 37168725.95\n",
      "center : 5     score : 36455716.63\n",
      "center : 6     score : 35900682.82\n",
      "center : 7     score : 35439037.43\n",
      "center : 8     score : 35055570.85\n",
      "center : 9     score : 34718674.41\n",
      "center : 10     score : 34396839.57\n",
      "center : 11     score : 34117457.41\n",
      "center : 12     score : 33841969.44\n",
      "center : 13     score : 33553512.39\n",
      "center : 14     score : 33378616.56\n",
      "center : 15     score : 33092973.74\n",
      "center : 16     score : 32826389.67\n",
      "center : 17     score : 32635827.26\n",
      "center : 18     score : 32388248.85\n",
      "center : 19     score : 32271608.55\n",
      "center : 20     score : 32033365.66\n",
      "center : 21     score : 31714953.41\n",
      "center : 22     score : 31661768.84\n",
      "center : 23     score : 31401457.95\n",
      "center : 24     score : 31240365.24\n",
      "center : 25     score : 31024147.09\n"
     ]
    }
   ],
   "source": [
    "# Over a number of different cluster counts...\n",
    "# run k-means clustering on the data and...\n",
    "# compute the average within-cluster distances.\n",
    "\n",
    "scores = []\n",
    "centers = list(range(2,26,1))\n",
    "\n",
    "for center in centers:\n",
    "    score = round(get_kmeans_score(azdias_sample_pca, center),2)\n",
    "    print('center : {}     score : {}'.format(center, score))\n",
    "    scores.append(score)"
   ]
  },
  {
   "cell_type": "code",
   "execution_count": 167,
   "metadata": {},
   "outputs": [
    {
     "data": {
      "text/html": [
       "<div>\n",
       "<style scoped>\n",
       "    .dataframe tbody tr th:only-of-type {\n",
       "        vertical-align: middle;\n",
       "    }\n",
       "\n",
       "    .dataframe tbody tr th {\n",
       "        vertical-align: top;\n",
       "    }\n",
       "\n",
       "    .dataframe thead th {\n",
       "        text-align: right;\n",
       "    }\n",
       "</style>\n",
       "<table border=\"1\" class=\"dataframe\">\n",
       "  <thead>\n",
       "    <tr style=\"text-align: right;\">\n",
       "      <th></th>\n",
       "      <th>score</th>\n",
       "      <th>average_distance</th>\n",
       "    </tr>\n",
       "    <tr>\n",
       "      <th>clusters</th>\n",
       "      <th></th>\n",
       "      <th></th>\n",
       "    </tr>\n",
       "  </thead>\n",
       "  <tbody>\n",
       "    <tr>\n",
       "      <th>2</th>\n",
       "      <td>39584391.28</td>\n",
       "      <td>271.46</td>\n",
       "    </tr>\n",
       "    <tr>\n",
       "      <th>3</th>\n",
       "      <td>38063370.71</td>\n",
       "      <td>261.03</td>\n",
       "    </tr>\n",
       "    <tr>\n",
       "      <th>4</th>\n",
       "      <td>37168725.95</td>\n",
       "      <td>254.90</td>\n",
       "    </tr>\n",
       "    <tr>\n",
       "      <th>5</th>\n",
       "      <td>36455716.63</td>\n",
       "      <td>250.01</td>\n",
       "    </tr>\n",
       "    <tr>\n",
       "      <th>6</th>\n",
       "      <td>35900682.82</td>\n",
       "      <td>246.20</td>\n",
       "    </tr>\n",
       "    <tr>\n",
       "      <th>7</th>\n",
       "      <td>35439037.43</td>\n",
       "      <td>243.04</td>\n",
       "    </tr>\n",
       "    <tr>\n",
       "      <th>8</th>\n",
       "      <td>35055570.85</td>\n",
       "      <td>240.41</td>\n",
       "    </tr>\n",
       "    <tr>\n",
       "      <th>9</th>\n",
       "      <td>34718674.41</td>\n",
       "      <td>238.10</td>\n",
       "    </tr>\n",
       "    <tr>\n",
       "      <th>10</th>\n",
       "      <td>34396839.57</td>\n",
       "      <td>235.89</td>\n",
       "    </tr>\n",
       "    <tr>\n",
       "      <th>11</th>\n",
       "      <td>34117457.41</td>\n",
       "      <td>233.97</td>\n",
       "    </tr>\n",
       "    <tr>\n",
       "      <th>12</th>\n",
       "      <td>33841969.44</td>\n",
       "      <td>232.08</td>\n",
       "    </tr>\n",
       "    <tr>\n",
       "      <th>13</th>\n",
       "      <td>33553512.39</td>\n",
       "      <td>230.11</td>\n",
       "    </tr>\n",
       "    <tr>\n",
       "      <th>14</th>\n",
       "      <td>33378616.56</td>\n",
       "      <td>228.91</td>\n",
       "    </tr>\n",
       "    <tr>\n",
       "      <th>15</th>\n",
       "      <td>33092973.74</td>\n",
       "      <td>226.95</td>\n",
       "    </tr>\n",
       "    <tr>\n",
       "      <th>16</th>\n",
       "      <td>32826389.67</td>\n",
       "      <td>225.12</td>\n",
       "    </tr>\n",
       "    <tr>\n",
       "      <th>17</th>\n",
       "      <td>32635827.26</td>\n",
       "      <td>223.81</td>\n",
       "    </tr>\n",
       "    <tr>\n",
       "      <th>18</th>\n",
       "      <td>32388248.85</td>\n",
       "      <td>222.11</td>\n",
       "    </tr>\n",
       "    <tr>\n",
       "      <th>19</th>\n",
       "      <td>32271608.55</td>\n",
       "      <td>221.31</td>\n",
       "    </tr>\n",
       "    <tr>\n",
       "      <th>20</th>\n",
       "      <td>32033365.66</td>\n",
       "      <td>219.68</td>\n",
       "    </tr>\n",
       "    <tr>\n",
       "      <th>21</th>\n",
       "      <td>31714953.41</td>\n",
       "      <td>217.50</td>\n",
       "    </tr>\n",
       "    <tr>\n",
       "      <th>22</th>\n",
       "      <td>31661768.84</td>\n",
       "      <td>217.13</td>\n",
       "    </tr>\n",
       "    <tr>\n",
       "      <th>23</th>\n",
       "      <td>31401457.95</td>\n",
       "      <td>215.35</td>\n",
       "    </tr>\n",
       "    <tr>\n",
       "      <th>24</th>\n",
       "      <td>31240365.24</td>\n",
       "      <td>214.24</td>\n",
       "    </tr>\n",
       "    <tr>\n",
       "      <th>25</th>\n",
       "      <td>31024147.09</td>\n",
       "      <td>212.76</td>\n",
       "    </tr>\n",
       "  </tbody>\n",
       "</table>\n",
       "</div>"
      ],
      "text/plain": [
       "                score  average_distance\n",
       "clusters                               \n",
       "2         39584391.28            271.46\n",
       "3         38063370.71            261.03\n",
       "4         37168725.95            254.90\n",
       "5         36455716.63            250.01\n",
       "6         35900682.82            246.20\n",
       "7         35439037.43            243.04\n",
       "8         35055570.85            240.41\n",
       "9         34718674.41            238.10\n",
       "10        34396839.57            235.89\n",
       "11        34117457.41            233.97\n",
       "12        33841969.44            232.08\n",
       "13        33553512.39            230.11\n",
       "14        33378616.56            228.91\n",
       "15        33092973.74            226.95\n",
       "16        32826389.67            225.12\n",
       "17        32635827.26            223.81\n",
       "18        32388248.85            222.11\n",
       "19        32271608.55            221.31\n",
       "20        32033365.66            219.68\n",
       "21        31714953.41            217.50\n",
       "22        31661768.84            217.13\n",
       "23        31401457.95            215.35\n",
       "24        31240365.24            214.24\n",
       "25        31024147.09            212.76"
      ]
     },
     "execution_count": 167,
     "metadata": {},
     "output_type": "execute_result"
    }
   ],
   "source": [
    "# Create dataframe showing the average point-centroid distances\n",
    "scores_ds = pd.Series(scores).round(2)\n",
    "centers_ds = pd.Series(centers)\n",
    "average_distance = np.array(scores)/azdias_sample_pca.shape[0]\n",
    "average_distance_ds = pd.Series(average_distance).round(2)\n",
    "\n",
    "scores_df = pd.concat([centers_ds, scores_ds, average_distance_ds],axis=1)\n",
    "scores_df.columns = ['clusters','score','average_distance']\n",
    "scores_df.set_index('clusters',inplace=True)\n",
    "#scores_df['score'] = scores_df['score'].round(2)\n",
    "scores_df"
   ]
  },
  {
   "cell_type": "code",
   "execution_count": 168,
   "metadata": {},
   "outputs": [],
   "source": [
    "# Save checkpoint\n",
    "#scores_df.to_csv('scores_checkpoint.csv', encoding='utf-8',index=False)\n",
    "scores_df.to_csv('scores_checkpoint.csv', encoding='utf-8')"
   ]
  },
  {
   "cell_type": "code",
   "execution_count": 169,
   "metadata": {},
   "outputs": [
    {
     "data": {
      "text/html": [
       "<div>\n",
       "<style scoped>\n",
       "    .dataframe tbody tr th:only-of-type {\n",
       "        vertical-align: middle;\n",
       "    }\n",
       "\n",
       "    .dataframe tbody tr th {\n",
       "        vertical-align: top;\n",
       "    }\n",
       "\n",
       "    .dataframe thead th {\n",
       "        text-align: right;\n",
       "    }\n",
       "</style>\n",
       "<table border=\"1\" class=\"dataframe\">\n",
       "  <thead>\n",
       "    <tr style=\"text-align: right;\">\n",
       "      <th></th>\n",
       "      <th>score</th>\n",
       "      <th>average_distance</th>\n",
       "    </tr>\n",
       "    <tr>\n",
       "      <th>clusters</th>\n",
       "      <th></th>\n",
       "      <th></th>\n",
       "    </tr>\n",
       "  </thead>\n",
       "  <tbody>\n",
       "    <tr>\n",
       "      <th>2</th>\n",
       "      <td>39584391.28</td>\n",
       "      <td>271.46</td>\n",
       "    </tr>\n",
       "    <tr>\n",
       "      <th>3</th>\n",
       "      <td>38063370.71</td>\n",
       "      <td>261.03</td>\n",
       "    </tr>\n",
       "    <tr>\n",
       "      <th>4</th>\n",
       "      <td>37168725.95</td>\n",
       "      <td>254.90</td>\n",
       "    </tr>\n",
       "    <tr>\n",
       "      <th>5</th>\n",
       "      <td>36455716.63</td>\n",
       "      <td>250.01</td>\n",
       "    </tr>\n",
       "    <tr>\n",
       "      <th>6</th>\n",
       "      <td>35900682.82</td>\n",
       "      <td>246.20</td>\n",
       "    </tr>\n",
       "    <tr>\n",
       "      <th>7</th>\n",
       "      <td>35439037.43</td>\n",
       "      <td>243.04</td>\n",
       "    </tr>\n",
       "    <tr>\n",
       "      <th>8</th>\n",
       "      <td>35055570.85</td>\n",
       "      <td>240.41</td>\n",
       "    </tr>\n",
       "    <tr>\n",
       "      <th>9</th>\n",
       "      <td>34718674.41</td>\n",
       "      <td>238.10</td>\n",
       "    </tr>\n",
       "    <tr>\n",
       "      <th>10</th>\n",
       "      <td>34396839.57</td>\n",
       "      <td>235.89</td>\n",
       "    </tr>\n",
       "    <tr>\n",
       "      <th>11</th>\n",
       "      <td>34117457.41</td>\n",
       "      <td>233.97</td>\n",
       "    </tr>\n",
       "    <tr>\n",
       "      <th>12</th>\n",
       "      <td>33841969.44</td>\n",
       "      <td>232.08</td>\n",
       "    </tr>\n",
       "    <tr>\n",
       "      <th>13</th>\n",
       "      <td>33553512.39</td>\n",
       "      <td>230.11</td>\n",
       "    </tr>\n",
       "    <tr>\n",
       "      <th>14</th>\n",
       "      <td>33378616.56</td>\n",
       "      <td>228.91</td>\n",
       "    </tr>\n",
       "    <tr>\n",
       "      <th>15</th>\n",
       "      <td>33092973.74</td>\n",
       "      <td>226.95</td>\n",
       "    </tr>\n",
       "    <tr>\n",
       "      <th>16</th>\n",
       "      <td>32826389.67</td>\n",
       "      <td>225.12</td>\n",
       "    </tr>\n",
       "    <tr>\n",
       "      <th>17</th>\n",
       "      <td>32635827.26</td>\n",
       "      <td>223.81</td>\n",
       "    </tr>\n",
       "    <tr>\n",
       "      <th>18</th>\n",
       "      <td>32388248.85</td>\n",
       "      <td>222.11</td>\n",
       "    </tr>\n",
       "    <tr>\n",
       "      <th>19</th>\n",
       "      <td>32271608.55</td>\n",
       "      <td>221.31</td>\n",
       "    </tr>\n",
       "    <tr>\n",
       "      <th>20</th>\n",
       "      <td>32033365.66</td>\n",
       "      <td>219.68</td>\n",
       "    </tr>\n",
       "    <tr>\n",
       "      <th>21</th>\n",
       "      <td>31714953.41</td>\n",
       "      <td>217.50</td>\n",
       "    </tr>\n",
       "    <tr>\n",
       "      <th>22</th>\n",
       "      <td>31661768.84</td>\n",
       "      <td>217.13</td>\n",
       "    </tr>\n",
       "    <tr>\n",
       "      <th>23</th>\n",
       "      <td>31401457.95</td>\n",
       "      <td>215.35</td>\n",
       "    </tr>\n",
       "    <tr>\n",
       "      <th>24</th>\n",
       "      <td>31240365.24</td>\n",
       "      <td>214.24</td>\n",
       "    </tr>\n",
       "    <tr>\n",
       "      <th>25</th>\n",
       "      <td>31024147.09</td>\n",
       "      <td>212.76</td>\n",
       "    </tr>\n",
       "  </tbody>\n",
       "</table>\n",
       "</div>"
      ],
      "text/plain": [
       "                score  average_distance\n",
       "clusters                               \n",
       "2         39584391.28            271.46\n",
       "3         38063370.71            261.03\n",
       "4         37168725.95            254.90\n",
       "5         36455716.63            250.01\n",
       "6         35900682.82            246.20\n",
       "7         35439037.43            243.04\n",
       "8         35055570.85            240.41\n",
       "9         34718674.41            238.10\n",
       "10        34396839.57            235.89\n",
       "11        34117457.41            233.97\n",
       "12        33841969.44            232.08\n",
       "13        33553512.39            230.11\n",
       "14        33378616.56            228.91\n",
       "15        33092973.74            226.95\n",
       "16        32826389.67            225.12\n",
       "17        32635827.26            223.81\n",
       "18        32388248.85            222.11\n",
       "19        32271608.55            221.31\n",
       "20        32033365.66            219.68\n",
       "21        31714953.41            217.50\n",
       "22        31661768.84            217.13\n",
       "23        31401457.95            215.35\n",
       "24        31240365.24            214.24\n",
       "25        31024147.09            212.76"
      ]
     },
     "execution_count": 169,
     "metadata": {},
     "output_type": "execute_result"
    }
   ],
   "source": [
    "# Load scores_checkpoint.csv\n",
    "scores_df = pd.read_csv('scores_checkpoint.csv')\n",
    "scores_df.set_index('clusters',inplace=True)\n",
    "scores_df"
   ]
  },
  {
   "cell_type": "code",
   "execution_count": 170,
   "metadata": {},
   "outputs": [],
   "source": [
    "# Create list of centers, scores, avg_point_centroid_dist\n",
    "centers =  list(scores_df.index)\n",
    "scores = scores_df['score'].values.tolist()\n",
    "avg_point_centroid_dist = scores_df['average_distance'].values.tolist()"
   ]
  },
  {
   "cell_type": "code",
   "execution_count": 171,
   "metadata": {},
   "outputs": [
    {
     "name": "stdout",
     "output_type": "stream",
     "text": [
      "<class 'list'>\n",
      "<class 'list'>\n",
      "<class 'list'>\n"
     ]
    }
   ],
   "source": [
    "print(type(centers))\n",
    "print(type(scores))\n",
    "print(type(list(avg_point_centroid_dist)))"
   ]
  },
  {
   "cell_type": "code",
   "execution_count": 172,
   "metadata": {},
   "outputs": [
    {
     "data": {
      "image/png": "[encoded data removed]",
      "text/plain": [
       "<matplotlib.figure.Figure at 0x7f878e193b00>"
      ]
     },
     "metadata": {
      "needs_background": "light"
     },
     "output_type": "display_data"
    }
   ],
   "source": [
    "# Investigate the change in sse across number of clusters.\n",
    "# HINT: Use matplotlib's plot function to visualize this relationship.\n",
    "plt.plot(centers, scores, linestyle='--', marker='o', color='b');\n",
    "plt.xlabel('K-centroids');\n",
    "plt.ylabel('Score - Sum of Squared Errors');\n",
    "plt.title('Sum of Squared Errors v Number of Centroids');"
   ]
  },
  {
   "cell_type": "code",
   "execution_count": 173,
   "metadata": {},
   "outputs": [
    {
     "data": {
      "image/png": "[encoded data removed]",
      "text/plain": [
       "<matplotlib.figure.Figure at 0x7f878e1b74e0>"
      ]
     },
     "metadata": {
      "needs_background": "light"
     },
     "output_type": "display_data"
    }
   ],
   "source": [
    "# Investigate the change in within-cluster distance across number of clusters.\n",
    "# HINT: Use matplotlib's plot function to visualize this relationship.\n",
    "plt.plot(centers, avg_point_centroid_dist, linestyle='--', marker='o', color='b');\n",
    "plt.xlabel('K-centroids');\n",
    "plt.ylabel('Average point-centroid distance');\n",
    "plt.title(' average point-centroid distance v Number of Centroids');"
   ]
  },
  {
   "cell_type": "code",
   "execution_count": 174,
   "metadata": {},
   "outputs": [],
   "source": [
    "# Re-fit the k-means model with the selected number of clusters and obtain\n",
    "# cluster predictions for the general population demographics data.\n",
    "\n",
    "\n",
    "#instantiate kmeans\n",
    "kmeans_10 = KMeans(n_clusters=10, n_init=10, max_iter=300, random_state=42)\n",
    "\n",
    "# Then fit the model to your data using the fit method\n",
    "model_general = kmeans_10.fit(azdias_sample_pca)\n",
    "\n",
    "# Finally predict the labels or clusters on the same data using the predict method \n",
    "predict_general_clusters = model_general.predict(azdias_sample_pca)"
   ]
  },
  {
   "cell_type": "code",
   "execution_count": 175,
   "metadata": {},
   "outputs": [
    {
     "data": {
      "text/plain": [
       "array([5, 2, 6, 9, 0], dtype=int32)"
      ]
     },
     "execution_count": 175,
     "metadata": {},
     "output_type": "execute_result"
    }
   ],
   "source": [
    "# Print clusters for first 5 observations in azdias_sample_pca\n",
    "predict_general_clusters[:5]"
   ]
  },
  {
   "cell_type": "code",
   "execution_count": 176,
   "metadata": {},
   "outputs": [
    {
     "data": {
      "text/plain": [
       "145818"
      ]
     },
     "execution_count": 176,
     "metadata": {},
     "output_type": "execute_result"
    }
   ],
   "source": [
    "# Total number of predictions for sample general population data\n",
    "len(predict_general_clusters)\n"
   ]
  },
  {
   "cell_type": "code",
   "execution_count": 177,
   "metadata": {},
   "outputs": [
    {
     "data": {
      "text/plain": [
       "array([0, 1, 2, 3, 4, 5, 6, 7, 8, 9], dtype=int32)"
      ]
     },
     "execution_count": 177,
     "metadata": {},
     "output_type": "execute_result"
    }
   ],
   "source": [
    "# Total number of unique clusters in sample general population data\n",
    "np.unique(predict_general_clusters)"
   ]
  },
  {
   "cell_type": "code",
   "execution_count": 178,
   "metadata": {},
   "outputs": [
    {
     "data": {
      "text/plain": [
       "0    15241\n",
       "1    10800\n",
       "2     8523\n",
       "3    17450\n",
       "4    17876\n",
       "5    15016\n",
       "6    13360\n",
       "7    14441\n",
       "8    16593\n",
       "9    16518\n",
       "dtype: int64"
      ]
     },
     "execution_count": 178,
     "metadata": {},
     "output_type": "execute_result"
    }
   ],
   "source": [
    "# Distribution of general population sample data in clusters\n",
    "pd.Series(predict_general_clusters).value_counts().sort_index()"
   ]
  },
  {
   "cell_type": "markdown",
   "metadata": {},
   "source": [
    " Apply Clustering to General Population <br>\n",
    "From the above plot of score(SSE) vs. K-centroids, we can observe that the average within-cluster distances from each point to their assigned cluster's centroid decreases with increasing number of clusters. However, the rate of change of slope decreases with additional cluster i.e. each additional cluster provides a smaller net benefit.<br>\n",
    "\n",
    "Running the K-Means algorithm with 81 principal components didn't provided any defined and clear \"elbow\". Possible cluster candidates are 6, 7, 10, 11, 16, 17, 20 and 21 depending if you take a high \"elbow\" at 6 or 7 clusters, \"middle\" elbow at 10 or 11 clusters or low \"elbow\" at 16 or 17 clusters.<br><br>\n",
    "\n",
    "The rate of change of slope was substantial till 7 clusters and starts to be consistent around 7 clusters and additional clusters later on provided a smaller net benefit. In general, lower number of clusters could provide more equal distribution in the population clustering of the dataset, whereas a higher number of clusters could result in the population clustering having some wide differences between counts allocated to clusters. Keeping the above points in mind, we could take 10 clusters as a choice to segment the population generally.<br>"
   ]
  },
  {
   "cell_type": "markdown",
   "metadata": {},
   "source": [
    "Apply All Steps to the Customer Data <br>\n",
    "Now that you have clusters and cluster centers for the general population, it's time to see how the customer data maps on to those clusters. Take care to not confuse this for re-fitting all of the models to the customer data. Instead, you're going to use the fits from the general population to clean, transform, and cluster the customer data. In the last step of the project, you will interpret how the general population fits apply to the customer data.<br>\n",
    "\n",
    "Don't forget when loading in the customers data, that it is semicolon (;) delimited.<br>\n",
    "Apply the same feature wrangling, selection, and engineering steps to the customer demographics using the clean_data() function you created earlier. (You can assume that the customer demographics data has similar meaning behind missing data patterns as the general demographics data.)<br>\n",
    "Use the sklearn objects from the general demographics data, and apply their transformations to the customers data. That is, you should not be using a .fit() or .fit_transform() method to re-fit the old objects, nor should you be creating new sklearn objects! Carry the data through the feature scaling, PCA, and clustering steps, obtaining cluster assignments for all of the data in the customer demographics data.<br>"
   ]
  },
  {
   "cell_type": "code",
   "execution_count": 179,
   "metadata": {},
   "outputs": [
    {
     "data": {
      "text/plain": [
       "(191652, 366)"
      ]
     },
     "execution_count": 179,
     "metadata": {},
     "output_type": "execute_result"
    }
   ],
   "source": [
    "# Shape of customers df after removal of 3 extra columns\n",
    "customers.shape"
   ]
  },
  {
   "cell_type": "code",
   "execution_count": 180,
   "metadata": {},
   "outputs": [],
   "source": [
    "# Apply preprocessing, feature transformation, and clustering from the general\n",
    "# demographics onto the customer data, obtaining cluster predictions for the\n",
    "# customer demographics data.\n",
    "\n",
    "# Clean Customers subset file.\n",
    "customers_cleaned = clean_data(customers)"
   ]
  },
  {
   "cell_type": "code",
   "execution_count": 181,
   "metadata": {},
   "outputs": [
    {
     "data": {
      "text/plain": [
       "pandas.core.frame.DataFrame"
      ]
     },
     "execution_count": 181,
     "metadata": {},
     "output_type": "execute_result"
    }
   ],
   "source": [
    "# Print type of customers_cleaned\n",
    "type(customers_cleaned)"
   ]
  },
  {
   "cell_type": "code",
   "execution_count": 182,
   "metadata": {},
   "outputs": [
    {
     "data": {
      "text/plain": [
       "(130661, 575)"
      ]
     },
     "execution_count": 182,
     "metadata": {},
     "output_type": "execute_result"
    }
   ],
   "source": [
    "# Shape of customers demographic dataset after cleaning \n",
    "customers_cleaned.shape"
   ]
  },
  {
   "cell_type": "code",
   "execution_count": 183,
   "metadata": {},
   "outputs": [
    {
     "data": {
      "text/plain": [
       "575"
      ]
     },
     "execution_count": 183,
     "metadata": {},
     "output_type": "execute_result"
    }
   ],
   "source": [
    "# Checking if columns of customers_cleaned and azdias_sample are same or not\n",
    "len(set(customers_cleaned.columns).intersection(azdias_sample.columns))"
   ]
  },
  {
   "cell_type": "code",
   "execution_count": 184,
   "metadata": {},
   "outputs": [
    {
     "name": "stdout",
     "output_type": "stream",
     "text": [
      "Type of customers_cleaned_imputed is : <class 'numpy.ndarray'>\n",
      "Type of customers_cleaned_imputed now is : <class 'pandas.core.frame.DataFrame'>\n"
     ]
    },
    {
     "data": {
      "text/html": [
       "<div>\n",
       "<style scoped>\n",
       "    .dataframe tbody tr th:only-of-type {\n",
       "        vertical-align: middle;\n",
       "    }\n",
       "\n",
       "    .dataframe tbody tr th {\n",
       "        vertical-align: top;\n",
       "    }\n",
       "\n",
       "    .dataframe thead th {\n",
       "        text-align: right;\n",
       "    }\n",
       "</style>\n",
       "<table border=\"1\" class=\"dataframe\">\n",
       "  <thead>\n",
       "    <tr style=\"text-align: right;\">\n",
       "      <th></th>\n",
       "      <th>0</th>\n",
       "      <th>1</th>\n",
       "      <th>2</th>\n",
       "      <th>3</th>\n",
       "      <th>4</th>\n",
       "      <th>5</th>\n",
       "      <th>6</th>\n",
       "      <th>7</th>\n",
       "      <th>8</th>\n",
       "      <th>9</th>\n",
       "      <th>...</th>\n",
       "      <th>565</th>\n",
       "      <th>566</th>\n",
       "      <th>567</th>\n",
       "      <th>568</th>\n",
       "      <th>569</th>\n",
       "      <th>570</th>\n",
       "      <th>571</th>\n",
       "      <th>572</th>\n",
       "      <th>573</th>\n",
       "      <th>574</th>\n",
       "    </tr>\n",
       "  </thead>\n",
       "  <tbody>\n",
       "    <tr>\n",
       "      <th>0</th>\n",
       "      <td>1.0</td>\n",
       "      <td>0.0</td>\n",
       "      <td>2.0</td>\n",
       "      <td>0.0</td>\n",
       "      <td>1.0</td>\n",
       "      <td>3.0</td>\n",
       "      <td>0.0</td>\n",
       "      <td>0.0</td>\n",
       "      <td>0.0</td>\n",
       "      <td>0.0</td>\n",
       "      <td>...</td>\n",
       "      <td>1.0</td>\n",
       "      <td>0.0</td>\n",
       "      <td>0.0</td>\n",
       "      <td>0.0</td>\n",
       "      <td>2.0</td>\n",
       "      <td>0.0</td>\n",
       "      <td>1.0</td>\n",
       "      <td>3.0</td>\n",
       "      <td>1.0</td>\n",
       "      <td>0.0</td>\n",
       "    </tr>\n",
       "    <tr>\n",
       "      <th>1</th>\n",
       "      <td>1.0</td>\n",
       "      <td>0.0</td>\n",
       "      <td>1.0</td>\n",
       "      <td>0.0</td>\n",
       "      <td>3.0</td>\n",
       "      <td>7.0</td>\n",
       "      <td>0.0</td>\n",
       "      <td>0.0</td>\n",
       "      <td>0.0</td>\n",
       "      <td>0.0</td>\n",
       "      <td>...</td>\n",
       "      <td>1.0</td>\n",
       "      <td>0.0</td>\n",
       "      <td>0.0</td>\n",
       "      <td>0.0</td>\n",
       "      <td>2.0</td>\n",
       "      <td>0.0</td>\n",
       "      <td>3.0</td>\n",
       "      <td>4.0</td>\n",
       "      <td>0.0</td>\n",
       "      <td>2.0</td>\n",
       "    </tr>\n",
       "    <tr>\n",
       "      <th>2</th>\n",
       "      <td>1.0</td>\n",
       "      <td>0.0</td>\n",
       "      <td>0.0</td>\n",
       "      <td>0.0</td>\n",
       "      <td>1.0</td>\n",
       "      <td>7.0</td>\n",
       "      <td>0.0</td>\n",
       "      <td>0.0</td>\n",
       "      <td>0.0</td>\n",
       "      <td>0.0</td>\n",
       "      <td>...</td>\n",
       "      <td>0.0</td>\n",
       "      <td>0.0</td>\n",
       "      <td>0.0</td>\n",
       "      <td>0.0</td>\n",
       "      <td>1.0</td>\n",
       "      <td>1.0</td>\n",
       "      <td>2.0</td>\n",
       "      <td>4.0</td>\n",
       "      <td>1.0</td>\n",
       "      <td>0.0</td>\n",
       "    </tr>\n",
       "    <tr>\n",
       "      <th>3</th>\n",
       "      <td>7.0</td>\n",
       "      <td>0.0</td>\n",
       "      <td>4.0</td>\n",
       "      <td>0.0</td>\n",
       "      <td>3.0</td>\n",
       "      <td>3.0</td>\n",
       "      <td>5.0</td>\n",
       "      <td>0.0</td>\n",
       "      <td>3.0</td>\n",
       "      <td>0.0</td>\n",
       "      <td>...</td>\n",
       "      <td>0.0</td>\n",
       "      <td>0.0</td>\n",
       "      <td>0.0</td>\n",
       "      <td>0.0</td>\n",
       "      <td>4.0</td>\n",
       "      <td>1.0</td>\n",
       "      <td>4.0</td>\n",
       "      <td>1.0</td>\n",
       "      <td>0.0</td>\n",
       "      <td>3.0</td>\n",
       "    </tr>\n",
       "    <tr>\n",
       "      <th>4</th>\n",
       "      <td>1.0</td>\n",
       "      <td>0.0</td>\n",
       "      <td>2.0</td>\n",
       "      <td>0.0</td>\n",
       "      <td>3.0</td>\n",
       "      <td>7.0</td>\n",
       "      <td>0.0</td>\n",
       "      <td>0.0</td>\n",
       "      <td>0.0</td>\n",
       "      <td>0.0</td>\n",
       "      <td>...</td>\n",
       "      <td>0.0</td>\n",
       "      <td>0.0</td>\n",
       "      <td>0.0</td>\n",
       "      <td>0.0</td>\n",
       "      <td>2.0</td>\n",
       "      <td>0.0</td>\n",
       "      <td>3.0</td>\n",
       "      <td>4.0</td>\n",
       "      <td>0.0</td>\n",
       "      <td>1.0</td>\n",
       "    </tr>\n",
       "  </tbody>\n",
       "</table>\n",
       "<p>5 rows × 575 columns</p>\n",
       "</div>"
      ],
      "text/plain": [
       "   0    1    2    3    4    5    6    7    8    9   ...   565  566  567  568  \\\n",
       "0  1.0  0.0  2.0  0.0  1.0  3.0  0.0  0.0  0.0  0.0 ...   1.0  0.0  0.0  0.0   \n",
       "1  1.0  0.0  1.0  0.0  3.0  7.0  0.0  0.0  0.0  0.0 ...   1.0  0.0  0.0  0.0   \n",
       "2  1.0  0.0  0.0  0.0  1.0  7.0  0.0  0.0  0.0  0.0 ...   0.0  0.0  0.0  0.0   \n",
       "3  7.0  0.0  4.0  0.0  3.0  3.0  5.0  0.0  3.0  0.0 ...   0.0  0.0  0.0  0.0   \n",
       "4  1.0  0.0  2.0  0.0  3.0  7.0  0.0  0.0  0.0  0.0 ...   0.0  0.0  0.0  0.0   \n",
       "\n",
       "   569  570  571  572  573  574  \n",
       "0  2.0  0.0  1.0  3.0  1.0  0.0  \n",
       "1  2.0  0.0  3.0  4.0  0.0  2.0  \n",
       "2  1.0  1.0  2.0  4.0  1.0  0.0  \n",
       "3  4.0  1.0  4.0  1.0  0.0  3.0  \n",
       "4  2.0  0.0  3.0  4.0  0.0  1.0  \n",
       "\n",
       "[5 rows x 575 columns]"
      ]
     },
     "execution_count": 184,
     "metadata": {},
     "output_type": "execute_result"
    }
   ],
   "source": [
    "# Impute nans with mode value in customers_cleaned dataframe\n",
    "# Apply imputer to transform customer dataframe\n",
    "customers_cleaned_imputed = imputer.transform(customers_cleaned)\n",
    "print('Type of customers_cleaned_imputed is : {}'.format(type(customers_cleaned_imputed)))\n",
    "\n",
    "# Making customers_cleaned_imputed into a dataframe\n",
    "customers_cleaned_imputed = pd.DataFrame(customers_cleaned_imputed)\n",
    "print('Type of customers_cleaned_imputed now is : {}'.format(type(customers_cleaned_imputed)))\n",
    "customers_cleaned_imputed.head()"
   ]
  },
  {
   "cell_type": "code",
   "execution_count": 185,
   "metadata": {},
   "outputs": [
    {
     "data": {
      "text/plain": [
       "0"
      ]
     },
     "execution_count": 185,
     "metadata": {},
     "output_type": "execute_result"
    }
   ],
   "source": [
    "# Checking the sum of all misisng values in the customers_cleaned_imputed.\n",
    "# It should be 0 as we have already imputed the missing value with mode value.\n",
    "sum(customers_cleaned_imputed.isnull().sum(axis=1))"
   ]
  },
  {
   "cell_type": "code",
   "execution_count": 186,
   "metadata": {},
   "outputs": [
    {
     "name": "stdout",
     "output_type": "stream",
     "text": [
      "Type of customers_scaled is : <class 'numpy.ndarray'>\n",
      "Type of customers_scaled now is : <class 'pandas.core.frame.DataFrame'>\n"
     ]
    },
    {
     "data": {
      "text/html": [
       "<div>\n",
       "<style scoped>\n",
       "    .dataframe tbody tr th:only-of-type {\n",
       "        vertical-align: middle;\n",
       "    }\n",
       "\n",
       "    .dataframe tbody tr th {\n",
       "        vertical-align: top;\n",
       "    }\n",
       "\n",
       "    .dataframe thead th {\n",
       "        text-align: right;\n",
       "    }\n",
       "</style>\n",
       "<table border=\"1\" class=\"dataframe\">\n",
       "  <thead>\n",
       "    <tr style=\"text-align: right;\">\n",
       "      <th></th>\n",
       "      <th>ANZ_HAUSHALTE_AKTIV</th>\n",
       "      <th>ANZ_HH_TITEL</th>\n",
       "      <th>ANZ_PERSONEN</th>\n",
       "      <th>ANZ_TITEL</th>\n",
       "      <th>ARBEIT</th>\n",
       "      <th>BALLRAUM</th>\n",
       "      <th>D19_BANKEN_DIREKT</th>\n",
       "      <th>D19_BANKEN_GROSS</th>\n",
       "      <th>D19_BANKEN_LOKAL</th>\n",
       "      <th>D19_BANKEN_REST</th>\n",
       "      <th>...</th>\n",
       "      <th>ZABEOTYP_3</th>\n",
       "      <th>ZABEOTYP_4</th>\n",
       "      <th>ZABEOTYP_5</th>\n",
       "      <th>ZABEOTYP_6</th>\n",
       "      <th>PRAEGENDE_JUGENDJAHRE_decade</th>\n",
       "      <th>PRAEGENDE_JUGENDJAHRE_movement</th>\n",
       "      <th>CAMEO_INTL_2015_wealth</th>\n",
       "      <th>CAMEO_INTL_2015_life_stage</th>\n",
       "      <th>WOHNLAGE_rural</th>\n",
       "      <th>WOHNLAGE_rating_class</th>\n",
       "    </tr>\n",
       "  </thead>\n",
       "  <tbody>\n",
       "    <tr>\n",
       "      <th>0</th>\n",
       "      <td>-0.474852</td>\n",
       "      <td>-0.123417</td>\n",
       "      <td>0.220156</td>\n",
       "      <td>-0.062039</td>\n",
       "      <td>-2.195637</td>\n",
       "      <td>-0.521179</td>\n",
       "      <td>-0.467054</td>\n",
       "      <td>-0.361868</td>\n",
       "      <td>-0.135111</td>\n",
       "      <td>-0.293792</td>\n",
       "      <td>...</td>\n",
       "      <td>1.352162</td>\n",
       "      <td>-0.599071</td>\n",
       "      <td>-0.337095</td>\n",
       "      <td>-0.314214</td>\n",
       "      <td>-1.609760</td>\n",
       "      <td>-1.864910</td>\n",
       "      <td>-1.558050</td>\n",
       "      <td>0.088621</td>\n",
       "      <td>1.825189</td>\n",
       "      <td>-1.491173</td>\n",
       "    </tr>\n",
       "    <tr>\n",
       "      <th>1</th>\n",
       "      <td>-0.474852</td>\n",
       "      <td>-0.123417</td>\n",
       "      <td>-0.637724</td>\n",
       "      <td>-0.062039</td>\n",
       "      <td>-0.182866</td>\n",
       "      <td>1.307524</td>\n",
       "      <td>-0.467054</td>\n",
       "      <td>-0.361868</td>\n",
       "      <td>-0.135111</td>\n",
       "      <td>-0.293792</td>\n",
       "      <td>...</td>\n",
       "      <td>1.352162</td>\n",
       "      <td>-0.599071</td>\n",
       "      <td>-0.337095</td>\n",
       "      <td>-0.314214</td>\n",
       "      <td>-1.609760</td>\n",
       "      <td>-1.864910</td>\n",
       "      <td>-0.194538</td>\n",
       "      <td>0.758950</td>\n",
       "      <td>-0.547889</td>\n",
       "      <td>-0.259850</td>\n",
       "    </tr>\n",
       "    <tr>\n",
       "      <th>2</th>\n",
       "      <td>-0.474852</td>\n",
       "      <td>-0.123417</td>\n",
       "      <td>-1.495603</td>\n",
       "      <td>-0.062039</td>\n",
       "      <td>-2.195637</td>\n",
       "      <td>1.307524</td>\n",
       "      <td>-0.467054</td>\n",
       "      <td>-0.361868</td>\n",
       "      <td>-0.135111</td>\n",
       "      <td>-0.293792</td>\n",
       "      <td>...</td>\n",
       "      <td>-0.739556</td>\n",
       "      <td>-0.599071</td>\n",
       "      <td>-0.337095</td>\n",
       "      <td>-0.314214</td>\n",
       "      <td>-2.292812</td>\n",
       "      <td>0.536219</td>\n",
       "      <td>-0.876294</td>\n",
       "      <td>0.758950</td>\n",
       "      <td>1.825189</td>\n",
       "      <td>-1.491173</td>\n",
       "    </tr>\n",
       "    <tr>\n",
       "      <th>3</th>\n",
       "      <td>-0.079518</td>\n",
       "      <td>-0.123417</td>\n",
       "      <td>1.935915</td>\n",
       "      <td>-0.062039</td>\n",
       "      <td>-0.182866</td>\n",
       "      <td>-0.521179</td>\n",
       "      <td>1.931309</td>\n",
       "      <td>-0.361868</td>\n",
       "      <td>3.490722</td>\n",
       "      <td>-0.293792</td>\n",
       "      <td>...</td>\n",
       "      <td>-0.739556</td>\n",
       "      <td>-0.599071</td>\n",
       "      <td>-0.337095</td>\n",
       "      <td>-0.314214</td>\n",
       "      <td>-0.243657</td>\n",
       "      <td>0.536219</td>\n",
       "      <td>0.487218</td>\n",
       "      <td>-1.252036</td>\n",
       "      <td>-0.547889</td>\n",
       "      <td>0.355811</td>\n",
       "    </tr>\n",
       "    <tr>\n",
       "      <th>4</th>\n",
       "      <td>-0.474852</td>\n",
       "      <td>-0.123417</td>\n",
       "      <td>0.220156</td>\n",
       "      <td>-0.062039</td>\n",
       "      <td>-0.182866</td>\n",
       "      <td>1.307524</td>\n",
       "      <td>-0.467054</td>\n",
       "      <td>-0.361868</td>\n",
       "      <td>-0.135111</td>\n",
       "      <td>-0.293792</td>\n",
       "      <td>...</td>\n",
       "      <td>-0.739556</td>\n",
       "      <td>-0.599071</td>\n",
       "      <td>-0.337095</td>\n",
       "      <td>-0.314214</td>\n",
       "      <td>-1.609760</td>\n",
       "      <td>-1.864910</td>\n",
       "      <td>-0.194538</td>\n",
       "      <td>0.758950</td>\n",
       "      <td>-0.547889</td>\n",
       "      <td>-0.875512</td>\n",
       "    </tr>\n",
       "  </tbody>\n",
       "</table>\n",
       "<p>5 rows × 575 columns</p>\n",
       "</div>"
      ],
      "text/plain": [
       "   ANZ_HAUSHALTE_AKTIV  ANZ_HH_TITEL  ANZ_PERSONEN  ANZ_TITEL    ARBEIT  \\\n",
       "0            -0.474852     -0.123417      0.220156  -0.062039 -2.195637   \n",
       "1            -0.474852     -0.123417     -0.637724  -0.062039 -0.182866   \n",
       "2            -0.474852     -0.123417     -1.495603  -0.062039 -2.195637   \n",
       "3            -0.079518     -0.123417      1.935915  -0.062039 -0.182866   \n",
       "4            -0.474852     -0.123417      0.220156  -0.062039 -0.182866   \n",
       "\n",
       "   BALLRAUM  D19_BANKEN_DIREKT  D19_BANKEN_GROSS  D19_BANKEN_LOKAL  \\\n",
       "0 -0.521179          -0.467054         -0.361868         -0.135111   \n",
       "1  1.307524          -0.467054         -0.361868         -0.135111   \n",
       "2  1.307524          -0.467054         -0.361868         -0.135111   \n",
       "3 -0.521179           1.931309         -0.361868          3.490722   \n",
       "4  1.307524          -0.467054         -0.361868         -0.135111   \n",
       "\n",
       "   D19_BANKEN_REST          ...            ZABEOTYP_3  ZABEOTYP_4  ZABEOTYP_5  \\\n",
       "0        -0.293792          ...              1.352162   -0.599071   -0.337095   \n",
       "1        -0.293792          ...              1.352162   -0.599071   -0.337095   \n",
       "2        -0.293792          ...             -0.739556   -0.599071   -0.337095   \n",
       "3        -0.293792          ...             -0.739556   -0.599071   -0.337095   \n",
       "4        -0.293792          ...             -0.739556   -0.599071   -0.337095   \n",
       "\n",
       "   ZABEOTYP_6  PRAEGENDE_JUGENDJAHRE_decade  PRAEGENDE_JUGENDJAHRE_movement  \\\n",
       "0   -0.314214                     -1.609760                       -1.864910   \n",
       "1   -0.314214                     -1.609760                       -1.864910   \n",
       "2   -0.314214                     -2.292812                        0.536219   \n",
       "3   -0.314214                     -0.243657                        0.536219   \n",
       "4   -0.314214                     -1.609760                       -1.864910   \n",
       "\n",
       "   CAMEO_INTL_2015_wealth  CAMEO_INTL_2015_life_stage  WOHNLAGE_rural  \\\n",
       "0               -1.558050                    0.088621        1.825189   \n",
       "1               -0.194538                    0.758950       -0.547889   \n",
       "2               -0.876294                    0.758950        1.825189   \n",
       "3                0.487218                   -1.252036       -0.547889   \n",
       "4               -0.194538                    0.758950       -0.547889   \n",
       "\n",
       "   WOHNLAGE_rating_class  \n",
       "0              -1.491173  \n",
       "1              -0.259850  \n",
       "2              -1.491173  \n",
       "3               0.355811  \n",
       "4              -0.875512  \n",
       "\n",
       "[5 rows x 575 columns]"
      ]
     },
     "execution_count": 186,
     "metadata": {},
     "output_type": "execute_result"
    }
   ],
   "source": [
    "\n",
    "# Apply feature scaling to the customers demographics data.\n",
    "# Apply scaler to transform customer dataframe\n",
    "\n",
    "customers_scaled = scaler.transform(customers_cleaned_imputed)\n",
    "print('Type of customers_scaled is : {}'.format(type(customers_scaled)))\n",
    "\n",
    "# Making azdias_scaled into a dataframe\n",
    "customers_scaled = pd.DataFrame(customers_scaled, columns= list(customers_cleaned.columns.values))\n",
    "print('Type of customers_scaled now is : {}'.format(type(customers_scaled)))\n",
    "customers_scaled.head()"
   ]
  },
  {
   "cell_type": "code",
   "execution_count": 187,
   "metadata": {},
   "outputs": [],
   "source": [
    "\n",
    "# Apply PCA to the customers_scaled data\n",
    "# Apply general population Principal Component transformation on customers_scaled dataframe\n",
    "\n",
    "customers_pca = pca_81.transform(customers_scaled)\n"
   ]
  },
  {
   "cell_type": "code",
   "execution_count": 188,
   "metadata": {},
   "outputs": [
    {
     "data": {
      "text/plain": [
       "numpy.ndarray"
      ]
     },
     "execution_count": 188,
     "metadata": {},
     "output_type": "execute_result"
    }
   ],
   "source": [
    "type(customers_pca)"
   ]
  },
  {
   "cell_type": "code",
   "execution_count": 189,
   "metadata": {},
   "outputs": [
    {
     "data": {
      "text/plain": [
       "(130661, 81)"
      ]
     },
     "execution_count": 189,
     "metadata": {},
     "output_type": "execute_result"
    }
   ],
   "source": [
    "# Shape of customers_pca\n",
    "customers_pca.shape"
   ]
  },
  {
   "cell_type": "code",
   "execution_count": 190,
   "metadata": {},
   "outputs": [],
   "source": [
    "# Apply fitted kmeans object from general population demographics onto the customer data,\n",
    "# obtaining cluster predictions for the customer demographics data.\n",
    "\n",
    "predict_customers_clusters = model_general.predict(customers_pca)"
   ]
  },
  {
   "cell_type": "code",
   "execution_count": 191,
   "metadata": {},
   "outputs": [
    {
     "data": {
      "text/plain": [
       "array([5, 1, 3, 2, 1], dtype=int32)"
      ]
     },
     "execution_count": 191,
     "metadata": {},
     "output_type": "execute_result"
    }
   ],
   "source": [
    "# Print clusters for first 5 observations in clustomers_cleaned\n",
    "predict_customers_clusters[:5]"
   ]
  },
  {
   "cell_type": "code",
   "execution_count": 192,
   "metadata": {},
   "outputs": [
    {
     "data": {
      "text/plain": [
       "130661"
      ]
     },
     "execution_count": 192,
     "metadata": {},
     "output_type": "execute_result"
    }
   ],
   "source": [
    "# Total number of predictions for customers_cleaned data\n",
    "len(predict_customers_clusters)"
   ]
  },
  {
   "cell_type": "code",
   "execution_count": 193,
   "metadata": {},
   "outputs": [
    {
     "data": {
      "text/plain": [
       "array([0, 1, 2, 3, 4, 5, 6, 7, 8, 9], dtype=int32)"
      ]
     },
     "execution_count": 193,
     "metadata": {},
     "output_type": "execute_result"
    }
   ],
   "source": [
    "# Total number of unique clusters in customers_cleaned data\n",
    "np.unique(predict_customers_clusters)"
   ]
  },
  {
   "cell_type": "code",
   "execution_count": 194,
   "metadata": {},
   "outputs": [
    {
     "data": {
      "text/plain": [
       "0     1375\n",
       "1    11049\n",
       "2     8784\n",
       "3    19205\n",
       "4    13681\n",
       "5    46305\n",
       "6     4537\n",
       "7     3560\n",
       "8      797\n",
       "9    21368\n",
       "dtype: int64"
      ]
     },
     "execution_count": 194,
     "metadata": {},
     "output_type": "execute_result"
    }
   ],
   "source": [
    "\n",
    "# Distribution of customers_cleaned data in clusters\n",
    "pd.Series(predict_customers_clusters).value_counts().sort_index()"
   ]
  },
  {
   "cell_type": "markdown",
   "metadata": {},
   "source": [
    "Compare Customer Data to Demographics Data <br>\n",
    "At this point, you have clustered data based on demographics of the general population of Germany, and seen how the customer data for a mail-order sales company maps onto those demographic clusters. In this final substep, you will compare the two cluster distributions to see where the strongest customer base for the company is.\n",
    "\n",
    "Consider the proportion of persons in each cluster for the general population, and the proportions for the customers. If we think the company's customer base to be universal, then the cluster assignment proportions should be fairly similar between the two. If there are only particular segments of the population that are interested in the company's products, then we should see a mismatch from one to the other. If there is a higher proportion of persons in a cluster for the customer data compared to the general population (e.g. 5% of persons are assigned to a cluster for the general population, but 15% of the customer data is closest to that cluster's centroid) then that suggests the people in that cluster to be a target audience for the company. On the other hand, the proportion of the data in a cluster being larger in the general population than the customer data (e.g. only 2% of customers closest to a population centroid that captures 6% of the data) suggests that group of persons to be outside of the target demographics.\n",
    "\n",
    "Take a look at the following points in this step:\n",
    "\n",
    "Compute the proportion of data points in each cluster for the general population and the customer data. Visualizations will be useful here: both for the individual dataset proportions, but also to visualize the ratios in cluster representation between groups. Seaborn's countplot() or barplot() function could be handy.\n",
    "Recall the analysis you performed in step 1.1.3 of the project, where you separated out certain data points from the dataset if they had more than a specified threshold of missing values. If you found that this group was qualitatively different from the main bulk of the data, you should treat this as an additional data cluster in this analysis. Make sure that you account for the number of data points in this subset, for both the general population and customer datasets, when making your computations!\n",
    "Which cluster or clusters are overrepresented in the customer dataset compared to the general population? Select at least one such cluster and infer what kind of people might be represented by that cluster. Use the principal component interpretations from step 2.3 or look at additional components to help you make this inference. Alternatively, you can use the .inverse_transform() method of the PCA and StandardScaler objects to transform centroids back to the original data space and interpret the retrieved values directly.\n",
    "Perform a similar investigation for the underrepresented clusters. Which cluster or clusters are underrepresented in the customer dataset compared to the general population, and what kinds of people are typified by these clusters?"
   ]
  },
  {
   "cell_type": "code",
   "execution_count": 195,
   "metadata": {},
   "outputs": [
    {
     "name": "stdout",
     "output_type": "stream",
     "text": [
      "<class 'pandas.core.series.Series'>\n"
     ]
    },
    {
     "data": {
      "text/plain": [
       "0    15241\n",
       "1    10800\n",
       "2     8523\n",
       "3    17450\n",
       "4    17876\n",
       "5    15016\n",
       "6    13360\n",
       "7    14441\n",
       "8    16593\n",
       "9    16518\n",
       "dtype: int64"
      ]
     },
     "execution_count": 195,
     "metadata": {},
     "output_type": "execute_result"
    }
   ],
   "source": [
    "\n",
    "# Compare the proportion of data in each cluster for the customer data to the\n",
    "# proportion of data in each cluster for the general population.\n",
    "\n",
    "# Number of data points within each general population cluster.\n",
    "population_clusters = pd.Series(predict_general_clusters)\n",
    "count_pc = population_clusters.value_counts().sort_index()\n",
    "print(type(count_pc))\n",
    "count_pc"
   ]
  },
  {
   "cell_type": "code",
   "execution_count": 196,
   "metadata": {},
   "outputs": [
    {
     "name": "stdout",
     "output_type": "stream",
     "text": [
      "<class 'pandas.core.series.Series'>\n"
     ]
    },
    {
     "data": {
      "text/plain": [
       "0     1375\n",
       "1    11049\n",
       "2     8784\n",
       "3    19205\n",
       "4    13681\n",
       "5    46305\n",
       "6     4537\n",
       "7     3560\n",
       "8      797\n",
       "9    21368\n",
       "dtype: int64"
      ]
     },
     "execution_count": 196,
     "metadata": {},
     "output_type": "execute_result"
    }
   ],
   "source": [
    "\n",
    "# Number of data points within each customers cluster.\n",
    "customers_clusters = pd.Series(predict_customers_clusters)\n",
    "count_cc = customers_clusters.value_counts().sort_index()\n",
    "print(type(count_cc))\n",
    "count_cc"
   ]
  },
  {
   "cell_type": "code",
   "execution_count": 197,
   "metadata": {},
   "outputs": [
    {
     "data": {
      "text/html": [
       "<div>\n",
       "<style scoped>\n",
       "    .dataframe tbody tr th:only-of-type {\n",
       "        vertical-align: middle;\n",
       "    }\n",
       "\n",
       "    .dataframe tbody tr th {\n",
       "        vertical-align: top;\n",
       "    }\n",
       "\n",
       "    .dataframe thead th {\n",
       "        text-align: right;\n",
       "    }\n",
       "</style>\n",
       "<table border=\"1\" class=\"dataframe\">\n",
       "  <thead>\n",
       "    <tr style=\"text-align: right;\">\n",
       "      <th></th>\n",
       "      <th>cluster</th>\n",
       "      <th>population</th>\n",
       "      <th>customer</th>\n",
       "    </tr>\n",
       "  </thead>\n",
       "  <tbody>\n",
       "    <tr>\n",
       "      <th>0</th>\n",
       "      <td>0</td>\n",
       "      <td>15241</td>\n",
       "      <td>1375</td>\n",
       "    </tr>\n",
       "    <tr>\n",
       "      <th>1</th>\n",
       "      <td>1</td>\n",
       "      <td>10800</td>\n",
       "      <td>11049</td>\n",
       "    </tr>\n",
       "    <tr>\n",
       "      <th>2</th>\n",
       "      <td>2</td>\n",
       "      <td>8523</td>\n",
       "      <td>8784</td>\n",
       "    </tr>\n",
       "    <tr>\n",
       "      <th>3</th>\n",
       "      <td>3</td>\n",
       "      <td>17450</td>\n",
       "      <td>19205</td>\n",
       "    </tr>\n",
       "    <tr>\n",
       "      <th>4</th>\n",
       "      <td>4</td>\n",
       "      <td>17876</td>\n",
       "      <td>13681</td>\n",
       "    </tr>\n",
       "    <tr>\n",
       "      <th>5</th>\n",
       "      <td>5</td>\n",
       "      <td>15016</td>\n",
       "      <td>46305</td>\n",
       "    </tr>\n",
       "    <tr>\n",
       "      <th>6</th>\n",
       "      <td>6</td>\n",
       "      <td>13360</td>\n",
       "      <td>4537</td>\n",
       "    </tr>\n",
       "    <tr>\n",
       "      <th>7</th>\n",
       "      <td>7</td>\n",
       "      <td>14441</td>\n",
       "      <td>3560</td>\n",
       "    </tr>\n",
       "    <tr>\n",
       "      <th>8</th>\n",
       "      <td>8</td>\n",
       "      <td>16593</td>\n",
       "      <td>797</td>\n",
       "    </tr>\n",
       "    <tr>\n",
       "      <th>9</th>\n",
       "      <td>9</td>\n",
       "      <td>16518</td>\n",
       "      <td>21368</td>\n",
       "    </tr>\n",
       "  </tbody>\n",
       "</table>\n",
       "</div>"
      ],
      "text/plain": [
       "   cluster  population  customer\n",
       "0        0       15241      1375\n",
       "1        1       10800     11049\n",
       "2        2        8523      8784\n",
       "3        3       17450     19205\n",
       "4        4       17876     13681\n",
       "5        5       15016     46305\n",
       "6        6       13360      4537\n",
       "7        7       14441      3560\n",
       "8        8       16593       797\n",
       "9        9       16518     21368"
      ]
     },
     "execution_count": 197,
     "metadata": {},
     "output_type": "execute_result"
    }
   ],
   "source": [
    "# Create a dataframe from counts of data points within each population and customer clusters.\n",
    "pop_cust_clusters_data_count_df = pd.concat([count_pc, count_cc], axis=1).reset_index()\n",
    "pop_cust_clusters_data_count_df.columns = ['cluster', 'population', 'customer']\n",
    "#pop_cust_clusters_data_count_df.index.name = 'cluster'\n",
    "pop_cust_clusters_data_count_df"
   ]
  },
  {
   "cell_type": "code",
   "execution_count": 198,
   "metadata": {},
   "outputs": [
    {
     "data": {
      "text/html": [
       "<div>\n",
       "<style scoped>\n",
       "    .dataframe tbody tr th:only-of-type {\n",
       "        vertical-align: middle;\n",
       "    }\n",
       "\n",
       "    .dataframe tbody tr th {\n",
       "        vertical-align: top;\n",
       "    }\n",
       "\n",
       "    .dataframe thead th {\n",
       "        text-align: right;\n",
       "    }\n",
       "</style>\n",
       "<table border=\"1\" class=\"dataframe\">\n",
       "  <thead>\n",
       "    <tr style=\"text-align: right;\">\n",
       "      <th></th>\n",
       "      <th>cluster</th>\n",
       "      <th>population</th>\n",
       "      <th>customer</th>\n",
       "      <th>pop_%</th>\n",
       "      <th>cust_%</th>\n",
       "      <th>diff</th>\n",
       "    </tr>\n",
       "  </thead>\n",
       "  <tbody>\n",
       "    <tr>\n",
       "      <th>0</th>\n",
       "      <td>0</td>\n",
       "      <td>15241</td>\n",
       "      <td>1375</td>\n",
       "      <td>10.45</td>\n",
       "      <td>1.05</td>\n",
       "      <td>-9.40</td>\n",
       "    </tr>\n",
       "    <tr>\n",
       "      <th>1</th>\n",
       "      <td>1</td>\n",
       "      <td>10800</td>\n",
       "      <td>11049</td>\n",
       "      <td>7.41</td>\n",
       "      <td>8.46</td>\n",
       "      <td>1.05</td>\n",
       "    </tr>\n",
       "    <tr>\n",
       "      <th>2</th>\n",
       "      <td>2</td>\n",
       "      <td>8523</td>\n",
       "      <td>8784</td>\n",
       "      <td>5.84</td>\n",
       "      <td>6.72</td>\n",
       "      <td>0.88</td>\n",
       "    </tr>\n",
       "    <tr>\n",
       "      <th>3</th>\n",
       "      <td>3</td>\n",
       "      <td>17450</td>\n",
       "      <td>19205</td>\n",
       "      <td>11.97</td>\n",
       "      <td>14.70</td>\n",
       "      <td>2.73</td>\n",
       "    </tr>\n",
       "    <tr>\n",
       "      <th>4</th>\n",
       "      <td>4</td>\n",
       "      <td>17876</td>\n",
       "      <td>13681</td>\n",
       "      <td>12.26</td>\n",
       "      <td>10.47</td>\n",
       "      <td>-1.79</td>\n",
       "    </tr>\n",
       "    <tr>\n",
       "      <th>5</th>\n",
       "      <td>5</td>\n",
       "      <td>15016</td>\n",
       "      <td>46305</td>\n",
       "      <td>10.30</td>\n",
       "      <td>35.44</td>\n",
       "      <td>25.14</td>\n",
       "    </tr>\n",
       "    <tr>\n",
       "      <th>6</th>\n",
       "      <td>6</td>\n",
       "      <td>13360</td>\n",
       "      <td>4537</td>\n",
       "      <td>9.16</td>\n",
       "      <td>3.47</td>\n",
       "      <td>-5.69</td>\n",
       "    </tr>\n",
       "    <tr>\n",
       "      <th>7</th>\n",
       "      <td>7</td>\n",
       "      <td>14441</td>\n",
       "      <td>3560</td>\n",
       "      <td>9.90</td>\n",
       "      <td>2.72</td>\n",
       "      <td>-7.18</td>\n",
       "    </tr>\n",
       "    <tr>\n",
       "      <th>8</th>\n",
       "      <td>8</td>\n",
       "      <td>16593</td>\n",
       "      <td>797</td>\n",
       "      <td>11.38</td>\n",
       "      <td>0.61</td>\n",
       "      <td>-10.77</td>\n",
       "    </tr>\n",
       "    <tr>\n",
       "      <th>9</th>\n",
       "      <td>9</td>\n",
       "      <td>16518</td>\n",
       "      <td>21368</td>\n",
       "      <td>11.33</td>\n",
       "      <td>16.35</td>\n",
       "      <td>5.02</td>\n",
       "    </tr>\n",
       "  </tbody>\n",
       "</table>\n",
       "</div>"
      ],
      "text/plain": [
       "   cluster  population  customer  pop_%  cust_%   diff\n",
       "0        0       15241      1375  10.45    1.05  -9.40\n",
       "1        1       10800     11049   7.41    8.46   1.05\n",
       "2        2        8523      8784   5.84    6.72   0.88\n",
       "3        3       17450     19205  11.97   14.70   2.73\n",
       "4        4       17876     13681  12.26   10.47  -1.79\n",
       "5        5       15016     46305  10.30   35.44  25.14\n",
       "6        6       13360      4537   9.16    3.47  -5.69\n",
       "7        7       14441      3560   9.90    2.72  -7.18\n",
       "8        8       16593       797  11.38    0.61 -10.77\n",
       "9        9       16518     21368  11.33   16.35   5.02"
      ]
     },
     "execution_count": 198,
     "metadata": {},
     "output_type": "execute_result"
    }
   ],
   "source": [
    "# Add ratio and ratio difference for each cluster to the dataframe\n",
    "pop_cust_clusters_data_count_df['pop_%'] = (pop_cust_clusters_data_count_df['population']\\\n",
    "                                            /pop_cust_clusters_data_count_df['population'].sum()*100).round(2)\n",
    "pop_cust_clusters_data_count_df['cust_%'] = (pop_cust_clusters_data_count_df['customer']\\\n",
    "                                             /pop_cust_clusters_data_count_df['customer'].sum()*100).round(2)\n",
    "pop_cust_clusters_data_count_df['diff'] = pop_cust_clusters_data_count_df['cust_%'] - pop_cust_clusters_data_count_df['pop_%']\n",
    "pop_cust_clusters_data_count_df"
   ]
  },
  {
   "cell_type": "code",
   "execution_count": 199,
   "metadata": {},
   "outputs": [
    {
     "data": {
      "text/plain": [
       "0"
      ]
     },
     "execution_count": 199,
     "metadata": {},
     "output_type": "execute_result"
    }
   ],
   "source": [
    "# General population data with missing values in row(rows with more than 8 missing values)\n",
    "azdias_null_data_row_high.shape[0]\n"
   ]
  },
  {
   "cell_type": "code",
   "execution_count": 200,
   "metadata": {},
   "outputs": [
    {
     "data": {
      "text/plain": [
       "0"
      ]
     },
     "execution_count": 200,
     "metadata": {},
     "output_type": "execute_result"
    }
   ],
   "source": [
    "# Taking 20% of the missing rows from population dataset as our sample is 20% of the population\n",
    "# dataset with 8 or less than 8 missing values\n",
    "round(azdias_null_data_row_high.shape[0]*.20)"
   ]
  },
  {
   "cell_type": "code",
   "execution_count": 201,
   "metadata": {},
   "outputs": [],
   "source": [
    "# Missing rows from customer dataset\n",
    "customers_null_data_row_few = customers[customers.isnull().sum(axis=1) < 9].reset_index(drop=True)\n",
    "customers_null_data_row_high = customers[customers.isnull().sum(axis=1) >= 9].reset_index(drop=True)"
   ]
  },
  {
   "cell_type": "code",
   "execution_count": 202,
   "metadata": {},
   "outputs": [
    {
     "data": {
      "text/plain": [
       "191652"
      ]
     },
     "execution_count": 202,
     "metadata": {},
     "output_type": "execute_result"
    }
   ],
   "source": [
    "\n",
    "customers.shape[0]"
   ]
  },
  {
   "cell_type": "code",
   "execution_count": 203,
   "metadata": {},
   "outputs": [
    {
     "data": {
      "text/plain": [
       "60991"
      ]
     },
     "execution_count": 203,
     "metadata": {},
     "output_type": "execute_result"
    }
   ],
   "source": [
    "customers_null_data_row_high.shape[0]\n"
   ]
  },
  {
   "cell_type": "code",
   "execution_count": 204,
   "metadata": {},
   "outputs": [
    {
     "data": {
      "text/plain": [
       "191652"
      ]
     },
     "execution_count": 204,
     "metadata": {},
     "output_type": "execute_result"
    }
   ],
   "source": [
    "customers_null_data_row_few.shape[0] + customers_null_data_row_high.shape[0]"
   ]
  },
  {
   "cell_type": "code",
   "execution_count": 205,
   "metadata": {},
   "outputs": [],
   "source": [
    "# Add missing data rows as an extra cluster to pop_cust_clusters_data_count_df dataframe\n",
    "pop_cust_clusters_data_count_df.loc[-1] = ['-1', round(azdias_null_data_row_high.shape[0]*.20),\\\n",
    "                                           customers_null_data_row_high.shape[0],0,0,0]  # adding a row\n",
    "pop_cust_clusters_data_count_df.index = pop_cust_clusters_data_count_df.index + 1  # shifting index\n",
    "pop_cust_clusters_data_count_df.sort_index(inplace=True)"
   ]
  },
  {
   "cell_type": "code",
   "execution_count": 206,
   "metadata": {},
   "outputs": [
    {
     "data": {
      "text/html": [
       "<div>\n",
       "<style scoped>\n",
       "    .dataframe tbody tr th:only-of-type {\n",
       "        vertical-align: middle;\n",
       "    }\n",
       "\n",
       "    .dataframe tbody tr th {\n",
       "        vertical-align: top;\n",
       "    }\n",
       "\n",
       "    .dataframe thead th {\n",
       "        text-align: right;\n",
       "    }\n",
       "</style>\n",
       "<table border=\"1\" class=\"dataframe\">\n",
       "  <thead>\n",
       "    <tr style=\"text-align: right;\">\n",
       "      <th></th>\n",
       "      <th>cluster</th>\n",
       "      <th>population</th>\n",
       "      <th>customer</th>\n",
       "      <th>pop_%</th>\n",
       "      <th>cust_%</th>\n",
       "      <th>diff</th>\n",
       "    </tr>\n",
       "  </thead>\n",
       "  <tbody>\n",
       "    <tr>\n",
       "      <th>0</th>\n",
       "      <td>-1</td>\n",
       "      <td>0</td>\n",
       "      <td>60991</td>\n",
       "      <td>0.00</td>\n",
       "      <td>31.82</td>\n",
       "      <td>31.82</td>\n",
       "    </tr>\n",
       "    <tr>\n",
       "      <th>1</th>\n",
       "      <td>0</td>\n",
       "      <td>15241</td>\n",
       "      <td>1375</td>\n",
       "      <td>10.45</td>\n",
       "      <td>0.72</td>\n",
       "      <td>-9.73</td>\n",
       "    </tr>\n",
       "    <tr>\n",
       "      <th>2</th>\n",
       "      <td>1</td>\n",
       "      <td>10800</td>\n",
       "      <td>11049</td>\n",
       "      <td>7.41</td>\n",
       "      <td>5.77</td>\n",
       "      <td>-1.64</td>\n",
       "    </tr>\n",
       "    <tr>\n",
       "      <th>3</th>\n",
       "      <td>2</td>\n",
       "      <td>8523</td>\n",
       "      <td>8784</td>\n",
       "      <td>5.84</td>\n",
       "      <td>4.58</td>\n",
       "      <td>-1.26</td>\n",
       "    </tr>\n",
       "    <tr>\n",
       "      <th>4</th>\n",
       "      <td>3</td>\n",
       "      <td>17450</td>\n",
       "      <td>19205</td>\n",
       "      <td>11.97</td>\n",
       "      <td>10.02</td>\n",
       "      <td>-1.95</td>\n",
       "    </tr>\n",
       "    <tr>\n",
       "      <th>5</th>\n",
       "      <td>4</td>\n",
       "      <td>17876</td>\n",
       "      <td>13681</td>\n",
       "      <td>12.26</td>\n",
       "      <td>7.14</td>\n",
       "      <td>-5.12</td>\n",
       "    </tr>\n",
       "    <tr>\n",
       "      <th>6</th>\n",
       "      <td>5</td>\n",
       "      <td>15016</td>\n",
       "      <td>46305</td>\n",
       "      <td>10.30</td>\n",
       "      <td>24.16</td>\n",
       "      <td>13.86</td>\n",
       "    </tr>\n",
       "    <tr>\n",
       "      <th>7</th>\n",
       "      <td>6</td>\n",
       "      <td>13360</td>\n",
       "      <td>4537</td>\n",
       "      <td>9.16</td>\n",
       "      <td>2.37</td>\n",
       "      <td>-6.79</td>\n",
       "    </tr>\n",
       "    <tr>\n",
       "      <th>8</th>\n",
       "      <td>7</td>\n",
       "      <td>14441</td>\n",
       "      <td>3560</td>\n",
       "      <td>9.90</td>\n",
       "      <td>1.86</td>\n",
       "      <td>-8.04</td>\n",
       "    </tr>\n",
       "    <tr>\n",
       "      <th>9</th>\n",
       "      <td>8</td>\n",
       "      <td>16593</td>\n",
       "      <td>797</td>\n",
       "      <td>11.38</td>\n",
       "      <td>0.42</td>\n",
       "      <td>-10.96</td>\n",
       "    </tr>\n",
       "    <tr>\n",
       "      <th>10</th>\n",
       "      <td>9</td>\n",
       "      <td>16518</td>\n",
       "      <td>21368</td>\n",
       "      <td>11.33</td>\n",
       "      <td>11.15</td>\n",
       "      <td>-0.18</td>\n",
       "    </tr>\n",
       "  </tbody>\n",
       "</table>\n",
       "</div>"
      ],
      "text/plain": [
       "   cluster  population  customer  pop_%  cust_%   diff\n",
       "0       -1           0     60991   0.00   31.82  31.82\n",
       "1        0       15241      1375  10.45    0.72  -9.73\n",
       "2        1       10800     11049   7.41    5.77  -1.64\n",
       "3        2        8523      8784   5.84    4.58  -1.26\n",
       "4        3       17450     19205  11.97   10.02  -1.95\n",
       "5        4       17876     13681  12.26    7.14  -5.12\n",
       "6        5       15016     46305  10.30   24.16  13.86\n",
       "7        6       13360      4537   9.16    2.37  -6.79\n",
       "8        7       14441      3560   9.90    1.86  -8.04\n",
       "9        8       16593       797  11.38    0.42 -10.96\n",
       "10       9       16518     21368  11.33   11.15  -0.18"
      ]
     },
     "execution_count": 206,
     "metadata": {},
     "output_type": "execute_result"
    }
   ],
   "source": [
    "# Recalculate ratios and differences\n",
    "pop_cust_clusters_data_count_df['pop_%'] = (pop_cust_clusters_data_count_df['population']\\\n",
    "                                            /pop_cust_clusters_data_count_df['population'].sum()*100).round(2)\n",
    "pop_cust_clusters_data_count_df['cust_%'] = (pop_cust_clusters_data_count_df['customer']\\\n",
    "                                             /pop_cust_clusters_data_count_df['customer'].sum()*100).round(2)\n",
    "pop_cust_clusters_data_count_df['diff'] = pop_cust_clusters_data_count_df['cust_%'] - pop_cust_clusters_data_count_df['pop_%']\n",
    "\n",
    "pop_cust_clusters_data_count_df"
   ]
  },
  {
   "cell_type": "code",
   "execution_count": 208,
   "metadata": {},
   "outputs": [
    {
     "data": {
      "image/png": "[encoded data removed]",
      "text/plain": [
       "<matplotlib.figure.Figure at 0x7f878ee7be80>"
      ]
     },
     "metadata": {
      "needs_background": "light"
     },
     "output_type": "display_data"
    }
   ],
   "source": [
    "fig = plt.figure(figsize=(16,6))\n",
    "\n",
    "ax1 = fig.add_subplot(1,2,1)\n",
    "ax1 = sns.barplot(x=pop_cust_clusters_data_count_df['cluster'],\\\n",
    "                  y=pop_cust_clusters_data_count_df['population'],\\\n",
    "                  color='teal',edgecolor='.9')\n",
    "plt.title(\"Distribution of General Population into Clusters\")\n",
    "\n",
    "ax2 = fig.add_subplot(1,2,2)\n",
    "ax2 = sns.barplot(x=pop_cust_clusters_data_count_df['cluster'],\\\n",
    "                  y=pop_cust_clusters_data_count_df['customer'],\\\n",
    "                  color='coral',edgecolor='.9')\n",
    "\n",
    "plt.title(\"Distribution of Customers into Clusters\")\n",
    "plt.suptitle(\"Plot\", fontsize=15);"
   ]
  },
  {
   "cell_type": "code",
   "execution_count": 209,
   "metadata": {},
   "outputs": [
    {
     "data": {
      "image/png": "[encoded data removed]",
      "text/plain": [
       "<matplotlib.figure.Figure at 0x7f878c259208>"
      ]
     },
     "metadata": {
      "needs_background": "light"
     },
     "output_type": "display_data"
    }
   ],
   "source": [
    "\n",
    "fig = plt.figure(figsize=(16,6))\n",
    "\n",
    "ax = fig.add_subplot(111)\n",
    "\n",
    "ax = pop_cust_clusters_data_count_df['pop_%'].plot(x=pop_cust_clusters_data_count_df['cluster'], kind='bar',\\\n",
    "                                                   color='teal',width=-0.3, align='edge',position=0)\n",
    "ax = pop_cust_clusters_data_count_df['cust_%'].plot(x=pop_cust_clusters_data_count_df['cluster'], kind='bar',\\\n",
    "                                                    color='coral',width = 0.3, align='edge',position=1)\n",
    "\n",
    "ax.margins(x=0.5,y=0.1)\n",
    "ax.set_xlabel('Clusters', fontsize=15) \n",
    "ax.set_ylabel('Ratio %', fontsize=15)\n",
    "ax.xaxis.set(ticklabels= pop_cust_clusters_data_count_df['cluster'])\n",
    "ax.tick_params(axis = 'x', which = 'major', labelsize = 16)\n",
    "plt.xticks(rotation=360,)\n",
    "\n",
    "plt.legend(('poulation %', 'customer %'),fontsize=15)\n",
    "plt.title(('Comparison of ratio of general population and customer count as % of total in each cluster.')\n",
    "          ,fontsize=16)\n",
    "\n",
    "plt.subplots_adjust(bottom=0.2)\n",
    "plt.suptitle(\"Plot\", fontsize=15)\n",
    "plt.show()"
   ]
  },
  {
   "cell_type": "markdown",
   "metadata": {},
   "source": [
    "\n",
    "From the above visualization, we can observe that there is a proportion difference of +15.69% between customer proportion and genarl population proportion assigned to cluster 9. Therefore, cluster 9 over-represents customer data compared to general population.\n",
    "\n",
    "Also, we can observe that there is a proportion difference of -8.90% between customer proportion and general population proportion assigned to cluster 8. Therefore, cluster 8 under-represents customer data compared to general population."
   ]
  },
  {
   "cell_type": "code",
   "execution_count": 210,
   "metadata": {},
   "outputs": [
    {
     "data": {
      "text/plain": [
       "1     7.270695\n",
       "2     2.984870\n",
       "24    0.613113\n",
       "10    0.588447\n",
       "22    0.508739\n",
       "3     0.425988\n",
       "18    0.386389\n",
       "13    0.296758\n",
       "26    0.267515\n",
       "43    0.205152\n",
       "27    0.185726\n",
       "48    0.153480\n",
       "41    0.149116\n",
       "40    0.144191\n",
       "39    0.135785\n",
       "42    0.133133\n",
       "46    0.130782\n",
       "33    0.129233\n",
       "35    0.121644\n",
       "56    0.108874\n",
       "47    0.100656\n",
       "66    0.090633\n",
       "58    0.081110\n",
       "74    0.078970\n",
       "49    0.072862\n",
       "30    0.069672\n",
       "45    0.063473\n",
       "34    0.056034\n",
       "60    0.052370\n",
       "50    0.047099\n",
       "        ...   \n",
       "75   -0.035661\n",
       "25   -0.045819\n",
       "72   -0.051753\n",
       "16   -0.066643\n",
       "38   -0.067787\n",
       "8    -0.068121\n",
       "55   -0.074532\n",
       "59   -0.077789\n",
       "65   -0.078161\n",
       "70   -0.083216\n",
       "7    -0.101691\n",
       "52   -0.130956\n",
       "29   -0.151218\n",
       "54   -0.157192\n",
       "21   -0.173676\n",
       "6    -0.231520\n",
       "32   -0.288293\n",
       "20   -0.299179\n",
       "19   -0.322580\n",
       "31   -0.324020\n",
       "5    -0.349460\n",
       "15   -0.358545\n",
       "17   -0.407622\n",
       "23   -0.428180\n",
       "28   -0.454867\n",
       "4    -0.514579\n",
       "14   -0.659356\n",
       "9    -0.787504\n",
       "12   -0.990914\n",
       "11   -1.270688\n",
       "Length: 81, dtype: float64"
      ]
     },
     "execution_count": 210,
     "metadata": {},
     "output_type": "execute_result"
    }
   ],
   "source": [
    "# What kinds of people are part of a cluster that is overrepresented in the\n",
    "# customer data compared to the general population?\n",
    "\n",
    "\n",
    "# Analysis of principal components of cluster 9 consisting of people with over-representation in the\n",
    "# customer data compared to the general population.\n",
    "p_comp_cluster_9 = pd.Series(kmeans_10.cluster_centers_[9])\n",
    "p_comp_cluster_9.index = p_comp_cluster_9.index + 1\n",
    "p_comp_cluster_9.sort_values(ascending=False, inplace=True)\n",
    "p_comp_cluster_9"
   ]
  },
  {
   "cell_type": "code",
   "execution_count": 211,
   "metadata": {},
   "outputs": [
    {
     "data": {
      "text/plain": [
       "Index(['ANZ_HAUSHALTE_AKTIV', 'ANZ_HH_TITEL', 'ANZ_PERSONEN', 'ANZ_TITEL',\n",
       "       'ARBEIT', 'BALLRAUM', 'D19_BANKEN_DIREKT', 'D19_BANKEN_GROSS',\n",
       "       'D19_BANKEN_LOKAL', 'D19_BANKEN_REST',\n",
       "       ...\n",
       "       'ZABEOTYP_3', 'ZABEOTYP_4', 'ZABEOTYP_5', 'ZABEOTYP_6',\n",
       "       'PRAEGENDE_JUGENDJAHRE_decade', 'PRAEGENDE_JUGENDJAHRE_movement',\n",
       "       'CAMEO_INTL_2015_wealth', 'CAMEO_INTL_2015_life_stage',\n",
       "       'WOHNLAGE_rural', 'WOHNLAGE_rating_class'],\n",
       "      dtype='object', length=575)"
      ]
     },
     "execution_count": 211,
     "metadata": {},
     "output_type": "execute_result"
    }
   ],
   "source": [
    "azdias_sample.columns"
   ]
  },
  {
   "cell_type": "code",
   "execution_count": 212,
   "metadata": {},
   "outputs": [
    {
     "data": {
      "text/plain": [
       "ANZ_HAUSHALTE_AKTIV              -0.85\n",
       "ANZ_HH_TITEL                      0.00\n",
       "ANZ_PERSONEN                      2.65\n",
       "ANZ_TITEL                         0.02\n",
       "ARBEIT                            2.85\n",
       "BALLRAUM                          4.87\n",
       "D19_BANKEN_DIREKT                 2.67\n",
       "D19_BANKEN_GROSS                  1.58\n",
       "D19_BANKEN_LOKAL                  0.23\n",
       "D19_BANKEN_REST                   1.22\n",
       "D19_BEKLEIDUNG_GEH                1.35\n",
       "D19_BEKLEIDUNG_REST               2.75\n",
       "D19_BILDUNG                       1.55\n",
       "D19_BIO_OEKO                      1.03\n",
       "D19_BUCH_CD                       3.71\n",
       "D19_DIGIT_SERV                    0.60\n",
       "D19_DROGERIEARTIKEL               1.82\n",
       "D19_ENERGIE                       0.87\n",
       "D19_FREIZEIT                      1.79\n",
       "D19_GARTEN                        0.86\n",
       "D19_HANDWERK                      2.31\n",
       "D19_HAUS_DEKO                     2.81\n",
       "D19_KINDERARTIKEL                 2.42\n",
       "D19_KOSMETIK                      2.62\n",
       "D19_LEBENSMITTEL                  1.05\n",
       "D19_NAHRUNGSERGAENZUNG            0.87\n",
       "D19_RATGEBER                      1.58\n",
       "D19_REISEN                        2.71\n",
       "D19_SAMMELARTIKEL                 1.88\n",
       "D19_SCHUHE                        1.30\n",
       "                                  ... \n",
       "LP_STATUS_FEIN_5.0                0.05\n",
       "LP_STATUS_FEIN_6.0                0.07\n",
       "LP_STATUS_FEIN_7.0                0.04\n",
       "LP_STATUS_FEIN_8.0                0.03\n",
       "LP_STATUS_FEIN_9.0                0.32\n",
       "LP_STATUS_FEIN_10.0               0.32\n",
       "LP_STATUS_GROB_1.0                0.03\n",
       "LP_STATUS_GROB_2.0                0.19\n",
       "LP_STATUS_GROB_3.0                0.12\n",
       "LP_STATUS_GROB_4.0                0.35\n",
       "LP_STATUS_GROB_5.0                0.32\n",
       "NATIONALITAET_KZ_1.0              0.91\n",
       "NATIONALITAET_KZ_2.0              0.05\n",
       "NATIONALITAET_KZ_3.0              0.04\n",
       "SHOPPER_TYP_0.0                   0.22\n",
       "SHOPPER_TYP_1.0                   0.32\n",
       "SHOPPER_TYP_2.0                   0.24\n",
       "SHOPPER_TYP_3.0                   0.22\n",
       "ZABEOTYP_1                        0.34\n",
       "ZABEOTYP_2                        0.08\n",
       "ZABEOTYP_3                        0.18\n",
       "ZABEOTYP_4                        0.41\n",
       "ZABEOTYP_5                        0.03\n",
       "ZABEOTYP_6                       -0.04\n",
       "PRAEGENDE_JUGENDJAHRE_decade      4.64\n",
       "PRAEGENDE_JUGENDJAHRE_movement    0.56\n",
       "CAMEO_INTL_2015_wealth            2.25\n",
       "CAMEO_INTL_2015_life_stage        3.46\n",
       "WOHNLAGE_rural                    0.46\n",
       "WOHNLAGE_rating_class             1.38\n",
       "Length: 575, dtype: float64"
      ]
     },
     "execution_count": 212,
     "metadata": {},
     "output_type": "execute_result"
    }
   ],
   "source": [
    "# Transform cluster 1 principal components to original feature values.\n",
    "p_comp_cluster_9_orig = pd.Series(scaler.inverse_transform(pca_81.inverse_transform(p_comp_cluster_9)))\n",
    "p_comp_cluster_9_orig = p_comp_cluster_9_orig.round(2)\n",
    "p_comp_cluster_9_orig.index = azdias_sample.columns\n",
    "p_comp_cluster_9_orig"
   ]
  },
  {
   "cell_type": "code",
   "execution_count": 213,
   "metadata": {},
   "outputs": [
    {
     "name": "stdout",
     "output_type": "stream",
     "text": [
      "Principal Component 1\n",
      "------------------------------\n",
      "\n",
      "Top positive weights are below\n",
      "\n",
      "MOBI_REGIO        0.1306\n",
      "KBA05_ANTG1       0.1228\n",
      "KBA05_AUTOQUOT    0.1189\n",
      "PLZ8_ANTG1        0.1170\n",
      "KBA05_GBZ         0.1151\n",
      "Name: PC 1, dtype: float64\n",
      "------------------------------\n",
      "\n",
      "Top negative weights are below\n",
      "\n",
      "HH_EINKOMMEN_SCORE       -0.1281\n",
      "CAMEO_INTL_2015_wealth   -0.1219\n",
      "LP_STATUS_GROB_1.0       -0.1182\n",
      "PLZ8_ANTG3               -0.1145\n",
      "D19_GESAMT_ANZ_24_0      -0.1103\n",
      "Name: PC 1, dtype: float64\n"
     ]
    }
   ],
   "source": [
    "# Analyze top principal component in cluster 9\n",
    "# Getting top 5 positive and negative weights of a principal component 1.\n",
    "weights_sorted_p_comp(1, 5)"
   ]
  },
  {
   "cell_type": "code",
   "execution_count": 214,
   "metadata": {},
   "outputs": [
    {
     "name": "stdout",
     "output_type": "stream",
     "text": [
      "Principal Component 4\n",
      "------------------------------\n",
      "\n",
      "Top positive weights are below\n",
      "\n",
      "ALTERSKATEGORIE_GROB    0.1851\n",
      "FINANZ_VORSORGER        0.1685\n",
      "SEMIO_ERL               0.1370\n",
      "SEMIO_LUST              0.1348\n",
      "ZABEOTYP_3              0.1328\n",
      "Name: PC 4, dtype: float64\n",
      "------------------------------\n",
      "\n",
      "Top negative weights are below\n",
      "\n",
      "FINANZ_SPARER                  -0.1950\n",
      "PRAEGENDE_JUGENDJAHRE_decade   -0.1892\n",
      "SEMIO_PFLICHT                  -0.1813\n",
      "FINANZ_UNAUFFAELLIGER          -0.1809\n",
      "SEMIO_REL                      -0.1806\n",
      "Name: PC 4, dtype: float64\n"
     ]
    }
   ],
   "source": [
    "# Analyze second top principal component in cluster 9\n",
    "# Getting top 5 positive and negative weights of a principal component 4.\n",
    "weights_sorted_p_comp(4, 5)"
   ]
  },
  {
   "cell_type": "code",
   "execution_count": 215,
   "metadata": {},
   "outputs": [
    {
     "data": {
      "text/plain": [
       "5     1.030003\n",
       "7     0.863926\n",
       "16    0.357109\n",
       "23    0.262405\n",
       "22    0.220077\n",
       "17    0.204410\n",
       "32    0.184990\n",
       "20    0.167274\n",
       "67    0.107584\n",
       "14    0.105203\n",
       "80    0.100731\n",
       "25    0.093717\n",
       "42    0.081299\n",
       "11    0.076853\n",
       "79    0.073015\n",
       "44    0.070002\n",
       "39    0.066173\n",
       "66    0.065133\n",
       "45    0.059659\n",
       "29    0.053041\n",
       "75    0.047880\n",
       "73    0.045749\n",
       "37    0.039782\n",
       "47    0.039458\n",
       "13    0.038298\n",
       "52    0.032220\n",
       "72    0.029891\n",
       "33    0.028544\n",
       "63    0.024266\n",
       "64    0.022621\n",
       "        ...   \n",
       "71   -0.031089\n",
       "70   -0.031605\n",
       "19   -0.033754\n",
       "78   -0.036538\n",
       "53   -0.038776\n",
       "54   -0.040204\n",
       "26   -0.051204\n",
       "57   -0.052667\n",
       "41   -0.056782\n",
       "68   -0.057871\n",
       "74   -0.061943\n",
       "34   -0.066729\n",
       "40   -0.069140\n",
       "36   -0.081513\n",
       "50   -0.109987\n",
       "31   -0.133939\n",
       "35   -0.136033\n",
       "12   -0.195459\n",
       "28   -0.202395\n",
       "30   -0.211126\n",
       "27   -0.265063\n",
       "15   -0.270840\n",
       "24   -0.315472\n",
       "10   -0.380819\n",
       "8    -0.411705\n",
       "6    -0.531686\n",
       "3    -0.749098\n",
       "1    -1.270362\n",
       "2    -1.460392\n",
       "4    -4.739089\n",
       "Length: 81, dtype: float64"
      ]
     },
     "execution_count": 215,
     "metadata": {},
     "output_type": "execute_result"
    }
   ],
   "source": [
    "\n",
    "\n",
    "# Analysis of principal components of cluster 8 consisting of people with under-representation in the\n",
    "# customer data compared to the general population.\n",
    "p_comp_cluster_8 = pd.Series(kmeans_10.cluster_centers_[8])\n",
    "p_comp_cluster_8.index = p_comp_cluster_8.index + 1\n",
    "p_comp_cluster_8.sort_values(ascending=False, inplace=True)\n",
    "p_comp_cluster_8\n"
   ]
  },
  {
   "cell_type": "code",
   "execution_count": 216,
   "metadata": {},
   "outputs": [
    {
     "data": {
      "text/plain": [
       "ANZ_HAUSHALTE_AKTIV               1.42\n",
       "ANZ_HH_TITEL                     -0.05\n",
       "ANZ_PERSONEN                      1.76\n",
       "ANZ_TITEL                         0.01\n",
       "ARBEIT                            3.05\n",
       "BALLRAUM                          4.26\n",
       "D19_BANKEN_DIREKT                 1.74\n",
       "D19_BANKEN_GROSS                  0.93\n",
       "D19_BANKEN_LOKAL                  0.03\n",
       "D19_BANKEN_REST                   0.48\n",
       "D19_BEKLEIDUNG_GEH                0.76\n",
       "D19_BEKLEIDUNG_REST               1.36\n",
       "D19_BILDUNG                       1.24\n",
       "D19_BIO_OEKO                      0.77\n",
       "D19_BUCH_CD                       2.45\n",
       "D19_DIGIT_SERV                    0.33\n",
       "D19_DROGERIEARTIKEL               0.64\n",
       "D19_ENERGIE                       0.42\n",
       "D19_FREIZEIT                      0.97\n",
       "D19_GARTEN                        0.53\n",
       "D19_HANDWERK                      1.50\n",
       "D19_HAUS_DEKO                     1.57\n",
       "D19_KINDERARTIKEL                 1.33\n",
       "D19_KOSMETIK                      1.59\n",
       "D19_LEBENSMITTEL                  0.63\n",
       "D19_NAHRUNGSERGAENZUNG            0.59\n",
       "D19_RATGEBER                      1.04\n",
       "D19_REISEN                        1.88\n",
       "D19_SAMMELARTIKEL                 1.61\n",
       "D19_SCHUHE                        0.39\n",
       "                                  ... \n",
       "LP_STATUS_FEIN_5.0                0.02\n",
       "LP_STATUS_FEIN_6.0                0.06\n",
       "LP_STATUS_FEIN_7.0                0.03\n",
       "LP_STATUS_FEIN_8.0                0.01\n",
       "LP_STATUS_FEIN_9.0                0.20\n",
       "LP_STATUS_FEIN_10.0               0.19\n",
       "LP_STATUS_GROB_1.0                0.38\n",
       "LP_STATUS_GROB_2.0                0.13\n",
       "LP_STATUS_GROB_3.0                0.09\n",
       "LP_STATUS_GROB_4.0                0.21\n",
       "LP_STATUS_GROB_5.0                0.19\n",
       "NATIONALITAET_KZ_1.0              0.84\n",
       "NATIONALITAET_KZ_2.0              0.07\n",
       "NATIONALITAET_KZ_3.0              0.03\n",
       "SHOPPER_TYP_0.0                   0.23\n",
       "SHOPPER_TYP_1.0                   0.12\n",
       "SHOPPER_TYP_2.0                   0.46\n",
       "SHOPPER_TYP_3.0                   0.14\n",
       "ZABEOTYP_1                        0.14\n",
       "ZABEOTYP_2                        0.03\n",
       "ZABEOTYP_3                        0.38\n",
       "ZABEOTYP_4                        0.37\n",
       "ZABEOTYP_5                        0.05\n",
       "ZABEOTYP_6                        0.04\n",
       "PRAEGENDE_JUGENDJAHRE_decade      4.74\n",
       "PRAEGENDE_JUGENDJAHRE_movement    0.75\n",
       "CAMEO_INTL_2015_wealth            3.20\n",
       "CAMEO_INTL_2015_life_stage        2.82\n",
       "WOHNLAGE_rural                    0.37\n",
       "WOHNLAGE_rating_class             1.86\n",
       "Length: 575, dtype: float64"
      ]
     },
     "execution_count": 216,
     "metadata": {},
     "output_type": "execute_result"
    }
   ],
   "source": [
    "# Transform cluster 8 principal components to original feature values.\n",
    "p_comp_cluster_8_orig = pd.Series(scaler.inverse_transform(pca_81.inverse_transform(p_comp_cluster_8)))\n",
    "p_comp_cluster_8_orig = p_comp_cluster_8_orig.round(2)\n",
    "p_comp_cluster_8_orig.index = azdias_sample.columns\n",
    "p_comp_cluster_8_orig"
   ]
  },
  {
   "cell_type": "code",
   "execution_count": 217,
   "metadata": {},
   "outputs": [
    {
     "name": "stdout",
     "output_type": "stream",
     "text": [
      "Principal Component 5\n",
      "------------------------------\n",
      "\n",
      "Top positive weights are below\n",
      "\n",
      "KBA13_VORB_0        0.1636\n",
      "KBA13_KW_61_120     0.1455\n",
      "KBA13_SITZE_5       0.1388\n",
      "KBA13_KRSZUL_NEU    0.1205\n",
      "KBA05_VORB0         0.1127\n",
      "Name: PC 5, dtype: float64\n",
      "------------------------------\n",
      "\n",
      "Top negative weights are below\n",
      "\n",
      "KBA13_BJ_2000   -0.1781\n",
      "OST_WEST_KZ     -0.1708\n",
      "KBA13_KW_0_60   -0.1597\n",
      "KBA13_BJ_1999   -0.1380\n",
      "KBA13_SITZE_6   -0.1337\n",
      "Name: PC 5, dtype: float64\n"
     ]
    }
   ],
   "source": [
    "# Getting top 5 positive and negative weights of a principal component 5.\n",
    "weights_sorted_p_comp(5, 5)"
   ]
  },
  {
   "cell_type": "code",
   "execution_count": 218,
   "metadata": {},
   "outputs": [
    {
     "name": "stdout",
     "output_type": "stream",
     "text": [
      "Principal Component 7\n",
      "------------------------------\n",
      "\n",
      "Top positive weights are below\n",
      "\n",
      "KBA05_SEG2        0.2260\n",
      "KBA05_KRSKLEIN    0.2122\n",
      "KBA05_CCM1        0.2044\n",
      "KBA05_MOD4        0.1820\n",
      "KBA05_KW1         0.1645\n",
      "Name: PC 7, dtype: float64\n",
      "------------------------------\n",
      "\n",
      "Top negative weights are below\n",
      "\n",
      "KBA05_MAXSEG             -0.1752\n",
      "KBA05_KW2                -0.1525\n",
      "KBA13_SEG_MITTELKLASSE   -0.1513\n",
      "KBA05_SEG4               -0.1309\n",
      "KBA13_ALTERHALTER_30     -0.1280\n",
      "Name: PC 7, dtype: float64\n"
     ]
    }
   ],
   "source": [
    "# Analyze second top principal component in cluster 8\n",
    "# Getting top 5 positive and negative weights of a second top principal component 7.\n",
    "weights_sorted_p_comp(7, 5)"
   ]
  },
  {
   "cell_type": "markdown",
   "metadata": {},
   "source": [
    "Compare Customer Data to Demographics Data <br>\n",
    "Compare the Population and Customer clusters without consideration of the missing row data.\n",
    "If we compare the Population and Customer clusters without consideration of the missing row data, we can observe the below -\n",
    "\n",
    "General Population dataset has highest count(17921) of observations in cluster 2 and has lowest count(8535) of observations in cluster 1. Customer dataset has highest count(46202) of observations in cluster 9 and lowest count(815) in cluster 8.\n",
    "\n",
    "From plot in analysis, we can observe that there is a difference in the cluster distributions between the general population and the customer dataset. Looking at the ratios of each cluster against total counts in order to make better comparisons, we can see the customer dataset is over-represented in clusters 9 and 5 with greater than 5% ratio difference to the general population, and under-represented in clusters 8, 0, 4 and 7 with 5% ratio difference to the general population.\n",
    "\n",
    "This can be seen in  above Plot where the significance of cluster 9 customer segment to the mail order company's customer base is clearly visible.\n",
    "\n",
    "However, to make this analysis more complete, we should also include the missing row data as an additional cluster,we found that the rows of missing data were qualitatively different to the the rows kept for the analysis.\n",
    "\n",
    "Compare the Population and Customer clusters with consideration of the missing row data.\n",
    "If we compare the Population and Customer clusters with consideration of the missing row data, we can observe the below -\n",
    "\n",
    "we have assigned missing row data to cluster -1.\n",
    "\n",
    "\n",
    "\n",
    "General Population dataset has 162135 rows with missing data(where number of missing values in each row is greater than 8). Now, we have used sample dataset from general population dataset in our analysis. we have used 20 % sample dataset which is representative of the general population data. Therefore, 20 % of the missing row data for the population dataset would be 32427 and it represented 18.19% of the general population data.\n",
    "\n",
    "Customer dataset has 60991 rows with missing data(where number of missing values in each row is greater than 8). The missing row data for the customer dataset represented 31.82% of the total customer data.\n",
    "\n",
    "If we take +5% threshold of ratio difference for determining over-representation and -5% threshold of ratio difference for determining under-representation, the customer dataset is over-represented in cluster 9(15.69%) and cluster -1(13.63%), and under-represented in clusters 8(-8.90%), 0(-7.84%), 4(-6.23%) and 7(-5.14%).\n",
    "\n",
    "So, from the above, customer data is over-represented in cluster 9 and under-represented in cluster 8.\n",
    "\n",
    "The missing row data requires more investigation and analysis but from the preliminary bar charts constructed in step above, this data seems to represent conservative, minimilistic high-income earners receptive to advertising incentives and is a relevant customer segment for targeting for the mail order company.\n",
    "\n",
    "Analysis for Cluster that is over-represented in the customer data is below -\n",
    "Cluster 9 is the most relevant cluster for the mail order company's customer base. If we analyze the features that make up this cluster by inverse transforming the principal components and inverse scaling we obtain values for the cluster centroid for our original features(after data wrangling step earlier) that we can use to create a picture of the customer segment. We can also determine the most important features by looking at the principal components that have the biggest impact on the cluster and then analyzing which features make up the largest positive and negative weights of this principal component as we did in step 2.3.\n",
    "\n",
    "For cluster 9, the main principal component is number component 1 that has a value of 4.77 followed by component number 4, 6, 7 and 5 with values of 2.12, 1.10, 0.84 and 0.67 respectively. From this we can see principal components 1 has the biggest influence.\n",
    "\n",
    "Top 5 positive weights for component 1 are -\n",
    "\n",
    "MOBI_REGIO, feature value = 3.52, signifies low to medium moving patterns, KBA05_ANTG1, feature value = 2.02, signifies average share of 1-2 family homes, KBA05_AUTOQUOT, feature value = 3.16, signifies average share of cars per household, PLZ8_ANTG1, feature value = 2.50, signifies average number of 1-2 family houses in the PLZ8, KBA05_GBZ, feature value = 3.56, signifies 5-16 number of buildings in the microcell,\n",
    "\n",
    "Top 5 negative weights for component 1 are -\n",
    "\n",
    "HH_EINKOMMEN_SCORE, feature value = 3.62, signifies high estimated household net income, CAMEO_INTL_2015_wealth, feature Value = 2.27, signifies Prosperous Households, LP_STATUS_GROB_1.0, feature value = 0.15, signifies low-income earners, PLZ8_ANTG3, feature value = 1.40, signifies low share of number of 6-10 family houses in the PLZ8, D19_GESAMT_ANZ_24_0, feature value = signifies no transaction activity TOTAL POOL in the last 24 months,\n",
    "\n",
    "Top 5 positive weights for component 4 are -\n",
    "\n",
    "ALTERSKATEGORIE_GROB, feature value = 2.70, signifies age classification from 30 - 60 years, FINANZ_VORSORGER, feature value = 2.85, signifies average financial topology, SEMIO_ERL, feature value = 4.39, signifies average affinity indicating in what way the person is eventful orientated, SEMIO_LUST, feature value = 4.0, signifies average affinity indicating in what way the person is sensual minded, ZABEOTYP_3, feature value = 0.14, signifies green energy consumers,\n",
    "\n",
    "Top 5 negative weights for component 4 are -\n",
    "\n",
    "FINANZ_SPARER, feature value = 2.91, signifies average money , PRAEGENDE_JUGENDJAHRE_decade, feature value = 4.83, signifies 80's decade , SEMIO_PFLICHT, feature value = 4.16, signifies average affinity indicating in what way the person is dutyfull traditional minded , FINANZ_UNAUFFAELLIGER, feature value = 2.75, average unremarkable financial typology, SEMIO_REL, feature value = 3.85, signifies affinity indicating in what way the person is religious,\n",
    "\n",
    "From the above details we can start to form a picture of the biggest customer segment group for the mail order company. They are average income earners of age from 30-60 years which are environment friendly & green enery consumers having modern outlook with average affinity. They have average share of cars & live in comfortable households and belong to a medium density populated area like small urban areas but within driving distance of a larger urban city.\n",
    "\n",
    "Analysis for Cluster that is under-represented in the customer data is below -\n",
    "Cluster 8 is the least relevant customer segment for the company. The main principal component is number component 5 that has a value of 1.02 followed by component number 7, 16, 23 and 22 with values of 0.86, 0.36, 0.35 and 0.22 respectively. From this we can see principal components 5 has the biggest influence. Following the same process of analysis as above to form a picture of this under-represented group.\n",
    "\n",
    "Looking at the top five positive & neagtive weights for component 5 and their original feature value from the inverse transformation:\n",
    "\n",
    "Top 5 positive weights for component 5 are -\n",
    "\n",
    "KBA13_VORB_0, feature value = 3.15, signifies average share of cars with no preowner - PLZ8, KBA13_KW_61_120, feature value = 2.95, signifies average share of cars with an engine power between 61 and 120 KW - PLZ8, KBA13_SITZE_5, feature value = 2.85, signifies average number of cars with 5 seats in the PLZ8, KBA13_KRSZUL_NEU, feature value = 1.86, signifies average share of newbuilt cars (referred to the county average) - PLZ8, KBA05_VORB0, feature value = 2.89, signifies average share of cars with no preowner,\n",
    "\n",
    "Top 5 negative weights for component 5 are -\n",
    "\n",
    "KBA13_BJ_2000, feature value = 2.85, signifies average share of cars built between 2000 and 2003 within the PLZ8, OST_WEST_KZ, feature value = 0.76, signifies former FRG, KBA13_KW_0_60, feature value = 2.99, signifies average share of cars up to 60 KW engine power - PLZ8, KBA13_BJ_1999, feature value = 2.70, signifies average share of cars built between 1995 and 1999 within the PLZ8, KBA13_SITZE_6, feature value = 3.08, signifies number of cars with more than 5 seats in the PLZ8,\n",
    "\n",
    "Top 5 positive weights for component 7 are -\n",
    "\n",
    "KBA05_SEG2, feature value = 3.18, signifies average share of small and very small cars (Ford Fiesta, Ford Ka etc.) in the microcell, KBA05_KRSKLEIN, feature value = 2.12, signifies average share of small cars, KBA05_CCM1, feature value = 3.14, signifies average share of cars with less than 1399ccm, KBA05_MOD4, feature value = 2.77, signifies average share of small cars, KBA05_KW1, feature value = 3.08, signifies average share of cars with less than 59 KW engine power,\n",
    "\n",
    "Top 5 negative weights for component 7 are -\n",
    "\n",
    "KBA05_MAXSEG, feature value = 2.18, signifies lower middleclass car, KBA05_KW2, feature value = 2.97, signifies average share of cars with an engine power between 60 and 119 KW, KBA13_SEG_MITTELKLASSE, feature value = 3.10, signifies average share of middle class cars (Ford Mondeo etc.) in the PLZ8, KBA05_SEG4, feature value = 2.97, signifies average share of middle class cars (Ford Mondeo etc.) in the microcell, KBA13_ALTERHALTER_30, feature value = 2.91, signifies average share of car owners below 31 within the PLZ8\n",
    "\n",
    "From the above details we can start to form a picture of the lowest customer segment group for the mail order company. They have average share of cars with no preowner i.e. have newbuilt cars built after 2003 with an engine power between 0 to 120 KW which are small in size with 5 seats."
   ]
  },
  {
   "cell_type": "code",
   "execution_count": null,
   "metadata": {},
   "outputs": [],
   "source": []
  },
  {
   "cell_type": "code",
   "execution_count": null,
   "metadata": {},
   "outputs": [],
   "source": []
  },
  {
   "cell_type": "markdown",
   "metadata": {},
   "source": [
    "## Part 2: Supervised Learning Model\n",
    "\n",
    "Now that you've found which parts of the population are more likely to be customers of the mail-order company, it's time to build a prediction model. Each of the rows in the \"MAILOUT\" data files represents an individual that was targeted for a mailout campaign. Ideally, we should be able to use the demographic information from each individual to decide whether or not it will be worth it to include that person in the campaign.\n",
    "\n",
    "The \"MAILOUT\" data has been split into two approximately equal parts, each with almost 43 000 data rows. In this part, you can verify your model with the \"TRAIN\" partition, which includes a column, \"RESPONSE\", that states whether or not a person became a customer of the company following the campaign. In the next part, you'll need to create predictions on the \"TEST\" partition, where the \"RESPONSE\" column has been withheld."
   ]
  },
  {
   "cell_type": "markdown",
   "metadata": {},
   "source": [
    "EXPLORE DATA"
   ]
  },
  {
   "cell_type": "code",
   "execution_count": 243,
   "metadata": {},
   "outputs": [
    {
     "name": "stderr",
     "output_type": "stream",
     "text": [
      "/opt/conda/lib/python3.6/site-packages/IPython/core/interactiveshell.py:2785: DtypeWarning: Columns (18,19) have mixed types. Specify dtype option on import or set low_memory=False.\n",
      "  interactivity=interactivity, compiler=compiler, result=result)\n"
     ]
    }
   ],
   "source": [
    "mailout_train = pd.read_csv('../../data/Term2/capstone/arvato_data/Udacity_MAILOUT_052018_TRAIN.csv', sep=';')"
   ]
  },
  {
   "cell_type": "code",
   "execution_count": 244,
   "metadata": {},
   "outputs": [
    {
     "data": {
      "text/html": [
       "<div>\n",
       "<style scoped>\n",
       "    .dataframe tbody tr th:only-of-type {\n",
       "        vertical-align: middle;\n",
       "    }\n",
       "\n",
       "    .dataframe tbody tr th {\n",
       "        vertical-align: top;\n",
       "    }\n",
       "\n",
       "    .dataframe thead th {\n",
       "        text-align: right;\n",
       "    }\n",
       "</style>\n",
       "<table border=\"1\" class=\"dataframe\">\n",
       "  <thead>\n",
       "    <tr style=\"text-align: right;\">\n",
       "      <th></th>\n",
       "      <th>LNR</th>\n",
       "      <th>AGER_TYP</th>\n",
       "      <th>AKT_DAT_KL</th>\n",
       "      <th>ALTER_HH</th>\n",
       "      <th>ALTER_KIND1</th>\n",
       "      <th>ALTER_KIND2</th>\n",
       "      <th>ALTER_KIND3</th>\n",
       "      <th>ALTER_KIND4</th>\n",
       "      <th>ALTERSKATEGORIE_FEIN</th>\n",
       "      <th>ANZ_HAUSHALTE_AKTIV</th>\n",
       "      <th>...</th>\n",
       "      <th>VK_DHT4A</th>\n",
       "      <th>VK_DISTANZ</th>\n",
       "      <th>VK_ZG11</th>\n",
       "      <th>W_KEIT_KIND_HH</th>\n",
       "      <th>WOHNDAUER_2008</th>\n",
       "      <th>WOHNLAGE</th>\n",
       "      <th>ZABEOTYP</th>\n",
       "      <th>RESPONSE</th>\n",
       "      <th>ANREDE_KZ</th>\n",
       "      <th>ALTERSKATEGORIE_GROB</th>\n",
       "    </tr>\n",
       "  </thead>\n",
       "  <tbody>\n",
       "    <tr>\n",
       "      <th>0</th>\n",
       "      <td>1763</td>\n",
       "      <td>2</td>\n",
       "      <td>1.0</td>\n",
       "      <td>8.0</td>\n",
       "      <td>NaN</td>\n",
       "      <td>NaN</td>\n",
       "      <td>NaN</td>\n",
       "      <td>NaN</td>\n",
       "      <td>8.0</td>\n",
       "      <td>15.0</td>\n",
       "      <td>...</td>\n",
       "      <td>5.0</td>\n",
       "      <td>2.0</td>\n",
       "      <td>1.0</td>\n",
       "      <td>6.0</td>\n",
       "      <td>9.0</td>\n",
       "      <td>3.0</td>\n",
       "      <td>3</td>\n",
       "      <td>0</td>\n",
       "      <td>2</td>\n",
       "      <td>4</td>\n",
       "    </tr>\n",
       "    <tr>\n",
       "      <th>1</th>\n",
       "      <td>1771</td>\n",
       "      <td>1</td>\n",
       "      <td>4.0</td>\n",
       "      <td>13.0</td>\n",
       "      <td>NaN</td>\n",
       "      <td>NaN</td>\n",
       "      <td>NaN</td>\n",
       "      <td>NaN</td>\n",
       "      <td>13.0</td>\n",
       "      <td>1.0</td>\n",
       "      <td>...</td>\n",
       "      <td>1.0</td>\n",
       "      <td>2.0</td>\n",
       "      <td>1.0</td>\n",
       "      <td>4.0</td>\n",
       "      <td>9.0</td>\n",
       "      <td>7.0</td>\n",
       "      <td>1</td>\n",
       "      <td>0</td>\n",
       "      <td>2</td>\n",
       "      <td>3</td>\n",
       "    </tr>\n",
       "    <tr>\n",
       "      <th>2</th>\n",
       "      <td>1776</td>\n",
       "      <td>1</td>\n",
       "      <td>1.0</td>\n",
       "      <td>9.0</td>\n",
       "      <td>NaN</td>\n",
       "      <td>NaN</td>\n",
       "      <td>NaN</td>\n",
       "      <td>NaN</td>\n",
       "      <td>7.0</td>\n",
       "      <td>0.0</td>\n",
       "      <td>...</td>\n",
       "      <td>6.0</td>\n",
       "      <td>4.0</td>\n",
       "      <td>2.0</td>\n",
       "      <td>NaN</td>\n",
       "      <td>9.0</td>\n",
       "      <td>2.0</td>\n",
       "      <td>3</td>\n",
       "      <td>0</td>\n",
       "      <td>1</td>\n",
       "      <td>4</td>\n",
       "    </tr>\n",
       "    <tr>\n",
       "      <th>3</th>\n",
       "      <td>1460</td>\n",
       "      <td>2</td>\n",
       "      <td>1.0</td>\n",
       "      <td>6.0</td>\n",
       "      <td>NaN</td>\n",
       "      <td>NaN</td>\n",
       "      <td>NaN</td>\n",
       "      <td>NaN</td>\n",
       "      <td>6.0</td>\n",
       "      <td>4.0</td>\n",
       "      <td>...</td>\n",
       "      <td>8.0</td>\n",
       "      <td>11.0</td>\n",
       "      <td>11.0</td>\n",
       "      <td>6.0</td>\n",
       "      <td>9.0</td>\n",
       "      <td>1.0</td>\n",
       "      <td>3</td>\n",
       "      <td>0</td>\n",
       "      <td>2</td>\n",
       "      <td>4</td>\n",
       "    </tr>\n",
       "    <tr>\n",
       "      <th>4</th>\n",
       "      <td>1783</td>\n",
       "      <td>2</td>\n",
       "      <td>1.0</td>\n",
       "      <td>9.0</td>\n",
       "      <td>NaN</td>\n",
       "      <td>NaN</td>\n",
       "      <td>NaN</td>\n",
       "      <td>NaN</td>\n",
       "      <td>9.0</td>\n",
       "      <td>53.0</td>\n",
       "      <td>...</td>\n",
       "      <td>2.0</td>\n",
       "      <td>2.0</td>\n",
       "      <td>1.0</td>\n",
       "      <td>6.0</td>\n",
       "      <td>9.0</td>\n",
       "      <td>3.0</td>\n",
       "      <td>3</td>\n",
       "      <td>0</td>\n",
       "      <td>1</td>\n",
       "      <td>3</td>\n",
       "    </tr>\n",
       "  </tbody>\n",
       "</table>\n",
       "<p>5 rows × 367 columns</p>\n",
       "</div>"
      ],
      "text/plain": [
       "    LNR  AGER_TYP  AKT_DAT_KL  ALTER_HH  ALTER_KIND1  ALTER_KIND2  \\\n",
       "0  1763         2         1.0       8.0          NaN          NaN   \n",
       "1  1771         1         4.0      13.0          NaN          NaN   \n",
       "2  1776         1         1.0       9.0          NaN          NaN   \n",
       "3  1460         2         1.0       6.0          NaN          NaN   \n",
       "4  1783         2         1.0       9.0          NaN          NaN   \n",
       "\n",
       "   ALTER_KIND3  ALTER_KIND4  ALTERSKATEGORIE_FEIN  ANZ_HAUSHALTE_AKTIV  \\\n",
       "0          NaN          NaN                   8.0                 15.0   \n",
       "1          NaN          NaN                  13.0                  1.0   \n",
       "2          NaN          NaN                   7.0                  0.0   \n",
       "3          NaN          NaN                   6.0                  4.0   \n",
       "4          NaN          NaN                   9.0                 53.0   \n",
       "\n",
       "          ...           VK_DHT4A  VK_DISTANZ  VK_ZG11  W_KEIT_KIND_HH  \\\n",
       "0         ...                5.0         2.0      1.0             6.0   \n",
       "1         ...                1.0         2.0      1.0             4.0   \n",
       "2         ...                6.0         4.0      2.0             NaN   \n",
       "3         ...                8.0        11.0     11.0             6.0   \n",
       "4         ...                2.0         2.0      1.0             6.0   \n",
       "\n",
       "   WOHNDAUER_2008  WOHNLAGE  ZABEOTYP RESPONSE ANREDE_KZ ALTERSKATEGORIE_GROB  \n",
       "0             9.0       3.0         3        0         2                    4  \n",
       "1             9.0       7.0         1        0         2                    3  \n",
       "2             9.0       2.0         3        0         1                    4  \n",
       "3             9.0       1.0         3        0         2                    4  \n",
       "4             9.0       3.0         3        0         1                    3  \n",
       "\n",
       "[5 rows x 367 columns]"
      ]
     },
     "execution_count": 244,
     "metadata": {},
     "output_type": "execute_result"
    }
   ],
   "source": [
    "mailout_train.head()"
   ]
  },
  {
   "cell_type": "code",
   "execution_count": 245,
   "metadata": {},
   "outputs": [
    {
     "data": {
      "text/plain": [
       "(42962, 367)"
      ]
     },
     "execution_count": 245,
     "metadata": {},
     "output_type": "execute_result"
    }
   ],
   "source": [
    "# Shape of train datastet\n",
    "mailout_train.shape"
   ]
  },
  {
   "cell_type": "markdown",
   "metadata": {},
   "source": [
    "\n",
    "The last column RESPONSE will be the target label (whether or not the customer became a customer or not). All other applicable columns are features about each individual in the mailout campaign."
   ]
  },
  {
   "cell_type": "code",
   "execution_count": 246,
   "metadata": {},
   "outputs": [
    {
     "data": {
      "text/plain": [
       "0    42430\n",
       "1      532\n",
       "Name: RESPONSE, dtype: int64"
      ]
     },
     "execution_count": 246,
     "metadata": {},
     "output_type": "execute_result"
    }
   ],
   "source": [
    "\n",
    "# Print number of individuals whom responded to the mailout campaign\n",
    "mailout_train['RESPONSE'].value_counts()"
   ]
  },
  {
   "cell_type": "code",
   "execution_count": 247,
   "metadata": {},
   "outputs": [
    {
     "data": {
      "text/plain": [
       "0    98.76\n",
       "1     1.24\n",
       "Name: RESPONSE, dtype: float64"
      ]
     },
     "execution_count": 247,
     "metadata": {},
     "output_type": "execute_result"
    }
   ],
   "source": [
    "# Print proprtion of individuals whom responded to the mailout campaign\n",
    "round((mailout_train['RESPONSE'].value_counts()/mailout_train.shape[0])*100,2)"
   ]
  },
  {
   "cell_type": "code",
   "execution_count": 248,
   "metadata": {},
   "outputs": [
    {
     "data": {
      "text/plain": [
       "<matplotlib.axes._subplots.AxesSubplot at 0x7f878e0aa748>"
      ]
     },
     "execution_count": 248,
     "metadata": {},
     "output_type": "execute_result"
    },
    {
     "data": {
      "image/png": "[encoded data removed]",
      "text/plain": [
       "<matplotlib.figure.Figure at 0x7f878e0aaeb8>"
      ]
     },
     "metadata": {
      "needs_background": "light"
     },
     "output_type": "display_data"
    }
   ],
   "source": [
    "# Plot count of individuals whom responded to the mailout campaign\n",
    "sns.countplot(mailout_train['RESPONSE'])"
   ]
  },
  {
   "cell_type": "markdown",
   "metadata": {},
   "source": [
    "From above, we can say that there are only 1.24% i.e. only 532 individuals whom responded to the mailout campaign. The dataset is highly imbalanced because of the huge difference in proportion of numbers of individuals whom responded to the campaign and numbers of individuals whom did not responded."
   ]
  },
  {
   "cell_type": "code",
   "execution_count": 249,
   "metadata": {},
   "outputs": [
    {
     "data": {
      "text/plain": [
       "0"
      ]
     },
     "execution_count": 249,
     "metadata": {},
     "output_type": "execute_result"
    }
   ],
   "source": [
    "# Check for missing value is 'RESPONSE' column\n",
    "mailout_train['RESPONSE'].isnull().sum()"
   ]
  },
  {
   "cell_type": "code",
   "execution_count": 250,
   "metadata": {},
   "outputs": [],
   "source": [
    "# Selecting features and response in mailout_train dataset\n",
    "train_features = mailout_train.drop(['RESPONSE'], axis=1)\n",
    "train_response = mailout_train['RESPONSE']"
   ]
  },
  {
   "cell_type": "code",
   "execution_count": 251,
   "metadata": {},
   "outputs": [
    {
     "data": {
      "text/html": [
       "<div>\n",
       "<style scoped>\n",
       "    .dataframe tbody tr th:only-of-type {\n",
       "        vertical-align: middle;\n",
       "    }\n",
       "\n",
       "    .dataframe tbody tr th {\n",
       "        vertical-align: top;\n",
       "    }\n",
       "\n",
       "    .dataframe thead th {\n",
       "        text-align: right;\n",
       "    }\n",
       "</style>\n",
       "<table border=\"1\" class=\"dataframe\">\n",
       "  <thead>\n",
       "    <tr style=\"text-align: right;\">\n",
       "      <th></th>\n",
       "      <th>count</th>\n",
       "      <th>pct</th>\n",
       "    </tr>\n",
       "  </thead>\n",
       "  <tbody>\n",
       "    <tr>\n",
       "      <th>ALTER_KIND4</th>\n",
       "      <td>42921</td>\n",
       "      <td>99.90</td>\n",
       "    </tr>\n",
       "    <tr>\n",
       "      <th>ALTER_KIND3</th>\n",
       "      <td>42788</td>\n",
       "      <td>99.59</td>\n",
       "    </tr>\n",
       "    <tr>\n",
       "      <th>ALTER_KIND2</th>\n",
       "      <td>42206</td>\n",
       "      <td>98.24</td>\n",
       "    </tr>\n",
       "    <tr>\n",
       "      <th>ALTER_KIND1</th>\n",
       "      <td>40974</td>\n",
       "      <td>95.37</td>\n",
       "    </tr>\n",
       "    <tr>\n",
       "      <th>KK_KUNDENTYP</th>\n",
       "      <td>25316</td>\n",
       "      <td>58.93</td>\n",
       "    </tr>\n",
       "    <tr>\n",
       "      <th>EXTSEL992</th>\n",
       "      <td>15948</td>\n",
       "      <td>37.12</td>\n",
       "    </tr>\n",
       "    <tr>\n",
       "      <th>W_KEIT_KIND_HH</th>\n",
       "      <td>9678</td>\n",
       "      <td>22.53</td>\n",
       "    </tr>\n",
       "    <tr>\n",
       "      <th>HH_DELTA_FLAG</th>\n",
       "      <td>9678</td>\n",
       "      <td>22.53</td>\n",
       "    </tr>\n",
       "    <tr>\n",
       "      <th>KBA05_ZUL1</th>\n",
       "      <td>8648</td>\n",
       "      <td>20.13</td>\n",
       "    </tr>\n",
       "    <tr>\n",
       "      <th>KBA05_KRSZUL</th>\n",
       "      <td>8648</td>\n",
       "      <td>20.13</td>\n",
       "    </tr>\n",
       "    <tr>\n",
       "      <th>KBA05_KRSKLEIN</th>\n",
       "      <td>8648</td>\n",
       "      <td>20.13</td>\n",
       "    </tr>\n",
       "    <tr>\n",
       "      <th>KBA05_KRSOBER</th>\n",
       "      <td>8648</td>\n",
       "      <td>20.13</td>\n",
       "    </tr>\n",
       "    <tr>\n",
       "      <th>KBA05_KRSVAN</th>\n",
       "      <td>8648</td>\n",
       "      <td>20.13</td>\n",
       "    </tr>\n",
       "    <tr>\n",
       "      <th>KBA05_KW3</th>\n",
       "      <td>8648</td>\n",
       "      <td>20.13</td>\n",
       "    </tr>\n",
       "    <tr>\n",
       "      <th>KBA05_KW1</th>\n",
       "      <td>8648</td>\n",
       "      <td>20.13</td>\n",
       "    </tr>\n",
       "    <tr>\n",
       "      <th>KBA05_KW2</th>\n",
       "      <td>8648</td>\n",
       "      <td>20.13</td>\n",
       "    </tr>\n",
       "    <tr>\n",
       "      <th>KBA05_MAXAH</th>\n",
       "      <td>8648</td>\n",
       "      <td>20.13</td>\n",
       "    </tr>\n",
       "    <tr>\n",
       "      <th>KBA05_KRSHERST2</th>\n",
       "      <td>8648</td>\n",
       "      <td>20.13</td>\n",
       "    </tr>\n",
       "    <tr>\n",
       "      <th>KBA05_HERST5</th>\n",
       "      <td>8648</td>\n",
       "      <td>20.13</td>\n",
       "    </tr>\n",
       "    <tr>\n",
       "      <th>KBA05_KRSHERST1</th>\n",
       "      <td>8648</td>\n",
       "      <td>20.13</td>\n",
       "    </tr>\n",
       "    <tr>\n",
       "      <th>KBA05_KRSAQUOT</th>\n",
       "      <td>8648</td>\n",
       "      <td>20.13</td>\n",
       "    </tr>\n",
       "    <tr>\n",
       "      <th>KBA05_MAXHERST</th>\n",
       "      <td>8648</td>\n",
       "      <td>20.13</td>\n",
       "    </tr>\n",
       "    <tr>\n",
       "      <th>KBA05_HERST4</th>\n",
       "      <td>8648</td>\n",
       "      <td>20.13</td>\n",
       "    </tr>\n",
       "    <tr>\n",
       "      <th>KBA05_HERST3</th>\n",
       "      <td>8648</td>\n",
       "      <td>20.13</td>\n",
       "    </tr>\n",
       "    <tr>\n",
       "      <th>KBA05_HERST2</th>\n",
       "      <td>8648</td>\n",
       "      <td>20.13</td>\n",
       "    </tr>\n",
       "    <tr>\n",
       "      <th>KBA05_HERST1</th>\n",
       "      <td>8648</td>\n",
       "      <td>20.13</td>\n",
       "    </tr>\n",
       "    <tr>\n",
       "      <th>KBA05_GBZ</th>\n",
       "      <td>8648</td>\n",
       "      <td>20.13</td>\n",
       "    </tr>\n",
       "    <tr>\n",
       "      <th>KBA05_FRAU</th>\n",
       "      <td>8648</td>\n",
       "      <td>20.13</td>\n",
       "    </tr>\n",
       "    <tr>\n",
       "      <th>KBA05_DIESEL</th>\n",
       "      <td>8648</td>\n",
       "      <td>20.13</td>\n",
       "    </tr>\n",
       "    <tr>\n",
       "      <th>KBA05_CCM4</th>\n",
       "      <td>8648</td>\n",
       "      <td>20.13</td>\n",
       "    </tr>\n",
       "    <tr>\n",
       "      <th>...</th>\n",
       "      <td>...</td>\n",
       "      <td>...</td>\n",
       "    </tr>\n",
       "    <tr>\n",
       "      <th>VHA</th>\n",
       "      <td>6969</td>\n",
       "      <td>16.22</td>\n",
       "    </tr>\n",
       "    <tr>\n",
       "      <th>ANZ_KINDER</th>\n",
       "      <td>6969</td>\n",
       "      <td>16.22</td>\n",
       "    </tr>\n",
       "    <tr>\n",
       "      <th>SOHO_KZ</th>\n",
       "      <td>6969</td>\n",
       "      <td>16.22</td>\n",
       "    </tr>\n",
       "    <tr>\n",
       "      <th>WOHNDAUER_2008</th>\n",
       "      <td>6969</td>\n",
       "      <td>16.22</td>\n",
       "    </tr>\n",
       "    <tr>\n",
       "      <th>ANZ_TITEL</th>\n",
       "      <td>6969</td>\n",
       "      <td>16.22</td>\n",
       "    </tr>\n",
       "    <tr>\n",
       "      <th>TITEL_KZ</th>\n",
       "      <td>6969</td>\n",
       "      <td>16.22</td>\n",
       "    </tr>\n",
       "    <tr>\n",
       "      <th>ALTER_HH</th>\n",
       "      <td>6969</td>\n",
       "      <td>16.22</td>\n",
       "    </tr>\n",
       "    <tr>\n",
       "      <th>AKT_DAT_KL</th>\n",
       "      <td>6969</td>\n",
       "      <td>16.22</td>\n",
       "    </tr>\n",
       "    <tr>\n",
       "      <th>EINGEZOGENAM_HH_JAHR</th>\n",
       "      <td>6969</td>\n",
       "      <td>16.22</td>\n",
       "    </tr>\n",
       "    <tr>\n",
       "      <th>RT_UEBERGROESSE</th>\n",
       "      <td>6380</td>\n",
       "      <td>14.85</td>\n",
       "    </tr>\n",
       "    <tr>\n",
       "      <th>HH_EINKOMMEN_SCORE</th>\n",
       "      <td>704</td>\n",
       "      <td>1.64</td>\n",
       "    </tr>\n",
       "    <tr>\n",
       "      <th>ONLINE_AFFINITAET</th>\n",
       "      <td>605</td>\n",
       "      <td>1.41</td>\n",
       "    </tr>\n",
       "    <tr>\n",
       "      <th>GFK_URLAUBERTYP</th>\n",
       "      <td>605</td>\n",
       "      <td>1.41</td>\n",
       "    </tr>\n",
       "    <tr>\n",
       "      <th>LP_FAMILIE_FEIN</th>\n",
       "      <td>605</td>\n",
       "      <td>1.41</td>\n",
       "    </tr>\n",
       "    <tr>\n",
       "      <th>LP_FAMILIE_GROB</th>\n",
       "      <td>605</td>\n",
       "      <td>1.41</td>\n",
       "    </tr>\n",
       "    <tr>\n",
       "      <th>LP_LEBENSPHASE_FEIN</th>\n",
       "      <td>605</td>\n",
       "      <td>1.41</td>\n",
       "    </tr>\n",
       "    <tr>\n",
       "      <th>LP_LEBENSPHASE_GROB</th>\n",
       "      <td>605</td>\n",
       "      <td>1.41</td>\n",
       "    </tr>\n",
       "    <tr>\n",
       "      <th>LP_STATUS_FEIN</th>\n",
       "      <td>605</td>\n",
       "      <td>1.41</td>\n",
       "    </tr>\n",
       "    <tr>\n",
       "      <th>LP_STATUS_GROB</th>\n",
       "      <td>605</td>\n",
       "      <td>1.41</td>\n",
       "    </tr>\n",
       "    <tr>\n",
       "      <th>CJT_TYP_3</th>\n",
       "      <td>605</td>\n",
       "      <td>1.41</td>\n",
       "    </tr>\n",
       "    <tr>\n",
       "      <th>CJT_TYP_2</th>\n",
       "      <td>605</td>\n",
       "      <td>1.41</td>\n",
       "    </tr>\n",
       "    <tr>\n",
       "      <th>CJT_TYP_5</th>\n",
       "      <td>605</td>\n",
       "      <td>1.41</td>\n",
       "    </tr>\n",
       "    <tr>\n",
       "      <th>CJT_GESAMTTYP</th>\n",
       "      <td>605</td>\n",
       "      <td>1.41</td>\n",
       "    </tr>\n",
       "    <tr>\n",
       "      <th>CJT_TYP_4</th>\n",
       "      <td>605</td>\n",
       "      <td>1.41</td>\n",
       "    </tr>\n",
       "    <tr>\n",
       "      <th>RT_SCHNAEPPCHEN</th>\n",
       "      <td>605</td>\n",
       "      <td>1.41</td>\n",
       "    </tr>\n",
       "    <tr>\n",
       "      <th>RT_KEIN_ANREIZ</th>\n",
       "      <td>605</td>\n",
       "      <td>1.41</td>\n",
       "    </tr>\n",
       "    <tr>\n",
       "      <th>RETOURTYP_BK_S</th>\n",
       "      <td>605</td>\n",
       "      <td>1.41</td>\n",
       "    </tr>\n",
       "    <tr>\n",
       "      <th>CJT_KATALOGNUTZER</th>\n",
       "      <td>605</td>\n",
       "      <td>1.41</td>\n",
       "    </tr>\n",
       "    <tr>\n",
       "      <th>CJT_TYP_1</th>\n",
       "      <td>605</td>\n",
       "      <td>1.41</td>\n",
       "    </tr>\n",
       "    <tr>\n",
       "      <th>CJT_TYP_6</th>\n",
       "      <td>605</td>\n",
       "      <td>1.41</td>\n",
       "    </tr>\n",
       "  </tbody>\n",
       "</table>\n",
       "<p>273 rows × 2 columns</p>\n",
       "</div>"
      ],
      "text/plain": [
       "                      count    pct\n",
       "ALTER_KIND4           42921  99.90\n",
       "ALTER_KIND3           42788  99.59\n",
       "ALTER_KIND2           42206  98.24\n",
       "ALTER_KIND1           40974  95.37\n",
       "KK_KUNDENTYP          25316  58.93\n",
       "EXTSEL992             15948  37.12\n",
       "W_KEIT_KIND_HH         9678  22.53\n",
       "HH_DELTA_FLAG          9678  22.53\n",
       "KBA05_ZUL1             8648  20.13\n",
       "KBA05_KRSZUL           8648  20.13\n",
       "KBA05_KRSKLEIN         8648  20.13\n",
       "KBA05_KRSOBER          8648  20.13\n",
       "KBA05_KRSVAN           8648  20.13\n",
       "KBA05_KW3              8648  20.13\n",
       "KBA05_KW1              8648  20.13\n",
       "KBA05_KW2              8648  20.13\n",
       "KBA05_MAXAH            8648  20.13\n",
       "KBA05_KRSHERST2        8648  20.13\n",
       "KBA05_HERST5           8648  20.13\n",
       "KBA05_KRSHERST1        8648  20.13\n",
       "KBA05_KRSAQUOT         8648  20.13\n",
       "KBA05_MAXHERST         8648  20.13\n",
       "KBA05_HERST4           8648  20.13\n",
       "KBA05_HERST3           8648  20.13\n",
       "KBA05_HERST2           8648  20.13\n",
       "KBA05_HERST1           8648  20.13\n",
       "KBA05_GBZ              8648  20.13\n",
       "KBA05_FRAU             8648  20.13\n",
       "KBA05_DIESEL           8648  20.13\n",
       "KBA05_CCM4             8648  20.13\n",
       "...                     ...    ...\n",
       "VHA                    6969  16.22\n",
       "ANZ_KINDER             6969  16.22\n",
       "SOHO_KZ                6969  16.22\n",
       "WOHNDAUER_2008         6969  16.22\n",
       "ANZ_TITEL              6969  16.22\n",
       "TITEL_KZ               6969  16.22\n",
       "ALTER_HH               6969  16.22\n",
       "AKT_DAT_KL             6969  16.22\n",
       "EINGEZOGENAM_HH_JAHR   6969  16.22\n",
       "RT_UEBERGROESSE        6380  14.85\n",
       "HH_EINKOMMEN_SCORE      704   1.64\n",
       "ONLINE_AFFINITAET       605   1.41\n",
       "GFK_URLAUBERTYP         605   1.41\n",
       "LP_FAMILIE_FEIN         605   1.41\n",
       "LP_FAMILIE_GROB         605   1.41\n",
       "LP_LEBENSPHASE_FEIN     605   1.41\n",
       "LP_LEBENSPHASE_GROB     605   1.41\n",
       "LP_STATUS_FEIN          605   1.41\n",
       "LP_STATUS_GROB          605   1.41\n",
       "CJT_TYP_3               605   1.41\n",
       "CJT_TYP_2               605   1.41\n",
       "CJT_TYP_5               605   1.41\n",
       "CJT_GESAMTTYP           605   1.41\n",
       "CJT_TYP_4               605   1.41\n",
       "RT_SCHNAEPPCHEN         605   1.41\n",
       "RT_KEIN_ANREIZ          605   1.41\n",
       "RETOURTYP_BK_S          605   1.41\n",
       "CJT_KATALOGNUTZER       605   1.41\n",
       "CJT_TYP_1               605   1.41\n",
       "CJT_TYP_6               605   1.41\n",
       "\n",
       "[273 rows x 2 columns]"
      ]
     },
     "execution_count": 251,
     "metadata": {},
     "output_type": "execute_result"
    }
   ],
   "source": [
    "\n",
    "# Quanitfying the naturally missing data in features in descenindg order\n",
    "train_features_init_null = find_missing_data(train_features)\n",
    "train_features_init_null"
   ]
  },
  {
   "cell_type": "code",
   "execution_count": 252,
   "metadata": {},
   "outputs": [],
   "source": [
    "# Identify missing or unknown data values in train_features dataframe columns and convert them to NaNs\n",
    "# as per nan_vals in feat_info\n",
    "for idx in feat_info.index:\n",
    "    column = idx\n",
    "    if column in train_features.columns:\n",
    "        train_features[column] = train_features[column].replace(feat_info.loc[column]['nan_vals'], np.nan)"
   ]
  },
  {
   "cell_type": "code",
   "execution_count": 253,
   "metadata": {},
   "outputs": [
    {
     "data": {
      "text/html": [
       "<div>\n",
       "<style scoped>\n",
       "    .dataframe tbody tr th:only-of-type {\n",
       "        vertical-align: middle;\n",
       "    }\n",
       "\n",
       "    .dataframe tbody tr th {\n",
       "        vertical-align: top;\n",
       "    }\n",
       "\n",
       "    .dataframe thead th {\n",
       "        text-align: right;\n",
       "    }\n",
       "</style>\n",
       "<table border=\"1\" class=\"dataframe\">\n",
       "  <thead>\n",
       "    <tr style=\"text-align: right;\">\n",
       "      <th></th>\n",
       "      <th>count</th>\n",
       "      <th>pct</th>\n",
       "    </tr>\n",
       "  </thead>\n",
       "  <tbody>\n",
       "    <tr>\n",
       "      <th>ALTER_KIND4</th>\n",
       "      <td>42921</td>\n",
       "      <td>99.90</td>\n",
       "    </tr>\n",
       "    <tr>\n",
       "      <th>ALTER_KIND3</th>\n",
       "      <td>42788</td>\n",
       "      <td>99.59</td>\n",
       "    </tr>\n",
       "    <tr>\n",
       "      <th>TITEL_KZ</th>\n",
       "      <td>42749</td>\n",
       "      <td>99.50</td>\n",
       "    </tr>\n",
       "    <tr>\n",
       "      <th>ALTER_KIND2</th>\n",
       "      <td>42206</td>\n",
       "      <td>98.24</td>\n",
       "    </tr>\n",
       "    <tr>\n",
       "      <th>ALTER_KIND1</th>\n",
       "      <td>40974</td>\n",
       "      <td>95.37</td>\n",
       "    </tr>\n",
       "    <tr>\n",
       "      <th>KK_KUNDENTYP</th>\n",
       "      <td>25316</td>\n",
       "      <td>58.93</td>\n",
       "    </tr>\n",
       "    <tr>\n",
       "      <th>KBA05_BAUMAX</th>\n",
       "      <td>22980</td>\n",
       "      <td>53.49</td>\n",
       "    </tr>\n",
       "    <tr>\n",
       "      <th>AGER_TYP</th>\n",
       "      <td>18890</td>\n",
       "      <td>43.97</td>\n",
       "    </tr>\n",
       "    <tr>\n",
       "      <th>GEBURTSJAHR</th>\n",
       "      <td>17475</td>\n",
       "      <td>40.68</td>\n",
       "    </tr>\n",
       "    <tr>\n",
       "      <th>EXTSEL992</th>\n",
       "      <td>15948</td>\n",
       "      <td>37.12</td>\n",
       "    </tr>\n",
       "    <tr>\n",
       "      <th>ALTER_HH</th>\n",
       "      <td>13177</td>\n",
       "      <td>30.67</td>\n",
       "    </tr>\n",
       "    <tr>\n",
       "      <th>W_KEIT_KIND_HH</th>\n",
       "      <td>10417</td>\n",
       "      <td>24.25</td>\n",
       "    </tr>\n",
       "    <tr>\n",
       "      <th>REGIOTYP</th>\n",
       "      <td>9930</td>\n",
       "      <td>23.11</td>\n",
       "    </tr>\n",
       "    <tr>\n",
       "      <th>KKK</th>\n",
       "      <td>9930</td>\n",
       "      <td>23.11</td>\n",
       "    </tr>\n",
       "    <tr>\n",
       "      <th>HH_DELTA_FLAG</th>\n",
       "      <td>9678</td>\n",
       "      <td>22.53</td>\n",
       "    </tr>\n",
       "    <tr>\n",
       "      <th>KBA05_KRSZUL</th>\n",
       "      <td>9031</td>\n",
       "      <td>21.02</td>\n",
       "    </tr>\n",
       "    <tr>\n",
       "      <th>KBA05_KRSOBER</th>\n",
       "      <td>9031</td>\n",
       "      <td>21.02</td>\n",
       "    </tr>\n",
       "    <tr>\n",
       "      <th>KBA05_KW3</th>\n",
       "      <td>9031</td>\n",
       "      <td>21.02</td>\n",
       "    </tr>\n",
       "    <tr>\n",
       "      <th>KBA05_KW1</th>\n",
       "      <td>9031</td>\n",
       "      <td>21.02</td>\n",
       "    </tr>\n",
       "    <tr>\n",
       "      <th>KBA05_KW2</th>\n",
       "      <td>9031</td>\n",
       "      <td>21.02</td>\n",
       "    </tr>\n",
       "    <tr>\n",
       "      <th>KBA05_MAXAH</th>\n",
       "      <td>9031</td>\n",
       "      <td>21.02</td>\n",
       "    </tr>\n",
       "    <tr>\n",
       "      <th>KBA05_KRSKLEIN</th>\n",
       "      <td>9031</td>\n",
       "      <td>21.02</td>\n",
       "    </tr>\n",
       "    <tr>\n",
       "      <th>KBA05_HERST5</th>\n",
       "      <td>9031</td>\n",
       "      <td>21.02</td>\n",
       "    </tr>\n",
       "    <tr>\n",
       "      <th>KBA05_KRSHERST3</th>\n",
       "      <td>9031</td>\n",
       "      <td>21.02</td>\n",
       "    </tr>\n",
       "    <tr>\n",
       "      <th>KBA05_KRSHERST2</th>\n",
       "      <td>9031</td>\n",
       "      <td>21.02</td>\n",
       "    </tr>\n",
       "    <tr>\n",
       "      <th>KBA05_KRSHERST1</th>\n",
       "      <td>9031</td>\n",
       "      <td>21.02</td>\n",
       "    </tr>\n",
       "    <tr>\n",
       "      <th>KBA05_KRSAQUOT</th>\n",
       "      <td>9031</td>\n",
       "      <td>21.02</td>\n",
       "    </tr>\n",
       "    <tr>\n",
       "      <th>KBA05_MAXHERST</th>\n",
       "      <td>9031</td>\n",
       "      <td>21.02</td>\n",
       "    </tr>\n",
       "    <tr>\n",
       "      <th>KBA05_HERST4</th>\n",
       "      <td>9031</td>\n",
       "      <td>21.02</td>\n",
       "    </tr>\n",
       "    <tr>\n",
       "      <th>KBA05_HERST3</th>\n",
       "      <td>9031</td>\n",
       "      <td>21.02</td>\n",
       "    </tr>\n",
       "    <tr>\n",
       "      <th>...</th>\n",
       "      <td>...</td>\n",
       "      <td>...</td>\n",
       "    </tr>\n",
       "    <tr>\n",
       "      <th>VK_ZG11</th>\n",
       "      <td>7267</td>\n",
       "      <td>16.91</td>\n",
       "    </tr>\n",
       "    <tr>\n",
       "      <th>VK_DISTANZ</th>\n",
       "      <td>7267</td>\n",
       "      <td>16.91</td>\n",
       "    </tr>\n",
       "    <tr>\n",
       "      <th>KONSUMNAEHE</th>\n",
       "      <td>6997</td>\n",
       "      <td>16.29</td>\n",
       "    </tr>\n",
       "    <tr>\n",
       "      <th>EINGEZOGENAM_HH_JAHR</th>\n",
       "      <td>6969</td>\n",
       "      <td>16.22</td>\n",
       "    </tr>\n",
       "    <tr>\n",
       "      <th>ANZ_PERSONEN</th>\n",
       "      <td>6969</td>\n",
       "      <td>16.22</td>\n",
       "    </tr>\n",
       "    <tr>\n",
       "      <th>ANZ_KINDER</th>\n",
       "      <td>6969</td>\n",
       "      <td>16.22</td>\n",
       "    </tr>\n",
       "    <tr>\n",
       "      <th>ANZ_TITEL</th>\n",
       "      <td>6969</td>\n",
       "      <td>16.22</td>\n",
       "    </tr>\n",
       "    <tr>\n",
       "      <th>WOHNDAUER_2008</th>\n",
       "      <td>6969</td>\n",
       "      <td>16.22</td>\n",
       "    </tr>\n",
       "    <tr>\n",
       "      <th>UNGLEICHENN_FLAG</th>\n",
       "      <td>6969</td>\n",
       "      <td>16.22</td>\n",
       "    </tr>\n",
       "    <tr>\n",
       "      <th>AKT_DAT_KL</th>\n",
       "      <td>6969</td>\n",
       "      <td>16.22</td>\n",
       "    </tr>\n",
       "    <tr>\n",
       "      <th>SOHO_KZ</th>\n",
       "      <td>6969</td>\n",
       "      <td>16.22</td>\n",
       "    </tr>\n",
       "    <tr>\n",
       "      <th>VHA</th>\n",
       "      <td>6969</td>\n",
       "      <td>16.22</td>\n",
       "    </tr>\n",
       "    <tr>\n",
       "      <th>RT_UEBERGROESSE</th>\n",
       "      <td>6380</td>\n",
       "      <td>14.85</td>\n",
       "    </tr>\n",
       "    <tr>\n",
       "      <th>HH_EINKOMMEN_SCORE</th>\n",
       "      <td>704</td>\n",
       "      <td>1.64</td>\n",
       "    </tr>\n",
       "    <tr>\n",
       "      <th>CJT_TYP_6</th>\n",
       "      <td>605</td>\n",
       "      <td>1.41</td>\n",
       "    </tr>\n",
       "    <tr>\n",
       "      <th>ONLINE_AFFINITAET</th>\n",
       "      <td>605</td>\n",
       "      <td>1.41</td>\n",
       "    </tr>\n",
       "    <tr>\n",
       "      <th>GFK_URLAUBERTYP</th>\n",
       "      <td>605</td>\n",
       "      <td>1.41</td>\n",
       "    </tr>\n",
       "    <tr>\n",
       "      <th>RT_SCHNAEPPCHEN</th>\n",
       "      <td>605</td>\n",
       "      <td>1.41</td>\n",
       "    </tr>\n",
       "    <tr>\n",
       "      <th>RT_KEIN_ANREIZ</th>\n",
       "      <td>605</td>\n",
       "      <td>1.41</td>\n",
       "    </tr>\n",
       "    <tr>\n",
       "      <th>RETOURTYP_BK_S</th>\n",
       "      <td>605</td>\n",
       "      <td>1.41</td>\n",
       "    </tr>\n",
       "    <tr>\n",
       "      <th>CJT_TYP_5</th>\n",
       "      <td>605</td>\n",
       "      <td>1.41</td>\n",
       "    </tr>\n",
       "    <tr>\n",
       "      <th>CJT_TYP_4</th>\n",
       "      <td>605</td>\n",
       "      <td>1.41</td>\n",
       "    </tr>\n",
       "    <tr>\n",
       "      <th>CJT_TYP_3</th>\n",
       "      <td>605</td>\n",
       "      <td>1.41</td>\n",
       "    </tr>\n",
       "    <tr>\n",
       "      <th>CJT_TYP_2</th>\n",
       "      <td>605</td>\n",
       "      <td>1.41</td>\n",
       "    </tr>\n",
       "    <tr>\n",
       "      <th>LP_STATUS_FEIN</th>\n",
       "      <td>605</td>\n",
       "      <td>1.41</td>\n",
       "    </tr>\n",
       "    <tr>\n",
       "      <th>LP_STATUS_GROB</th>\n",
       "      <td>605</td>\n",
       "      <td>1.41</td>\n",
       "    </tr>\n",
       "    <tr>\n",
       "      <th>CJT_GESAMTTYP</th>\n",
       "      <td>605</td>\n",
       "      <td>1.41</td>\n",
       "    </tr>\n",
       "    <tr>\n",
       "      <th>CJT_KATALOGNUTZER</th>\n",
       "      <td>605</td>\n",
       "      <td>1.41</td>\n",
       "    </tr>\n",
       "    <tr>\n",
       "      <th>CJT_TYP_1</th>\n",
       "      <td>605</td>\n",
       "      <td>1.41</td>\n",
       "    </tr>\n",
       "    <tr>\n",
       "      <th>ALTERSKATEGORIE_GROB</th>\n",
       "      <td>81</td>\n",
       "      <td>0.19</td>\n",
       "    </tr>\n",
       "  </tbody>\n",
       "</table>\n",
       "<p>281 rows × 2 columns</p>\n",
       "</div>"
      ],
      "text/plain": [
       "                      count    pct\n",
       "ALTER_KIND4           42921  99.90\n",
       "ALTER_KIND3           42788  99.59\n",
       "TITEL_KZ              42749  99.50\n",
       "ALTER_KIND2           42206  98.24\n",
       "ALTER_KIND1           40974  95.37\n",
       "KK_KUNDENTYP          25316  58.93\n",
       "KBA05_BAUMAX          22980  53.49\n",
       "AGER_TYP              18890  43.97\n",
       "GEBURTSJAHR           17475  40.68\n",
       "EXTSEL992             15948  37.12\n",
       "ALTER_HH              13177  30.67\n",
       "W_KEIT_KIND_HH        10417  24.25\n",
       "REGIOTYP               9930  23.11\n",
       "KKK                    9930  23.11\n",
       "HH_DELTA_FLAG          9678  22.53\n",
       "KBA05_KRSZUL           9031  21.02\n",
       "KBA05_KRSOBER          9031  21.02\n",
       "KBA05_KW3              9031  21.02\n",
       "KBA05_KW1              9031  21.02\n",
       "KBA05_KW2              9031  21.02\n",
       "KBA05_MAXAH            9031  21.02\n",
       "KBA05_KRSKLEIN         9031  21.02\n",
       "KBA05_HERST5           9031  21.02\n",
       "KBA05_KRSHERST3        9031  21.02\n",
       "KBA05_KRSHERST2        9031  21.02\n",
       "KBA05_KRSHERST1        9031  21.02\n",
       "KBA05_KRSAQUOT         9031  21.02\n",
       "KBA05_MAXHERST         9031  21.02\n",
       "KBA05_HERST4           9031  21.02\n",
       "KBA05_HERST3           9031  21.02\n",
       "...                     ...    ...\n",
       "VK_ZG11                7267  16.91\n",
       "VK_DISTANZ             7267  16.91\n",
       "KONSUMNAEHE            6997  16.29\n",
       "EINGEZOGENAM_HH_JAHR   6969  16.22\n",
       "ANZ_PERSONEN           6969  16.22\n",
       "ANZ_KINDER             6969  16.22\n",
       "ANZ_TITEL              6969  16.22\n",
       "WOHNDAUER_2008         6969  16.22\n",
       "UNGLEICHENN_FLAG       6969  16.22\n",
       "AKT_DAT_KL             6969  16.22\n",
       "SOHO_KZ                6969  16.22\n",
       "VHA                    6969  16.22\n",
       "RT_UEBERGROESSE        6380  14.85\n",
       "HH_EINKOMMEN_SCORE      704   1.64\n",
       "CJT_TYP_6               605   1.41\n",
       "ONLINE_AFFINITAET       605   1.41\n",
       "GFK_URLAUBERTYP         605   1.41\n",
       "RT_SCHNAEPPCHEN         605   1.41\n",
       "RT_KEIN_ANREIZ          605   1.41\n",
       "RETOURTYP_BK_S          605   1.41\n",
       "CJT_TYP_5               605   1.41\n",
       "CJT_TYP_4               605   1.41\n",
       "CJT_TYP_3               605   1.41\n",
       "CJT_TYP_2               605   1.41\n",
       "LP_STATUS_FEIN          605   1.41\n",
       "LP_STATUS_GROB          605   1.41\n",
       "CJT_GESAMTTYP           605   1.41\n",
       "CJT_KATALOGNUTZER       605   1.41\n",
       "CJT_TYP_1               605   1.41\n",
       "ALTERSKATEGORIE_GROB     81   0.19\n",
       "\n",
       "[281 rows x 2 columns]"
      ]
     },
     "execution_count": 253,
     "metadata": {},
     "output_type": "execute_result"
    }
   ],
   "source": [
    "\n",
    "# Count value of NaN values in each column in descending order after encoding missing values\n",
    "train_features_after_nan = find_missing_data(train_features)\n",
    "train_features_after_nan"
   ]
  },
  {
   "cell_type": "code",
   "execution_count": 255,
   "metadata": {},
   "outputs": [],
   "source": [
    "# Define function to plot histogram of missing data in columns\n",
    "def plot_hist_missing_col(df):\n",
    "    '''\n",
    "    INPUT:\n",
    "        df - (dataframe), dataframe to check for missing data and plot histogram of the missing data in columns\n",
    "    OUTPUT:\n",
    "        visualization: (histogram), of the missing data\n",
    "    '''\n",
    "    plt.hist(df['pct'], bins=20, facecolor='g', alpha=0.75)\n",
    "\n",
    "    plt.xlabel('Percentage of missing value (%)', fontsize=12)\n",
    "    plt.ylabel('Counts', fontsize=12)\n",
    "    plt.title('Histogram of missing value counts in columns', fontsize=12)\n",
    "    plt.grid(True)\n",
    "    plt.show()"
   ]
  },
  {
   "cell_type": "code",
   "execution_count": 256,
   "metadata": {},
   "outputs": [
    {
     "data": {
      "image/png": "[encoded data removed]",
      "text/plain": [
       "<matplotlib.figure.Figure at 0x7f878bd941d0>"
      ]
     },
     "metadata": {
      "needs_background": "light"
     },
     "output_type": "display_data"
    }
   ],
   "source": [
    "#Plot distribution of missing value counts in columns\n",
    "plot_hist_missing_col(train_features_after_nan)"
   ]
  },
  {
   "cell_type": "code",
   "execution_count": 257,
   "metadata": {},
   "outputs": [],
   "source": [
    "\n",
    "# Define function to plot top 50 features with missing data in a dataframe\n",
    "def plot_top50_feat(df):\n",
    "    '''\n",
    "    INPUT:\n",
    "        df - (dataframe), dataframe to check for missing values in its columns & plot top 50 features with misisng data\n",
    "    OUTPUT:\n",
    "        visualization: (bar plot), of top 50 features with missing data\n",
    "    '''\n",
    "    np.round((df.isnull().sum().sort_values(ascending=False)*100/df.shape[0]),2)[:50].plot.bar(figsize=(20,8),\\\n",
    "                                                                                               fontsize=12,color='teal');\n",
    "    plt.xlabel('Column name with missing values', fontsize=18)\n",
    "    plt.ylabel('Percent of missing values(%)', fontsize=18)\n",
    "    plt.show()"
   ]
  },
  {
   "cell_type": "code",
   "execution_count": 258,
   "metadata": {},
   "outputs": [
    {
     "data": {
      "image/png": "[encoded data removed]",
      "text/plain": [
       "<matplotlib.figure.Figure at 0x7f878e291a90>"
      ]
     },
     "metadata": {
      "needs_background": "light"
     },
     "output_type": "display_data"
    }
   ],
   "source": [
    "# Visualizing the top 50 features with missing data\n",
    "plot_top50_feat(train_features)"
   ]
  },
  {
   "cell_type": "code",
   "execution_count": 261,
   "metadata": {},
   "outputs": [
    {
     "name": "stdout",
     "output_type": "stream",
     "text": [
      "['AGER_TYP', 'ALTER_HH', 'ALTER_KIND1', 'ALTER_KIND2', 'ALTER_KIND3', 'ALTER_KIND4', 'EXTSEL992', 'GEBURTSJAHR', 'KBA05_BAUMAX', 'KK_KUNDENTYP', 'TITEL_KZ']\n"
     ]
    }
   ],
   "source": [
    "# Find the name of columns with more than 25% missing values in train_features\n",
    "missing_25 = cols_missing_values(train_features, p=25)\n",
    "print(missing_25)"
   ]
  },
  {
   "cell_type": "code",
   "execution_count": 262,
   "metadata": {},
   "outputs": [
    {
     "data": {
      "text/plain": [
       "11"
      ]
     },
     "execution_count": 262,
     "metadata": {},
     "output_type": "execute_result"
    }
   ],
   "source": [
    "# Number of features with more than 25% missing values\n",
    "len(missing_25)"
   ]
  },
  {
   "cell_type": "code",
   "execution_count": 263,
   "metadata": {},
   "outputs": [
    {
     "name": "stdout",
     "output_type": "stream",
     "text": [
      "Number of features of each data type are : {dtype('int64'): 85, dtype('float64'): 275, dtype('O'): 6}\n"
     ]
    }
   ],
   "source": [
    "# How many features are there of each data type in train_features?\n",
    "#find_feat_dtype(train_features)\n",
    "print('Number of features of each data type are : {}'.format(find_feat_dtype(train_features)))"
   ]
  },
  {
   "cell_type": "code",
   "execution_count": 264,
   "metadata": {},
   "outputs": [
    {
     "name": "stdout",
     "output_type": "stream",
     "text": [
      "['CAMEO_DEU_2015', 'CAMEO_DEUG_2015', 'CAMEO_INTL_2015', 'D19_LETZTER_KAUF_BRANCHE', 'EINGEFUEGT_AM', 'OST_WEST_KZ']\n"
     ]
    }
   ],
   "source": [
    "\n",
    "# Print columns with dtype as 'Object'\n",
    "col_names_obj = []\n",
    "for col in train_features.columns:\n",
    "    if train_features[col].dtype.name == 'object':\n",
    "        col_names_obj.append(col)\n",
    "        \n",
    "print(col_names_obj)"
   ]
  },
  {
   "cell_type": "markdown",
   "metadata": {},
   "source": [
    "\n",
    "Prepare the Data <br>\n",
    " Clean the Data <br>\n",
    "Before the imbalanced dataset can be used as input for machine learning algorithms, it often must be cleaned, formatted, and restructured — this is typically known as preprocessing. Fortunately, the features are similar to the general population dataset and the customers dataset.\n",
    "\n",
    "In order to preserve all the rows to predict, clean_data function has been revised."
   ]
  },
  {
   "cell_type": "code",
   "execution_count": 1,
   "metadata": {},
   "outputs": [],
   "source": [
    "def clean_data_revised(df):\n",
    "    \"\"\"\n",
    "    Perform feature trimming, re-encoding, and engineering for demographics\n",
    "    data\n",
    "    \n",
    "    INPUT: Demographics DataFrame\n",
    "    OUTPUT: Trimmed and cleaned DataFrame\n",
    "    \"\"\"\n",
    "    for idx in feat_info.index:\n",
    "        column = idx\n",
    "        if column in df.columns:\n",
    "            df[column] = df[column].replace(feat_info.loc[column]['nan_vals'], np.nan)\n",
    "\n",
    "    # Find the name of columns with more than 25% missing values\n",
    "    missing_25 = cols_missing_values(df, p=25)\n",
    "    \n",
    "    # remove selected columns(columns having missing values more than 25%)\n",
    "    df.drop(missing_25, axis=1, inplace=True)\n",
    "    \n",
    "    # drop column 'LNR' as it contains unique ID for each individual\n",
    "    df.drop('LNR', axis=1, inplace=True)\n",
    "    \n",
    "    # select, re-encode, and engineer few features\n",
    "    df['PRAEGENDE_JUGENDJAHRE_decade'] = df['PRAEGENDE_JUGENDJAHRE'].apply(make_decade)\n",
    "    df['PRAEGENDE_JUGENDJAHRE_movement'] = df['PRAEGENDE_JUGENDJAHRE'].apply(make_movement)\n",
    "    df.drop('PRAEGENDE_JUGENDJAHRE', axis=1, inplace=True)\n",
    "    \n",
    "    df['WOHNLAGE_rural'] = df['WOHNLAGE'].map({0:0,1:0,2:0,3:0,4:0,5:0,7:1,8:1})\n",
    "    df['WOHNLAGE_rating_class'] = df['WOHNLAGE'].map({0:0,1:1,2:2,3:3,4:4,5:5,7:0,8:0})\n",
    "    \n",
    "    df = df.drop(['LP_LEBENSPHASE_FEIN','LP_LEBENSPHASE_GROB','WOHNLAGE','PLZ8_BAUMAX'], axis=1)\n",
    "    \n",
    "    # Taking care of 6 features with dtype as 'Object'\n",
    "    # 'CAMEO_DEU_2015', 'CAMEO_DEUG_2015', 'CAMEO_INTL_2015', 'D19_LETZTER_KAUF_BRANCHE', 'EINGEFUEGT_AM' & 'OST_WEST_KZ'\n",
    "    df['OST_WEST_KZ'].replace(['W','O'], [1, 0], inplace=True)\n",
    "    \n",
    "    df['CAMEO_INTL_2015_wealth'] = df['CAMEO_INTL_2015'].apply(make_wealth) \n",
    "    df['CAMEO_INTL_2015_life_stage'] = df['CAMEO_INTL_2015'].apply(make_life_stage)\n",
    "    df.drop('CAMEO_INTL_2015', axis=1, inplace=True)\n",
    "    \n",
    "    df['CAMEO_DEUG_2015'] = df['CAMEO_DEUG_2015'].astype('float64')\n",
    "    \n",
    "    df = df.drop(['EINGEFUEGT_AM'], axis=1) # drop feature 'EINGEFUEGT_AM' as it contains unique timestamp\n",
    "    \n",
    "    multi = ['CAMEO_DEU_2015','D19_LETZTER_KAUF_BRANCHE']\n",
    "    df = pd.get_dummies(df, columns=multi, prefix=multi, dummy_na=True, drop_first=True)\n",
    "\n",
    "    # Return the cleaned dataframe.\n",
    "    return df"
   ]
  },
  {
   "cell_type": "code",
   "execution_count": 269,
   "metadata": {},
   "outputs": [],
   "source": [
    "\n",
    "# Prepare the data using the function clean_data_revised\n",
    "train_features_cleaned = clean_data_revised(train_features)"
   ]
  },
  {
   "cell_type": "code",
   "execution_count": 270,
   "metadata": {},
   "outputs": [
    {
     "data": {
      "text/plain": [
       "(42962, 430)"
      ]
     },
     "execution_count": 270,
     "metadata": {},
     "output_type": "execute_result"
    }
   ],
   "source": [
    "train_features_cleaned.shape"
   ]
  },
  {
   "cell_type": "markdown",
   "metadata": {},
   "source": [
    "Feature Transformation"
   ]
  },
  {
   "cell_type": "code",
   "execution_count": 271,
   "metadata": {},
   "outputs": [
    {
     "name": "stdout",
     "output_type": "stream",
     "text": [
      "Type of train_features_imputed is : <class 'numpy.ndarray'>\n",
      "Type of train_features_imputed now is : <class 'pandas.core.frame.DataFrame'>\n"
     ]
    },
    {
     "data": {
      "text/html": [
       "<div>\n",
       "<style scoped>\n",
       "    .dataframe tbody tr th:only-of-type {\n",
       "        vertical-align: middle;\n",
       "    }\n",
       "\n",
       "    .dataframe tbody tr th {\n",
       "        vertical-align: top;\n",
       "    }\n",
       "\n",
       "    .dataframe thead th {\n",
       "        text-align: right;\n",
       "    }\n",
       "</style>\n",
       "<table border=\"1\" class=\"dataframe\">\n",
       "  <thead>\n",
       "    <tr style=\"text-align: right;\">\n",
       "      <th></th>\n",
       "      <th>0</th>\n",
       "      <th>1</th>\n",
       "      <th>2</th>\n",
       "      <th>3</th>\n",
       "      <th>4</th>\n",
       "      <th>5</th>\n",
       "      <th>6</th>\n",
       "      <th>7</th>\n",
       "      <th>8</th>\n",
       "      <th>9</th>\n",
       "      <th>...</th>\n",
       "      <th>420</th>\n",
       "      <th>421</th>\n",
       "      <th>422</th>\n",
       "      <th>423</th>\n",
       "      <th>424</th>\n",
       "      <th>425</th>\n",
       "      <th>426</th>\n",
       "      <th>427</th>\n",
       "      <th>428</th>\n",
       "      <th>429</th>\n",
       "    </tr>\n",
       "  </thead>\n",
       "  <tbody>\n",
       "    <tr>\n",
       "      <th>0</th>\n",
       "      <td>1.0</td>\n",
       "      <td>8.0</td>\n",
       "      <td>15.0</td>\n",
       "      <td>0.0</td>\n",
       "      <td>0.0</td>\n",
       "      <td>1.0</td>\n",
       "      <td>13.0</td>\n",
       "      <td>0.0</td>\n",
       "      <td>3.0</td>\n",
       "      <td>5.0</td>\n",
       "      <td>...</td>\n",
       "      <td>0.0</td>\n",
       "      <td>0.0</td>\n",
       "      <td>0.0</td>\n",
       "      <td>0.0</td>\n",
       "      <td>1.0</td>\n",
       "      <td>0.0</td>\n",
       "      <td>0.0</td>\n",
       "      <td>0.0</td>\n",
       "      <td>0.0</td>\n",
       "      <td>0.0</td>\n",
       "    </tr>\n",
       "    <tr>\n",
       "      <th>1</th>\n",
       "      <td>4.0</td>\n",
       "      <td>13.0</td>\n",
       "      <td>1.0</td>\n",
       "      <td>0.0</td>\n",
       "      <td>0.0</td>\n",
       "      <td>2.0</td>\n",
       "      <td>1.0</td>\n",
       "      <td>0.0</td>\n",
       "      <td>2.0</td>\n",
       "      <td>5.0</td>\n",
       "      <td>...</td>\n",
       "      <td>0.0</td>\n",
       "      <td>1.0</td>\n",
       "      <td>0.0</td>\n",
       "      <td>0.0</td>\n",
       "      <td>0.0</td>\n",
       "      <td>0.0</td>\n",
       "      <td>0.0</td>\n",
       "      <td>0.0</td>\n",
       "      <td>0.0</td>\n",
       "      <td>0.0</td>\n",
       "    </tr>\n",
       "    <tr>\n",
       "      <th>2</th>\n",
       "      <td>1.0</td>\n",
       "      <td>7.0</td>\n",
       "      <td>2.0</td>\n",
       "      <td>0.0</td>\n",
       "      <td>0.0</td>\n",
       "      <td>0.0</td>\n",
       "      <td>1.0</td>\n",
       "      <td>0.0</td>\n",
       "      <td>4.0</td>\n",
       "      <td>1.0</td>\n",
       "      <td>...</td>\n",
       "      <td>0.0</td>\n",
       "      <td>0.0</td>\n",
       "      <td>0.0</td>\n",
       "      <td>0.0</td>\n",
       "      <td>0.0</td>\n",
       "      <td>0.0</td>\n",
       "      <td>0.0</td>\n",
       "      <td>0.0</td>\n",
       "      <td>0.0</td>\n",
       "      <td>0.0</td>\n",
       "    </tr>\n",
       "    <tr>\n",
       "      <th>3</th>\n",
       "      <td>1.0</td>\n",
       "      <td>6.0</td>\n",
       "      <td>4.0</td>\n",
       "      <td>0.0</td>\n",
       "      <td>0.0</td>\n",
       "      <td>2.0</td>\n",
       "      <td>4.0</td>\n",
       "      <td>0.0</td>\n",
       "      <td>4.0</td>\n",
       "      <td>2.0</td>\n",
       "      <td>...</td>\n",
       "      <td>0.0</td>\n",
       "      <td>0.0</td>\n",
       "      <td>0.0</td>\n",
       "      <td>0.0</td>\n",
       "      <td>1.0</td>\n",
       "      <td>0.0</td>\n",
       "      <td>0.0</td>\n",
       "      <td>0.0</td>\n",
       "      <td>0.0</td>\n",
       "      <td>0.0</td>\n",
       "    </tr>\n",
       "    <tr>\n",
       "      <th>4</th>\n",
       "      <td>1.0</td>\n",
       "      <td>9.0</td>\n",
       "      <td>53.0</td>\n",
       "      <td>0.0</td>\n",
       "      <td>0.0</td>\n",
       "      <td>1.0</td>\n",
       "      <td>44.0</td>\n",
       "      <td>0.0</td>\n",
       "      <td>3.0</td>\n",
       "      <td>4.0</td>\n",
       "      <td>...</td>\n",
       "      <td>0.0</td>\n",
       "      <td>0.0</td>\n",
       "      <td>0.0</td>\n",
       "      <td>0.0</td>\n",
       "      <td>0.0</td>\n",
       "      <td>0.0</td>\n",
       "      <td>0.0</td>\n",
       "      <td>0.0</td>\n",
       "      <td>0.0</td>\n",
       "      <td>0.0</td>\n",
       "    </tr>\n",
       "  </tbody>\n",
       "</table>\n",
       "<p>5 rows × 430 columns</p>\n",
       "</div>"
      ],
      "text/plain": [
       "   0     1     2    3    4    5     6    7    8    9   ...   420  421  422  \\\n",
       "0  1.0   8.0  15.0  0.0  0.0  1.0  13.0  0.0  3.0  5.0 ...   0.0  0.0  0.0   \n",
       "1  4.0  13.0   1.0  0.0  0.0  2.0   1.0  0.0  2.0  5.0 ...   0.0  1.0  0.0   \n",
       "2  1.0   7.0   2.0  0.0  0.0  0.0   1.0  0.0  4.0  1.0 ...   0.0  0.0  0.0   \n",
       "3  1.0   6.0   4.0  0.0  0.0  2.0   4.0  0.0  4.0  2.0 ...   0.0  0.0  0.0   \n",
       "4  1.0   9.0  53.0  0.0  0.0  1.0  44.0  0.0  3.0  4.0 ...   0.0  0.0  0.0   \n",
       "\n",
       "   423  424  425  426  427  428  429  \n",
       "0  0.0  1.0  0.0  0.0  0.0  0.0  0.0  \n",
       "1  0.0  0.0  0.0  0.0  0.0  0.0  0.0  \n",
       "2  0.0  0.0  0.0  0.0  0.0  0.0  0.0  \n",
       "3  0.0  1.0  0.0  0.0  0.0  0.0  0.0  \n",
       "4  0.0  0.0  0.0  0.0  0.0  0.0  0.0  \n",
       "\n",
       "[5 rows x 430 columns]"
      ]
     },
     "execution_count": 271,
     "metadata": {},
     "output_type": "execute_result"
    }
   ],
   "source": [
    "# Impute nans with median value\n",
    "imputer = Imputer(missing_values='NaN',strategy='median',axis=0)\n",
    "train_features_imputed = imputer.fit_transform(train_features_cleaned)\n",
    "print('Type of train_features_imputed is : {}'.format(type(train_features_imputed)))\n",
    "\n",
    "# Making train_features_imputed into a dataframe\n",
    "train_features_imputed = pd.DataFrame(train_features_imputed)\n",
    "print('Type of train_features_imputed now is : {}'.format(type(train_features_imputed)))\n",
    "train_features_imputed.head()"
   ]
  },
  {
   "cell_type": "code",
   "execution_count": 272,
   "metadata": {},
   "outputs": [
    {
     "data": {
      "text/plain": [
       "0"
      ]
     },
     "execution_count": 272,
     "metadata": {},
     "output_type": "execute_result"
    }
   ],
   "source": [
    "sum(train_features_imputed.isnull().sum())"
   ]
  },
  {
   "cell_type": "code",
   "execution_count": 273,
   "metadata": {},
   "outputs": [
    {
     "name": "stdout",
     "output_type": "stream",
     "text": [
      "Type of train_features_scaled is : <class 'numpy.ndarray'>\n",
      "Type of train_features_scaled now is : <class 'pandas.core.frame.DataFrame'>\n"
     ]
    },
    {
     "data": {
      "text/html": [
       "<div>\n",
       "<style scoped>\n",
       "    .dataframe tbody tr th:only-of-type {\n",
       "        vertical-align: middle;\n",
       "    }\n",
       "\n",
       "    .dataframe tbody tr th {\n",
       "        vertical-align: top;\n",
       "    }\n",
       "\n",
       "    .dataframe thead th {\n",
       "        text-align: right;\n",
       "    }\n",
       "</style>\n",
       "<table border=\"1\" class=\"dataframe\">\n",
       "  <thead>\n",
       "    <tr style=\"text-align: right;\">\n",
       "      <th></th>\n",
       "      <th>AKT_DAT_KL</th>\n",
       "      <th>ALTERSKATEGORIE_FEIN</th>\n",
       "      <th>ANZ_HAUSHALTE_AKTIV</th>\n",
       "      <th>ANZ_HH_TITEL</th>\n",
       "      <th>ANZ_KINDER</th>\n",
       "      <th>ANZ_PERSONEN</th>\n",
       "      <th>ANZ_STATISTISCHE_HAUSHALTE</th>\n",
       "      <th>ANZ_TITEL</th>\n",
       "      <th>ARBEIT</th>\n",
       "      <th>BALLRAUM</th>\n",
       "      <th>...</th>\n",
       "      <th>D19_LETZTER_KAUF_BRANCHE_D19_TECHNIK</th>\n",
       "      <th>D19_LETZTER_KAUF_BRANCHE_D19_TELKO_MOBILE</th>\n",
       "      <th>D19_LETZTER_KAUF_BRANCHE_D19_TELKO_REST</th>\n",
       "      <th>D19_LETZTER_KAUF_BRANCHE_D19_TIERARTIKEL</th>\n",
       "      <th>D19_LETZTER_KAUF_BRANCHE_D19_UNBEKANNT</th>\n",
       "      <th>D19_LETZTER_KAUF_BRANCHE_D19_VERSAND_REST</th>\n",
       "      <th>D19_LETZTER_KAUF_BRANCHE_D19_VERSICHERUNGEN</th>\n",
       "      <th>D19_LETZTER_KAUF_BRANCHE_D19_VOLLSORTIMENT</th>\n",
       "      <th>D19_LETZTER_KAUF_BRANCHE_D19_WEIN_FEINKOST</th>\n",
       "      <th>D19_LETZTER_KAUF_BRANCHE_nan</th>\n",
       "    </tr>\n",
       "  </thead>\n",
       "  <tbody>\n",
       "    <tr>\n",
       "      <th>0</th>\n",
       "      <td>-0.274048</td>\n",
       "      <td>-0.478176</td>\n",
       "      <td>0.659884</td>\n",
       "      <td>-0.116979</td>\n",
       "      <td>-0.204857</td>\n",
       "      <td>-0.815974</td>\n",
       "      <td>0.573741</td>\n",
       "      <td>-0.083831</td>\n",
       "      <td>-0.038459</td>\n",
       "      <td>0.303152</td>\n",
       "      <td>...</td>\n",
       "      <td>-0.094717</td>\n",
       "      <td>-0.113246</td>\n",
       "      <td>-0.112718</td>\n",
       "      <td>-0.052032</td>\n",
       "      <td>1.783482</td>\n",
       "      <td>-0.138797</td>\n",
       "      <td>-0.257011</td>\n",
       "      <td>-0.23723</td>\n",
       "      <td>-0.085392</td>\n",
       "      <td>-0.463002</td>\n",
       "    </tr>\n",
       "    <tr>\n",
       "      <th>1</th>\n",
       "      <td>1.594293</td>\n",
       "      <td>0.791833</td>\n",
       "      <td>-0.352970</td>\n",
       "      <td>-0.116979</td>\n",
       "      <td>-0.204857</td>\n",
       "      <td>-0.011516</td>\n",
       "      <td>-0.344470</td>\n",
       "      <td>-0.083831</td>\n",
       "      <td>-1.110675</td>\n",
       "      <td>0.303152</td>\n",
       "      <td>...</td>\n",
       "      <td>-0.094717</td>\n",
       "      <td>8.830304</td>\n",
       "      <td>-0.112718</td>\n",
       "      <td>-0.052032</td>\n",
       "      <td>-0.560701</td>\n",
       "      <td>-0.138797</td>\n",
       "      <td>-0.257011</td>\n",
       "      <td>-0.23723</td>\n",
       "      <td>-0.085392</td>\n",
       "      <td>-0.463002</td>\n",
       "    </tr>\n",
       "    <tr>\n",
       "      <th>2</th>\n",
       "      <td>-0.274048</td>\n",
       "      <td>-0.732178</td>\n",
       "      <td>-0.280624</td>\n",
       "      <td>-0.116979</td>\n",
       "      <td>-0.204857</td>\n",
       "      <td>-1.620432</td>\n",
       "      <td>-0.344470</td>\n",
       "      <td>-0.083831</td>\n",
       "      <td>1.033757</td>\n",
       "      <td>-1.690267</td>\n",
       "      <td>...</td>\n",
       "      <td>-0.094717</td>\n",
       "      <td>-0.113246</td>\n",
       "      <td>-0.112718</td>\n",
       "      <td>-0.052032</td>\n",
       "      <td>-0.560701</td>\n",
       "      <td>-0.138797</td>\n",
       "      <td>-0.257011</td>\n",
       "      <td>-0.23723</td>\n",
       "      <td>-0.085392</td>\n",
       "      <td>-0.463002</td>\n",
       "    </tr>\n",
       "    <tr>\n",
       "      <th>3</th>\n",
       "      <td>-0.274048</td>\n",
       "      <td>-0.986180</td>\n",
       "      <td>-0.135930</td>\n",
       "      <td>-0.116979</td>\n",
       "      <td>-0.204857</td>\n",
       "      <td>-0.011516</td>\n",
       "      <td>-0.114917</td>\n",
       "      <td>-0.083831</td>\n",
       "      <td>1.033757</td>\n",
       "      <td>-1.191912</td>\n",
       "      <td>...</td>\n",
       "      <td>-0.094717</td>\n",
       "      <td>-0.113246</td>\n",
       "      <td>-0.112718</td>\n",
       "      <td>-0.052032</td>\n",
       "      <td>1.783482</td>\n",
       "      <td>-0.138797</td>\n",
       "      <td>-0.257011</td>\n",
       "      <td>-0.23723</td>\n",
       "      <td>-0.085392</td>\n",
       "      <td>-0.463002</td>\n",
       "    </tr>\n",
       "    <tr>\n",
       "      <th>4</th>\n",
       "      <td>-0.274048</td>\n",
       "      <td>-0.224175</td>\n",
       "      <td>3.409061</td>\n",
       "      <td>-0.116979</td>\n",
       "      <td>-0.204857</td>\n",
       "      <td>-0.815974</td>\n",
       "      <td>2.945784</td>\n",
       "      <td>-0.083831</td>\n",
       "      <td>-0.038459</td>\n",
       "      <td>-0.195203</td>\n",
       "      <td>...</td>\n",
       "      <td>-0.094717</td>\n",
       "      <td>-0.113246</td>\n",
       "      <td>-0.112718</td>\n",
       "      <td>-0.052032</td>\n",
       "      <td>-0.560701</td>\n",
       "      <td>-0.138797</td>\n",
       "      <td>-0.257011</td>\n",
       "      <td>-0.23723</td>\n",
       "      <td>-0.085392</td>\n",
       "      <td>-0.463002</td>\n",
       "    </tr>\n",
       "  </tbody>\n",
       "</table>\n",
       "<p>5 rows × 430 columns</p>\n",
       "</div>"
      ],
      "text/plain": [
       "   AKT_DAT_KL  ALTERSKATEGORIE_FEIN  ANZ_HAUSHALTE_AKTIV  ANZ_HH_TITEL  \\\n",
       "0   -0.274048             -0.478176             0.659884     -0.116979   \n",
       "1    1.594293              0.791833            -0.352970     -0.116979   \n",
       "2   -0.274048             -0.732178            -0.280624     -0.116979   \n",
       "3   -0.274048             -0.986180            -0.135930     -0.116979   \n",
       "4   -0.274048             -0.224175             3.409061     -0.116979   \n",
       "\n",
       "   ANZ_KINDER  ANZ_PERSONEN  ANZ_STATISTISCHE_HAUSHALTE  ANZ_TITEL    ARBEIT  \\\n",
       "0   -0.204857     -0.815974                    0.573741  -0.083831 -0.038459   \n",
       "1   -0.204857     -0.011516                   -0.344470  -0.083831 -1.110675   \n",
       "2   -0.204857     -1.620432                   -0.344470  -0.083831  1.033757   \n",
       "3   -0.204857     -0.011516                   -0.114917  -0.083831  1.033757   \n",
       "4   -0.204857     -0.815974                    2.945784  -0.083831 -0.038459   \n",
       "\n",
       "   BALLRAUM              ...               \\\n",
       "0  0.303152              ...                \n",
       "1  0.303152              ...                \n",
       "2 -1.690267              ...                \n",
       "3 -1.191912              ...                \n",
       "4 -0.195203              ...                \n",
       "\n",
       "   D19_LETZTER_KAUF_BRANCHE_D19_TECHNIK  \\\n",
       "0                             -0.094717   \n",
       "1                             -0.094717   \n",
       "2                             -0.094717   \n",
       "3                             -0.094717   \n",
       "4                             -0.094717   \n",
       "\n",
       "   D19_LETZTER_KAUF_BRANCHE_D19_TELKO_MOBILE  \\\n",
       "0                                  -0.113246   \n",
       "1                                   8.830304   \n",
       "2                                  -0.113246   \n",
       "3                                  -0.113246   \n",
       "4                                  -0.113246   \n",
       "\n",
       "   D19_LETZTER_KAUF_BRANCHE_D19_TELKO_REST  \\\n",
       "0                                -0.112718   \n",
       "1                                -0.112718   \n",
       "2                                -0.112718   \n",
       "3                                -0.112718   \n",
       "4                                -0.112718   \n",
       "\n",
       "   D19_LETZTER_KAUF_BRANCHE_D19_TIERARTIKEL  \\\n",
       "0                                 -0.052032   \n",
       "1                                 -0.052032   \n",
       "2                                 -0.052032   \n",
       "3                                 -0.052032   \n",
       "4                                 -0.052032   \n",
       "\n",
       "   D19_LETZTER_KAUF_BRANCHE_D19_UNBEKANNT  \\\n",
       "0                                1.783482   \n",
       "1                               -0.560701   \n",
       "2                               -0.560701   \n",
       "3                                1.783482   \n",
       "4                               -0.560701   \n",
       "\n",
       "   D19_LETZTER_KAUF_BRANCHE_D19_VERSAND_REST  \\\n",
       "0                                  -0.138797   \n",
       "1                                  -0.138797   \n",
       "2                                  -0.138797   \n",
       "3                                  -0.138797   \n",
       "4                                  -0.138797   \n",
       "\n",
       "   D19_LETZTER_KAUF_BRANCHE_D19_VERSICHERUNGEN  \\\n",
       "0                                    -0.257011   \n",
       "1                                    -0.257011   \n",
       "2                                    -0.257011   \n",
       "3                                    -0.257011   \n",
       "4                                    -0.257011   \n",
       "\n",
       "   D19_LETZTER_KAUF_BRANCHE_D19_VOLLSORTIMENT  \\\n",
       "0                                    -0.23723   \n",
       "1                                    -0.23723   \n",
       "2                                    -0.23723   \n",
       "3                                    -0.23723   \n",
       "4                                    -0.23723   \n",
       "\n",
       "   D19_LETZTER_KAUF_BRANCHE_D19_WEIN_FEINKOST  D19_LETZTER_KAUF_BRANCHE_nan  \n",
       "0                                   -0.085392                     -0.463002  \n",
       "1                                   -0.085392                     -0.463002  \n",
       "2                                   -0.085392                     -0.463002  \n",
       "3                                   -0.085392                     -0.463002  \n",
       "4                                   -0.085392                     -0.463002  \n",
       "\n",
       "[5 rows x 430 columns]"
      ]
     },
     "execution_count": 273,
     "metadata": {},
     "output_type": "execute_result"
    }
   ],
   "source": [
    "\n",
    "# Apply feature scaling to the train_features_imputed dataset.\n",
    "\n",
    "scaler = StandardScaler()\n",
    "train_features_scaled = scaler.fit_transform(train_features_imputed)\n",
    "print('Type of train_features_scaled is : {}'.format(type(train_features_scaled)))\n",
    "\n",
    "# Making train_features_scaled into a dataframe\n",
    "train_features_scaled = pd.DataFrame(train_features_scaled, columns= list(train_features_cleaned.columns.values))\n",
    "print('Type of train_features_scaled now is : {}'.format(type(train_features_scaled)))\n",
    "train_features_scaled.head()"
   ]
  },
  {
   "cell_type": "code",
   "execution_count": 274,
   "metadata": {},
   "outputs": [
    {
     "data": {
      "text/plain": [
       "(42962, 430)"
      ]
     },
     "execution_count": 274,
     "metadata": {},
     "output_type": "execute_result"
    }
   ],
   "source": [
    "train_features_scaled.shape"
   ]
  },
  {
   "cell_type": "markdown",
   "metadata": {},
   "source": [
    " Evaluate Model Performance <br>\n",
    "Since there is a large output class imbalance, predicting individual classes and using accuracy does not seem to be an appropriate performance evaluation method. Instead, the model will be using ROC-AUC to evaluate performance.<br>\n",
    "\n",
    "Aside from the Kaggle competition (see section below) using ROC-AUC as the score, the metric is suitable for binary classification problems such as this. ROC curves give us the ability to assess the performance of the classifier over its entire operating range. The most widely-used measure is the area under the curve (AUC). The AUC can be used to compare the performance of two or more classifiers. A single threshold can be selected and the classifiers’ performance at that point compared, or the overall performance can be compared by considering the AUC\". Compared to the F1 score, the ROC does not require optimizing a threshold for each label.<br>"
   ]
  },
  {
   "cell_type": "markdown",
   "metadata": {},
   "source": [
    "Classification"
   ]
  },
  {
   "cell_type": "code",
   "execution_count": 275,
   "metadata": {},
   "outputs": [],
   "source": [
    "# to find the best performing classifier algorithm\n",
    "def fit_classifier(clf, param_grid, X=train_features_scaled, y=train_response):\n",
    "    \"\"\"\n",
    "    Fits a classifier to its training data using GridSearchCV and calculates ROC AUC score\n",
    "    \n",
    "    INPUT:\n",
    "    - clf (classifier): classifier to fit\n",
    "    - param_grid (dict): classifier parameters used with GridSearchCV\n",
    "    - X_train (DataFrame): training input\n",
    "    - y_train (DataFrame): training output\n",
    "            \n",
    "    OUTPUT:\n",
    "    - classifier: input classifier fitted to the training data\n",
    "    \"\"\"\n",
    "    \n",
    "    # cv uses StratifiedKFold\n",
    "    # scoring roc_auc available as parameter\n",
    "    start = time.time()\n",
    "    grid = GridSearchCV(estimator=clf, param_grid=param_grid, scoring='roc_auc', cv=5, verbose=0)\n",
    "    print(\"Training {} :\".format(clf.__class__.__name__))\n",
    "    grid.fit(X, y)\n",
    "    end = time.time()\n",
    "    time_taken = round(end-start,2)\n",
    "\n",
    "    print(clf.__class__.__name__)\n",
    "    print(\"Time taken : {} secs\".format(time_taken))\n",
    "    print(\"Best score : {}\".format(round(grid.best_score_,4)))\n",
    "    print(\"*\"*40)\n",
    "    \n",
    "    return grid.best_score_, grid.best_estimator_, time_taken"
   ]
  },
  {
   "cell_type": "code",
   "execution_count": 276,
   "metadata": {},
   "outputs": [],
   "source": [
    "# Initialize classification algorithms\n",
    "lor = LogisticRegression(random_state=42) # LogisticRegression\n",
    "rfc = RandomForestClassifier(random_state=42) # RandomForestClassifier\n",
    "abc = AdaBoostClassifier(random_state=42) # AdaBoostClassifier\n",
    "gbc = GradientBoostingClassifier(random_state=42) # GradientBoostingClassifier"
   ]
  },
  {
   "cell_type": "code",
   "execution_count": 277,
   "metadata": {},
   "outputs": [
    {
     "name": "stdout",
     "output_type": "stream",
     "text": [
      "Training LogisticRegression :\n",
      "LogisticRegression\n",
      "Time taken : 145.32 secs\n",
      "Best score : 0.6514\n",
      "****************************************\n",
      "Training RandomForestClassifier :\n",
      "RandomForestClassifier\n",
      "Time taken : 11.13 secs\n",
      "Best score : 0.5095\n",
      "****************************************\n",
      "Training AdaBoostClassifier :\n",
      "AdaBoostClassifier\n",
      "Time taken : 106.05 secs\n",
      "Best score : 0.7237\n",
      "****************************************\n",
      "Training GradientBoostingClassifier :\n",
      "GradientBoostingClassifier\n",
      "Time taken : 335.42 secs\n",
      "Best score : 0.7499\n",
      "****************************************\n"
     ]
    }
   ],
   "source": [
    "# Find best classification algorithm\n",
    "clf_names = []\n",
    "clf_scores = []\n",
    "clf_best_ests = []\n",
    "clf_time_taken = []\n",
    "clf_dict = {}\n",
    "\n",
    "for clf in [lor, rfc, abc, gbc]:\n",
    "    best_score, best_est, time_taken = fit_classifier(clf, {})\n",
    "    clf_names.append(clf.__class__.__name__)\n",
    "    clf_scores.append(best_score)\n",
    "    clf_best_ests.append(best_est)\n",
    "    clf_time_taken.append(time_taken)"
   ]
  },
  {
   "cell_type": "code",
   "execution_count": 278,
   "metadata": {},
   "outputs": [
    {
     "data": {
      "text/html": [
       "<div>\n",
       "<style scoped>\n",
       "    .dataframe tbody tr th:only-of-type {\n",
       "        vertical-align: middle;\n",
       "    }\n",
       "\n",
       "    .dataframe tbody tr th {\n",
       "        vertical-align: top;\n",
       "    }\n",
       "\n",
       "    .dataframe thead th {\n",
       "        text-align: right;\n",
       "    }\n",
       "</style>\n",
       "<table border=\"1\" class=\"dataframe\">\n",
       "  <thead>\n",
       "    <tr style=\"text-align: right;\">\n",
       "      <th></th>\n",
       "      <th>best_score</th>\n",
       "      <th>time_taken</th>\n",
       "      <th>best_est</th>\n",
       "    </tr>\n",
       "  </thead>\n",
       "  <tbody>\n",
       "    <tr>\n",
       "      <th>LogisticRegression</th>\n",
       "      <td>0.651423</td>\n",
       "      <td>145.32</td>\n",
       "      <td>LogisticRegression(C=1.0, class_weight=None, d...</td>\n",
       "    </tr>\n",
       "    <tr>\n",
       "      <th>RandomForestClassifier</th>\n",
       "      <td>0.509507</td>\n",
       "      <td>11.13</td>\n",
       "      <td>(DecisionTreeClassifier(class_weight=None, cri...</td>\n",
       "    </tr>\n",
       "    <tr>\n",
       "      <th>AdaBoostClassifier</th>\n",
       "      <td>0.723684</td>\n",
       "      <td>106.05</td>\n",
       "      <td>(DecisionTreeClassifier(class_weight=None, cri...</td>\n",
       "    </tr>\n",
       "    <tr>\n",
       "      <th>GradientBoostingClassifier</th>\n",
       "      <td>0.749907</td>\n",
       "      <td>335.42</td>\n",
       "      <td>([DecisionTreeRegressor(criterion='friedman_ms...</td>\n",
       "    </tr>\n",
       "  </tbody>\n",
       "</table>\n",
       "</div>"
      ],
      "text/plain": [
       "                            best_score  time_taken  \\\n",
       "LogisticRegression            0.651423      145.32   \n",
       "RandomForestClassifier        0.509507       11.13   \n",
       "AdaBoostClassifier            0.723684      106.05   \n",
       "GradientBoostingClassifier    0.749907      335.42   \n",
       "\n",
       "                                                                     best_est  \n",
       "LogisticRegression          LogisticRegression(C=1.0, class_weight=None, d...  \n",
       "RandomForestClassifier      (DecisionTreeClassifier(class_weight=None, cri...  \n",
       "AdaBoostClassifier          (DecisionTreeClassifier(class_weight=None, cri...  \n",
       "GradientBoostingClassifier  ([DecisionTreeRegressor(criterion='friedman_ms...  "
      ]
     },
     "execution_count": 278,
     "metadata": {},
     "output_type": "execute_result"
    }
   ],
   "source": [
    "# Create clf_df dataframe from clf_dict\n",
    "clf_dict['best_score'] = clf_scores\n",
    "clf_dict['time_taken'] = clf_time_taken\n",
    "clf_dict['best_est'] = clf_best_ests\n",
    "clf_df = pd.DataFrame(clf_dict, index=clf_names)\n",
    "clf_df"
   ]
  },
  {
   "cell_type": "markdown",
   "metadata": {},
   "source": [
    "\n",
    "So, from above, we can observe that the best performing classifier algorithm among the above 4 classifiers is GradientBoostingClassifier."
   ]
  },
  {
   "cell_type": "code",
   "execution_count": 279,
   "metadata": {},
   "outputs": [
    {
     "data": {
      "text/plain": [
       "GradientBoostingClassifier(criterion='friedman_mse', init=None,\n",
       "              learning_rate=0.1, loss='deviance', max_depth=3,\n",
       "              max_features=None, max_leaf_nodes=None,\n",
       "              min_impurity_decrease=0.0, min_impurity_split=None,\n",
       "              min_samples_leaf=1, min_samples_split=2,\n",
       "              min_weight_fraction_leaf=0.0, n_estimators=100,\n",
       "              presort='auto', random_state=42, subsample=1.0, verbose=0,\n",
       "              warm_start=False)"
      ]
     },
     "execution_count": 279,
     "metadata": {},
     "output_type": "execute_result"
    }
   ],
   "source": [
    "# Print the best estimator of GradientBoostingClassifier\n",
    "clf_df.loc['GradientBoostingClassifier', 'best_est']"
   ]
  },
  {
   "cell_type": "code",
   "execution_count": 280,
   "metadata": {},
   "outputs": [
    {
     "data": {
      "text/plain": [
       "array([0, 1])"
      ]
     },
     "execution_count": 280,
     "metadata": {},
     "output_type": "execute_result"
    }
   ],
   "source": [
    "# Print the classes known to the best estimator of GradientBoostingClassifier\n",
    "clf_df.loc['GradientBoostingClassifier', 'best_est'].classes_\n"
   ]
  },
  {
   "cell_type": "markdown",
   "metadata": {},
   "source": [
    " Model Tuning"
   ]
  },
  {
   "cell_type": "code",
   "execution_count": 281,
   "metadata": {},
   "outputs": [
    {
     "name": "stdout",
     "output_type": "stream",
     "text": [
      "Training GradientBoostingClassifier :\n",
      "GradientBoostingClassifier\n",
      "Time taken : 2493.13 secs\n",
      "Best score : 0.7625\n",
      "****************************************\n"
     ]
    },
    {
     "data": {
      "text/plain": [
       "GradientBoostingClassifier(criterion='friedman_mse', init=None,\n",
       "              learning_rate=0.01, loss='exponential', max_depth=8,\n",
       "              max_features=None, max_leaf_nodes=None,\n",
       "              min_impurity_decrease=0.0, min_impurity_split=None,\n",
       "              min_samples_leaf=1, min_samples_split=2,\n",
       "              min_weight_fraction_leaf=0.0, n_estimators=100,\n",
       "              presort='auto', random_state=42, subsample=1.0, verbose=0,\n",
       "              warm_start=False)"
      ]
     },
     "execution_count": 281,
     "metadata": {},
     "output_type": "execute_result"
    }
   ],
   "source": [
    "# Tune the best classifier(GradientBoostingClassifier) with the help of param grid in GridSearchCV\n",
    "# The fine tuned model will be used with the test set\n",
    "param_grid = {#'loss': ['deviance', 'exponential'],\n",
    "              'loss': ['exponential'],\n",
    "              #'learning_rate': [0.01, 0.1, 0.5],\n",
    "              'learning_rate': [0.01],\n",
    "              #'n_estimators': [50, 80, 100],\n",
    "              'n_estimators': [100],\n",
    "              #'max_depth': [2, 3, 4, 6, 8],\n",
    "              'max_depth': [8],\n",
    "              #'min_samples_split': [2,3,4]\n",
    "              'min_samples_split': [2]\n",
    "             }\n",
    "\n",
    "gbc = GradientBoostingClassifier(random_state=42)\n",
    "gbc_best_score, gbc_best_est, _ = fit_classifier(gbc, param_grid)\n",
    "gbc_best_est"
   ]
  },
  {
   "cell_type": "code",
   "execution_count": 282,
   "metadata": {},
   "outputs": [],
   "source": [
    "# pickle file and save the model to disk.\n",
    "filename = 'best_classifier.pkl'\n",
    "outfile = open(filename, 'wb')\n",
    "model = gbc_best_est\n",
    "pickle.dump(model, outfile)\n",
    "outfile.close()"
   ]
  },
  {
   "cell_type": "markdown",
   "metadata": {},
   "source": [
    "Feature Selection"
   ]
  },
  {
   "cell_type": "code",
   "execution_count": 283,
   "metadata": {},
   "outputs": [
    {
     "data": {
      "text/html": [
       "<div>\n",
       "<style scoped>\n",
       "    .dataframe tbody tr th:only-of-type {\n",
       "        vertical-align: middle;\n",
       "    }\n",
       "\n",
       "    .dataframe tbody tr th {\n",
       "        vertical-align: top;\n",
       "    }\n",
       "\n",
       "    .dataframe thead th {\n",
       "        text-align: right;\n",
       "    }\n",
       "</style>\n",
       "<table border=\"1\" class=\"dataframe\">\n",
       "  <thead>\n",
       "    <tr style=\"text-align: right;\">\n",
       "      <th></th>\n",
       "      <th>imp_feat</th>\n",
       "    </tr>\n",
       "  </thead>\n",
       "  <tbody>\n",
       "    <tr>\n",
       "      <th>D19_SOZIALES</th>\n",
       "      <td>0.055729</td>\n",
       "    </tr>\n",
       "    <tr>\n",
       "      <th>KBA13_ANZAHL_PKW</th>\n",
       "      <td>0.021764</td>\n",
       "    </tr>\n",
       "    <tr>\n",
       "      <th>ANZ_STATISTISCHE_HAUSHALTE</th>\n",
       "      <td>0.016449</td>\n",
       "    </tr>\n",
       "    <tr>\n",
       "      <th>ANZ_KINDER</th>\n",
       "      <td>0.015743</td>\n",
       "    </tr>\n",
       "    <tr>\n",
       "      <th>KBA05_ALTER4</th>\n",
       "      <td>0.015483</td>\n",
       "    </tr>\n",
       "    <tr>\n",
       "      <th>UNGLEICHENN_FLAG</th>\n",
       "      <td>0.014358</td>\n",
       "    </tr>\n",
       "    <tr>\n",
       "      <th>D19_KONSUMTYP_MAX</th>\n",
       "      <td>0.013221</td>\n",
       "    </tr>\n",
       "    <tr>\n",
       "      <th>GFK_URLAUBERTYP</th>\n",
       "      <td>0.013014</td>\n",
       "    </tr>\n",
       "    <tr>\n",
       "      <th>KBA05_ZUL4</th>\n",
       "      <td>0.012067</td>\n",
       "    </tr>\n",
       "    <tr>\n",
       "      <th>D19_BANKEN_ONLINE_DATUM</th>\n",
       "      <td>0.011881</td>\n",
       "    </tr>\n",
       "  </tbody>\n",
       "</table>\n",
       "</div>"
      ],
      "text/plain": [
       "                            imp_feat\n",
       "D19_SOZIALES                0.055729\n",
       "KBA13_ANZAHL_PKW            0.021764\n",
       "ANZ_STATISTISCHE_HAUSHALTE  0.016449\n",
       "ANZ_KINDER                  0.015743\n",
       "KBA05_ALTER4                0.015483\n",
       "UNGLEICHENN_FLAG            0.014358\n",
       "D19_KONSUMTYP_MAX           0.013221\n",
       "GFK_URLAUBERTYP             0.013014\n",
       "KBA05_ZUL4                  0.012067\n",
       "D19_BANKEN_ONLINE_DATUM     0.011881"
      ]
     },
     "execution_count": 283,
     "metadata": {},
     "output_type": "execute_result"
    }
   ],
   "source": [
    "# Print the most important features of the model\n",
    "imp_feat = pd.DataFrame({'imp_feat':gbc_best_est.feature_importances_}, index=train_features_scaled.columns)\n",
    "imp_feat_sorted = imp_feat.sort_values(by=['imp_feat'], ascending=False)\n",
    "imp_feat_sorted.head(10)"
   ]
  },
  {
   "cell_type": "code",
   "execution_count": null,
   "metadata": {},
   "outputs": [],
   "source": []
  },
  {
   "cell_type": "markdown",
   "metadata": {},
   "source": [
    "## Part 3: Kaggle Competition\n",
    "\n",
    "Now that you've created a model to predict which individuals are most likely to respond to a mailout campaign, it's time to test that model in competition through Kaggle. If you click on the link [here](http://www.kaggle.com/t/21e6d45d4c574c7fa2d868f0e8c83140), you'll be taken to the competition page where, if you have a Kaggle account, you can enter. If you're one of the top performers, you may have the chance to be contacted by a hiring manager from Arvato or Bertelsmann for an interview!\n",
    "\n",
    "Your entry to the competition should be a CSV file with two columns. The first column should be a copy of \"LNR\", which acts as an ID number for each individual in the \"TEST\" partition. The second column, \"RESPONSE\", should be some measure of how likely each individual became a customer – this might not be a straightforward probability. As you should have found in Part 2, there is a large output class imbalance, where most individuals did not respond to the mailout. Thus, predicting individual classes and using accuracy does not seem to be an appropriate performance evaluation method. Instead, the competition will be using AUC to evaluate performance. The exact values of the \"RESPONSE\" column do not matter as much: only that the higher values try to capture as many of the actual customers as possible, early in the ROC curve sweep."
   ]
  },
  {
   "cell_type": "code",
   "execution_count": 284,
   "metadata": {},
   "outputs": [
    {
     "name": "stderr",
     "output_type": "stream",
     "text": [
      "/opt/conda/lib/python3.6/site-packages/IPython/core/interactiveshell.py:2785: DtypeWarning: Columns (18,19) have mixed types. Specify dtype option on import or set low_memory=False.\n",
      "  interactivity=interactivity, compiler=compiler, result=result)\n"
     ]
    }
   ],
   "source": [
    "mailout_test = pd.read_csv('../../data/Term2/capstone/arvato_data/Udacity_MAILOUT_052018_TEST.csv', sep=';')"
   ]
  },
  {
   "cell_type": "code",
   "execution_count": 285,
   "metadata": {},
   "outputs": [
    {
     "data": {
      "text/plain": [
       "(42833, 366)"
      ]
     },
     "execution_count": 285,
     "metadata": {},
     "output_type": "execute_result"
    }
   ],
   "source": [
    "# Print shape of test dataset\n",
    "mailout_test.shape"
   ]
  },
  {
   "cell_type": "code",
   "execution_count": 286,
   "metadata": {},
   "outputs": [
    {
     "data": {
      "text/html": [
       "<div>\n",
       "<style scoped>\n",
       "    .dataframe tbody tr th:only-of-type {\n",
       "        vertical-align: middle;\n",
       "    }\n",
       "\n",
       "    .dataframe tbody tr th {\n",
       "        vertical-align: top;\n",
       "    }\n",
       "\n",
       "    .dataframe thead th {\n",
       "        text-align: right;\n",
       "    }\n",
       "</style>\n",
       "<table border=\"1\" class=\"dataframe\">\n",
       "  <thead>\n",
       "    <tr style=\"text-align: right;\">\n",
       "      <th></th>\n",
       "      <th>LNR</th>\n",
       "      <th>AGER_TYP</th>\n",
       "      <th>AKT_DAT_KL</th>\n",
       "      <th>ALTER_HH</th>\n",
       "      <th>ALTER_KIND1</th>\n",
       "      <th>ALTER_KIND2</th>\n",
       "      <th>ALTER_KIND3</th>\n",
       "      <th>ALTER_KIND4</th>\n",
       "      <th>ALTERSKATEGORIE_FEIN</th>\n",
       "      <th>ANZ_HAUSHALTE_AKTIV</th>\n",
       "      <th>...</th>\n",
       "      <th>VHN</th>\n",
       "      <th>VK_DHT4A</th>\n",
       "      <th>VK_DISTANZ</th>\n",
       "      <th>VK_ZG11</th>\n",
       "      <th>W_KEIT_KIND_HH</th>\n",
       "      <th>WOHNDAUER_2008</th>\n",
       "      <th>WOHNLAGE</th>\n",
       "      <th>ZABEOTYP</th>\n",
       "      <th>ANREDE_KZ</th>\n",
       "      <th>ALTERSKATEGORIE_GROB</th>\n",
       "    </tr>\n",
       "  </thead>\n",
       "  <tbody>\n",
       "    <tr>\n",
       "      <th>0</th>\n",
       "      <td>1754</td>\n",
       "      <td>2</td>\n",
       "      <td>1.0</td>\n",
       "      <td>7.0</td>\n",
       "      <td>NaN</td>\n",
       "      <td>NaN</td>\n",
       "      <td>NaN</td>\n",
       "      <td>NaN</td>\n",
       "      <td>6.0</td>\n",
       "      <td>2.0</td>\n",
       "      <td>...</td>\n",
       "      <td>4.0</td>\n",
       "      <td>5.0</td>\n",
       "      <td>6.0</td>\n",
       "      <td>3.0</td>\n",
       "      <td>6.0</td>\n",
       "      <td>9.0</td>\n",
       "      <td>3.0</td>\n",
       "      <td>3</td>\n",
       "      <td>1</td>\n",
       "      <td>4</td>\n",
       "    </tr>\n",
       "    <tr>\n",
       "      <th>1</th>\n",
       "      <td>1770</td>\n",
       "      <td>-1</td>\n",
       "      <td>1.0</td>\n",
       "      <td>0.0</td>\n",
       "      <td>NaN</td>\n",
       "      <td>NaN</td>\n",
       "      <td>NaN</td>\n",
       "      <td>NaN</td>\n",
       "      <td>0.0</td>\n",
       "      <td>20.0</td>\n",
       "      <td>...</td>\n",
       "      <td>1.0</td>\n",
       "      <td>5.0</td>\n",
       "      <td>2.0</td>\n",
       "      <td>1.0</td>\n",
       "      <td>6.0</td>\n",
       "      <td>9.0</td>\n",
       "      <td>5.0</td>\n",
       "      <td>3</td>\n",
       "      <td>1</td>\n",
       "      <td>4</td>\n",
       "    </tr>\n",
       "    <tr>\n",
       "      <th>2</th>\n",
       "      <td>1465</td>\n",
       "      <td>2</td>\n",
       "      <td>9.0</td>\n",
       "      <td>16.0</td>\n",
       "      <td>NaN</td>\n",
       "      <td>NaN</td>\n",
       "      <td>NaN</td>\n",
       "      <td>NaN</td>\n",
       "      <td>11.0</td>\n",
       "      <td>2.0</td>\n",
       "      <td>...</td>\n",
       "      <td>3.0</td>\n",
       "      <td>9.0</td>\n",
       "      <td>6.0</td>\n",
       "      <td>3.0</td>\n",
       "      <td>2.0</td>\n",
       "      <td>9.0</td>\n",
       "      <td>4.0</td>\n",
       "      <td>3</td>\n",
       "      <td>2</td>\n",
       "      <td>4</td>\n",
       "    </tr>\n",
       "    <tr>\n",
       "      <th>3</th>\n",
       "      <td>1470</td>\n",
       "      <td>-1</td>\n",
       "      <td>7.0</td>\n",
       "      <td>0.0</td>\n",
       "      <td>NaN</td>\n",
       "      <td>NaN</td>\n",
       "      <td>NaN</td>\n",
       "      <td>NaN</td>\n",
       "      <td>0.0</td>\n",
       "      <td>1.0</td>\n",
       "      <td>...</td>\n",
       "      <td>2.0</td>\n",
       "      <td>6.0</td>\n",
       "      <td>6.0</td>\n",
       "      <td>3.0</td>\n",
       "      <td>NaN</td>\n",
       "      <td>9.0</td>\n",
       "      <td>2.0</td>\n",
       "      <td>3</td>\n",
       "      <td>2</td>\n",
       "      <td>4</td>\n",
       "    </tr>\n",
       "    <tr>\n",
       "      <th>4</th>\n",
       "      <td>1478</td>\n",
       "      <td>1</td>\n",
       "      <td>1.0</td>\n",
       "      <td>21.0</td>\n",
       "      <td>NaN</td>\n",
       "      <td>NaN</td>\n",
       "      <td>NaN</td>\n",
       "      <td>NaN</td>\n",
       "      <td>13.0</td>\n",
       "      <td>1.0</td>\n",
       "      <td>...</td>\n",
       "      <td>1.0</td>\n",
       "      <td>2.0</td>\n",
       "      <td>4.0</td>\n",
       "      <td>3.0</td>\n",
       "      <td>3.0</td>\n",
       "      <td>9.0</td>\n",
       "      <td>7.0</td>\n",
       "      <td>4</td>\n",
       "      <td>2</td>\n",
       "      <td>4</td>\n",
       "    </tr>\n",
       "  </tbody>\n",
       "</table>\n",
       "<p>5 rows × 366 columns</p>\n",
       "</div>"
      ],
      "text/plain": [
       "    LNR  AGER_TYP  AKT_DAT_KL  ALTER_HH  ALTER_KIND1  ALTER_KIND2  \\\n",
       "0  1754         2         1.0       7.0          NaN          NaN   \n",
       "1  1770        -1         1.0       0.0          NaN          NaN   \n",
       "2  1465         2         9.0      16.0          NaN          NaN   \n",
       "3  1470        -1         7.0       0.0          NaN          NaN   \n",
       "4  1478         1         1.0      21.0          NaN          NaN   \n",
       "\n",
       "   ALTER_KIND3  ALTER_KIND4  ALTERSKATEGORIE_FEIN  ANZ_HAUSHALTE_AKTIV  \\\n",
       "0          NaN          NaN                   6.0                  2.0   \n",
       "1          NaN          NaN                   0.0                 20.0   \n",
       "2          NaN          NaN                  11.0                  2.0   \n",
       "3          NaN          NaN                   0.0                  1.0   \n",
       "4          NaN          NaN                  13.0                  1.0   \n",
       "\n",
       "          ...           VHN  VK_DHT4A  VK_DISTANZ  VK_ZG11  W_KEIT_KIND_HH  \\\n",
       "0         ...           4.0       5.0         6.0      3.0             6.0   \n",
       "1         ...           1.0       5.0         2.0      1.0             6.0   \n",
       "2         ...           3.0       9.0         6.0      3.0             2.0   \n",
       "3         ...           2.0       6.0         6.0      3.0             NaN   \n",
       "4         ...           1.0       2.0         4.0      3.0             3.0   \n",
       "\n",
       "   WOHNDAUER_2008  WOHNLAGE ZABEOTYP ANREDE_KZ ALTERSKATEGORIE_GROB  \n",
       "0             9.0       3.0        3         1                    4  \n",
       "1             9.0       5.0        3         1                    4  \n",
       "2             9.0       4.0        3         2                    4  \n",
       "3             9.0       2.0        3         2                    4  \n",
       "4             9.0       7.0        4         2                    4  \n",
       "\n",
       "[5 rows x 366 columns]"
      ]
     },
     "execution_count": 286,
     "metadata": {},
     "output_type": "execute_result"
    }
   ],
   "source": [
    "# Print first few rows of test dataset\n",
    "mailout_test.head()"
   ]
  },
  {
   "cell_type": "code",
   "execution_count": 287,
   "metadata": {},
   "outputs": [
    {
     "data": {
      "text/plain": [
       "(42833,)"
      ]
     },
     "execution_count": 287,
     "metadata": {},
     "output_type": "execute_result"
    }
   ],
   "source": [
    "# Extract feature 'LNR' to be used later for generation of the Kaggle competition CSV file with two columns\n",
    "# The first column should be a copy of \"LNR\", which acts as an ID number for each individual in the \"TEST\" partition\n",
    "# The second column, \"RESPONSE\", should be some measure of how likely each individual became a customer –\n",
    "# this might not be a straightforward probability.\n",
    "test_LNR = mailout_test['LNR']\n",
    "\n",
    "# Print shape of test_LNR\n",
    "test_LNR.shape"
   ]
  },
  {
   "cell_type": "markdown",
   "metadata": {},
   "source": [
    "Prepare the test data"
   ]
  },
  {
   "cell_type": "markdown",
   "metadata": {},
   "source": [
    "Clean the test data"
   ]
  },
  {
   "cell_type": "code",
   "execution_count": 288,
   "metadata": {},
   "outputs": [],
   "source": [
    "# Prepare the test data using the function clean_data_revised\n",
    "test_cleaned = clean_data_revised(mailout_test)"
   ]
  },
  {
   "cell_type": "code",
   "execution_count": 289,
   "metadata": {},
   "outputs": [
    {
     "data": {
      "text/plain": [
       "(42833, 430)"
      ]
     },
     "execution_count": 289,
     "metadata": {},
     "output_type": "execute_result"
    }
   ],
   "source": [
    "\n",
    "# Print shape of test dataset after cleaning\n",
    "test_cleaned.shape"
   ]
  },
  {
   "cell_type": "markdown",
   "metadata": {},
   "source": [
    "Feature Transformation of test_cleaned data"
   ]
  },
  {
   "cell_type": "code",
   "execution_count": 290,
   "metadata": {},
   "outputs": [
    {
     "name": "stdout",
     "output_type": "stream",
     "text": [
      "Shape of test_imputed is: (42833, 430)\n",
      "Shape of test_scaled is: (42833, 430)\n"
     ]
    }
   ],
   "source": [
    "# Impute nans with median value in test_cleaned dataset using the imputer fitted earlier on train data\n",
    "test_imputed = pd.DataFrame(imputer.transform(test_cleaned))\n",
    "# Print shape of test_imputed\n",
    "print('Shape of test_imputed is: {}'.format(test_imputed.shape))\n",
    "\n",
    "# Apply feature scaling to the test_imputed dataset using the scaler fitted earlier on the train data\n",
    "test_scaled = pd.DataFrame(scaler.transform(test_imputed), columns= list(test_cleaned.columns.values))\n",
    "# Print shape of test_scaled\n",
    "print('Shape of test_scaled is: {}'.format(test_scaled.shape))"
   ]
  },
  {
   "cell_type": "markdown",
   "metadata": {},
   "source": [
    "Classification of test data using best model trained on train data"
   ]
  },
  {
   "cell_type": "markdown",
   "metadata": {},
   "source": [
    "Predict the classes for the test data"
   ]
  },
  {
   "cell_type": "code",
   "execution_count": 291,
   "metadata": {},
   "outputs": [
    {
     "data": {
      "text/plain": [
       "array([0, 0, 0, ..., 0, 0, 0])"
      ]
     },
     "execution_count": 291,
     "metadata": {},
     "output_type": "execute_result"
    }
   ],
   "source": [
    "# Predict the classification of the test data using best model trained earlier on train data in Part 2 \n",
    "test_response = gbc_best_est.predict(test_scaled)\n",
    "test_response"
   ]
  },
  {
   "cell_type": "code",
   "execution_count": 292,
   "metadata": {},
   "outputs": [
    {
     "data": {
      "text/plain": [
       "(42833,)"
      ]
     },
     "execution_count": 292,
     "metadata": {},
     "output_type": "execute_result"
    }
   ],
   "source": [
    "\n",
    "# Print shape of test_response\n",
    "test_response.shape"
   ]
  },
  {
   "cell_type": "markdown",
   "metadata": {},
   "source": [
    " Predict the class probabilities for the test data"
   ]
  },
  {
   "cell_type": "code",
   "execution_count": 293,
   "metadata": {},
   "outputs": [
    {
     "data": {
      "text/plain": [
       "array([[ 0.97935517,  0.02064483],\n",
       "       [ 0.98070302,  0.01929698],\n",
       "       [ 0.99690537,  0.00309463],\n",
       "       ..., \n",
       "       [ 0.98504708,  0.01495292],\n",
       "       [ 0.97782509,  0.02217491],\n",
       "       [ 0.98816393,  0.01183607]])"
      ]
     },
     "execution_count": 293,
     "metadata": {},
     "output_type": "execute_result"
    }
   ],
   "source": [
    "# Predict the class probabilities of the test data using best model trained earlier on train data in Part 2 \n",
    "test_response_proba = gbc_best_est.predict_proba(test_scaled)\n",
    "test_response_proba"
   ]
  },
  {
   "cell_type": "code",
   "execution_count": 294,
   "metadata": {},
   "outputs": [
    {
     "data": {
      "text/plain": [
       "(42833, 2)"
      ]
     },
     "execution_count": 294,
     "metadata": {},
     "output_type": "execute_result"
    }
   ],
   "source": [
    "# Print shape of test_response_proba\n",
    "test_response_proba.shape"
   ]
  },
  {
   "cell_type": "code",
   "execution_count": 295,
   "metadata": {},
   "outputs": [
    {
     "data": {
      "text/plain": [
       "array([0, 1])"
      ]
     },
     "execution_count": 295,
     "metadata": {},
     "output_type": "execute_result"
    }
   ],
   "source": [
    "\n",
    "# Print the order of the classes known to the classifier\n",
    "# The array output from predict_proba has columns aligned with classes_\n",
    "gbc_best_est.classes_"
   ]
  },
  {
   "cell_type": "markdown",
   "metadata": {},
   "source": [
    "Output file for Kaggle competition"
   ]
  },
  {
   "cell_type": "code",
   "execution_count": 296,
   "metadata": {},
   "outputs": [
    {
     "data": {
      "text/html": [
       "<div>\n",
       "<style scoped>\n",
       "    .dataframe tbody tr th:only-of-type {\n",
       "        vertical-align: middle;\n",
       "    }\n",
       "\n",
       "    .dataframe tbody tr th {\n",
       "        vertical-align: top;\n",
       "    }\n",
       "\n",
       "    .dataframe thead th {\n",
       "        text-align: right;\n",
       "    }\n",
       "</style>\n",
       "<table border=\"1\" class=\"dataframe\">\n",
       "  <thead>\n",
       "    <tr style=\"text-align: right;\">\n",
       "      <th></th>\n",
       "      <th>LNR</th>\n",
       "      <th>RESPONSE</th>\n",
       "    </tr>\n",
       "  </thead>\n",
       "  <tbody>\n",
       "    <tr>\n",
       "      <th>0</th>\n",
       "      <td>1754</td>\n",
       "      <td>0.020645</td>\n",
       "    </tr>\n",
       "    <tr>\n",
       "      <th>1</th>\n",
       "      <td>1770</td>\n",
       "      <td>0.019297</td>\n",
       "    </tr>\n",
       "    <tr>\n",
       "      <th>2</th>\n",
       "      <td>1465</td>\n",
       "      <td>0.003095</td>\n",
       "    </tr>\n",
       "    <tr>\n",
       "      <th>3</th>\n",
       "      <td>1470</td>\n",
       "      <td>0.002879</td>\n",
       "    </tr>\n",
       "    <tr>\n",
       "      <th>4</th>\n",
       "      <td>1478</td>\n",
       "      <td>0.007294</td>\n",
       "    </tr>\n",
       "  </tbody>\n",
       "</table>\n",
       "</div>"
      ],
      "text/plain": [
       "    LNR  RESPONSE\n",
       "0  1754  0.020645\n",
       "1  1770  0.019297\n",
       "2  1465  0.003095\n",
       "3  1470  0.002879\n",
       "4  1478  0.007294"
      ]
     },
     "execution_count": 296,
     "metadata": {},
     "output_type": "execute_result"
    }
   ],
   "source": [
    "# The first column is a copy of \"LNR\", which acts as an ID number for each individual in the \"TEST\" partition\n",
    "# The second column, \"RESPONSE\", is a measure of how likely each individual became a customer –\n",
    "# this might not be a straightforward probability.\n",
    "kaggle_df = pd.DataFrame({'LNR': test_LNR, 'RESPONSE': test_response_proba[:, 1]})\n",
    "kaggle_df.head()"
   ]
  },
  {
   "cell_type": "code",
   "execution_count": 297,
   "metadata": {},
   "outputs": [],
   "source": [
    "# Generate CSV file for the Kaggle competition\n",
    "kaggle_df.to_csv('kaggle_submission_file.csv', index=False)"
   ]
  },
  {
   "cell_type": "markdown",
   "metadata": {},
   "source": []
  },
  {
   "cell_type": "code",
   "execution_count": null,
   "metadata": {},
   "outputs": [],
   "source": []
  }
 ],
 "metadata": {
  "kernelspec": {
   "display_name": "Python 3",
   "language": "python",
   "name": "python3"
  },
  "language_info": {
   "codemirror_mode": {
    "name": "ipython",
    "version": 3
   },
   "file_extension": ".py",
   "mimetype": "text/x-python",
   "name": "python",
   "nbconvert_exporter": "python",
   "pygments_lexer": "ipython3",
   "version": "3.6.3"
  }
 },
 "nbformat": 4,
 "nbformat_minor": 2
}
